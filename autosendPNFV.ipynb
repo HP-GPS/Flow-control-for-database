{
 "cells": [
  {
   "cell_type": "code",
   "execution_count": 33,
   "id": "6b0654e6",
   "metadata": {},
   "outputs": [],
   "source": [
    "import timeit\n",
    "start = timeit.default_timer()\n",
    "import win32com.client\n",
    "from datetime import date\n",
    "from pathlib import Path\n",
    "import time"
   ]
  },
  {
   "cell_type": "code",
   "execution_count": 34,
   "id": "ba56bef4",
   "metadata": {},
   "outputs": [],
   "source": [
    "home = Path.home()\n",
    "#讀取今天日期\n",
    "today = date.today().strftime(\"%Y%m%d\")\n",
    "outlook = win32com.client.Dispatch(\"Outlook.Application\").GetNamespace(\"MAPI\")\n",
    "# folder = Path(home, 'HP Inc', 'GPSTW SOP - 2021 日新')\n",
    "folder = Path(home, 'HP Inc','GPS TW Innovation - Documents','Users','GPS','Shortage management related (Ri Xin)')\n",
    "emailReceiverFolder = Path(home,'HP Inc', 'GPSTW SOP - 2021 日新', 'Project team')"
   ]
  },
  {
   "cell_type": "code",
   "execution_count": 35,
   "id": "e952965e",
   "metadata": {},
   "outputs": [],
   "source": [
    "ccfile = Path(emailReceiverFolder, 'cc.txt')\n",
    "bccfile = Path(emailReceiverFolder, 'bcc.txt')"
   ]
  },
  {
   "cell_type": "code",
   "execution_count": 36,
   "id": "f220b78f",
   "metadata": {},
   "outputs": [],
   "source": [
    "with open(ccfile) as f:\n",
    "    cctext = f.read()\n",
    "\n",
    "with open(bccfile) as bf:\n",
    "    bcctext = bf.read()"
   ]
  },
  {
   "cell_type": "code",
   "execution_count": 37,
   "id": "12b7dc47",
   "metadata": {},
   "outputs": [],
   "source": [
    "#打開新的email草稿\n",
    "mail = win32com.client.Dispatch(\"Outlook.Application\").CreateItem(0)\n",
    "#讀取預設簽名檔\n",
    "mail.Display()\n",
    "signature = mail.Body"
   ]
  },
  {
   "cell_type": "code",
   "execution_count": 38,
   "id": "446421b6",
   "metadata": {},
   "outputs": [],
   "source": [
    "#新增收件人以及信件主旨\n",
    "#mail.To = 'louis.lu2@hp.com'\n",
    "mail.To = ''\n",
    "mail.CC = cctext      \n",
    "mail.bcc = bcctext"
   ]
  },
  {
   "cell_type": "code",
   "execution_count": 39,
   "id": "152611c2",
   "metadata": {},
   "outputs": [
    {
     "name": "stdout",
     "output_type": "stream",
     "text": [
      "C:\\Users\\hsudu\\HP Inc\\GPS TW Innovation - Documents\\Users\\GPS\\Shortage management related (Ri Xin)\\PN FV description mapping table_ALL.xlsx\n",
      "RunTime:  17.062793899996905  seconds\n"
     ]
    }
   ],
   "source": [
    "mail.Subject = 'PN FV description mapping table update_' + today\n",
    "\n",
    "#新增信件內容\n",
    "mail.HTMLBody = '<h3>This is HTML Body</h3>'\n",
    "mail.Body = \"Hi receiver, \\n\\nPlease find latest PN FV description mapping table attached. Thanks.\" + signature\n",
    "#將剛才最後兩封信做為附件\n",
    "#mail.Attachments.Add(r'C:\\Users\\lulo\\HP Inc\\GPSTW SOP - 2021 日新\\PN FV description mapping table_ALL.xlsx')\n",
    "print(Path(home, folder, 'PN FV description mapping table_ALL.xlsx'))\n",
    "\n",
    "mail.Attachments.Add(str(Path(folder, 'PN FV description mapping table_ALL.xlsx')))\n",
    "time.sleep(15)\n",
    "#寄信\n",
    "mail.Send()\n",
    "stop = timeit.default_timer()\n",
    "print('RunTime: ', stop - start, ' seconds') "
   ]
  }
 ],
 "metadata": {
  "kernelspec": {
   "display_name": "Python 3",
   "language": "python",
   "name": "python3"
  },
  "language_info": {
   "codemirror_mode": {
    "name": "ipython",
    "version": 3
   },
   "file_extension": ".py",
   "mimetype": "text/x-python",
   "name": "python",
   "nbconvert_exporter": "python",
   "pygments_lexer": "ipython3",
   "version": "3.10.4"
  },
  "vscode": {
   "interpreter": {
    "hash": "cadcbe1cf7f77607d04fb86883766795fe82998168b094e073d163801885097d"
   }
  }
 },
 "nbformat": 4,
 "nbformat_minor": 5
}
