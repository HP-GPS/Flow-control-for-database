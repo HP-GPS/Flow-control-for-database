{
 "cells": [
  {
   "cell_type": "code",
   "execution_count": 1,
   "metadata": {},
   "outputs": [],
   "source": [
    "import timeit\n",
    "start = timeit.default_timer()\n",
    "import win32com.client\n",
    "from datetime import date\n",
    "from pathlib import Path\n",
    "import time\n",
    "import pandas as pd\n",
    "import re"
   ]
  },
  {
   "cell_type": "code",
   "execution_count": null,
   "metadata": {},
   "outputs": [],
   "source": [
    "home = Path.home()\n",
    "#讀取今天日期\n",
    "today = date.today().strftime(\"%Y%m%d\")\n",
    "outlook = win32com.client.Dispatch(\"Outlook.Application\").GetNamespace(\"MAPI\")\n",
    "# folder = Path(home, 'HP Inc', 'GPSTW SOP - 2021 日新')\n",
    "\n",
    "folder = Path(home, 'HP Inc', 'GPS TW Innovation - Documents','Users','GPS','Shortage management related (Ri Xin)')\n",
    "\n",
    "emailReceiver_path = Path(home, 'HP Inc', 'GPS TW Innovation - Documents','Project team', 'receiver.xlsx')\n",
    "\n",
    "#emailReceiver_path = Path(home, 'HP Inc', 'GPSTW SOP - 2021 日新', 'Project team', 'receiver.xlsx')\n",
    "emailReceiver = pd.ExcelFile(emailReceiver_path)"
   ]
  },
  {
   "cell_type": "code",
   "execution_count": 3,
   "metadata": {},
   "outputs": [],
   "source": [
    "cc_addresses = emailReceiver.parse('cc').iloc[1:, 0].dropna().tolist()\n",
    "bcc_addresses = emailReceiver.parse('bcc').iloc[1:, 1].dropna().tolist()\n",
    "\n",
    "cc_text = ';'.join(cc_addresses)\n",
    "bcc_text = ';'.join(bcc_addresses)"
   ]
  },
  {
   "cell_type": "code",
   "execution_count": 4,
   "metadata": {},
   "outputs": [],
   "source": [
    "#打開新的email草稿\n",
    "mail = win32com.client.Dispatch(\"Outlook.Application\").CreateItem(0)\n",
    "#讀取預設簽名檔\n",
    "mail.Display()\n",
    "signature = mail.Body"
   ]
  },
  {
   "cell_type": "code",
   "execution_count": 5,
   "metadata": {},
   "outputs": [],
   "source": [
    "#新增收件人以及信件主旨\n",
    "#mail.To = 'louis.lu2@hp.com'\n",
    "mail.To = ''\n",
    "mail.CC = cc_text\n",
    "mail.BCC = bcc_text"
   ]
  },
  {
   "cell_type": "code",
   "execution_count": 6,
   "metadata": {},
   "outputs": [
    {
     "name": "stdout",
     "output_type": "stream",
     "text": [
      "C:\\Users\\ShFr055\\HP Inc\\HP Inc\\GPS TW Innovation - Documents\\Users\\GPS\\Shortage management related (Ri Xin)\\PN FV description mapping table_ALL.xlsx\n",
      "RunTime:  19.84249660000205  seconds\n"
     ]
    }
   ],
   "source": [
    "mail.Subject = 'PN FV description mapping table update_' + today\n",
    "\n",
    "#新增信件內容\n",
    "mail.HTMLBody = '<h3>This is HTML Body</h3>'\n",
    "mail.Body = \"Hi receiver, \\n\\nPlease find latest PN FV description mapping table attached. Thanks.\" + signature\n",
    "#將剛才最後兩封信做為附件\n",
    "#mail.Attachments.Add(r'C:\\Users\\lulo\\HP Inc\\GPSTW SOP - 2021 日新\\PN FV description mapping table_ALL.xlsx')\n",
    "print(Path(home, folder, 'PN FV description mapping table_ALL.xlsx'))\n",
    "\n",
    "mail.Attachments.Add(str(Path(folder, 'PN FV description mapping table_ALL.xlsx')))\n",
    "time.sleep(15)\n",
    "#寄信\n",
    "#mail.Send()\n",
    "stop = timeit.default_timer()\n",
    "print('RunTime: ', stop - start, ' seconds') "
   ]
  }
 ],
 "metadata": {
  "kernelspec": {
   "display_name": "Python 3",
   "language": "python",
   "name": "python3"
  },
  "language_info": {
   "codemirror_mode": {
    "name": "ipython",
    "version": 3
   },
   "file_extension": ".py",
   "mimetype": "text/x-python",
   "name": "python",
   "nbconvert_exporter": "python",
   "pygments_lexer": "ipython3",
   "version": "3.12.5"
  }
 },
 "nbformat": 4,
 "nbformat_minor": 2
}
