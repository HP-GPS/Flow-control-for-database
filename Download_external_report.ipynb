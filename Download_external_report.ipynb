{
 "cells": [
  {
   "cell_type": "code",
   "execution_count": null,
   "metadata": {},
   "outputs": [],
   "source": [
    "import datetime\n",
    "import os\n",
    "import win32com.client\n",
    "from pathlib import Path\n",
    "import re"
   ]
  },
  {
   "cell_type": "code",
   "execution_count": null,
   "metadata": {},
   "outputs": [],
   "source": [
    "path = os.path.expanduser(os.path.join('~', 'HP Inc','GPSTW SOP - 2021 日新','Project team','External test destination'))"
   ]
  },
  {
   "cell_type": "code",
   "execution_count": null,
   "metadata": {},
   "outputs": [],
   "source": [
    "today = datetime.date.today()\n"
   ]
  },
  {
   "cell_type": "code",
   "execution_count": null,
   "metadata": {},
   "outputs": [],
   "source": [
    "# today = datetime.date(2022, 12, 21)\n",
    "today\n"
   ]
  },
  {
   "cell_type": "code",
   "execution_count": null,
   "metadata": {},
   "outputs": [],
   "source": [
    "outlook = win32com.client.Dispatch(\"Outlook.Application\").GetNamespace(\"MAPI\")\n",
    "outlook.Session.Accounts.Item(2)\n",
    "#.GetNamespace(\"MAPI\")"
   ]
  },
  {
   "cell_type": "code",
   "execution_count": null,
   "metadata": {},
   "outputs": [],
   "source": [
    "item = outlook.Folders.Item(1)\n",
    "item.Name\n"
   ]
  },
  {
   "cell_type": "code",
   "execution_count": null,
   "metadata": {},
   "outputs": [],
   "source": [
    "inbox = item.Folders['收件匣']\n",
    "project_folder = inbox.Folders['Shortage']\n",
    "#target_folder = project_folder.Folders['Processed_Data']\n",
    "target_folder = project_folder\n",
    "messages = target_folder.Items\n",
    "messages.Sort(\"[Senton]\")"
   ]
  },
  {
   "cell_type": "code",
   "execution_count": null,
   "metadata": {},
   "outputs": [],
   "source": [
    "def saveattachemnts(regex = '<(\\d{4}-\\d{2}-\\d{2}) processed data>\\[\\'\\d{8}_[&a-zA-Z ]+_[&a-zA-Z ]+_.*'):\n",
    "    #regex = '<(\\d{4}-\\d{2}-\\d{2}) processed data>\\[\\'\\d{8}_[a-zA-Z]+_[a-zA-Z]+_.*'\n",
    "    for message in messages:\n",
    "        # if message.Subject == subject and message.Unread or message.Senton.date() == today:\n",
    "        #assert re.match(regex, message.Subject)\n",
    "        if re.match(regex, message.Subject) and message.Senton.date() == today:\n",
    "            # body_content = message.body\n",
    "            attachments = message.Attachments\n",
    "            #attachment = attachments.Item(1)\n",
    "            for attachment in message.Attachments:\n",
    "                # if '_FD.xlsx' in str(attachment):\n",
    "                #     attachment.SaveAsFile(os.path.join(path, 'FD', str(attachment)))\n",
    "                #     if re.match(regex, message.Subject) and message.Unread:\n",
    "                #         message.Unread = False\n",
    "                #     continue\n",
    "                # elif '_Shortage.xlsx' in str(attachment):\n",
    "                #     attachment.SaveAsFile(os.path.join(path, 'shortage', str(attachment)))\n",
    "                #     if re.match(regex, message.Subject) and message.Unread:\n",
    "                #         message.Unread = False\n",
    "                #     continue\n",
    "                # elif '_PNbasedDetail.xlsx' in str(attachment):\n",
    "                \n",
    "                try:\n",
    "                    attachment.SaveAsFile(os.path.join(path, 'today', str(attachment)))\n",
    "                except:\n",
    "                    print(attachment)\n",
    "                if re.match(regex, message.Subject) and message.Unread:\n",
    "                    message.Unread = False\n",
    "                continue\n",
    "                # else:\n",
    "                #     pass\n",
    "                #break\n",
    "        else:\n",
    "            #print(message)\n",
    "            pass"
   ]
  },
  {
   "cell_type": "code",
   "execution_count": null,
   "metadata": {},
   "outputs": [],
   "source": [
    "saveattachemnts(regex='.+')"
   ]
  },
  {
   "cell_type": "code",
   "execution_count": null,
   "metadata": {},
   "outputs": [],
   "source": []
  }
 ],
 "metadata": {
  "kernelspec": {
   "display_name": "Python 3.10.6 64-bit",
   "language": "python",
   "name": "python3"
  },
  "language_info": {
   "codemirror_mode": {
    "name": "ipython",
    "version": 3
   },
   "file_extension": ".py",
   "mimetype": "text/x-python",
   "name": "python",
   "nbconvert_exporter": "python",
   "pygments_lexer": "ipython3",
   "version": "3.10.6"
  },
  "orig_nbformat": 4,
  "vscode": {
   "interpreter": {
    "hash": "aff61a50ca05787580f84e419a783e3027ed4326834427d692766cd5b4e8a2a5"
   }
  }
 },
 "nbformat": 4,
 "nbformat_minor": 2
}
