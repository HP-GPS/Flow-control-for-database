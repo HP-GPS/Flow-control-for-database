{
 "cells": [
  {
   "cell_type": "code",
   "execution_count": 2,
   "metadata": {},
   "outputs": [],
   "source": [
    "import datetime\n",
    "import os\n",
    "import win32com.client\n",
    "from pathlib import Path\n",
    "import re"
   ]
  },
  {
   "cell_type": "code",
   "execution_count": 3,
   "metadata": {},
   "outputs": [],
   "source": [
    "path = os.path.expanduser(os.path.join('~', 'HP Inc','GPSTW SOP - 2021 日新','Project team','External test destination'))"
   ]
  },
  {
   "cell_type": "code",
   "execution_count": 4,
   "metadata": {},
   "outputs": [],
   "source": [
    "today = datetime.date.today()\n"
   ]
  },
  {
   "cell_type": "code",
   "execution_count": 5,
   "metadata": {},
   "outputs": [
    {
     "data": {
      "text/plain": [
       "datetime.date(2022, 10, 27)"
      ]
     },
     "execution_count": 5,
     "metadata": {},
     "output_type": "execute_result"
    }
   ],
   "source": [
    "today = datetime.date(2022, 10, 27)\n",
    "today\n"
   ]
  },
  {
   "cell_type": "code",
   "execution_count": 6,
   "metadata": {},
   "outputs": [
    {
     "data": {
      "text/plain": [
       "<COMObject Item>"
      ]
     },
     "execution_count": 6,
     "metadata": {},
     "output_type": "execute_result"
    }
   ],
   "source": [
    "outlook = win32com.client.Dispatch(\"Outlook.Application\").GetNamespace(\"MAPI\")\n",
    "outlook.Session.Accounts.Item(2)\n",
    "#.GetNamespace(\"MAPI\")"
   ]
  },
  {
   "cell_type": "code",
   "execution_count": 8,
   "metadata": {},
   "outputs": [
    {
     "data": {
      "text/plain": [
       "'louis.lu2@hp.com'"
      ]
     },
     "execution_count": 8,
     "metadata": {},
     "output_type": "execute_result"
    }
   ],
   "source": [
    "item = outlook.Folders.Item(2)\n",
    "item.Name\n"
   ]
  },
  {
   "cell_type": "code",
   "execution_count": 9,
   "metadata": {},
   "outputs": [],
   "source": [
    "inbox = item.Folders['收件匣']\n",
    "project_folder = inbox.Folders['Shortage']\n",
    "#target_folder = project_folder.Folders['Processed_Data']\n",
    "target_folder = project_folder\n",
    "messages = target_folder.Items\n",
    "messages.Sort(\"[Senton]\")"
   ]
  },
  {
   "cell_type": "code",
   "execution_count": 10,
   "metadata": {},
   "outputs": [],
   "source": [
    "def saveattachemnts(regex = '<(\\d{4}-\\d{2}-\\d{2}) processed data>\\[\\'\\d{8}_[&a-zA-Z ]+_[&a-zA-Z ]+_.*'):\n",
    "    #regex = '<(\\d{4}-\\d{2}-\\d{2}) processed data>\\[\\'\\d{8}_[a-zA-Z]+_[a-zA-Z]+_.*'\n",
    "    for message in messages:\n",
    "        # if message.Subject == subject and message.Unread or message.Senton.date() == today:\n",
    "        #assert re.match(regex, message.Subject)\n",
    "        if re.match(regex, message.Subject) and message.Senton.date() == today:\n",
    "            # body_content = message.body\n",
    "            attachments = message.Attachments\n",
    "            #attachment = attachments.Item(1)\n",
    "            for attachment in message.Attachments:\n",
    "                # if '_FD.xlsx' in str(attachment):\n",
    "                #     attachment.SaveAsFile(os.path.join(path, 'FD', str(attachment)))\n",
    "                #     if re.match(regex, message.Subject) and message.Unread:\n",
    "                #         message.Unread = False\n",
    "                #     continue\n",
    "                # elif '_Shortage.xlsx' in str(attachment):\n",
    "                #     attachment.SaveAsFile(os.path.join(path, 'shortage', str(attachment)))\n",
    "                #     if re.match(regex, message.Subject) and message.Unread:\n",
    "                #         message.Unread = False\n",
    "                #     continue\n",
    "                # elif '_PNbasedDetail.xlsx' in str(attachment):\n",
    "                print(attachment)\n",
    "                attachment.SaveAsFile(os.path.join(path, 'zzz', str(attachment)))\n",
    "                if re.match(regex, message.Subject) and message.Unread:\n",
    "                    message.Unread = False\n",
    "                continue\n",
    "                # else:\n",
    "                #     pass\n",
    "                #break\n",
    "        else:\n",
    "            #print(message)\n",
    "            pass"
   ]
  },
  {
   "cell_type": "code",
   "execution_count": 11,
   "metadata": {},
   "outputs": [
    {
     "name": "stdout",
     "output_type": "stream",
     "text": [
      "TWIEC FA shortage report-1027.xlsx\n",
      "WHFXN FA shortage report PSU-1027.xlsx\n",
      "image001.png\n",
      "CQWIS FA shortage report LCD.XLSX\n",
      "image002.png\n",
      "CQWIS FA shortage report AC ADAPTOR.XLSX\n",
      "image002.png\n",
      "CQWIS FA shortage report RAM.xlsx\n",
      "CQIEC FA shortage report LCD-10.27.xlsx\n",
      "CQIEC FA shortage report TS –10.27.xlsx\n",
      "CQIEC FA shortage report WEBCAM-10.27.xlsx\n",
      "CQIEC FA shortage report＜15.6' LCD-1027.xlsx\n",
      "image001.png\n",
      "CEI FA shortage report HDD 20221027.xlsx\n",
      "20221027_TS_CQIEC_HsuDustin.xlsx\n",
      "image001.png\n",
      "image001.png\n",
      "CEI FA shortage report SSS 20221027.xlsx\n",
      "image001.png\n",
      "CQIEC FA shortage report SSS WLAN-1027.xlsx\n",
      "CQIEC FA shortage report CONNECTOR-10.27.xlsx\n",
      "CEI Shortage report TS 20221027.xlsx\n",
      "CQQCI FA commodity shortage report -20221027.xlsx\n",
      "CEI FA shortage report WEBCAM-1027.xlsx\n",
      "CEI FA shortage report power cords -1027.xlsx\n",
      "image001.png\n",
      "CEI FA shortage report WLAN-1027.xlsx\n",
      "shortage report Pwc Connector_20221027.xlsx\n",
      "20221027_TS_CQIEC_HsuDustin.xlsx\n",
      "image001.png\n",
      "CEI Shortage report LCD 20221027.xlsx\n",
      "CQIEC SMT shortage report Lanchip RAM AudioCodec-1027.xlsx\n",
      "20221027_WWAN_CEI_PANJESSE.xlsx\n",
      "image001.png\n",
      "20221027_BATTERY_CQQCI_ChangEunice.xlsx\n",
      "CQPCQ FA shortage report (2).xlsx\n",
      "CQIEC FA shortage report Adaptor-10.27.xlsx\n",
      "image001.png\n",
      "1027.xlsx\n",
      "CQIEC shortage report PWC & RAM 20221027.xlsx\n",
      "CQIEC FA&SMT shortage report CPU&TBT&GPU& Chipset-10.27.xlsx\n",
      "WHFXN FA&SMT shortage report -1027.xlsx\n",
      "20221027_LCD_CQIEC_WangYu-Ting.xlsx\n",
      "20221027_LCD_CQQCI_WangYu-Ting.xlsx\n",
      "CQIEC SMT shortage report Connector&USBIC--20221027.xlsx\n",
      "image001.jpg\n",
      "image002.png\n",
      "CQWIS shortage report CPU .xlsx\n",
      "20221027_TS_CEI_ChungJoe(GPS-TW).xlsx\n",
      "image001.jpg\n",
      "image002.png\n",
      "20221027_TS_CQQCI_ChungJoe(GPS-TW).xlsx\n",
      "image001.jpg\n",
      "image002.png\n",
      "20221027_SSS_CQQCI_LeeCynthia(GPSTW).xlsx\n",
      "image001.jpg\n",
      "20221027_SSS_CEI_LeeCynthia(GPSTW).xlsx\n",
      "image002.jpg\n",
      "image003.png\n",
      "20221027_SSS_TWIEC_LeeCynthia(GPSTW).xlsx\n",
      "image001.jpg\n",
      "20221027_LCD_CEI_LiLori.xlsx\n",
      "CQQCI SMT shortage report -1027.xls\n",
      "FLH FA shortage report HDD  &  AC ADAPTOR &CPU  1027.xlsx\n",
      "20221027_LCD_CEI_ChenJasmine.xlsx\n",
      "20221027_LCD_CQWIS_ChenJasmine.xlsx\n",
      "image001.png\n",
      "20221027_LCD_CQIEC_ChenJasmine.xlsx\n",
      "20221027_POWERCORDS_WHFXN_ChaoAngie(GPS).xlsx\n",
      "20221027_POWERCORDS_CQIEC_ChaoAngie(GPS).xlsx\n",
      "20221027_POWERCORDS_CQQCI_ChaoAngie(GPS).xlsx\n",
      "20221027_CardReader_CQQCI_TangWinnie.xlsx\n",
      "20221027_LCD_CQQCI_ChenJasmine.xlsx\n",
      "20221027_SSS_TWIEC_ChenVera.xlsx\n",
      "20221027_CardReader_CEI_TangWinnie.xlsx\n",
      "20221027_SSS_CQWIS_ChenVera.xlsx\n",
      "image001.png\n",
      "20221027_CONNECTOR_CQIEC_LiangLavinia_FA.xlsx\n",
      "20221027_SSS_CQQCI_ChenVera.xlsx\n",
      "20221027_RAM_TWIEC_JhangEmily.xlsx\n",
      "20221027_LCD_CQIEC_FerngApple.xlsx\n",
      "20221027_RAM_WHFXN_JhangEmily.xlsx\n",
      "20221027_RAM_CQQCI_JhangEmily.xlsx\n",
      "20221027_HDD_TWIEC_TangWinnie.xlsx\n",
      "20221027_LCD_CQIEC_FerngApple.xlsx\n",
      "20221027_HDD_WHFXN_TangWinnie.xlsx\n",
      "20221027_LCD_CQQCI_FerngApple.xlsx\n",
      "20221027_CONNECTOR_CQIEC_LiangLavinia_SMT.xlsx\n",
      "20221027_HDD_FLH_TangWinnie.xlsx\n",
      "20221027_CONNECTOR_CQQCI_LiangLavinia.xlsx\n",
      "20221027_HDD_CEI_TangWinnie.xlsx\n",
      "image001.png\n",
      "image001.png\n",
      "20221027_CPU&CS_WHFXN_Ariel.xlsx\n",
      "image002.png\n",
      "image003.png\n",
      "20221027_CPU&CS_CEI_Ariel.xlsx\n",
      "image001.jpg\n",
      "image003.png\n",
      "image004.png\n",
      "20221027_CPU&CS_CQWIS_Ariel.xlsx\n",
      "image001.png\n",
      "20221027_CPU&CS_CQQCI_Ariel.xlsx\n",
      "20221027_CPU_CQQCI_Celine.xlsx\n",
      "image001.png\n",
      "20221027_CPU_CQIEC_Celine.xlsx\n",
      "image001.png\n",
      "20221027_CPU_CQWIS_Celine.xlsx\n",
      "image001.jpg\n",
      "image003.png\n",
      "image004.png\n",
      "20221027_POWERCORDS_CQIEC_ZhaoGinger(CW).xlsx\n",
      "image001.png\n",
      "20221027_HDD_CQPCQ_TangWinnie.xlsx\n",
      "20221027_POWERCORDS_CQQCI_ZhaoGinger(CW).xlsx\n",
      "image001.png\n",
      "20221027_POWERCORDS_TWIEC_ZhaoGinger(CW).xlsx\n",
      "image001.png\n",
      "20221027_POWERCORDS_CQPCQ_ZhaoGinger(CW).xlsx\n",
      "image001.png\n",
      "20221027_POWERCORDS_CEI_ZhaoGinger(CW).xlsx\n",
      "image001.png\n",
      "20221027_WLAN_CQIEC_ChengSpencer(GPS).xlsx\n",
      "20221027_ThunderBT_CQIEC_ChengSpencer(GPS).xlsx\n",
      "image001.png\n",
      "20221027_ThunderBT_CEI_ChengSpencer(GPS).xlsx\n",
      "20221027_LanChip_CQIEC_LinSharon.xlsx\n",
      "20221027_CPU_CQIEC_Karen.xlsx\n",
      "20221027_CPU_CQQCI_Karen.xlsx\n",
      "20221027_CPU_WHFXN_Karen.xlsx\n",
      "20221027_CPU_TWIEC_Karen.xlsx\n",
      "20221027_RAM_CQIEC_JhangEmily.xlsx\n",
      "20221027_PSU_CQQCI_LeeLydia(GPSTaiwan).xlsx\n",
      "20221027_CPU_CQIEC_Rocky.xlsx\n",
      "20221027_PSU_WHFXN_LeeLydia(GPSTaiwan).xlsx\n",
      "20221027_PSU_WHFXN_L5_LeeLydia(GPSTaiwan).xlsx\n",
      "20221027_CPU_CQWIS_Rocky.xlsx\n",
      "image001.jpg\n",
      "image002.png\n",
      "20221027_CPU_CQQCI_Rocky.xlsx\n",
      "20221027_CPU&CS_CQIEC_Abby.xlsx\n",
      "20221027_CPU&CS_CQPCQ_Abby.xlsx\n",
      "20221027_AC ADAPTOR_CQIEC_HsiehAngela.xlsx\n",
      "image001.png\n",
      "20221027_CPU&CS_CQQCI_Abby.xlsx\n",
      "20221027_CPU&CS_CQQCI_Abby.xlsx\n",
      "20221027_AC ADAPTOR_TWIEC_HsiehAngela.xlsx\n",
      "image001.png\n",
      "20221027_AC ADAPTOR_WHFXN_L5_HsiehAngela.xlsx\n",
      "image001.png\n",
      "20221027_CPU&CS_CQWIS_Abby.xlsx\n",
      "image001.jpg\n",
      "image002.png\n",
      "20221027_AC ADAPTOR_CQWIS_HsiehAngela.xlsx\n",
      "image001.png\n",
      "image002.png\n",
      "20221027_AC ADAPTOR_FLH_HsiehAngela.xlsx\n",
      "image001.png\n",
      "20221027_CPU&CS_WHFXN_Abby.xlsx\n",
      "20221027_AC ADAPTOR_CQIEC_ChenJosephine(GPS).xlsx\n",
      "image001.png\n",
      "20221027_AC ADAPTOR_CQQCI_HsiehAngela.xlsx\n",
      "image001.png\n",
      "20221027_RAM_CQIEC_WangWinson(CW).xlsx\n",
      "20221027_RAM_CQIEC_WangWinson(CW).xlsx\n",
      "20221027_CPU&CS_CQIEC_Abby.xlsx\n",
      "20221027_CPU_CEI_Anny.xlsx\n",
      "20221027_GPU_CEI_Anny.xlsx\n",
      "image001.png\n",
      "20221027_GPU_CQQCI_Anny.xlsx\n",
      "20221027_WEBCAM_CEI_ChouSally(GPSTW).xlsx\n",
      "20221027_GPU_CQWIS_Anny.xlsx\n",
      "image001.jpg\n",
      "image002.png\n",
      "20221027_CPU&CS_CQIEC_Abby.xlsx\n",
      "20221027_CPU_FLH_LiSophia(GPSTW).xlsx\n",
      "20221027_CPU_TWIEC_LiSophia(GPSTW).xlsx\n",
      "20221027_AC ADAPTOR_CQWIS_ChenJosephine(GPS).xlsx\n",
      "image001.png\n",
      "image002.png\n",
      "20221027_WEBCAM_CQIEC_LeeKylie.xlsx\n",
      "20221027_AC ADAPTOR_TWIEC_ChenJosephine(GPS).xlsx\n",
      "image001.png\n",
      "20221027_USBIC_WHFXN_WangAlice(GPSTaiwan).xlsx\n",
      "image001.png\n",
      "20221027_WEBCAM_CQQCI_ChouSally(GPSTW).xlsx\n",
      "20221027_USBIC_CQIEC_WangAlice(GPSTaiwan).xlsx\n",
      "image001.png\n",
      "20221027_LCD_CQQCI_WangYu-Ting.xlsx\n",
      "20221027_CPU_WHFXN_LiSophia(GPSTW).xlsx\n",
      "20221027_CPU_WHFXN_Karen.xlsx\n",
      "20221027_CPU_CQQCI_Karen.xlsx\n",
      "20221027_CPU_WHFXN_Karen.xlsx\n",
      "20221027_USBIC_CQQCI_WangAlice(GPSTaiwan).xlsx\n",
      "image001.png\n",
      "20221027_CPU_CQQCI_Celine.xlsx\n",
      "image001.png\n",
      "20221027_RAM_TWIEC_WangWinson(CW).xlsx\n",
      "image001.png\n"
     ]
    }
   ],
   "source": [
    "saveattachemnts(regex='.+')"
   ]
  },
  {
   "cell_type": "code",
   "execution_count": null,
   "metadata": {},
   "outputs": [],
   "source": []
  }
 ],
 "metadata": {
  "kernelspec": {
   "display_name": "Python 3.10.6 64-bit",
   "language": "python",
   "name": "python3"
  },
  "language_info": {
   "codemirror_mode": {
    "name": "ipython",
    "version": 3
   },
   "file_extension": ".py",
   "mimetype": "text/x-python",
   "name": "python",
   "nbconvert_exporter": "python",
   "pygments_lexer": "ipython3",
   "version": "3.10.6"
  },
  "orig_nbformat": 4,
  "vscode": {
   "interpreter": {
    "hash": "aff61a50ca05787580f84e419a783e3027ed4326834427d692766cd5b4e8a2a5"
   }
  }
 },
 "nbformat": 4,
 "nbformat_minor": 2
}
