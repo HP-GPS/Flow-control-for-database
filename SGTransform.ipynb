{
 "cells": [
  {
   "cell_type": "code",
   "execution_count": 1,
   "metadata": {},
   "outputs": [],
   "source": [
    "import pandas as pd\n",
    "import os\n",
    "import numpy as np\n",
    "import glob\n",
    "from pathlib import Path\n",
    "from datetime import datetime as dt\n",
    "from datetime import timedelta\n",
    "import pyodbc\n",
    "import shutil"
   ]
  },
  {
   "cell_type": "code",
   "execution_count": 2,
   "metadata": {},
   "outputs": [],
   "source": [
    "home = Path.home()\n",
    "today = dt.today().date()\n",
    "\n",
    "dateRange = [today - timedelta(days = x) for x in range(365)]\n",
    "#dateRange = [i.strftime(\"%Y%m%d\") for i in dateRange]\n",
    "\n",
    "today = today.strftime(\"%Y%m%d\")\n",
    "\n",
    "\n",
    "ODMdict = {\n",
    "    'FWH' : 'WHFXN',\n",
    "    'FXN' : 'WHFXN',\n",
    "    'Foxconn WH' : 'WHFXN',\n",
    "    'Compal' : 'KSCEI',\n",
    "    'CEI' : 'KSCEI',\n",
    "    'Wistron' : 'CQWIS',\n",
    "    'wistron' : 'CQWIS',\n",
    "    'Wistron CQ': 'CQWCQ',\n",
    "    'WCQ': 'CQWIS',\n",
    "    'Inventec' : 'CQIEC',\n",
    "    'Inventec CQ' : 'CQIEC',\n",
    "    'Quanta' : 'CQQCI',\n",
    "    'Quanta CQ' : 'CQQCI',\n",
    "    'Pegatron' : 'CQPCQ'\n",
    "}"
   ]
  },
  {
   "cell_type": "code",
   "execution_count": 3,
   "metadata": {},
   "outputs": [],
   "source": [
    "dateRange.reverse()"
   ]
  },
  {
   "cell_type": "code",
   "execution_count": 4,
   "metadata": {},
   "outputs": [],
   "source": [
    "def clean(fname: str, file : pd.DataFrame, externalReportDate : str) -> pd.DataFrame:\n",
    "\n",
    "    currentYear = dt.now().year\n",
    "    currentday = fname.split('\\\\')[-1][-13:-5]\n",
    "    file = file.assign(LastSGreportDate = currentday)\n",
    "    \n",
    "    file['LastSGreportDate'] = file['LastSGreportDate'].apply(lambda x: dt.strptime(x, '%Y%m%d'))\n",
    "    file['LastSGreportDate'] = pd.to_datetime(file['LastSGreportDate'])\n",
    "\n",
    "    file = file.assign(reportDate = externalReportDate)\n",
    "\n",
    "    file['reportDate'] = file['reportDate'].apply(lambda x: dt.strptime(x, '%Y%m%d'))\n",
    "    file['reportDate'] = pd.to_datetime(file['reportDate'])\n",
    "\n",
    "    #clean\n",
    "    file.columns = file.columns.str.strip()\n",
    "\n",
    "    #drop useless columns and rows\n",
    "    file = file.drop(columns = ['Description (Item)', 'Schedule (Comments)', 'Hub inventory', 'Vendor'])\n",
    "    file = file[(file['Procurement type'] == 'B/S') | (file['Procurement type'] == 'Buysell') | (file['Procurement type'] == 'BS')].reset_index(drop = True)\n",
    "\n",
    "    #adjust qty columns name and units\n",
    "    qtycol = file.filter(like='Single Shortage QTY (K)').columns.tolist()\n",
    "    \n",
    "\n",
    "    for i in qtycol:\n",
    "        file[i] = file[i].apply(lambda x: x.upper().strip() if type(x) == str else x)\n",
    "        file[i] = file[i].replace(\"NEW\", 0)\n",
    "        file[i] = file[i].replace(\"NEW ADD\", 0)\n",
    "        file[i] = file[i].apply(lambda x: x*1000)\n",
    "    file = file.rename(columns= {qtycol[0]: 'Single Shortage QTY', qtycol[1]: 'Prev_Single Shortage QTY'})\n",
    "\n",
    "    #replace ODM name\n",
    "    file['ODM'] = file['ODM'].replace(ODMdict)\n",
    "    return file   "
   ]
  },
  {
   "cell_type": "code",
   "execution_count": 5,
   "metadata": {},
   "outputs": [],
   "source": [
    "path = os.path.join(home, 'HP Inc','GPS TW Innovation - Documents','Project team','Project RiXin - Shortage management')\n",
    "target = Path (path,'Single shortage')\n",
    "PNFVPath = Path(home, 'HP Inc', 'GPS TW Innovation - Documents', 'Users', 'GPS', 'PN FV description mapping table_ALL.xlsx')\n",
    "ExternalReportFolder = Path(path, 'External_Destination', 'today')\n",
    "\n",
    "PNFVFile = pd.read_excel(PNFVPath)\n",
    "PNFVFile = PNFVFile [['PN', 'Descr']]\n",
    "PNFVFile = PNFVFile.rename(columns = {'PN': 'HP PN'})"
   ]
  },
  {
   "cell_type": "code",
   "execution_count": 6,
   "metadata": {},
   "outputs": [],
   "source": [
    "fileList = [str(x) for x in Path(target,'Archive').glob(\"*xlsx\")]\n",
    "fileListDateNum = [dt.strptime(x[-13:-5], \"%Y%m%d\").date() for x in fileList]\n",
    "\n",
    "errorList = []\n",
    "resultList = []"
   ]
  },
  {
   "cell_type": "code",
   "execution_count": 7,
   "metadata": {},
   "outputs": [],
   "source": [
    "lookupSGdateList = []\n",
    "i = 0\n",
    "for _ in dateRange:\n",
    "    if i == len(fileListDateNum)-1:\n",
    "        lookupSGdateList.append(fileListDateNum[i])\n",
    "        continue\n",
    "    \n",
    "    if _ < fileListDateNum[i+1]:\n",
    "        lookupSGdateList.append(fileListDateNum[i])\n",
    "    else:\n",
    "        i = i + 1\n",
    "        lookupSGdateList.append(fileListDateNum[i])"
   ]
  },
  {
   "cell_type": "code",
   "execution_count": 8,
   "metadata": {},
   "outputs": [],
   "source": [
    "dateRange = [i.strftime(\"%Y%m%d\") for i in dateRange]\n",
    "lookupSGdateList = [i.strftime(\"%Y%m%d\") for i in lookupSGdateList]"
   ]
  },
  {
   "cell_type": "code",
   "execution_count": 9,
   "metadata": {},
   "outputs": [
    {
     "data": {
      "text/plain": [
       "<zip at 0x2330e3e04c0>"
      ]
     },
     "execution_count": 9,
     "metadata": {},
     "output_type": "execute_result"
    }
   ],
   "source": [
    "zip(dateRange, lookupSGdateList)"
   ]
  },
  {
   "attachments": {},
   "cell_type": "markdown",
   "metadata": {},
   "source": [
    "dateList = result['reportDate'].tolist()\n",
    "max(dateList)"
   ]
  },
  {
   "cell_type": "code",
   "execution_count": 10,
   "metadata": {},
   "outputs": [],
   "source": [
    "def addKey(res: pd.DataFrame) -> tuple[list, pd.DataFrame]:\n",
    "    LatestSGMaterial = res\n",
    "    LatestSGMaterial = LatestSGMaterial.merge(PNFVFile, on = 'HP PN', how = 'left')\n",
    "    LatestSGMaterial['Key'] = LatestSGMaterial['ODM'] + LatestSGMaterial['Descr']\n",
    "    KeyList = LatestSGMaterial['Key'].tolist()\n",
    "    print(\"addKey done!\")\n",
    "    return KeyList, res"
   ]
  },
  {
   "attachments": {},
   "cell_type": "markdown",
   "metadata": {},
   "source": [
    "### concat current day external report"
   ]
  },
  {
   "cell_type": "code",
   "execution_count": 11,
   "metadata": {},
   "outputs": [],
   "source": [
    "def concatExternal(extReportPathList: list, KeyList: list) -> pd.DataFrame:\n",
    "    externalResultDFList = []\n",
    "    if not extReportPathList:\n",
    "        return \n",
    "\n",
    "    for _ in extReportPathList:\n",
    "        try: \n",
    "            temp = pd.read_excel(_)\n",
    "            temp['ODM'] = temp['ODM'].ffill()\n",
    "            temp['ODM'] = temp['ODM'].replace(ODMdict)\n",
    "            temp['FV/Des'] = temp['FV/Des'].ffill()\n",
    "            #temp['ETA'] = temp['ETA'].ffill()\n",
    "            temp['key'] = temp['ODM'] + temp['FV/Des']\n",
    "            temp = temp[temp.key.isin(KeyList)]\n",
    "            \n",
    "            try:\n",
    "                temp = temp[['ODM', 'FV/Des', 'HP_PN', 'ETA', 'GPS Remark']]\n",
    "            except:\n",
    "                temp = temp[['ODM', 'FV/Des', 'HP PN', 'ETA', 'GPS Remark']]\n",
    "                temp = temp.rename(columns = {'HP PN' : 'HP_PN'})\n",
    "                print(\"Rocky wrong format!\")\n",
    "                \n",
    "            temp = temp.groupby(['ODM', 'FV/Des']).agg({'ETA' : lambda x: '\\n'.join(set(x.dropna())),\n",
    "                                                        'GPS Remark': lambda x: '\\n'.join(set(x.dropna()))})\n",
    "            temp = temp.reset_index()\n",
    "            if len(temp) > 0:\n",
    "                print(len(temp))\n",
    "                externalResultDFList.append(temp)\n",
    "            else:\n",
    "                pass\n",
    "        except Exception as e:\n",
    "            print(e)\n",
    "            print(_)\n",
    "    try:\n",
    "        externalResultDF = pd.concat(externalResultDFList)\n",
    "    except Exception as e:\n",
    "        print(e)\n",
    "        print(\"No single shortage match!\")\n",
    "        return pd.DataFrame(columns = ['ODM', 'FV/Des', 'HP_PN', 'ETA', 'GPS Remark'])\n",
    "    print('External process done!')\n",
    "    return externalResultDF"
   ]
  },
  {
   "attachments": {},
   "cell_type": "markdown",
   "metadata": {},
   "source": [
    "### lookup PNFV and merge external reportm\n",
    "### output"
   ]
  },
  {
   "cell_type": "code",
   "execution_count": 12,
   "metadata": {},
   "outputs": [],
   "source": [
    "def mergeNoutput(SGres: pd.DataFrame, extRes: pd.DataFrame, dateStr: str) -> None:\n",
    "    SGres = SGres.merge(PNFVFile.rename(columns = {'PN': 'HP PN'}), on = 'HP PN', how = 'left')\n",
    "    print(SGres[SGres['HP PN'] == 'M83662-N13'])\n",
    "    SGres = SGres.merge(extRes.rename(columns = {'FV/Des' : 'Descr'}), on = ['ODM', 'Descr'], how = 'left')\n",
    "    SGres = SGres.drop_duplicates()\n",
    "    SGres.to_excel(Path(target, 'test','total singal shortage_' + dateStr +'.xlsx'), index = False)\n",
    "    print(\"Output done!\")\n",
    "    return SGres"
   ]
  },
  {
   "cell_type": "code",
   "execution_count": 13,
   "metadata": {},
   "outputs": [],
   "source": [
    "dateRange.reverse()"
   ]
  },
  {
   "cell_type": "code",
   "execution_count": 14,
   "metadata": {},
   "outputs": [],
   "source": [
    "lookupSGdateList.reverse()"
   ]
  },
  {
   "cell_type": "code",
   "execution_count": 15,
   "metadata": {},
   "outputs": [
    {
     "name": "stdout",
     "output_type": "stream",
     "text": [
      "2 2\n",
      "0 0\n",
      "2 2\n",
      "3 3\n",
      "0 0\n",
      "7 7\n",
      "3 1\n",
      "1 2\n"
     ]
    }
   ],
   "source": [
    "for i, j in zip(dateRange[0], lookupSGdateList[0]):\n",
    "    print(i, j)"
   ]
  },
  {
   "cell_type": "code",
   "execution_count": 16,
   "metadata": {},
   "outputs": [
    {
     "data": {
      "text/plain": [
       "'C:\\\\Users\\\\hsudu\\\\HP Inc\\\\GPS TW Innovation - Documents\\\\Project team\\\\Project RiXin - Shortage management\\\\Single shortage\\\\Single shortage 20230719.xlsx'"
      ]
     },
     "execution_count": 16,
     "metadata": {},
     "output_type": "execute_result"
    }
   ],
   "source": [
    "[f for f in glob.glob(str(Path(target, 'Single shortage ' + '*')))][-1]"
   ]
  },
  {
   "cell_type": "code",
   "execution_count": 17,
   "metadata": {},
   "outputs": [
    {
     "name": "stdout",
     "output_type": "stream",
     "text": [
      "C:\\Users\\hsudu\\HP Inc\\GPS TW Innovation - Documents\\Project team\\Project RiXin - Shortage management\\Single shortage\\Single shortage 20230719.xlsx process done!\n",
      "addKey done!\n",
      "1\n",
      "1\n",
      "1\n",
      "1\n",
      "1\n",
      "1\n",
      "1\n",
      "1\n",
      "External process done!\n",
      "Empty DataFrame\n",
      "Columns: [Commodity, Single Shortage QTY, ODM, Series, HP PN, Prev_Single Shortage QTY, Category, Procurement type, Remark, CPU family, LastSGreportDate, reportDate, Descr]\n",
      "Index: []\n"
     ]
    },
    {
     "ename": "ValueError",
     "evalue": "No Excel writer 'xlwt'",
     "output_type": "error",
     "traceback": [
      "\u001b[1;31m---------------------------------------------------------------------------\u001b[0m",
      "\u001b[1;31mKeyError\u001b[0m                                  Traceback (most recent call last)",
      "File \u001b[1;32mc:\\Users\\hsudu\\AppData\\Local\\Programs\\Python\\Python310\\lib\\site-packages\\pandas\\io\\excel\\_util.py:91\u001b[0m, in \u001b[0;36mget_writer\u001b[1;34m(engine_name)\u001b[0m\n\u001b[0;32m     90\u001b[0m \u001b[39mtry\u001b[39;00m:\n\u001b[1;32m---> 91\u001b[0m     \u001b[39mreturn\u001b[39;00m _writers[engine_name]\n\u001b[0;32m     92\u001b[0m \u001b[39mexcept\u001b[39;00m \u001b[39mKeyError\u001b[39;00m \u001b[39mas\u001b[39;00m err:\n",
      "\u001b[1;31mKeyError\u001b[0m: 'xlwt'",
      "\nThe above exception was the direct cause of the following exception:\n",
      "\u001b[1;31mValueError\u001b[0m                                Traceback (most recent call last)",
      "\u001b[1;32mc:\\Users\\hsudu\\Documents\\GitHub\\Flow-control-for-database\\SGTransform.ipynb Cell 20\u001b[0m in \u001b[0;36m<cell line: 27>\u001b[1;34m()\u001b[0m\n\u001b[0;32m     <a href='vscode-notebook-cell:/c%3A/Users/hsudu/Documents/GitHub/Flow-control-for-database/SGTransform.ipynb#X25sZmlsZQ%3D%3D?line=23'>24</a>\u001b[0m     \u001b[39mprint\u001b[39m(\u001b[39m\"\u001b[39m\u001b[39mNo external on \u001b[39m\u001b[39m\"\u001b[39m \u001b[39m+\u001b[39m et)\n\u001b[0;32m     <a href='vscode-notebook-cell:/c%3A/Users/hsudu/Documents/GitHub/Flow-control-for-database/SGTransform.ipynb#X25sZmlsZQ%3D%3D?line=24'>25</a>\u001b[0m     \u001b[39m#exit()\u001b[39;00m\n\u001b[1;32m---> <a href='vscode-notebook-cell:/c%3A/Users/hsudu/Documents/GitHub/Flow-control-for-database/SGTransform.ipynb#X25sZmlsZQ%3D%3D?line=26'>27</a>\u001b[0m sg_res \u001b[39m=\u001b[39m mergeNoutput(sg_res, ext_res, et)\n",
      "\u001b[1;32mc:\\Users\\hsudu\\Documents\\GitHub\\Flow-control-for-database\\SGTransform.ipynb Cell 20\u001b[0m in \u001b[0;36mmergeNoutput\u001b[1;34m(SGres, extRes, dateStr)\u001b[0m\n\u001b[0;32m      <a href='vscode-notebook-cell:/c%3A/Users/hsudu/Documents/GitHub/Flow-control-for-database/SGTransform.ipynb#X25sZmlsZQ%3D%3D?line=3'>4</a>\u001b[0m SGres \u001b[39m=\u001b[39m SGres\u001b[39m.\u001b[39mmerge(extRes\u001b[39m.\u001b[39mrename(columns \u001b[39m=\u001b[39m {\u001b[39m'\u001b[39m\u001b[39mFV/Des\u001b[39m\u001b[39m'\u001b[39m : \u001b[39m'\u001b[39m\u001b[39mDescr\u001b[39m\u001b[39m'\u001b[39m}), on \u001b[39m=\u001b[39m [\u001b[39m'\u001b[39m\u001b[39mODM\u001b[39m\u001b[39m'\u001b[39m, \u001b[39m'\u001b[39m\u001b[39mDescr\u001b[39m\u001b[39m'\u001b[39m], how \u001b[39m=\u001b[39m \u001b[39m'\u001b[39m\u001b[39mleft\u001b[39m\u001b[39m'\u001b[39m)\n\u001b[0;32m      <a href='vscode-notebook-cell:/c%3A/Users/hsudu/Documents/GitHub/Flow-control-for-database/SGTransform.ipynb#X25sZmlsZQ%3D%3D?line=4'>5</a>\u001b[0m SGres \u001b[39m=\u001b[39m SGres\u001b[39m.\u001b[39mdrop_duplicates()\n\u001b[1;32m----> <a href='vscode-notebook-cell:/c%3A/Users/hsudu/Documents/GitHub/Flow-control-for-database/SGTransform.ipynb#X25sZmlsZQ%3D%3D?line=5'>6</a>\u001b[0m SGres\u001b[39m.\u001b[39;49mto_excel(Path(target, \u001b[39m'\u001b[39;49m\u001b[39mtest\u001b[39;49m\u001b[39m'\u001b[39;49m,\u001b[39m'\u001b[39;49m\u001b[39mtotal singal shortage_\u001b[39;49m\u001b[39m'\u001b[39;49m \u001b[39m+\u001b[39;49m dateStr \u001b[39m+\u001b[39;49m\u001b[39m'\u001b[39;49m\u001b[39m.xls\u001b[39;49m\u001b[39m'\u001b[39;49m), index \u001b[39m=\u001b[39;49m \u001b[39mFalse\u001b[39;49;00m, engine \u001b[39m=\u001b[39;49m \u001b[39m'\u001b[39;49m\u001b[39mxlwt\u001b[39;49m\u001b[39m'\u001b[39;49m)\n\u001b[0;32m      <a href='vscode-notebook-cell:/c%3A/Users/hsudu/Documents/GitHub/Flow-control-for-database/SGTransform.ipynb#X25sZmlsZQ%3D%3D?line=6'>7</a>\u001b[0m \u001b[39mprint\u001b[39m(\u001b[39m\"\u001b[39m\u001b[39mOutput done!\u001b[39m\u001b[39m\"\u001b[39m)\n\u001b[0;32m      <a href='vscode-notebook-cell:/c%3A/Users/hsudu/Documents/GitHub/Flow-control-for-database/SGTransform.ipynb#X25sZmlsZQ%3D%3D?line=7'>8</a>\u001b[0m \u001b[39mreturn\u001b[39;00m SGres\n",
      "File \u001b[1;32mc:\\Users\\hsudu\\AppData\\Local\\Programs\\Python\\Python310\\lib\\site-packages\\pandas\\core\\generic.py:2252\u001b[0m, in \u001b[0;36mNDFrame.to_excel\u001b[1;34m(self, excel_writer, sheet_name, na_rep, float_format, columns, header, index, index_label, startrow, startcol, engine, merge_cells, inf_rep, freeze_panes, storage_options)\u001b[0m\n\u001b[0;32m   2239\u001b[0m \u001b[39mfrom\u001b[39;00m \u001b[39mpandas\u001b[39;00m\u001b[39m.\u001b[39;00m\u001b[39mio\u001b[39;00m\u001b[39m.\u001b[39;00m\u001b[39mformats\u001b[39;00m\u001b[39m.\u001b[39;00m\u001b[39mexcel\u001b[39;00m \u001b[39mimport\u001b[39;00m ExcelFormatter\n\u001b[0;32m   2241\u001b[0m formatter \u001b[39m=\u001b[39m ExcelFormatter(\n\u001b[0;32m   2242\u001b[0m     df,\n\u001b[0;32m   2243\u001b[0m     na_rep\u001b[39m=\u001b[39mna_rep,\n\u001b[1;32m   (...)\u001b[0m\n\u001b[0;32m   2250\u001b[0m     inf_rep\u001b[39m=\u001b[39minf_rep,\n\u001b[0;32m   2251\u001b[0m )\n\u001b[1;32m-> 2252\u001b[0m formatter\u001b[39m.\u001b[39;49mwrite(\n\u001b[0;32m   2253\u001b[0m     excel_writer,\n\u001b[0;32m   2254\u001b[0m     sheet_name\u001b[39m=\u001b[39;49msheet_name,\n\u001b[0;32m   2255\u001b[0m     startrow\u001b[39m=\u001b[39;49mstartrow,\n\u001b[0;32m   2256\u001b[0m     startcol\u001b[39m=\u001b[39;49mstartcol,\n\u001b[0;32m   2257\u001b[0m     freeze_panes\u001b[39m=\u001b[39;49mfreeze_panes,\n\u001b[0;32m   2258\u001b[0m     engine\u001b[39m=\u001b[39;49mengine,\n\u001b[0;32m   2259\u001b[0m     storage_options\u001b[39m=\u001b[39;49mstorage_options,\n\u001b[0;32m   2260\u001b[0m )\n",
      "File \u001b[1;32mc:\\Users\\hsudu\\AppData\\Local\\Programs\\Python\\Python310\\lib\\site-packages\\pandas\\io\\formats\\excel.py:934\u001b[0m, in \u001b[0;36mExcelFormatter.write\u001b[1;34m(self, writer, sheet_name, startrow, startcol, freeze_panes, engine, storage_options)\u001b[0m\n\u001b[0;32m    930\u001b[0m     need_save \u001b[39m=\u001b[39m \u001b[39mFalse\u001b[39;00m\n\u001b[0;32m    931\u001b[0m \u001b[39melse\u001b[39;00m:\n\u001b[0;32m    932\u001b[0m     \u001b[39m# error: Cannot instantiate abstract class 'ExcelWriter' with abstract\u001b[39;00m\n\u001b[0;32m    933\u001b[0m     \u001b[39m# attributes 'engine', 'save', 'supported_extensions' and 'write_cells'\u001b[39;00m\n\u001b[1;32m--> 934\u001b[0m     writer \u001b[39m=\u001b[39m ExcelWriter(  \u001b[39m# type: ignore[abstract]\u001b[39;49;00m\n\u001b[0;32m    935\u001b[0m         writer, engine\u001b[39m=\u001b[39;49mengine, storage_options\u001b[39m=\u001b[39;49mstorage_options\n\u001b[0;32m    936\u001b[0m     )\n\u001b[0;32m    937\u001b[0m     need_save \u001b[39m=\u001b[39m \u001b[39mTrue\u001b[39;00m\n\u001b[0;32m    939\u001b[0m \u001b[39mtry\u001b[39;00m:\n",
      "File \u001b[1;32mc:\\Users\\hsudu\\AppData\\Local\\Programs\\Python\\Python310\\lib\\site-packages\\pandas\\io\\excel\\_base.py:1119\u001b[0m, in \u001b[0;36mExcelWriter.__new__\u001b[1;34m(cls, path, engine, date_format, datetime_format, mode, storage_options, if_sheet_exists, engine_kwargs)\u001b[0m\n\u001b[0;32m   1117\u001b[0m     \u001b[39m# for mypy\u001b[39;00m\n\u001b[0;32m   1118\u001b[0m     \u001b[39massert\u001b[39;00m engine \u001b[39mis\u001b[39;00m \u001b[39mnot\u001b[39;00m \u001b[39mNone\u001b[39;00m\n\u001b[1;32m-> 1119\u001b[0m     \u001b[39mcls\u001b[39m \u001b[39m=\u001b[39m get_writer(engine)\n\u001b[0;32m   1121\u001b[0m \u001b[39mreturn\u001b[39;00m \u001b[39mobject\u001b[39m\u001b[39m.\u001b[39m\u001b[39m__new__\u001b[39m(\u001b[39mcls\u001b[39m)\n",
      "File \u001b[1;32mc:\\Users\\hsudu\\AppData\\Local\\Programs\\Python\\Python310\\lib\\site-packages\\pandas\\io\\excel\\_util.py:93\u001b[0m, in \u001b[0;36mget_writer\u001b[1;34m(engine_name)\u001b[0m\n\u001b[0;32m     91\u001b[0m     \u001b[39mreturn\u001b[39;00m _writers[engine_name]\n\u001b[0;32m     92\u001b[0m \u001b[39mexcept\u001b[39;00m \u001b[39mKeyError\u001b[39;00m \u001b[39mas\u001b[39;00m err:\n\u001b[1;32m---> 93\u001b[0m     \u001b[39mraise\u001b[39;00m \u001b[39mValueError\u001b[39;00m(\u001b[39mf\u001b[39m\u001b[39m\"\u001b[39m\u001b[39mNo Excel writer \u001b[39m\u001b[39m'\u001b[39m\u001b[39m{\u001b[39;00mengine_name\u001b[39m}\u001b[39;00m\u001b[39m'\u001b[39m\u001b[39m\"\u001b[39m) \u001b[39mfrom\u001b[39;00m \u001b[39merr\u001b[39;00m\n",
      "\u001b[1;31mValueError\u001b[0m: No Excel writer 'xlwt'"
     ]
    }
   ],
   "source": [
    "et = today\n",
    "# et = '20230712'\n",
    "# sg = '20230209'\n",
    "\n",
    "fname = [f for f in glob.glob(str(Path(target, 'Single shortage ' + '*')))][-1]\n",
    "ExternalReport = [f for f in glob.glob(str(Path(ExternalReportFolder, et + '*')))]\n",
    "if not ExternalReport:\n",
    "    print(\"No external on \" + et)\n",
    "    #exit()\n",
    "\n",
    "try:\n",
    "    file = pd.read_excel(str(fname))\n",
    "    sg_res = clean(str(fname), file, et)\n",
    "    print(str(fname) + \" process done!\")\n",
    "except Exception as e:\n",
    "    errorList.append([str(fname), e])\n",
    "    print(e)\n",
    "    print(str(fname) + \" process failed!\")\n",
    "    #exit()\n",
    "\n",
    "k, sg_res = addKey(sg_res)\n",
    "ext_res = concatExternal(ExternalReport, k)\n",
    "if ext_res is None:\n",
    "    print(\"No external on \" + et)\n",
    "    #exit()\n",
    "\n",
    "sg_res = mergeNoutput(sg_res, ext_res, et)"
   ]
  },
  {
   "cell_type": "code",
   "execution_count": null,
   "metadata": {},
   "outputs": [],
   "source": [
    "conn = pyodbc.connect('Driver={SQL Server Native Client 11.0}; Server=g7w11206g.inc.hpicorp.net; Database=CSI; Trusted_Connection=Yes;')\n",
    "cursor = conn.cursor()"
   ]
  },
  {
   "cell_type": "code",
   "execution_count": null,
   "metadata": {},
   "outputs": [],
   "source": [
    "#sg_res = sg_res.rename(columns={'HP PN' : 'HP_PN'})"
   ]
  },
  {
   "cell_type": "code",
   "execution_count": null,
   "metadata": {},
   "outputs": [],
   "source": [
    "sg_res['ETA'] = sg_res['ETA'].apply(lambda x: x.replace(\"'\",\"\") if type(x) == str else x)"
   ]
  },
  {
   "cell_type": "code",
   "execution_count": null,
   "metadata": {},
   "outputs": [],
   "source": [
    "sg_res"
   ]
  },
  {
   "cell_type": "code",
   "execution_count": null,
   "metadata": {},
   "outputs": [],
   "source": [
    "for index, row in sg_res.iterrows():\n",
    "    sg_Commodity = row['Commodity']\n",
    "    sg_Qty = row['Single Shortage QTY']\n",
    "    sg_ODM = row['ODM']\n",
    "    sg_series = row['Series']\n",
    "    sg_PN_all = row['HP PN']\n",
    "    sg_pQty = row['Prev_Single Shortage QTY']\n",
    "    sg_pTyoe = row['Procurement type']\n",
    "    sg_reportDate = row['reportDate']\n",
    "    sg_ETA = row['ETA']\n",
    "    sg_gpsRemark = row['GPS Remark']\n",
    "    sg_lastSGreportDate = row['LastSGreportDate']\n",
    "    #sg_PN_single = row['HP PN']\n",
    "\n",
    "\n",
    "    cursor.execute(f\"INSERT INTO CSI.OPS.GPS_tbl_ops_Single_shortage ( Commodity, [Single Shortage QTY], ODM, Series, [HP PN], [Prev_Single Shortage QTY], \\\n",
    "                    [Procurement type], reportDate, ETA, [GPS Remark], LastSGreportDate)\\\n",
    "                    VALUES('{sg_Commodity}','{sg_Qty}','{sg_ODM}','{sg_series}','{sg_PN_all}', '{sg_pQty}','{sg_pTyoe}','{sg_reportDate}',\\\n",
    "                           '{sg_ETA}','{sg_gpsRemark}', '{sg_lastSGreportDate}')\".replace(\"'NaT'\", \"NULL\").replace(\"'nan'\", \"NULL\"))\n",
    "\n",
    "conn.commit()\n",
    "conn.close()"
   ]
  },
  {
   "cell_type": "code",
   "execution_count": null,
   "metadata": {},
   "outputs": [],
   "source": [
    "ExternalreportArchiveFolder = os.path.join(path, 'External_Destination', 'Archive')\n",
    "\n",
    "for f in os.listdir(ExternalReportFolder):\n",
    "    if f.endswith('.xlsx'):\n",
    "        shutil.move(os.path.join(ExternalReportFolder, f), os.path.join(ExternalreportArchiveFolder, f))\n",
    "\n",
    "for f in os.listdir(os.path.join(ExternalReportFolder, 'amend')):\n",
    "    if f.endswith('.xlsx'):\n",
    "        shutil.move(os.path.join(ExternalReportFolder, 'amend', f), os.path.join(ExternalreportArchiveFolder, 'amend', f))\n"
   ]
  },
  {
   "cell_type": "code",
   "execution_count": null,
   "metadata": {},
   "outputs": [],
   "source": []
  }
 ],
 "metadata": {
  "kernelspec": {
   "display_name": "Python 3",
   "language": "python",
   "name": "python3"
  },
  "language_info": {
   "codemirror_mode": {
    "name": "ipython",
    "version": 3
   },
   "file_extension": ".py",
   "mimetype": "text/x-python",
   "name": "python",
   "nbconvert_exporter": "python",
   "pygments_lexer": "ipython3",
   "version": "3.10.4"
  },
  "orig_nbformat": 4,
  "vscode": {
   "interpreter": {
    "hash": "cadcbe1cf7f77607d04fb86883766795fe82998168b094e073d163801885097d"
   }
  }
 },
 "nbformat": 4,
 "nbformat_minor": 2
}
