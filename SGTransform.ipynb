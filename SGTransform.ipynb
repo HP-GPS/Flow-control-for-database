{
 "cells": [
  {
   "cell_type": "code",
   "execution_count": 1,
   "metadata": {},
   "outputs": [],
   "source": [
    "import pandas as pd\n",
    "import os\n",
    "import numpy as np\n",
    "import glob\n",
    "from pathlib import Path\n",
    "from datetime import datetime as dt\n",
    "from datetime import timedelta"
   ]
  },
  {
   "cell_type": "code",
   "execution_count": 2,
   "metadata": {},
   "outputs": [],
   "source": [
    "home = Path.home()\n",
    "today = dt.today().date()\n",
    "\n",
    "dateRange = [today - timedelta(days = x) for x in range(365)]\n",
    "#dateRange = [i.strftime(\"%Y%m%d\") for i in dateRange]\n",
    "\n",
    "today = today.strftime(\"%Y%m%d\")\n",
    "\n",
    "\n",
    "ODMdict = {\n",
    "    'FWH' : 'WHFXN',\n",
    "    'Compal' : 'KSCEI',\n",
    "    'CEI' : 'KSCEI',\n",
    "    'Wistron' : 'CQWIS',\n",
    "    'Inventec' : 'CQIEC',\n",
    "    'Quanta' : 'CQQCI',\n",
    "    'Pegatron' : 'CQPCQ'\n",
    "}"
   ]
  },
  {
   "cell_type": "code",
   "execution_count": 3,
   "metadata": {},
   "outputs": [],
   "source": [
    "dateRange.reverse()"
   ]
  },
  {
   "cell_type": "code",
   "execution_count": 4,
   "metadata": {},
   "outputs": [],
   "source": [
    "def clean(fname: str, file : pd.DataFrame, externalReportDate : str) -> pd.DataFrame:\n",
    "\n",
    "    currentYear = dt.now().year\n",
    "    currentday = fname.split('\\\\')[-1][-13:-5]\n",
    "    file = file.assign(LastSGreportDate = currentday)\n",
    "    \n",
    "    file['LastSGreportDate'] = file['LastSGreportDate'].apply(lambda x: dt.strptime(x, '%Y%m%d'))\n",
    "    file['LastSGreportDate'] = pd.to_datetime(file['LastSGreportDate'])\n",
    "\n",
    "    file = file.assign(reportDate = externalReportDate)\n",
    "\n",
    "    file['reportDate'] = file['reportDate'].apply(lambda x: dt.strptime(x, '%Y%m%d'))\n",
    "    file['reportDate'] = pd.to_datetime(file['reportDate'])\n",
    "\n",
    "    #clean\n",
    "    file.columns = file.columns.str.strip()\n",
    "\n",
    "    #drop useless columns and rows\n",
    "    file = file.drop(columns = ['Description (Item)', 'Schedule (Comments)', 'Hub inventory', 'Vendor'])\n",
    "    file = file[file['Procurement type'] == 'B/S'].reset_index(drop = True)\n",
    "\n",
    "    #adjust qty columns name and units\n",
    "    qtycol = file.filter(like='Single Shortage QTY (K)').columns.tolist()\n",
    "    \n",
    "\n",
    "    for i in qtycol:\n",
    "        file[i] = file[i].apply(lambda x: x.upper() if type(x) == str else x)\n",
    "        file[i] = file[i].replace(\"NEW\", 0)\n",
    "        file[i] = file[i].apply(lambda x: x*1000)\n",
    "    file = file.rename(columns= {qtycol[0]: 'Single Shortage QTY', qtycol[1]: 'Prev_Single Shortage QTY'})\n",
    "\n",
    "    #replace ODM name\n",
    "    file['ODM'] = file['ODM'].replace(ODMdict)\n",
    "    return file   "
   ]
  },
  {
   "cell_type": "code",
   "execution_count": 5,
   "metadata": {},
   "outputs": [],
   "source": [
    "target = Path (home, 'HP Inc','GPSTW SOP - 2021 日新','Project team','Single shortage')\n",
    "PNFVPath = Path(home, 'HP Inc','GPSTW SOP - 2021 日新', 'PN FV description mapping table_ALL.xlsx')\n",
    "ExternalReportFolder = Path(home, 'HP Inc','GPSTW SOP - 2021 日新','Project team','External test destination')\n",
    "\n",
    "PNFVFile = pd.read_excel(PNFVPath)\n",
    "PNFVFile = PNFVFile [['PN', 'Descr']]\n",
    "PNFVFile = PNFVFile.rename(columns = {'PN': 'HP PN'})"
   ]
  },
  {
   "cell_type": "code",
   "execution_count": 6,
   "metadata": {},
   "outputs": [],
   "source": [
    "fileList = [str(x) for x in Path(target,'Archive').glob(\"*xlsx\")]\n",
    "fileListDateNum = [dt.strptime(x[-13:-5], \"%Y%m%d\").date() for x in fileList]\n",
    "\n",
    "errorList = []\n",
    "resultList = []"
   ]
  },
  {
   "cell_type": "code",
   "execution_count": 7,
   "metadata": {},
   "outputs": [],
   "source": [
    "lookupSGdateList = []\n",
    "i = 0\n",
    "for _ in dateRange:\n",
    "    if i == len(fileListDateNum)-1:\n",
    "        lookupSGdateList.append(fileListDateNum[i])\n",
    "        continue\n",
    "    \n",
    "    if _ < fileListDateNum[i+1]:\n",
    "        lookupSGdateList.append(fileListDateNum[i])\n",
    "    else:\n",
    "        i = i + 1\n",
    "        lookupSGdateList.append(fileListDateNum[i])"
   ]
  },
  {
   "cell_type": "code",
   "execution_count": 8,
   "metadata": {},
   "outputs": [],
   "source": [
    "dateRange = [i.strftime(\"%Y%m%d\") for i in dateRange]\n",
    "lookupSGdateList = [i.strftime(\"%Y%m%d\") for i in lookupSGdateList]"
   ]
  },
  {
   "cell_type": "code",
   "execution_count": 9,
   "metadata": {},
   "outputs": [
    {
     "data": {
      "text/plain": [
       "<zip at 0x1ec683c6d80>"
      ]
     },
     "execution_count": 9,
     "metadata": {},
     "output_type": "execute_result"
    }
   ],
   "source": [
    "zip(dateRange, lookupSGdateList)"
   ]
  },
  {
   "cell_type": "markdown",
   "metadata": {},
   "source": [
    "dateList = result['reportDate'].tolist()\n",
    "max(dateList)"
   ]
  },
  {
   "cell_type": "code",
   "execution_count": 10,
   "metadata": {},
   "outputs": [],
   "source": [
    "def addKey(res: pd.DataFrame) -> tuple[list, pd.DataFrame]:\n",
    "    LatestSGMaterial = res\n",
    "    LatestSGMaterial = LatestSGMaterial.merge(PNFVFile, on = 'HP PN', how = 'left')\n",
    "    LatestSGMaterial['Key'] = LatestSGMaterial['ODM'] + LatestSGMaterial['Descr']\n",
    "    KeyList = LatestSGMaterial['Key'].tolist()\n",
    "    print(\"addKey done!\")\n",
    "    return KeyList, res"
   ]
  },
  {
   "cell_type": "markdown",
   "metadata": {},
   "source": [
    "### concat current day external report"
   ]
  },
  {
   "cell_type": "code",
   "execution_count": 11,
   "metadata": {},
   "outputs": [],
   "source": [
    "def concatExternal(extReportPathList: list, KeyList: list) -> pd.DataFrame:\n",
    "    externalResultDFList = []\n",
    "    if not extReportPathList:\n",
    "        return \n",
    "\n",
    "    for _ in extReportPathList:\n",
    "        try: \n",
    "            temp = pd.read_excel(_)\n",
    "            temp['ODM'] = temp['ODM'].ffill()\n",
    "            temp['ODM'] = temp['ODM'].replace(ODMdict)\n",
    "            temp['FV/Des'] = temp['FV/Des'].ffill()\n",
    "            #temp['ETA'] = temp['ETA'].ffill()\n",
    "            temp['key'] = temp['ODM'] + temp['FV/Des']\n",
    "            temp = temp[temp.key.isin(KeyList)]\n",
    "            \n",
    "            try:\n",
    "                temp = temp[['ODM', 'FV/Des', 'HP_PN', 'ETA', 'GPS Remark']]\n",
    "            except:\n",
    "                temp = temp[['ODM', 'FV/Des', 'HP PN', 'ETA', 'GPS Remark']]\n",
    "                temp = temp.rename(columns = {'HP PN' : 'HP_PN'})\n",
    "                print(\"Rocky wrong format!\")\n",
    "                \n",
    "            temp = temp.groupby(['ODM', 'FV/Des']).agg({'ETA' : lambda x: '\\n'.join(set(x.dropna())),\n",
    "                                                        'GPS Remark': lambda x: '\\n'.join(set(x.dropna()))})\n",
    "            temp = temp.reset_index()\n",
    "            if len(temp) > 0:\n",
    "                print(len(temp))\n",
    "                externalResultDFList.append(temp)\n",
    "            else:\n",
    "                pass\n",
    "        except Exception as e:\n",
    "            print(e)\n",
    "            print(_)\n",
    "    try:\n",
    "        externalResultDF = pd.concat(externalResultDFList)\n",
    "    except ValueError:\n",
    "        print(\"No single shortage match!\")\n",
    "        return pd.DataFrame(columns = ['ODM', 'FV/Des', 'HP_PN', 'ETA', 'GPS Remark'])\n",
    "    print('External process done!')\n",
    "    return externalResultDF"
   ]
  },
  {
   "cell_type": "markdown",
   "metadata": {},
   "source": [
    "### lookup PNFV and merge external reportm\n",
    "### output"
   ]
  },
  {
   "cell_type": "code",
   "execution_count": 12,
   "metadata": {},
   "outputs": [],
   "source": [
    "def mergeNoutput(SGres: pd.DataFrame, extRes: pd.DataFrame, dateStr: str) -> None:\n",
    "    SGres = SGres.merge(PNFVFile.rename(columns = {'PN': 'HP PN'}), on = 'HP PN', how = 'left')\n",
    "    SGres = SGres.merge(extRes.rename(columns = {'FV/Des' : 'Descr'}), on = ['ODM', 'Descr'], how = 'left')\n",
    "    SGres = SGres.drop_duplicates()\n",
    "    SGres.to_excel(Path(target, 'test','total singal shortage_' + dateStr +'.xls'), index = False, engine = 'xlwt')\n",
    "    print(\"Output done!\")"
   ]
  },
  {
   "cell_type": "code",
   "execution_count": 13,
   "metadata": {},
   "outputs": [],
   "source": [
    "dateRange.reverse()"
   ]
  },
  {
   "cell_type": "code",
   "execution_count": 14,
   "metadata": {},
   "outputs": [],
   "source": [
    "lookupSGdateList.reverse()"
   ]
  },
  {
   "cell_type": "code",
   "execution_count": 15,
   "metadata": {},
   "outputs": [],
   "source": [
    "# for f in fileList:\n",
    "#     try:\n",
    "#         file = pd.read_excel(f)\n",
    "#         resultList.append(clean(f, file))\n",
    "#         print(f + \" process done!\")\n",
    "#     except Exception as e:\n",
    "#         errorList.append([f, e])\n",
    "#         print(f + \" process failed!\")\n",
    "\n",
    "# result = pd.concat(resultList)"
   ]
  },
  {
   "cell_type": "code",
   "execution_count": 16,
   "metadata": {},
   "outputs": [
    {
     "name": "stdout",
     "output_type": "stream",
     "text": [
      "2 2\n",
      "0 0\n",
      "2 2\n",
      "2 2\n",
      "1 1\n",
      "1 1\n",
      "1 1\n",
      "6 0\n"
     ]
    }
   ],
   "source": [
    "for i, j in zip(dateRange[0], lookupSGdateList[0]):\n",
    "    print(i, j)"
   ]
  },
  {
   "cell_type": "code",
   "execution_count": 17,
   "metadata": {},
   "outputs": [
    {
     "name": "stdout",
     "output_type": "stream",
     "text": [
      "C:\\Users\\lulo\\HP Inc\\GPSTW SOP - 2021 日新\\Project team\\Single shortage\\Single shortage 20221115.xlsx process done!\n",
      "addKey done!\n",
      "3\n",
      "1\n",
      "2\n",
      "External process done!\n",
      "Output done!\n"
     ]
    },
    {
     "name": "stderr",
     "output_type": "stream",
     "text": [
      "C:\\Users\\lulo\\AppData\\Local\\Temp/ipykernel_20488/316737522.py:5: FutureWarning: As the xlwt package is no longer maintained, the xlwt engine will be removed in a future version of pandas. This is the only engine in pandas that supports writing in the xls format. Install openpyxl and write to an xlsx file instead. You can set the option io.excel.xls.writer to 'xlwt' to silence this warning. While this option is deprecated and will also raise a warning, it can be globally set and the warning suppressed.\n",
      "  SGres.to_excel(Path(target, 'test','total singal shortage_' + dateStr +'.xls'), index = False, engine = 'xlwt')\n"
     ]
    }
   ],
   "source": [
    "et = today\n",
    "sg = '20221115'\n",
    "\n",
    "fname = Path (target, str('Single shortage ' + sg + '.xlsx'))\n",
    "ExternalReport = [f for f in glob.glob(str(Path(ExternalReportFolder, et + '*')))]\n",
    "if not ExternalReport:\n",
    "    print(\"No external on \" + et)\n",
    "    exit()\n",
    "\n",
    "try:\n",
    "    file = pd.read_excel(str(fname))\n",
    "    sg_res = clean(str(fname), file, et)\n",
    "    print(str(fname) + \" process done!\")\n",
    "except Exception as e:\n",
    "    errorList.append([str(fname), e])\n",
    "    print(str(fname) + \" process failed!\")\n",
    "    exit()\n",
    "\n",
    "k, sg_res = addKey(sg_res)\n",
    "ext_res = concatExternal(ExternalReport, k)\n",
    "if ext_res is None:\n",
    "    print(\"No external on \" + et)\n",
    "    exit()\n",
    "\n",
    "mergeNoutput(sg_res, ext_res, et)"
   ]
  },
  {
   "cell_type": "code",
   "execution_count": 18,
   "metadata": {},
   "outputs": [
    {
     "ename": "NameError",
     "evalue": "name 'asdgddfg' is not defined",
     "output_type": "error",
     "traceback": [
      "\u001b[1;31m---------------------------------------------------------------------------\u001b[0m",
      "\u001b[1;31mNameError\u001b[0m                                 Traceback (most recent call last)",
      "\u001b[1;32m~\\AppData\\Local\\Temp/ipykernel_20488/2522295376.py\u001b[0m in \u001b[0;36m<module>\u001b[1;34m\u001b[0m\n\u001b[1;32m----> 1\u001b[1;33m \u001b[0masdgddfg\u001b[0m\u001b[1;33m\u001b[0m\u001b[1;33m\u001b[0m\u001b[0m\n\u001b[0m",
      "\u001b[1;31mNameError\u001b[0m: name 'asdgddfg' is not defined"
     ]
    }
   ],
   "source": [
    "asdgddfg"
   ]
  },
  {
   "cell_type": "code",
   "execution_count": null,
   "metadata": {},
   "outputs": [],
   "source": [
    "for et, sg in zip(dateRange[0], lookupSGdateList[0]):\n",
    "    fname = Path (target, \"Archive\", str('Single shortage ' + sg + '.xlsx'))\n",
    "    ExternalReport = [f for f in glob.glob(str(Path(ExternalReportFolder, et + '*')))]\n",
    "    if not ExternalReport:\n",
    "        print(\"No external on \" + et)\n",
    "        continue\n",
    "\n",
    "    try:\n",
    "        file = pd.read_excel(str(fname))\n",
    "        sg_res = clean(str(fname), file, et)\n",
    "        print(str(fname) + \" process done!\")\n",
    "    except Exception as e:\n",
    "        errorList.append([str(fname), e])\n",
    "        print(str(fname) + \" process failed!\")\n",
    "        continue\n",
    "\n",
    "    k, sg_res = addKey(sg_res)\n",
    "    ext_res = concatExternal(ExternalReport, k)\n",
    "    if ext_res is None:\n",
    "        print(\"No external on \" + et)\n",
    "        continue\n",
    "\n",
    "    mergeNoutput(sg_res, ext_res, et)"
   ]
  },
  {
   "cell_type": "code",
   "execution_count": null,
   "metadata": {},
   "outputs": [],
   "source": [
    "fname = Path (target, \"Archive\", str('Single shortage ' + lookupSGdateList[-4] + '.xlsx'))\n",
    "ExternalReport = [f for f in glob.glob(str(Path(ExternalReportFolder, dateRange[-4] + '*')))]\n",
    "\n",
    "ExternalReport"
   ]
  },
  {
   "cell_type": "code",
   "execution_count": null,
   "metadata": {},
   "outputs": [],
   "source": [
    "errorList"
   ]
  },
  {
   "cell_type": "code",
   "execution_count": null,
   "metadata": {},
   "outputs": [],
   "source": [
    "import psutil\n",
    "psutil.cpu_percent()\n",
    "psutil.virtual_memory()\n",
    "print(psutil.Process(os.getpid()).memory_info().rss / 1024 ** 2)"
   ]
  },
  {
   "cell_type": "code",
   "execution_count": null,
   "metadata": {},
   "outputs": [],
   "source": []
  }
 ],
 "metadata": {
  "kernelspec": {
   "display_name": "Python 3.9.7 ('base')",
   "language": "python",
   "name": "python3"
  },
  "language_info": {
   "codemirror_mode": {
    "name": "ipython",
    "version": 3
   },
   "file_extension": ".py",
   "mimetype": "text/x-python",
   "name": "python",
   "nbconvert_exporter": "python",
   "pygments_lexer": "ipython3",
   "version": "3.9.7"
  },
  "orig_nbformat": 4,
  "vscode": {
   "interpreter": {
    "hash": "8e02d24046ff8f825816fb6da80a86461c9056b097b2711746cf851ec30621b7"
   }
  }
 },
 "nbformat": 4,
 "nbformat_minor": 2
}
