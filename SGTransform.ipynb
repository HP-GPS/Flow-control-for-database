{
 "cells": [
  {
   "cell_type": "code",
   "execution_count": null,
   "metadata": {},
   "outputs": [],
   "source": [
    "import pandas as pd\n",
    "import os\n",
    "import numpy as np\n",
    "import glob\n",
    "from pathlib import Path\n",
    "from datetime import datetime as dt"
   ]
  },
  {
   "cell_type": "code",
   "execution_count": null,
   "metadata": {},
   "outputs": [],
   "source": [
    "home = Path.home()\n",
    "today = dt.today()\n",
    "today = today.strftime(\"%Y%m%d\")\n",
    "today = '20221102'"
   ]
  },
  {
   "cell_type": "code",
   "execution_count": null,
   "metadata": {},
   "outputs": [],
   "source": [
    "target = Path (home, 'HP Inc','GPSTW SOP - 2021 日新','Project team','Single shortage')\n",
    "PNFVPath = Path(home, 'HP Inc','GPSTW SOP - 2021 日新', 'PN FV description mapping table_ALL.xlsx')\n",
    "ExternalReportFolder = Path(home, 'HP Inc','GPSTW SOP - 2021 日新','Project team','External test destination')\n",
    "ExternalReport = [f for f in glob.glob(str(Path(ExternalReportFolder, today + '*')))]\n",
    "ExternalReport"
   ]
  },
  {
   "cell_type": "code",
   "execution_count": null,
   "metadata": {},
   "outputs": [],
   "source": [
    "PNFVFile = pd.read_excel(PNFVPath)\n",
    "PNFVFile = PNFVFile [['PN', 'Descr']]"
   ]
  },
  {
   "cell_type": "code",
   "execution_count": null,
   "metadata": {},
   "outputs": [],
   "source": [
    "ODMdict = {\n",
    "    'FWH' : 'WHFXN',\n",
    "    'Compal' : 'KSCEI',\n",
    "    'CEI' : 'KSCEI',\n",
    "    'Wistron' : 'CQWIS',\n",
    "    'Inventec' : 'CQIEC',\n",
    "    'Quanta' : 'CQQCI',\n",
    "    'Pegatron' : 'CQPCQ'\n",
    "}"
   ]
  },
  {
   "cell_type": "code",
   "execution_count": null,
   "metadata": {},
   "outputs": [],
   "source": [
    "fileList = [str(x) for x in target.glob(\"*xlsx\")]"
   ]
  },
  {
   "cell_type": "code",
   "execution_count": null,
   "metadata": {},
   "outputs": [],
   "source": [
    "errorList = []"
   ]
  },
  {
   "cell_type": "code",
   "execution_count": null,
   "metadata": {},
   "outputs": [],
   "source": [
    "resultList = []"
   ]
  },
  {
   "cell_type": "code",
   "execution_count": null,
   "metadata": {},
   "outputs": [],
   "source": [
    "\n",
    "def clean(fname: str, file : pd.DataFrame) -> pd.DataFrame:\n",
    "\n",
    "    #add report day\n",
    "    currentYear = dt.now().year\n",
    "    #print(fname)\n",
    "    currentday = fname.split('\\\\')[-1][-13:-5]\n",
    "    #currentday = str(currentYear) + currentday\n",
    "    #print(currentday)\n",
    "    #print(type(currentday))\n",
    "    file = file.assign(reportDate = currentday)\n",
    "    file['reportDate'] = file['reportDate'].apply(lambda x: dt.strptime(x, '%Y%m%d'))\n",
    "    file['reportDate'] = pd.to_datetime(file['reportDate'])\n",
    "\n",
    "    #clean\n",
    "    file.columns = file.columns.str.strip()\n",
    "\n",
    "    #drop useless columns and rows\n",
    "    file = file.drop(columns = ['Description (Item)', 'Schedule (Comments)', 'Hub inventory', 'Vendor'])\n",
    "    file = file[file['Procurement type'] == 'B/S'].reset_index(drop = True)\n",
    "\n",
    "    #adjust qty columns name and units\n",
    "    qtycol = file.filter(like='Single Shortage QTY (K)').columns.tolist()\n",
    "    \n",
    "\n",
    "    for i in qtycol:\n",
    "        file[i] = file[i].apply(lambda x: x.upper() if type(x) == str else x)\n",
    "        file[i] = file[i].replace(\"NEW\", 0)\n",
    "        file[i] = file[i].apply(lambda x: x*1000)\n",
    "    file = file.rename(columns= {qtycol[0]: 'Single Shortage QTY', qtycol[1]: 'Prev_Single Shortage QTY'})\n",
    "\n",
    "    #replace ODM name\n",
    "    file['ODM'] = file['ODM'].replace(ODMdict)\n",
    "    return file    "
   ]
  },
  {
   "cell_type": "code",
   "execution_count": null,
   "metadata": {},
   "outputs": [],
   "source": [
    "for f in fileList:\n",
    "    # file = pd.read_excel(f)\n",
    "    # resultList.append(clean(f, file))\n",
    "\n",
    "\n",
    "    try:\n",
    "        file = pd.read_excel(f)\n",
    "        resultList.append(clean(f, file))\n",
    "        print(f + \" process done!\")\n",
    "    except Exception as e:\n",
    "        errorList.append([f, e])\n",
    "        print(f + \" process failed!\")"
   ]
  },
  {
   "cell_type": "code",
   "execution_count": null,
   "metadata": {},
   "outputs": [],
   "source": [
    "result = pd.concat(resultList)"
   ]
  },
  {
   "cell_type": "code",
   "execution_count": null,
   "metadata": {},
   "outputs": [],
   "source": [
    "dateList = result['reportDate'].tolist()"
   ]
  },
  {
   "cell_type": "code",
   "execution_count": null,
   "metadata": {},
   "outputs": [],
   "source": [
    "max(dateList)"
   ]
  },
  {
   "cell_type": "code",
   "execution_count": null,
   "metadata": {},
   "outputs": [],
   "source": [
    "LatestSGMaterial = result[result['reportDate'] == max(dateList)]\n"
   ]
  },
  {
   "cell_type": "code",
   "execution_count": null,
   "metadata": {},
   "outputs": [],
   "source": [
    "LatestSGMaterial"
   ]
  },
  {
   "cell_type": "markdown",
   "metadata": {},
   "source": [
    "result['Prev_Single Shortage QTY'].unique()"
   ]
  },
  {
   "cell_type": "code",
   "execution_count": null,
   "metadata": {},
   "outputs": [],
   "source": [
    "LatestSGMaterial = LatestSGMaterial.merge(PNFVFile.rename(columns = {'PN': 'HP PN'}), on = 'HP PN', how = 'left')\n",
    "LatestSGMaterial\n"
   ]
  },
  {
   "cell_type": "code",
   "execution_count": null,
   "metadata": {},
   "outputs": [],
   "source": [
    "LatestSGMaterial['Key'] = LatestSGMaterial['ODM'] + LatestSGMaterial['Descr']\n",
    "KeyList = LatestSGMaterial['Key'].tolist()"
   ]
  },
  {
   "cell_type": "code",
   "execution_count": null,
   "metadata": {},
   "outputs": [],
   "source": [
    "ExternalReport"
   ]
  },
  {
   "cell_type": "code",
   "execution_count": null,
   "metadata": {},
   "outputs": [],
   "source": [
    "externalResultDFList = []"
   ]
  },
  {
   "cell_type": "code",
   "execution_count": null,
   "metadata": {},
   "outputs": [],
   "source": [
    "for _ in ExternalReport:\n",
    "    try: \n",
    "        temp = pd.read_excel(_)\n",
    "        temp['ODM'] = temp['ODM'].ffill()\n",
    "        temp['ODM'] = temp['ODM'].replace(ODMdict)\n",
    "        temp['FV/Des'] = temp['FV/Des'].ffill()\n",
    "        #temp['ETA'] = temp['ETA'].ffill()\n",
    "        temp['key'] = temp['ODM'] + temp['FV/Des']\n",
    "        temp = temp[temp.key.isin(KeyList)]\n",
    "        temp = temp[['ODM', 'FV/Des', 'HP_PN', 'ETA', 'GPS Remark']]\n",
    "        temp = temp.groupby(['ODM', 'FV/Des']).agg({'ETA' : lambda x: '\\n'.join(set(x.dropna())),\n",
    "                                                    'GPS Remark': lambda x: '\\n'.join(set(x.dropna()))})\n",
    "        temp = temp.reset_index()\n",
    "        if len(temp) > 0:\n",
    "            print(len(temp))\n",
    "            externalResultDFList.append(temp)\n",
    "        else:\n",
    "            pass\n",
    "    except Exception as e:\n",
    "        print(e)\n",
    "        print(_)"
   ]
  },
  {
   "cell_type": "code",
   "execution_count": null,
   "metadata": {},
   "outputs": [],
   "source": [
    "externalResultDF = pd.concat(externalResultDFList)"
   ]
  },
  {
   "cell_type": "code",
   "execution_count": null,
   "metadata": {},
   "outputs": [],
   "source": [
    "#externalResultDF['test'] = externalResultDF['GPS Remark'].apply(lambda x : str(x).split(\"\\n\"))"
   ]
  },
  {
   "cell_type": "code",
   "execution_count": null,
   "metadata": {},
   "outputs": [],
   "source": [
    "#externalResultDF['test'] = externalResultDF['test'].apply(lambda x: i.replace() for i in x)"
   ]
  },
  {
   "cell_type": "code",
   "execution_count": null,
   "metadata": {},
   "outputs": [],
   "source": [
    "PNFVFile"
   ]
  },
  {
   "cell_type": "code",
   "execution_count": null,
   "metadata": {},
   "outputs": [],
   "source": [
    "PNFVFile = PNFVFile.rename(columns = {'PN': 'HP PN'})"
   ]
  },
  {
   "cell_type": "code",
   "execution_count": null,
   "metadata": {},
   "outputs": [],
   "source": [
    "result = result.merge(PNFVFile.rename(columns = {'PN': 'HP PN'}), on = 'HP PN', how = 'left')"
   ]
  },
  {
   "cell_type": "code",
   "execution_count": null,
   "metadata": {},
   "outputs": [],
   "source": [
    "result.head()"
   ]
  },
  {
   "cell_type": "code",
   "execution_count": null,
   "metadata": {},
   "outputs": [],
   "source": [
    "result = result.merge(externalResultDF.rename(columns = {'FV/Des' : 'Descr'}), on = ['ODM', 'Descr'], how = 'left')"
   ]
  },
  {
   "cell_type": "code",
   "execution_count": null,
   "metadata": {},
   "outputs": [],
   "source": [
    "result"
   ]
  },
  {
   "cell_type": "code",
   "execution_count": null,
   "metadata": {},
   "outputs": [],
   "source": [
    "result.to_excel(Path(target, 'total singal shortage_' + today +'.xlsx'), index = False)"
   ]
  },
  {
   "cell_type": "code",
   "execution_count": null,
   "metadata": {},
   "outputs": [],
   "source": [
    "errorList"
   ]
  },
  {
   "cell_type": "code",
   "execution_count": null,
   "metadata": {},
   "outputs": [],
   "source": [
    "import psutil"
   ]
  },
  {
   "cell_type": "code",
   "execution_count": null,
   "metadata": {},
   "outputs": [],
   "source": [
    "psutil.cpu_percent()"
   ]
  },
  {
   "cell_type": "code",
   "execution_count": null,
   "metadata": {},
   "outputs": [],
   "source": [
    "psutil.virtual_memory()"
   ]
  },
  {
   "cell_type": "code",
   "execution_count": null,
   "metadata": {},
   "outputs": [],
   "source": [
    "print(psutil.Process(os.getpid()).memory_info().rss / 1024 ** 2)"
   ]
  },
  {
   "cell_type": "code",
   "execution_count": null,
   "metadata": {},
   "outputs": [],
   "source": []
  }
 ],
 "metadata": {
  "kernelspec": {
   "display_name": "Python 3.9.7 ('base')",
   "language": "python",
   "name": "python3"
  },
  "language_info": {
   "codemirror_mode": {
    "name": "ipython",
    "version": 3
   },
   "file_extension": ".py",
   "mimetype": "text/x-python",
   "name": "python",
   "nbconvert_exporter": "python",
   "pygments_lexer": "ipython3",
   "version": "3.9.7"
  },
  "orig_nbformat": 4,
  "vscode": {
   "interpreter": {
    "hash": "8e02d24046ff8f825816fb6da80a86461c9056b097b2711746cf851ec30621b7"
   }
  }
 },
 "nbformat": 4,
 "nbformat_minor": 2
}
