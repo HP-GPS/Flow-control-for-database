{
 "cells": [
  {
   "cell_type": "code",
   "execution_count": null,
   "metadata": {},
   "outputs": [],
   "source": [
    "import pandas as pd\n",
    "import os\n",
    "import numpy as np\n",
    "import glob\n",
    "from pathlib import Path\n",
    "from datetime import datetime as dt\n",
    "from datetime import timedelta\n",
    "import pyodbc\n",
    "import shutil"
   ]
  },
  {
   "cell_type": "code",
   "execution_count": null,
   "metadata": {},
   "outputs": [],
   "source": [
    "home = Path.home()\n",
    "today = dt.today().date()\n",
    "\n",
    "dateRange = [today - timedelta(days = x) for x in range(365)]\n",
    "#dateRange = [i.strftime(\"%Y%m%d\") for i in dateRange]\n",
    "\n",
    "today = today.strftime(\"%Y%m%d\")\n",
    "\n",
    "\n",
    "ODMdict = {\n",
    "    'FWH' : 'WHFXN',\n",
    "    'Compal' : 'KSCEI',\n",
    "    'CEI' : 'KSCEI',\n",
    "    'Wistron' : 'CQWIS',\n",
    "    'wistron' : 'CQWIS',\n",
    "    'Inventec' : 'CQIEC',\n",
    "    'Quanta' : 'CQQCI',\n",
    "    'Pegatron' : 'CQPCQ'\n",
    "}"
   ]
  },
  {
   "cell_type": "code",
   "execution_count": null,
   "metadata": {},
   "outputs": [],
   "source": [
    "dateRange.reverse()"
   ]
  },
  {
   "cell_type": "code",
   "execution_count": null,
   "metadata": {},
   "outputs": [],
   "source": [
    "def clean(fname: str, file : pd.DataFrame, externalReportDate : str) -> pd.DataFrame:\n",
    "\n",
    "    currentYear = dt.now().year\n",
    "    currentday = fname.split('\\\\')[-1][-13:-5]\n",
    "    file = file.assign(LastSGreportDate = currentday)\n",
    "    \n",
    "    file['LastSGreportDate'] = file['LastSGreportDate'].apply(lambda x: dt.strptime(x, '%Y%m%d'))\n",
    "    file['LastSGreportDate'] = pd.to_datetime(file['LastSGreportDate'])\n",
    "\n",
    "    file = file.assign(reportDate = externalReportDate)\n",
    "\n",
    "    file['reportDate'] = file['reportDate'].apply(lambda x: dt.strptime(x, '%Y%m%d'))\n",
    "    file['reportDate'] = pd.to_datetime(file['reportDate'])\n",
    "\n",
    "    #clean\n",
    "    file.columns = file.columns.str.strip()\n",
    "\n",
    "    #drop useless columns and rows\n",
    "    file = file.drop(columns = ['Description (Item)', 'Schedule (Comments)', 'Hub inventory', 'Vendor'])\n",
    "    file = file[file['Procurement type'] == 'B/S'].reset_index(drop = True)\n",
    "\n",
    "    #adjust qty columns name and units\n",
    "    qtycol = file.filter(like='Single Shortage QTY (K)').columns.tolist()\n",
    "    \n",
    "\n",
    "    for i in qtycol:\n",
    "        file[i] = file[i].apply(lambda x: x.upper() if type(x) == str else x)\n",
    "        file[i] = file[i].replace(\"NEW\", 0)\n",
    "        file[i] = file[i].apply(lambda x: x*1000)\n",
    "    file = file.rename(columns= {qtycol[0]: 'Single Shortage QTY', qtycol[1]: 'Prev_Single Shortage QTY'})\n",
    "\n",
    "    #replace ODM name\n",
    "    file['ODM'] = file['ODM'].replace(ODMdict)\n",
    "    return file   "
   ]
  },
  {
   "cell_type": "code",
   "execution_count": null,
   "metadata": {},
   "outputs": [],
   "source": [
    "target = Path (home, 'HP Inc','GPSTW SOP - 2021 日新','Project team','Single shortage')\n",
    "PNFVPath = Path(home, 'HP Inc','GPSTW SOP - 2021 日新', 'PN FV description mapping table_ALL.xlsx')\n",
    "ExternalReportFolder = Path(home, 'HP Inc','GPSTW SOP - 2021 日新','Project team','External test destination', 'today')\n",
    "\n",
    "PNFVFile = pd.read_excel(PNFVPath)\n",
    "PNFVFile = PNFVFile [['PN', 'Descr']]\n",
    "PNFVFile = PNFVFile.rename(columns = {'PN': 'HP PN'})"
   ]
  },
  {
   "cell_type": "code",
   "execution_count": null,
   "metadata": {},
   "outputs": [],
   "source": [
    "fileList = [str(x) for x in Path(target,'Archive').glob(\"*xlsx\")]\n",
    "fileListDateNum = [dt.strptime(x[-13:-5], \"%Y%m%d\").date() for x in fileList]\n",
    "\n",
    "errorList = []\n",
    "resultList = []"
   ]
  },
  {
   "cell_type": "code",
   "execution_count": null,
   "metadata": {},
   "outputs": [],
   "source": [
    "lookupSGdateList = []\n",
    "i = 0\n",
    "for _ in dateRange:\n",
    "    if i == len(fileListDateNum)-1:\n",
    "        lookupSGdateList.append(fileListDateNum[i])\n",
    "        continue\n",
    "    \n",
    "    if _ < fileListDateNum[i+1]:\n",
    "        lookupSGdateList.append(fileListDateNum[i])\n",
    "    else:\n",
    "        i = i + 1\n",
    "        lookupSGdateList.append(fileListDateNum[i])"
   ]
  },
  {
   "cell_type": "code",
   "execution_count": null,
   "metadata": {},
   "outputs": [],
   "source": [
    "dateRange = [i.strftime(\"%Y%m%d\") for i in dateRange]\n",
    "lookupSGdateList = [i.strftime(\"%Y%m%d\") for i in lookupSGdateList]"
   ]
  },
  {
   "cell_type": "code",
   "execution_count": null,
   "metadata": {},
   "outputs": [],
   "source": [
    "zip(dateRange, lookupSGdateList)"
   ]
  },
  {
   "cell_type": "markdown",
   "metadata": {},
   "source": [
    "dateList = result['reportDate'].tolist()\n",
    "max(dateList)"
   ]
  },
  {
   "cell_type": "code",
   "execution_count": null,
   "metadata": {},
   "outputs": [],
   "source": [
    "def addKey(res: pd.DataFrame) -> tuple[list, pd.DataFrame]:\n",
    "    LatestSGMaterial = res\n",
    "    LatestSGMaterial = LatestSGMaterial.merge(PNFVFile, on = 'HP PN', how = 'left')\n",
    "    LatestSGMaterial['Key'] = LatestSGMaterial['ODM'] + LatestSGMaterial['Descr']\n",
    "    KeyList = LatestSGMaterial['Key'].tolist()\n",
    "    print(\"addKey done!\")\n",
    "    return KeyList, res"
   ]
  },
  {
   "cell_type": "markdown",
   "metadata": {},
   "source": [
    "### concat current day external report"
   ]
  },
  {
   "cell_type": "code",
   "execution_count": null,
   "metadata": {},
   "outputs": [],
   "source": [
    "def concatExternal(extReportPathList: list, KeyList: list) -> pd.DataFrame:\n",
    "    externalResultDFList = []\n",
    "    if not extReportPathList:\n",
    "        return \n",
    "\n",
    "    for _ in extReportPathList:\n",
    "        try: \n",
    "            temp = pd.read_excel(_)\n",
    "            temp['ODM'] = temp['ODM'].ffill()\n",
    "            temp['ODM'] = temp['ODM'].replace(ODMdict)\n",
    "            temp['FV/Des'] = temp['FV/Des'].ffill()\n",
    "            #temp['ETA'] = temp['ETA'].ffill()\n",
    "            temp['key'] = temp['ODM'] + temp['FV/Des']\n",
    "            temp = temp[temp.key.isin(KeyList)]\n",
    "            \n",
    "            try:\n",
    "                temp = temp[['ODM', 'FV/Des', 'HP_PN', 'ETA', 'GPS Remark']]\n",
    "            except:\n",
    "                temp = temp[['ODM', 'FV/Des', 'HP PN', 'ETA', 'GPS Remark']]\n",
    "                temp = temp.rename(columns = {'HP PN' : 'HP_PN'})\n",
    "                print(\"Rocky wrong format!\")\n",
    "                \n",
    "            temp = temp.groupby(['ODM', 'FV/Des']).agg({'ETA' : lambda x: '\\n'.join(set(x.dropna())),\n",
    "                                                        'GPS Remark': lambda x: '\\n'.join(set(x.dropna()))})\n",
    "            temp = temp.reset_index()\n",
    "            if len(temp) > 0:\n",
    "                print(len(temp))\n",
    "                externalResultDFList.append(temp)\n",
    "            else:\n",
    "                pass\n",
    "        except Exception as e:\n",
    "            print(e)\n",
    "            print(_)\n",
    "    try:\n",
    "        externalResultDF = pd.concat(externalResultDFList)\n",
    "    except ValueError:\n",
    "        print(\"No single shortage match!\")\n",
    "        return pd.DataFrame(columns = ['ODM', 'FV/Des', 'HP_PN', 'ETA', 'GPS Remark'])\n",
    "    print('External process done!')\n",
    "    return externalResultDF"
   ]
  },
  {
   "cell_type": "markdown",
   "metadata": {},
   "source": [
    "### lookup PNFV and merge external reportm\n",
    "### output"
   ]
  },
  {
   "cell_type": "code",
   "execution_count": null,
   "metadata": {},
   "outputs": [],
   "source": [
    "def mergeNoutput(SGres: pd.DataFrame, extRes: pd.DataFrame, dateStr: str) -> None:\n",
    "    SGres = SGres.merge(PNFVFile.rename(columns = {'PN': 'HP PN'}), on = 'HP PN', how = 'left')\n",
    "    SGres = SGres.merge(extRes.rename(columns = {'FV/Des' : 'Descr'}), on = ['ODM', 'Descr'], how = 'left')\n",
    "    SGres = SGres.drop_duplicates()\n",
    "    SGres.to_excel(Path(target, 'test','total singal shortage_' + dateStr +'.xls'), index = False, engine = 'xlwt')\n",
    "    print(\"Output done!\")\n",
    "    return SGres"
   ]
  },
  {
   "cell_type": "code",
   "execution_count": null,
   "metadata": {},
   "outputs": [],
   "source": [
    "dateRange.reverse()"
   ]
  },
  {
   "cell_type": "code",
   "execution_count": null,
   "metadata": {},
   "outputs": [],
   "source": [
    "lookupSGdateList.reverse()"
   ]
  },
  {
   "cell_type": "code",
   "execution_count": null,
   "metadata": {},
   "outputs": [],
   "source": [
    "for i, j in zip(dateRange[0], lookupSGdateList[0]):\n",
    "    print(i, j)"
   ]
  },
  {
   "cell_type": "code",
   "execution_count": null,
   "metadata": {},
   "outputs": [],
   "source": [
    "[f for f in glob.glob(str(Path(target, 'Single shortage ' + '*')))][-1]"
   ]
  },
  {
   "cell_type": "code",
   "execution_count": null,
   "metadata": {},
   "outputs": [],
   "source": [
    "et = today\n",
    "sg = '20230209'\n",
    "\n",
    "fname = [f for f in glob.glob(str(Path(target, 'Single shortage ' + '*')))][-1]\n",
    "ExternalReport = [f for f in glob.glob(str(Path(ExternalReportFolder, et + '*')))]\n",
    "if not ExternalReport:\n",
    "    print(\"No external on \" + et)\n",
    "    #exit()\n",
    "\n",
    "try:\n",
    "    file = pd.read_excel(str(fname))\n",
    "    sg_res = clean(str(fname), file, et)\n",
    "    print(str(fname) + \" process done!\")\n",
    "except Exception as e:\n",
    "    errorList.append([str(fname), e])\n",
    "    print(str(fname) + \" process failed!\")\n",
    "    #exit()\n",
    "\n",
    "k, sg_res = addKey(sg_res)\n",
    "ext_res = concatExternal(ExternalReport, k)\n",
    "if ext_res is None:\n",
    "    print(\"No external on \" + et)\n",
    "    #exit()\n",
    "\n",
    "sg_res = mergeNoutput(sg_res, ext_res, et)"
   ]
  },
  {
   "cell_type": "code",
   "execution_count": null,
   "metadata": {},
   "outputs": [],
   "source": [
    "conn = pyodbc.connect('Driver={SQL Server Native Client 11.0}; Server=g7w11206g.inc.hpicorp.net; Database=CSI; Trusted_Connection=Yes;')\n",
    "cursor = conn.cursor()"
   ]
  },
  {
   "cell_type": "code",
   "execution_count": null,
   "metadata": {},
   "outputs": [],
   "source": [
    "#sg_res = sg_res.rename(columns={'HP PN' : 'HP_PN'})"
   ]
  },
  {
   "cell_type": "code",
   "execution_count": null,
   "metadata": {},
   "outputs": [],
   "source": [
    "for index, row in sg_res.iterrows():\n",
    "    sg_Commodity = row['Commodity']\n",
    "    sg_Qty = row['Single Shortage QTY']\n",
    "    sg_ODM = row['ODM']\n",
    "    sg_series = row['Series']\n",
    "    sg_PN_all = row['HP PN']\n",
    "    sg_pQty = row['Prev_Single Shortage QTY']\n",
    "    sg_pTyoe = row['Procurement type']\n",
    "    sg_reportDate = row['reportDate']\n",
    "    sg_ETA = row['ETA']\n",
    "    sg_gpsRemark = row['GPS Remark']\n",
    "    sg_lastSGreportDate = row['LastSGreportDate']\n",
    "    #sg_PN_single = row['HP PN']\n",
    "\n",
    "\n",
    "    cursor.execute(f\"INSERT INTO CSI.GPS.GPS_tbl_ops_Single_shortage ( Commodity, [Single Shortage QTY], ODM, Series, [HP PN], [Prev_Single Shortage QTY], \\\n",
    "                    [Procurement type], reportDate, ETA, [GPS Remark], LastSGreportDate)\\\n",
    "                    VALUES('{sg_Commodity}','{sg_Qty}','{sg_ODM}','{sg_series}','{sg_PN_all}', '{sg_pQty}','{sg_pTyoe}','{sg_reportDate}',\\\n",
    "                           '{sg_ETA}','{sg_gpsRemark}', '{sg_lastSGreportDate}')\".replace(\"'NaT'\", \"NULL\"))\n",
    "\n",
    "conn.commit()"
   ]
  },
  {
   "cell_type": "code",
   "execution_count": null,
   "metadata": {},
   "outputs": [],
   "source": [
    "\n",
    "conn.close()"
   ]
  },
  {
   "cell_type": "code",
   "execution_count": null,
   "metadata": {},
   "outputs": [],
   "source": [
    "ExternalReportFolder\n",
    "ExternalreportArchiveFolder = os.path.join(home, 'HP Inc','GPSTW SOP - 2021 日新','Project team','External test destination', 'Archive')\n",
    "\n",
    "for f in os.listdir(ExternalReportFolder):\n",
    "    shutil.move(os.path.join(ExternalReportFolder, f), os.path.join(ExternalreportArchiveFolder, f))"
   ]
  },
  {
   "cell_type": "code",
   "execution_count": null,
   "metadata": {},
   "outputs": [],
   "source": [
    "stop"
   ]
  },
  {
   "cell_type": "code",
   "execution_count": null,
   "metadata": {},
   "outputs": [],
   "source": [
    "for et, sg in zip(dateRange[0], lookupSGdateList[0]):\n",
    "    fname = Path (target, \"Archive\", str('Single shortage ' + sg + '.xlsx'))\n",
    "    ExternalReport = [f for f in glob.glob(str(Path(ExternalReportFolder, et + '*')))]\n",
    "    if not ExternalReport:\n",
    "        print(\"No external on \" + et)\n",
    "        continue\n",
    "\n",
    "    try:\n",
    "        file = pd.read_excel(str(fname))\n",
    "        sg_res = clean(str(fname), file, et)\n",
    "        print(str(fname) + \" process done!\")\n",
    "    except Exception as e:\n",
    "        errorList.append([str(fname), e])\n",
    "        print(str(fname) + \" process failed!\")\n",
    "        continue\n",
    "\n",
    "    k, sg_res = addKey(sg_res)\n",
    "    ext_res = concatExternal(ExternalReport, k)\n",
    "    if ext_res is None:\n",
    "        print(\"No external on \" + et)\n",
    "        continue\n",
    "\n",
    "    mergeNoutput(sg_res, ext_res, et)"
   ]
  },
  {
   "cell_type": "code",
   "execution_count": null,
   "metadata": {},
   "outputs": [],
   "source": [
    "fname = Path (target, \"Archive\", str('Single shortage ' + lookupSGdateList[-4] + '.xlsx'))\n",
    "ExternalReport = [f for f in glob.glob(str(Path(ExternalReportFolder, dateRange[-4] + '*')))]\n",
    "\n",
    "ExternalReport"
   ]
  },
  {
   "cell_type": "code",
   "execution_count": null,
   "metadata": {},
   "outputs": [],
   "source": [
    "errorList"
   ]
  },
  {
   "cell_type": "code",
   "execution_count": null,
   "metadata": {},
   "outputs": [],
   "source": [
    "import psutil\n",
    "psutil.cpu_percent()\n",
    "psutil.virtual_memory()\n",
    "print(psutil.Process(os.getpid()).memory_info().rss / 1024 ** 2)"
   ]
  },
  {
   "cell_type": "code",
   "execution_count": null,
   "metadata": {},
   "outputs": [],
   "source": []
  }
 ],
 "metadata": {
  "kernelspec": {
   "display_name": "Python 3.10.6 64-bit",
   "language": "python",
   "name": "python3"
  },
  "language_info": {
   "codemirror_mode": {
    "name": "ipython",
    "version": 3
   },
   "file_extension": ".py",
   "mimetype": "text/x-python",
   "name": "python",
   "nbconvert_exporter": "python",
   "pygments_lexer": "ipython3",
   "version": "3.10.6"
  },
  "orig_nbformat": 4,
  "vscode": {
   "interpreter": {
    "hash": "aff61a50ca05787580f84e419a783e3027ed4326834427d692766cd5b4e8a2a5"
   }
  }
 },
 "nbformat": 4,
 "nbformat_minor": 2
}
