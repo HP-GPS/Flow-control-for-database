{
 "cells": [
  {
   "cell_type": "code",
   "execution_count": 1,
   "metadata": {},
   "outputs": [],
   "source": [
    "import pandas as pd\n",
    "import os\n",
    "import numpy as np\n",
    "import glob\n",
    "from pathlib import Path\n",
    "from datetime import datetime as dt\n",
    "from datetime import timedelta\n",
    "import pyodbc\n",
    "import shutil"
   ]
  },
  {
   "cell_type": "code",
   "execution_count": 2,
   "metadata": {},
   "outputs": [],
   "source": [
    "home = Path.home()\n",
    "today = dt.today().date()\n",
    "\n",
    "dateRange = [today - timedelta(days = x) for x in range(365)]\n",
    "#dateRange = [i.strftime(\"%Y%m%d\") for i in dateRange]\n",
    "\n",
    "today = today.strftime(\"%Y%m%d\")\n",
    "\n",
    "\n",
    "ODMdict = {\n",
    "    'FWH' : 'WHFXN',\n",
    "    'FXN' : 'WHFXN',\n",
    "    'Foxconn WH' : 'WHFXN',\n",
    "    'Compal' : 'KSCEI',\n",
    "    'CEI' : 'KSCEI',\n",
    "    'Wistron' : 'CQWIS',\n",
    "    'wistron' : 'CQWIS',\n",
    "    'Wistron CQ': 'CQWCQ',\n",
    "    'WCQ': 'CQWIS',\n",
    "    'Inventec' : 'CQIEC',\n",
    "    'Inventec CQ' : 'CQIEC',\n",
    "    'Quanta' : 'CQQCI',\n",
    "    'Quanta CQ' : 'CQQCI',\n",
    "    'Pegatron' : 'CQPCQ'\n",
    "}"
   ]
  },
  {
   "cell_type": "code",
   "execution_count": 3,
   "metadata": {},
   "outputs": [],
   "source": [
    "dateRange.reverse()"
   ]
  },
  {
   "cell_type": "code",
   "execution_count": 4,
   "metadata": {},
   "outputs": [],
   "source": [
    "def clean(fname: str, file : pd.DataFrame, externalReportDate : str) -> pd.DataFrame:\n",
    "\n",
    "    currentYear = dt.now().year\n",
    "    currentday = fname.split('\\\\')[-1][-13:-5]\n",
    "    file = file.assign(LastSGreportDate = currentday)\n",
    "    \n",
    "    file['LastSGreportDate'] = file['LastSGreportDate'].apply(lambda x: dt.strptime(x, '%Y%m%d'))\n",
    "    file['LastSGreportDate'] = pd.to_datetime(file['LastSGreportDate'])\n",
    "\n",
    "    file = file.assign(reportDate = externalReportDate)\n",
    "\n",
    "    file['reportDate'] = file['reportDate'].apply(lambda x: dt.strptime(x, '%Y%m%d'))\n",
    "    file['reportDate'] = pd.to_datetime(file['reportDate'])\n",
    "\n",
    "    #clean\n",
    "    file.columns = file.columns.str.strip()\n",
    "\n",
    "    #drop useless columns and rows\n",
    "    file = file.drop(columns = ['Description (Item)', 'Schedule (Comments)', 'Hub inventory', 'Vendor'])\n",
    "    file = file[(file['Procurement type'] == 'B/S') | (file['Procurement type'] == 'Buysell') | (file['Procurement type'] == 'BS')].reset_index(drop = True)\n",
    "\n",
    "    #adjust qty columns name and units\n",
    "    qtycol = file.filter(like='Single Shortage QTY (K)').columns.tolist()\n",
    "    \n",
    "\n",
    "    for i in qtycol:\n",
    "        file[i] = file[i].apply(lambda x: x.upper().strip() if type(x) == str else x)\n",
    "        file[i] = file[i].replace(\"NEW\", 0)\n",
    "        file[i] = file[i].replace(\"NEW ADD\", 0)\n",
    "        file[i] = file[i].apply(lambda x: x*1000)\n",
    "    file = file.rename(columns= {qtycol[0]: 'Single Shortage QTY', qtycol[1]: 'Prev_Single Shortage QTY'})\n",
    "\n",
    "    #replace ODM name\n",
    "    file['ODM'] = file['ODM'].replace(ODMdict)\n",
    "    return file   "
   ]
  },
  {
   "cell_type": "code",
   "execution_count": 5,
   "metadata": {},
   "outputs": [],
   "source": [
    "path = os.path.join(home, 'HP Inc','GPS TW Innovation - Documents','Project team','Project RiXin - Shortage management')\n",
    "target = Path (path,'Single shortage')\n",
    "PNFVPath = Path(home, 'HP Inc', 'GPS TW Innovation - Documents', 'Users', 'GPS', 'PN FV description mapping table_ALL.xlsx')\n",
    "ExternalReportFolder = Path(path, 'External_Destination', 'today')\n",
    "\n",
    "PNFVFile = pd.read_excel(PNFVPath)\n",
    "PNFVFile = PNFVFile [['PN', 'Descr']]\n",
    "PNFVFile = PNFVFile.rename(columns = {'PN': 'HP PN'})"
   ]
  },
  {
   "cell_type": "code",
   "execution_count": 6,
   "metadata": {},
   "outputs": [],
   "source": [
    "fileList = [str(x) for x in Path(target,'Archive').glob(\"*xlsx\")]\n",
    "fileListDateNum = [dt.strptime(x[-13:-5], \"%Y%m%d\").date() for x in fileList]\n",
    "\n",
    "errorList = []\n",
    "resultList = []"
   ]
  },
  {
   "cell_type": "code",
   "execution_count": 7,
   "metadata": {},
   "outputs": [],
   "source": [
    "lookupSGdateList = []\n",
    "i = 0\n",
    "for _ in dateRange:\n",
    "    if i == len(fileListDateNum)-1:\n",
    "        lookupSGdateList.append(fileListDateNum[i])\n",
    "        continue\n",
    "    \n",
    "    if _ < fileListDateNum[i+1]:\n",
    "        lookupSGdateList.append(fileListDateNum[i])\n",
    "    else:\n",
    "        i = i + 1\n",
    "        lookupSGdateList.append(fileListDateNum[i])"
   ]
  },
  {
   "cell_type": "code",
   "execution_count": 8,
   "metadata": {},
   "outputs": [],
   "source": [
    "dateRange = [i.strftime(\"%Y%m%d\") for i in dateRange]\n",
    "lookupSGdateList = [i.strftime(\"%Y%m%d\") for i in lookupSGdateList]"
   ]
  },
  {
   "cell_type": "code",
   "execution_count": 9,
   "metadata": {},
   "outputs": [
    {
     "data": {
      "text/plain": [
       "<zip at 0x21d4d000700>"
      ]
     },
     "execution_count": 9,
     "metadata": {},
     "output_type": "execute_result"
    }
   ],
   "source": [
    "zip(dateRange, lookupSGdateList)"
   ]
  },
  {
   "attachments": {},
   "cell_type": "markdown",
   "metadata": {},
   "source": [
    "dateList = result['reportDate'].tolist()\n",
    "max(dateList)"
   ]
  },
  {
   "cell_type": "code",
   "execution_count": 10,
   "metadata": {},
   "outputs": [],
   "source": [
    "def addKey(res: pd.DataFrame) -> tuple[list, pd.DataFrame]:\n",
    "    LatestSGMaterial = res\n",
    "    LatestSGMaterial = LatestSGMaterial.merge(PNFVFile, on = 'HP PN', how = 'left')\n",
    "    LatestSGMaterial['Key'] = LatestSGMaterial['ODM'] + LatestSGMaterial['Descr']\n",
    "    KeyList = LatestSGMaterial['Key'].tolist()\n",
    "    print(\"addKey done!\")\n",
    "    return KeyList, res"
   ]
  },
  {
   "attachments": {},
   "cell_type": "markdown",
   "metadata": {},
   "source": [
    "### concat current day external report"
   ]
  },
  {
   "cell_type": "code",
   "execution_count": 11,
   "metadata": {},
   "outputs": [],
   "source": [
    "def concatExternal(extReportPathList: list, KeyList: list) -> pd.DataFrame:\n",
    "    externalResultDFList = []\n",
    "    if not extReportPathList:\n",
    "        return \n",
    "\n",
    "    for _ in extReportPathList:\n",
    "        try: \n",
    "            temp = pd.read_excel(_)\n",
    "            temp['ODM'] = temp['ODM'].ffill()\n",
    "            temp['ODM'] = temp['ODM'].replace(ODMdict)\n",
    "            temp['FV/Des'] = temp['FV/Des'].ffill()\n",
    "            #temp['ETA'] = temp['ETA'].ffill()\n",
    "            temp['key'] = temp['ODM'] + temp['FV/Des']\n",
    "            temp = temp[temp.key.isin(KeyList)]\n",
    "            \n",
    "            try:\n",
    "                temp = temp[['ODM', 'FV/Des', 'HP_PN', 'ETA', 'GPS Remark']]\n",
    "            except:\n",
    "                temp = temp[['ODM', 'FV/Des', 'HP PN', 'ETA', 'GPS Remark']]\n",
    "                temp = temp.rename(columns = {'HP PN' : 'HP_PN'})\n",
    "                print(\"Rocky wrong format!\")\n",
    "                \n",
    "            temp = temp.groupby(['ODM', 'FV/Des']).agg({'ETA' : lambda x: '\\n'.join(set(x.dropna())),\n",
    "                                                        'GPS Remark': lambda x: '\\n'.join(set(x.dropna()))})\n",
    "            temp = temp.reset_index()\n",
    "            if len(temp) > 0:\n",
    "                print(len(temp))\n",
    "                externalResultDFList.append(temp)\n",
    "            else:\n",
    "                pass\n",
    "        except Exception as e:\n",
    "            print(e)\n",
    "            print(_)\n",
    "    try:\n",
    "        externalResultDF = pd.concat(externalResultDFList)\n",
    "    except Exception as e:\n",
    "        print(e)\n",
    "        print(\"No single shortage match!\")\n",
    "        return pd.DataFrame(columns = ['ODM', 'FV/Des', 'HP_PN', 'ETA', 'GPS Remark'])\n",
    "    print('External process done!')\n",
    "    return externalResultDF"
   ]
  },
  {
   "attachments": {},
   "cell_type": "markdown",
   "metadata": {},
   "source": [
    "### lookup PNFV and merge external reportm\n",
    "### output"
   ]
  },
  {
   "cell_type": "code",
   "execution_count": 12,
   "metadata": {},
   "outputs": [],
   "source": [
    "def mergeNoutput(SGres: pd.DataFrame, extRes: pd.DataFrame, dateStr: str) -> None:\n",
    "    SGres = SGres.merge(PNFVFile.rename(columns = {'PN': 'HP PN'}), on = 'HP PN', how = 'left')\n",
    "    print(SGres[SGres['HP PN'] == 'M83662-N13'])\n",
    "    SGres = SGres.merge(extRes.rename(columns = {'FV/Des' : 'Descr'}), on = ['ODM', 'Descr'], how = 'left')\n",
    "    SGres = SGres.drop_duplicates()\n",
    "    SGres.to_excel(Path(target, 'test','total singal shortage_' + dateStr +'.xlsx'), index = False)\n",
    "    print(\"Output done!\")\n",
    "    return SGres"
   ]
  },
  {
   "cell_type": "code",
   "execution_count": 13,
   "metadata": {},
   "outputs": [],
   "source": [
    "dateRange.reverse()"
   ]
  },
  {
   "cell_type": "code",
   "execution_count": 14,
   "metadata": {},
   "outputs": [],
   "source": [
    "lookupSGdateList.reverse()"
   ]
  },
  {
   "cell_type": "code",
   "execution_count": 15,
   "metadata": {},
   "outputs": [
    {
     "name": "stdout",
     "output_type": "stream",
     "text": [
      "2 2\n",
      "0 0\n",
      "2 2\n",
      "3 3\n",
      "0 0\n",
      "8 7\n",
      "0 1\n",
      "2 9\n"
     ]
    }
   ],
   "source": [
    "for i, j in zip(dateRange[0], lookupSGdateList[0]):\n",
    "    print(i, j)"
   ]
  },
  {
   "cell_type": "code",
   "execution_count": 16,
   "metadata": {},
   "outputs": [
    {
     "data": {
      "text/plain": [
       "'C:\\\\Users\\\\hsudu\\\\HP Inc\\\\GPS TW Innovation - Documents\\\\Project team\\\\Project RiXin - Shortage management\\\\Single shortage\\\\Single shortage 20230802.xlsx'"
      ]
     },
     "execution_count": 16,
     "metadata": {},
     "output_type": "execute_result"
    }
   ],
   "source": [
    "[f for f in glob.glob(str(Path(target, 'Single shortage ' + '*')))][-1]"
   ]
  },
  {
   "cell_type": "code",
   "execution_count": 17,
   "metadata": {},
   "outputs": [
    {
     "name": "stdout",
     "output_type": "stream",
     "text": [
      "C:\\Users\\hsudu\\HP Inc\\GPS TW Innovation - Documents\\Project team\\Project RiXin - Shortage management\\Single shortage\\Single shortage 20230802.xlsx process done!\n",
      "addKey done!\n",
      "1\n",
      "1\n",
      "1\n",
      "1\n",
      "1\n",
      "1\n",
      "1\n",
      "External process done!\n",
      "Empty DataFrame\n",
      "Columns: [Commodity, Single Shortage QTY, ODM, Series, HP PN, Prev_Single Shortage QTY, Category, Procurement type, Remark, CPU family, LastSGreportDate, reportDate, Descr]\n",
      "Index: []\n",
      "Output done!\n"
     ]
    }
   ],
   "source": [
    "et = today\n",
    "# et = '20230712'\n",
    "# sg = '20230209'\n",
    "\n",
    "fname = [f for f in glob.glob(str(Path(target, 'Single shortage ' + '*')))][-1]\n",
    "ExternalReport = [f for f in glob.glob(str(Path(ExternalReportFolder, et + '*')))]\n",
    "if not ExternalReport:\n",
    "    print(\"No external on \" + et)\n",
    "    #exit()\n",
    "\n",
    "try:\n",
    "    file = pd.read_excel(str(fname))\n",
    "    sg_res = clean(str(fname), file, et)\n",
    "    print(str(fname) + \" process done!\")\n",
    "except Exception as e:\n",
    "    errorList.append([str(fname), e])\n",
    "    print(e)\n",
    "    print(str(fname) + \" process failed!\")\n",
    "    #exit()\n",
    "\n",
    "k, sg_res = addKey(sg_res)\n",
    "ext_res = concatExternal(ExternalReport, k)\n",
    "if ext_res is None:\n",
    "    print(\"No external on \" + et)\n",
    "    #exit()\n",
    "\n",
    "sg_res = mergeNoutput(sg_res, ext_res, et)"
   ]
  },
  {
   "cell_type": "code",
   "execution_count": 18,
   "metadata": {},
   "outputs": [],
   "source": [
    "conn = pyodbc.connect('Driver={SQL Server Native Client 11.0}; Server=g7w11206g.inc.hpicorp.net; Database=CSI; Trusted_Connection=Yes;')\n",
    "cursor = conn.cursor()"
   ]
  },
  {
   "cell_type": "code",
   "execution_count": 19,
   "metadata": {},
   "outputs": [],
   "source": [
    "#sg_res = sg_res.rename(columns={'HP PN' : 'HP_PN'})"
   ]
  },
  {
   "cell_type": "code",
   "execution_count": 20,
   "metadata": {},
   "outputs": [],
   "source": [
    "sg_res['ETA'] = sg_res['ETA'].apply(lambda x: x.replace(\"'\",\"\") if type(x) == str else x)"
   ]
  },
  {
   "cell_type": "code",
   "execution_count": 21,
   "metadata": {},
   "outputs": [
    {
     "data": {
      "text/html": [
       "<div>\n",
       "<style scoped>\n",
       "    .dataframe tbody tr th:only-of-type {\n",
       "        vertical-align: middle;\n",
       "    }\n",
       "\n",
       "    .dataframe tbody tr th {\n",
       "        vertical-align: top;\n",
       "    }\n",
       "\n",
       "    .dataframe thead th {\n",
       "        text-align: right;\n",
       "    }\n",
       "</style>\n",
       "<table border=\"1\" class=\"dataframe\">\n",
       "  <thead>\n",
       "    <tr style=\"text-align: right;\">\n",
       "      <th></th>\n",
       "      <th>Commodity</th>\n",
       "      <th>Single Shortage QTY</th>\n",
       "      <th>ODM</th>\n",
       "      <th>Series</th>\n",
       "      <th>HP PN</th>\n",
       "      <th>Prev_Single Shortage QTY</th>\n",
       "      <th>Category</th>\n",
       "      <th>Procurement type</th>\n",
       "      <th>Remark</th>\n",
       "      <th>CPU family</th>\n",
       "      <th>LastSGreportDate</th>\n",
       "      <th>reportDate</th>\n",
       "      <th>Descr</th>\n",
       "      <th>ETA</th>\n",
       "      <th>GPS Remark</th>\n",
       "    </tr>\n",
       "  </thead>\n",
       "  <tbody>\n",
       "    <tr>\n",
       "      <th>0</th>\n",
       "      <td>CPU</td>\n",
       "      <td>6182.0</td>\n",
       "      <td>WHFXN</td>\n",
       "      <td>BPC</td>\n",
       "      <td>L92234-001</td>\n",
       "      <td>5315.0</td>\n",
       "      <td>BDT</td>\n",
       "      <td>B/S</td>\n",
       "      <td>WatsonIDG</td>\n",
       "      <td>Comet Lake</td>\n",
       "      <td>2023-08-02</td>\n",
       "      <td>2023-08-02</td>\n",
       "      <td>DT Intel Comet Lake i3-10100</td>\n",
       "      <td>ETA 08/04 * 1312 \\nETA 08/07 * 1791(1463 (WWSB...</td>\n",
       "      <td></td>\n",
       "    </tr>\n",
       "    <tr>\n",
       "      <th>1</th>\n",
       "      <td>CPU</td>\n",
       "      <td>46.0</td>\n",
       "      <td>WHFXN</td>\n",
       "      <td>WS</td>\n",
       "      <td>L54065-001</td>\n",
       "      <td>0.0</td>\n",
       "      <td>BDT</td>\n",
       "      <td>B/S</td>\n",
       "      <td>Sierra</td>\n",
       "      <td>CASCADELAKE</td>\n",
       "      <td>2023-08-02</td>\n",
       "      <td>2023-08-02</td>\n",
       "      <td>WS INTEL XEON CASCADELAKE-SP AU 5222</td>\n",
       "      <td>ETA 08/25*46 pcs/Intel/L54065-001 (WWSB from AMS)</td>\n",
       "      <td></td>\n",
       "    </tr>\n",
       "    <tr>\n",
       "      <th>2</th>\n",
       "      <td>GPU</td>\n",
       "      <td>1000.0</td>\n",
       "      <td>CQIEC</td>\n",
       "      <td>800s</td>\n",
       "      <td>N05293-001</td>\n",
       "      <td>0.0</td>\n",
       "      <td>BNB</td>\n",
       "      <td>B/S</td>\n",
       "      <td>ASAP Pull-in needed</td>\n",
       "      <td>NaN</td>\n",
       "      <td>2023-08-02</td>\n",
       "      <td>2023-08-02</td>\n",
       "      <td>QN20-P3-R-A1</td>\n",
       "      <td>\\nPer DSM, by 08/26 * 1340, by 08/26 * 550</td>\n",
       "      <td></td>\n",
       "    </tr>\n",
       "    <tr>\n",
       "      <th>3</th>\n",
       "      <td>Camera</td>\n",
       "      <td>1200.0</td>\n",
       "      <td>CQIEC</td>\n",
       "      <td>1000S</td>\n",
       "      <td>M53214-171</td>\n",
       "      <td>700.0</td>\n",
       "      <td>BNB</td>\n",
       "      <td>B/S</td>\n",
       "      <td>ASAP Pull-in needed</td>\n",
       "      <td>NaN</td>\n",
       "      <td>2023-08-02</td>\n",
       "      <td>2023-08-02</td>\n",
       "      <td>2F NMc MIPI-RAW 5MP IR SD NFOV - F5NRS</td>\n",
       "      <td>ETA 08/02*163 pcs/TFC/M53214-971\\nETA 08/03*54...</td>\n",
       "      <td></td>\n",
       "    </tr>\n",
       "    <tr>\n",
       "      <th>4</th>\n",
       "      <td>LCD</td>\n",
       "      <td>1900.0</td>\n",
       "      <td>CQIEC</td>\n",
       "      <td>800s</td>\n",
       "      <td>L75543-N33</td>\n",
       "      <td>900.0</td>\n",
       "      <td>BNB</td>\n",
       "      <td>B/S</td>\n",
       "      <td>ASAP Pull-in needed</td>\n",
       "      <td>NaN</td>\n",
       "      <td>2023-08-02</td>\n",
       "      <td>2023-08-02</td>\n",
       "      <td>13.3FHD AG UWVA EDP NB BENT 250N</td>\n",
       "      <td>ETA 08/04*100 pcs/IVO/L75543-N33 (pull in fr 8...</td>\n",
       "      <td></td>\n",
       "    </tr>\n",
       "    <tr>\n",
       "      <th>5</th>\n",
       "      <td>LCD</td>\n",
       "      <td>7700.0</td>\n",
       "      <td>CQIEC</td>\n",
       "      <td>OPP</td>\n",
       "      <td>M12358-3G1</td>\n",
       "      <td>0.0</td>\n",
       "      <td>CNB</td>\n",
       "      <td>B/S</td>\n",
       "      <td>ASAP Pull-in needed</td>\n",
       "      <td>NaN</td>\n",
       "      <td>2023-08-02</td>\n",
       "      <td>2023-08-02</td>\n",
       "      <td>17.3HD+ AG SVA EDP SLIMNBZ 250N</td>\n",
       "      <td>ETA 08/10*2,217 pcs/BOE/M12358-LG1 (BT)\\nETA 0...</td>\n",
       "      <td></td>\n",
       "    </tr>\n",
       "    <tr>\n",
       "      <th>6</th>\n",
       "      <td>LCD</td>\n",
       "      <td>4500.0</td>\n",
       "      <td>CQQCI</td>\n",
       "      <td>S600</td>\n",
       "      <td>L35365-331</td>\n",
       "      <td>0.0</td>\n",
       "      <td>CNB</td>\n",
       "      <td>B/S</td>\n",
       "      <td>NaN</td>\n",
       "      <td>NaN</td>\n",
       "      <td>2023-08-02</td>\n",
       "      <td>2023-08-02</td>\n",
       "      <td>13.3FHD AG UWVA EDPPSR USLMNB LP 400N</td>\n",
       "      <td>ETA 08/04*11 pcs/LGD/L35365-235 (pull in 11 fr...</td>\n",
       "      <td></td>\n",
       "    </tr>\n",
       "  </tbody>\n",
       "</table>\n",
       "</div>"
      ],
      "text/plain": [
       "  Commodity  Single Shortage QTY    ODM Series       HP PN  \\\n",
       "0       CPU               6182.0  WHFXN    BPC  L92234-001   \n",
       "1       CPU                 46.0  WHFXN     WS  L54065-001   \n",
       "2       GPU               1000.0  CQIEC   800s  N05293-001   \n",
       "3    Camera               1200.0  CQIEC  1000S  M53214-171   \n",
       "4       LCD               1900.0  CQIEC   800s  L75543-N33   \n",
       "5       LCD               7700.0  CQIEC    OPP  M12358-3G1   \n",
       "6       LCD               4500.0  CQQCI  S600   L35365-331   \n",
       "\n",
       "   Prev_Single Shortage QTY Category Procurement type               Remark  \\\n",
       "0                    5315.0      BDT              B/S            WatsonIDG   \n",
       "1                       0.0      BDT              B/S               Sierra   \n",
       "2                       0.0      BNB              B/S  ASAP Pull-in needed   \n",
       "3                     700.0      BNB              B/S  ASAP Pull-in needed   \n",
       "4                     900.0      BNB              B/S  ASAP Pull-in needed   \n",
       "5                       0.0      CNB              B/S  ASAP Pull-in needed   \n",
       "6                       0.0      CNB              B/S                  NaN   \n",
       "\n",
       "    CPU family LastSGreportDate reportDate  \\\n",
       "0   Comet Lake       2023-08-02 2023-08-02   \n",
       "1  CASCADELAKE       2023-08-02 2023-08-02   \n",
       "2          NaN       2023-08-02 2023-08-02   \n",
       "3          NaN       2023-08-02 2023-08-02   \n",
       "4          NaN       2023-08-02 2023-08-02   \n",
       "5          NaN       2023-08-02 2023-08-02   \n",
       "6          NaN       2023-08-02 2023-08-02   \n",
       "\n",
       "                                    Descr  \\\n",
       "0            DT Intel Comet Lake i3-10100   \n",
       "1    WS INTEL XEON CASCADELAKE-SP AU 5222   \n",
       "2                            QN20-P3-R-A1   \n",
       "3  2F NMc MIPI-RAW 5MP IR SD NFOV - F5NRS   \n",
       "4        13.3FHD AG UWVA EDP NB BENT 250N   \n",
       "5         17.3HD+ AG SVA EDP SLIMNBZ 250N   \n",
       "6   13.3FHD AG UWVA EDPPSR USLMNB LP 400N   \n",
       "\n",
       "                                                 ETA GPS Remark  \n",
       "0  ETA 08/04 * 1312 \\nETA 08/07 * 1791(1463 (WWSB...             \n",
       "1  ETA 08/25*46 pcs/Intel/L54065-001 (WWSB from AMS)             \n",
       "2         \\nPer DSM, by 08/26 * 1340, by 08/26 * 550             \n",
       "3  ETA 08/02*163 pcs/TFC/M53214-971\\nETA 08/03*54...             \n",
       "4  ETA 08/04*100 pcs/IVO/L75543-N33 (pull in fr 8...             \n",
       "5  ETA 08/10*2,217 pcs/BOE/M12358-LG1 (BT)\\nETA 0...             \n",
       "6  ETA 08/04*11 pcs/LGD/L35365-235 (pull in 11 fr...             "
      ]
     },
     "execution_count": 21,
     "metadata": {},
     "output_type": "execute_result"
    }
   ],
   "source": [
    "sg_res"
   ]
  },
  {
   "cell_type": "code",
   "execution_count": 22,
   "metadata": {},
   "outputs": [],
   "source": [
    "for index, row in sg_res.iterrows():\n",
    "    sg_Commodity = row['Commodity']\n",
    "    sg_Qty = row['Single Shortage QTY']\n",
    "    sg_ODM = row['ODM']\n",
    "    sg_series = row['Series']\n",
    "    sg_PN_all = row['HP PN']\n",
    "    sg_pQty = row['Prev_Single Shortage QTY']\n",
    "    sg_pTyoe = row['Procurement type']\n",
    "    sg_reportDate = row['reportDate']\n",
    "    sg_ETA = row['ETA']\n",
    "    sg_gpsRemark = row['GPS Remark']\n",
    "    sg_lastSGreportDate = row['LastSGreportDate']\n",
    "    #sg_PN_single = row['HP PN']\n",
    "\n",
    "\n",
    "    cursor.execute(f\"INSERT INTO CSI.OPS.GPS_tbl_ops_Single_shortage ( Commodity, [Single Shortage QTY], ODM, Series, [HP PN], [Prev_Single Shortage QTY], \\\n",
    "                    [Procurement type], reportDate, ETA, [GPS Remark], LastSGreportDate)\\\n",
    "                    VALUES('{sg_Commodity}','{sg_Qty}','{sg_ODM}','{sg_series}','{sg_PN_all}', '{sg_pQty}','{sg_pTyoe}','{sg_reportDate}',\\\n",
    "                           '{sg_ETA}','{sg_gpsRemark}', '{sg_lastSGreportDate}')\".replace(\"'NaT'\", \"NULL\").replace(\"'nan'\", \"NULL\"))\n",
    "\n",
    "conn.commit()\n",
    "conn.close()"
   ]
  },
  {
   "cell_type": "code",
   "execution_count": 24,
   "metadata": {},
   "outputs": [],
   "source": [
    "ExternalreportArchiveFolder = os.path.join(path, 'External_Destination', 'Archive')\n",
    "\n",
    "for f in os.listdir(ExternalReportFolder):\n",
    "    if f.endswith('.xlsx'):\n",
    "        shutil.move(os.path.join(ExternalReportFolder, f), os.path.join(ExternalreportArchiveFolder, f))\n",
    "\n",
    "for f in os.listdir(os.path.join(ExternalReportFolder, 'amend')):\n",
    "    if f.endswith('.xlsx'):\n",
    "        shutil.move(os.path.join(ExternalReportFolder, 'amend', f), os.path.join(ExternalreportArchiveFolder, f))\n"
   ]
  },
  {
   "cell_type": "code",
   "execution_count": null,
   "metadata": {},
   "outputs": [],
   "source": []
  }
 ],
 "metadata": {
  "kernelspec": {
   "display_name": "Python 3",
   "language": "python",
   "name": "python3"
  },
  "language_info": {
   "codemirror_mode": {
    "name": "ipython",
    "version": 3
   },
   "file_extension": ".py",
   "mimetype": "text/x-python",
   "name": "python",
   "nbconvert_exporter": "python",
   "pygments_lexer": "ipython3",
   "version": "3.10.4"
  },
  "orig_nbformat": 4,
  "vscode": {
   "interpreter": {
    "hash": "cadcbe1cf7f77607d04fb86883766795fe82998168b094e073d163801885097d"
   }
  }
 },
 "nbformat": 4,
 "nbformat_minor": 2
}
