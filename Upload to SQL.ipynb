{
 "cells": [
  {
   "cell_type": "code",
   "execution_count": 7,
   "metadata": {},
   "outputs": [],
   "source": [
    "import pyodbc\n",
    "import pandas as pd\n",
    "from pathlib import Path\n",
    "import glob\n",
    "import datetime\n",
    "import numpy as np\n",
    "from datetime import date\n",
    "import math"
   ]
  },
  {
   "cell_type": "code",
   "execution_count": 8,
   "metadata": {},
   "outputs": [],
   "source": [
    "# home and time\n",
    "# HI LOUIS\n",
    "home = Path.home()\n",
    "todaystr = date.today().strftime('%Y-%m-%d')"
   ]
  },
  {
   "cell_type": "code",
   "execution_count": 9,
   "metadata": {},
   "outputs": [],
   "source": [
    "conn = pyodbc.connect('Driver={SQL Server Native Client 11.0}; Server=g7w11206g.inc.hpicorp.net; Database=CSI; Trusted_Connection=Yes;')\n",
    "cursor = conn.cursor()"
   ]
  },
  {
   "cell_type": "code",
   "execution_count": 37,
   "metadata": {},
   "outputs": [],
   "source": [
    "FD_path = Path( home, \"desktop\" , 'FD_all.xlsx')\n",
    "shortage_path = Path( home, \"desktop\" , 'Shortage_all.xlsx')\n",
    "PNbasedDetail_path = Path( home, \"desktop\" , 'FD_all.xlsx')"
   ]
  },
  {
   "cell_type": "code",
   "execution_count": 38,
   "metadata": {},
   "outputs": [],
   "source": [
    "FD = pd.read_excel( FD_path, sheet_name='Sheet1' )\n",
    "shortage = pd.read_excel( shortage_path, sheet_name='Sheet1' )\n",
    "PNbasedDetail = pd.read_excel( PNbasedDetail_path, sheet_name='Sheet1' )"
   ]
  },
  {
   "cell_type": "code",
   "execution_count": 16,
   "metadata": {},
   "outputs": [],
   "source": [
    "for index, row in FD.iterrows():\n",
    "    f_ODM = row['ODM']\n",
    "    f_Item = row['Item']\n",
    "    f_Commodity = row['Commodity']\n",
    "    f_FV = row['FV']\n",
    "    f_Platform = row['Platform']\n",
    "    f_HP_PN = row['HP_PN']\n",
    "    f_Supplier = row['Supplier']\n",
    "    f_PN = row['HP PN']\n",
    "    f_ReportDate = row['ReportDate']\n",
    "    f_FDdate = row['FDdate']\n",
    "    f_FDQty = row['FDQty']\n",
    "    f_BuyerName = row['BuyerName']\n",
    "\n",
    "    cursor.execute(f\"INSERT INTO CSI.GPS.GPS_tbl_ops_fd ( ODM,Item,Commodity,FV,Platform,Supplier,[HP PN],FDdate,FDQty,Reportdate,BuyerName )\\\n",
    "                    VALUES('{f_ODM}','{f_Item}','{f_Commodity}','{f_FV}','{f_Platform}','{f_Supplier}','{f_PN}','{f_FDdate}','{f_FDQty}','{f_ReportDate}','{f_BuyerName}')\")\n",
    "conn.commit()"
   ]
  },
  {
   "cell_type": "code",
   "execution_count": 34,
   "metadata": {},
   "outputs": [],
   "source": [
    "for index, row in shortage.iterrows():\n",
    "    s_ODM = row['ODM']\n",
    "    s_Item = row['Item']\n",
    "    s_Commodity = row['Commodity']\n",
    "    s_FV = row['FV']\n",
    "    s_Platform = row['Platform']\n",
    "    s_P1 = row['P1']\n",
    "    s_P2 = row['Net P2']\n",
    "    s_P3 = row['Net P3']\n",
    "    s_Total = row['Total Shortage Qty']\n",
    "    s_BT = row['BT shortage']\n",
    "    s_working = row['Working on upside']\n",
    "    s_ReportDate = pd.to_datetime(row['ReportDate'])\n",
    "    s_FDdate = pd.to_datetime(row['last FD date'])\n",
    "    s_BuyerName = row['BuyerName']\n",
    "    s_PN = row['HP_PN']\n",
    "\n",
    "    cursor.execute(f\"INSERT INTO CSI.GPS.GPS_tbl_ops_shortage_ext ( ODM,Item,Commodity,FV,Platform,P1,[Net P2],[Net P3],[Total Shortage Qty],[BT shortage],[Working on upside],ReportDate,[last FD date],HP_PN,BuyerName )\\\n",
    "                    VALUES('{s_ODM}','{s_Item}','{s_Commodity}','{s_FV}','{s_Platform}','{s_P1}','{s_P2}','{s_P3}','{s_Total}','{s_BT}','{s_working}','{s_ReportDate}','{s_FDdate}','{s_PN}','{s_BuyerName}')\")\n",
    "    conn.commit()"
   ]
  },
  {
   "cell_type": "code",
   "execution_count": 39,
   "metadata": {},
   "outputs": [
    {
     "ename": "KeyError",
     "evalue": "'GPS Remark'",
     "output_type": "error",
     "traceback": [
      "\u001b[1;31m---------------------------------------------------------------------------\u001b[0m",
      "\u001b[1;31mKeyError\u001b[0m                                  Traceback (most recent call last)",
      "File \u001b[1;32mc:\\Users\\panj\\AppData\\Local\\Programs\\Python\\Python310\\lib\\site-packages\\pandas\\core\\indexes\\base.py:3803\u001b[0m, in \u001b[0;36mIndex.get_loc\u001b[1;34m(self, key, method, tolerance)\u001b[0m\n\u001b[0;32m   3802\u001b[0m \u001b[39mtry\u001b[39;00m:\n\u001b[1;32m-> 3803\u001b[0m     \u001b[39mreturn\u001b[39;00m \u001b[39mself\u001b[39;49m\u001b[39m.\u001b[39;49m_engine\u001b[39m.\u001b[39;49mget_loc(casted_key)\n\u001b[0;32m   3804\u001b[0m \u001b[39mexcept\u001b[39;00m \u001b[39mKeyError\u001b[39;00m \u001b[39mas\u001b[39;00m err:\n",
      "File \u001b[1;32mc:\\Users\\panj\\AppData\\Local\\Programs\\Python\\Python310\\lib\\site-packages\\pandas\\_libs\\index.pyx:138\u001b[0m, in \u001b[0;36mpandas._libs.index.IndexEngine.get_loc\u001b[1;34m()\u001b[0m\n",
      "File \u001b[1;32mc:\\Users\\panj\\AppData\\Local\\Programs\\Python\\Python310\\lib\\site-packages\\pandas\\_libs\\index.pyx:165\u001b[0m, in \u001b[0;36mpandas._libs.index.IndexEngine.get_loc\u001b[1;34m()\u001b[0m\n",
      "File \u001b[1;32mpandas\\_libs\\hashtable_class_helper.pxi:5745\u001b[0m, in \u001b[0;36mpandas._libs.hashtable.PyObjectHashTable.get_item\u001b[1;34m()\u001b[0m\n",
      "File \u001b[1;32mpandas\\_libs\\hashtable_class_helper.pxi:5753\u001b[0m, in \u001b[0;36mpandas._libs.hashtable.PyObjectHashTable.get_item\u001b[1;34m()\u001b[0m\n",
      "\u001b[1;31mKeyError\u001b[0m: 'GPS Remark'",
      "\nThe above exception was the direct cause of the following exception:\n",
      "\u001b[1;31mKeyError\u001b[0m                                  Traceback (most recent call last)",
      "Cell \u001b[1;32mIn [39], line 6\u001b[0m\n\u001b[0;32m      4\u001b[0m p_Commodity \u001b[39m=\u001b[39m row[\u001b[39m'\u001b[39m\u001b[39mCommodity\u001b[39m\u001b[39m'\u001b[39m]\n\u001b[0;32m      5\u001b[0m p_PN \u001b[39m=\u001b[39m row[\u001b[39m'\u001b[39m\u001b[39mHP PN\u001b[39m\u001b[39m'\u001b[39m]\n\u001b[1;32m----> 6\u001b[0m p_Remark \u001b[39m=\u001b[39m row[\u001b[39m'\u001b[39m\u001b[39mGPS Remark\u001b[39m\u001b[39m'\u001b[39m]\n\u001b[0;32m      7\u001b[0m p_stock \u001b[39m=\u001b[39m row[\u001b[39m'\u001b[39m\u001b[39m852 stock\u001b[39m\u001b[39m'\u001b[39m]\n\u001b[0;32m      8\u001b[0m p_change \u001b[39m=\u001b[39m row[\u001b[39m'\u001b[39m\u001b[39m852 stock change\u001b[39m\u001b[39m'\u001b[39m]\n",
      "File \u001b[1;32mc:\\Users\\panj\\AppData\\Local\\Programs\\Python\\Python310\\lib\\site-packages\\pandas\\core\\series.py:981\u001b[0m, in \u001b[0;36mSeries.__getitem__\u001b[1;34m(self, key)\u001b[0m\n\u001b[0;32m    978\u001b[0m     \u001b[39mreturn\u001b[39;00m \u001b[39mself\u001b[39m\u001b[39m.\u001b[39m_values[key]\n\u001b[0;32m    980\u001b[0m \u001b[39melif\u001b[39;00m key_is_scalar:\n\u001b[1;32m--> 981\u001b[0m     \u001b[39mreturn\u001b[39;00m \u001b[39mself\u001b[39;49m\u001b[39m.\u001b[39;49m_get_value(key)\n\u001b[0;32m    983\u001b[0m \u001b[39mif\u001b[39;00m is_hashable(key):\n\u001b[0;32m    984\u001b[0m     \u001b[39m# Otherwise index.get_value will raise InvalidIndexError\u001b[39;00m\n\u001b[0;32m    985\u001b[0m     \u001b[39mtry\u001b[39;00m:\n\u001b[0;32m    986\u001b[0m         \u001b[39m# For labels that don't resolve as scalars like tuples and frozensets\u001b[39;00m\n",
      "File \u001b[1;32mc:\\Users\\panj\\AppData\\Local\\Programs\\Python\\Python310\\lib\\site-packages\\pandas\\core\\series.py:1089\u001b[0m, in \u001b[0;36mSeries._get_value\u001b[1;34m(self, label, takeable)\u001b[0m\n\u001b[0;32m   1086\u001b[0m     \u001b[39mreturn\u001b[39;00m \u001b[39mself\u001b[39m\u001b[39m.\u001b[39m_values[label]\n\u001b[0;32m   1088\u001b[0m \u001b[39m# Similar to Index.get_value, but we do not fall back to positional\u001b[39;00m\n\u001b[1;32m-> 1089\u001b[0m loc \u001b[39m=\u001b[39m \u001b[39mself\u001b[39;49m\u001b[39m.\u001b[39;49mindex\u001b[39m.\u001b[39;49mget_loc(label)\n\u001b[0;32m   1090\u001b[0m \u001b[39mreturn\u001b[39;00m \u001b[39mself\u001b[39m\u001b[39m.\u001b[39mindex\u001b[39m.\u001b[39m_get_values_for_loc(\u001b[39mself\u001b[39m, loc, label)\n",
      "File \u001b[1;32mc:\\Users\\panj\\AppData\\Local\\Programs\\Python\\Python310\\lib\\site-packages\\pandas\\core\\indexes\\base.py:3805\u001b[0m, in \u001b[0;36mIndex.get_loc\u001b[1;34m(self, key, method, tolerance)\u001b[0m\n\u001b[0;32m   3803\u001b[0m     \u001b[39mreturn\u001b[39;00m \u001b[39mself\u001b[39m\u001b[39m.\u001b[39m_engine\u001b[39m.\u001b[39mget_loc(casted_key)\n\u001b[0;32m   3804\u001b[0m \u001b[39mexcept\u001b[39;00m \u001b[39mKeyError\u001b[39;00m \u001b[39mas\u001b[39;00m err:\n\u001b[1;32m-> 3805\u001b[0m     \u001b[39mraise\u001b[39;00m \u001b[39mKeyError\u001b[39;00m(key) \u001b[39mfrom\u001b[39;00m \u001b[39merr\u001b[39;00m\n\u001b[0;32m   3806\u001b[0m \u001b[39mexcept\u001b[39;00m \u001b[39mTypeError\u001b[39;00m:\n\u001b[0;32m   3807\u001b[0m     \u001b[39m# If we have a listlike key, _check_indexing_error will raise\u001b[39;00m\n\u001b[0;32m   3808\u001b[0m     \u001b[39m#  InvalidIndexError. Otherwise we fall through and re-raise\u001b[39;00m\n\u001b[0;32m   3809\u001b[0m     \u001b[39m#  the TypeError.\u001b[39;00m\n\u001b[0;32m   3810\u001b[0m     \u001b[39mself\u001b[39m\u001b[39m.\u001b[39m_check_indexing_error(key)\n",
      "\u001b[1;31mKeyError\u001b[0m: 'GPS Remark'"
     ]
    }
   ],
   "source": [
    "for index, row in PNbasedDetail.iterrows():\n",
    "    p_ODM = row['ODM']\n",
    "    p_Item = row['Item']\n",
    "    p_Commodity = row['Commodity']\n",
    "    p_PN = row['HP PN']\n",
    "    p_Remark = row['GPS Remark']\n",
    "    p_stock = row['852 stock']\n",
    "    p_change = row['852 stock change']\n",
    "    p_over = row['Over pull qty']\n",
    "    p_ODM1 = row['ODM use column1']\n",
    "    p_ODM2 = row['ODM use column2']\n",
    "    p_ODM3 = row['ODM use column3']\n",
    "    p_ODM4 = row['ODM use column4']\n",
    "    p_ODM5 = row['ODM use column5']\n",
    "    p_ReportDate = row['ReportDate']\n",
    "    p_BuyerName = row['BuyerName']\n",
    "\n",
    "    cursor.execute(f\"INSERT INTO CSI.GPS.GPS_tbl_ops_PNbasedDetail ( ODM,Item,Commodity,[HP PN],[GPS Remark],[852 stock],[852 stock change],[Over pull qty],\\\n",
    "                    [ODM use column1],[ODM use column2],[ODM use column3],[ODM use column4],[ODM use column5],ReportDate,BuyerName )\\\n",
    "                    VALUES('{p_ODM}','{p_Item}','{p_Commodity}','{p_PN}','{p_Remark}','{p_stock}','{p_change}','{p_over}','{p_ODM1}','{p_ODM2}','{p_ODM3}','{p_ODM4}','{p_ODM5}','{p_ReportDate}','{p_BuyerName}')\")\n",
    "conn.commit()\n",
    "conn.close()"
   ]
  }
 ],
 "metadata": {
  "kernelspec": {
   "display_name": "Python 3",
   "language": "python",
   "name": "python3"
  },
  "language_info": {
   "codemirror_mode": {
    "name": "ipython",
    "version": 3
   },
   "file_extension": ".py",
   "mimetype": "text/x-python",
   "name": "python",
   "nbconvert_exporter": "python",
   "pygments_lexer": "ipython3",
   "version": "3.10.7 (tags/v3.10.7:6cc6b13, Sep  5 2022, 14:08:36) [MSC v.1933 64 bit (AMD64)]"
  },
  "orig_nbformat": 4,
  "vscode": {
   "interpreter": {
    "hash": "d6495fecd183a99235280629cc8d0dc8cf18ed69379dc287eed47bf9ef9c1023"
   }
  }
 },
 "nbformat": 4,
 "nbformat_minor": 2
}
