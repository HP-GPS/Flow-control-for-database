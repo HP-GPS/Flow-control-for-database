{
 "cells": [
  {
   "cell_type": "code",
   "execution_count": null,
   "metadata": {},
   "outputs": [],
   "source": [
    "import pyodbc\n",
    "import pandas as pd\n",
    "from pathlib import Path\n",
    "import glob\n",
    "import datetime\n",
    "import numpy as np\n",
    "from datetime import date\n",
    "import math\n",
    "import time"
   ]
  },
  {
   "cell_type": "code",
   "execution_count": null,
   "metadata": {},
   "outputs": [],
   "source": [
    "# home and time\n",
    "# HI LOUIS\n",
    "# HELLOOOOOOOOOOOOOOOOOOOOOOOOOOOOOOOOOOOOOOO\n",
    "home = Path.home()\n",
    "todaystr = date.today().strftime('%Y-%m-%d')"
   ]
  },
  {
   "cell_type": "code",
   "execution_count": null,
   "metadata": {},
   "outputs": [],
   "source": [
    "conn = pyodbc.connect('Driver={SQL Server Native Client 11.0}; Server=g7w11206g.inc.hpicorp.net; Database=CSI; Trusted_Connection=Yes;')\n",
    "cursor = conn.cursor()"
   ]
  },
  {
   "cell_type": "code",
   "execution_count": null,
   "metadata": {},
   "outputs": [],
   "source": [
    "FD_path = Path( home, \"desktop\" , 'FD_all.xlsx')\n",
    "shortage_path = Path( home, \"desktop\" , 'Shortage_all.xlsx')\n",
    "PNbasedDetail_path = Path( home, \"desktop\" , 'FD_all.xlsx')"
   ]
  },
  {
   "cell_type": "code",
   "execution_count": null,
   "metadata": {},
   "outputs": [],
   "source": [
    "FD = pd.read_excel( FD_path, sheet_name='Sheet1' )\n",
    "shortage = pd.read_excel( shortage_path, sheet_name='Sheet1' )\n",
    "PNbasedDetail = pd.read_excel( PNbasedDetail_path, sheet_name='Sheet1' )"
   ]
  },
  {
   "cell_type": "code",
   "execution_count": null,
   "metadata": {},
   "outputs": [],
   "source": [
    "for index, row in FD.iterrows():\n",
    "    f_ODM = row['ODM']\n",
    "    f_Item = row['Item']\n",
    "    f_Commodity = row['Commodity']\n",
    "    f_FV = row['FV']\n",
    "    f_Platform = row['Platform']\n",
    "    f_HP_PN = row['HP_PN']\n",
    "    f_Supplier = row['Supplier']\n",
    "    f_PN = row['HP PN']\n",
    "    f_ReportDate = row['ReportDate']\n",
    "    f_FDdate = row['FDdate']\n",
    "    f_FDQty = row['FDQty']\n",
    "    f_BuyerName = row['BuyerName']\n",
    "    cursor.execute(f\"INSERT INTO CSI.GPS.GPS_tbl_ops_fd_temp ( ODM,Item,Commodity,FV,Platform,Supplier,[HP PN],FDdate,FDQty,Reportdate,BuyerName )\\\n",
    "                    VALUES('{f_ODM}','{f_Item}','{f_Commodity}','{f_FV}','{f_Platform}','{f_Supplier}','{f_PN}','{f_FDdate}','{f_FDQty}','{f_ReportDate}','{f_BuyerName}')\")\n",
    "\n",
    "conn.commit()"
   ]
  },
  {
   "cell_type": "code",
   "execution_count": null,
   "metadata": {},
   "outputs": [],
   "source": [
    "for index, row in shortage.iterrows():\n",
    "    s_ODM = row['ODM']\n",
    "    s_Item = row['Item']\n",
    "    s_Commodity = row['Commodity']\n",
    "    s_FV = row['FV']\n",
    "    s_Platform = row['Platform']\n",
    "    s_P1 = row['P1']\n",
    "    s_P2 = row['Net P2']\n",
    "    s_P3 = row['Net P3']\n",
    "    s_Total = row['Total Shortage Qty']\n",
    "    s_BT = row['BT shortage']\n",
    "    s_working = row['Working on upside']\n",
    "    s_ReportDate = pd.to_datetime(row['ReportDate'])\n",
    "    s_lastFDdate = pd.to_datetime(row['last FD date'])\n",
    "    s_BuyerName = row['BuyerName']\n",
    "    s_PN = row['HP_PN']\n",
    "    try: \n",
    "        cursor.execute(f\"INSERT INTO CSI.GPS.GPS_tbl_ops_shortage_ext ( ODM,Item,Commodity,FV,Platform,P1,[Net P2],[Net P3],[Total Shortage Qty],[BT shortage],[Working on upside],ReportDate,[last FD date],HP_PN,BuyerName )\\\n",
    "                        VALUES('{s_ODM}','{s_Item}','{s_Commodity}','{s_FV}','{s_Platform}','{s_P1}','{s_P2}','{s_P3}','{s_Total}','{s_BT}','{s_working}','{s_ReportDate}','{s_lastFDdate}','{s_PN}','{s_BuyerName}')\")\n",
    "    except:\n",
    "        cursor.execute(f\"INSERT INTO CSI.GPS.GPS_tbl_ops_shortage_ext ( ODM,Item,Commodity,FV,Platform,P1,[Net P2],[Net P3],[Total Shortage Qty],[BT shortage],[Working on upside],ReportDate,[last FD date],HP_PN,BuyerName )\\\n",
    "                        VALUES('{s_ODM}','{s_Item}','{s_Commodity}','{s_FV}','{s_Platform}','{s_P1}','{s_P2}','{s_P3}','{s_Total}','{s_BT}','{s_working}','{s_ReportDate}', NULL ,'{s_PN}','{s_BuyerName}')\")\n",
    "\n",
    "conn.commit()"
   ]
  },
  {
   "cell_type": "code",
   "execution_count": null,
   "metadata": {},
   "outputs": [],
   "source": [
    "for index, row in PNbasedDetail.iterrows():\n",
    "    p_ODM = row['ODM']\n",
    "    p_Item = row['Item']\n",
    "    p_Commodity = row['Commodity']\n",
    "    p_PN = row['HP PN']\n",
    "    p_Remark = row['GPS Remark']\n",
    "    p_stock = row['852 stock']\n",
    "    p_change = row['852 stock change']\n",
    "    p_over = row['Over pull qty']\n",
    "    p_ODM1 = row['ODM use column1']\n",
    "    p_ODM2 = row['ODM use column2']\n",
    "    p_ODM3 = row['ODM use column3']\n",
    "    p_ODM4 = row['ODM use column4']\n",
    "    p_ODM5 = row['ODM use column5']\n",
    "    p_ReportDate = row['ReportDate']\n",
    "    p_BuyerName = row['BuyerName']\n",
    "\n",
    "    cursor.execute(f\"INSERT INTO CSI.GPS.GPS_tbl_ops_PNbasedDetail ( ODM,Item,Commodity,[HP PN],[GPS Remark],[852 stock],[852 stock change],[Over pull qty],\\\n",
    "                    [ODM use column1],[ODM use column2],[ODM use column3],[ODM use column4],[ODM use column5],ReportDate,BuyerName )\\\n",
    "                    VALUES('{p_ODM}','{p_Item}','{p_Commodity}','{p_PN}','{p_Remark}','{p_stock}','{p_change}','{p_over}','{p_ODM1}','{p_ODM2}','{p_ODM3}','{p_ODM4}','{p_ODM5}','{p_ReportDate}','{p_BuyerName}')\")\n",
    "conn.commit()\n",
    "conn.close()"
   ]
  }
 ],
 "metadata": {
  "kernelspec": {
   "display_name": "Python 3",
   "language": "python",
   "name": "python3"
  },
  "language_info": {
   "codemirror_mode": {
    "name": "ipython",
    "version": 3
   },
   "file_extension": ".py",
   "mimetype": "text/x-python",
   "name": "python",
   "nbconvert_exporter": "python",
   "pygments_lexer": "ipython3",
   "version": "3.10.6"
  },
  "orig_nbformat": 4,
  "vscode": {
   "interpreter": {
    "hash": "aff61a50ca05787580f84e419a783e3027ed4326834427d692766cd5b4e8a2a5"
   }
  }
 },
 "nbformat": 4,
 "nbformat_minor": 2
}
