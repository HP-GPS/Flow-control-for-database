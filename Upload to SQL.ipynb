{
 "cells": [
  {
   "cell_type": "code",
   "execution_count": null,
   "metadata": {},
   "outputs": [],
   "source": [
    "import pyodbc\n",
    "import pandas as pd\n",
    "from pathlib import Path\n",
    "import glob\n",
    "import datetime\n",
    "import re\n",
    "import os\n",
    "import numpy as np\n",
    "from pandas.api.types import is_string_dtype\n",
    "from pandas.api.types import is_numeric_dtype\n",
    "from datetime import date\n",
    "import math\n"
   ]
  },
  {
   "cell_type": "code",
   "execution_count": null,
   "metadata": {},
   "outputs": [],
   "source": [
    "# home and time\n",
    "home = Path.home()\n",
    "todaystr = date.today().strftime('%Y-%m-%d')"
   ]
  },
  {
   "cell_type": "code",
   "execution_count": null,
   "metadata": {},
   "outputs": [],
   "source": [
    "conn = pyodbc.connect('Driver={SQL Server Native Client 11.0}; Server=g7w11206g.inc.hpicorp.net; Database=CSI; Trusted_Connection=Yes;')\n",
    "cursor = conn.cursor()"
   ]
  },
  {
   "cell_type": "code",
   "execution_count": null,
   "metadata": {},
   "outputs": [],
   "source": [
    "FD_path = Path( home, \"desktop\" , 'FD_all.xlsx')\n",
    "FD = pd.read_excel( FD_path, sheet_name='Sheet1' )"
   ]
  },
  {
   "cell_type": "code",
   "execution_count": null,
   "metadata": {},
   "outputs": [],
   "source": [
    "for index, row in FD.iterrows():\n",
    "    ODM = row['ODM']\n",
    "    Item = row['Item']\n",
    "    Commodity = row['Commodity']\n",
    "    FV = row['FV']\n",
    "    Platform = row['Platform']\n",
    "    HP_PN = row['HP_PN']\n",
    "    Supplier = row['Supplier']\n",
    "    PN = row['HP PN']\n",
    "    ReportDate = row['ReportDate']\n",
    "    FDdate = row['FDdate']\n",
    "    FDQty = row['FDQty']\n",
    "    BuyerName = row['BuyerName']\n",
    "\n",
    "    cursor.execute(f\"INSERT INTO CSI.GPS.GPS_tbl_ops_fd_temp ( ODM,Item,Commodity,FV,Platform,Supplier,[HP PN],FDdate,FDQty,Reportdate,BuyerName )\\\n",
    "                    VALUES('{ODM}','{Item}','{Commodity}','{FV}','{Platform}','{Supplier}','{PN}','{FDdate}','{FDQty}','{ReportDate}','{BuyerName}')\")\n",
    "conn.commit()\n",
    "conn.close()"
   ]
  }
 ],
 "metadata": {
  "kernelspec": {
   "display_name": "Python 3",
   "language": "python",
   "name": "python3"
  },
  "language_info": {
   "codemirror_mode": {
    "name": "ipython",
    "version": 3
   },
   "file_extension": ".py",
   "mimetype": "text/x-python",
   "name": "python",
   "nbconvert_exporter": "python",
   "pygments_lexer": "ipython3",
   "version": "3.10.7"
  },
  "orig_nbformat": 4,
  "vscode": {
   "interpreter": {
    "hash": "d6495fecd183a99235280629cc8d0dc8cf18ed69379dc287eed47bf9ef9c1023"
   }
  }
 },
 "nbformat": 4,
 "nbformat_minor": 2
}
