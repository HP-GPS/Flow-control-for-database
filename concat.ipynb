{
 "cells": [
  {
   "attachments": {},
   "cell_type": "markdown",
   "metadata": {},
   "source": [
    "### Import Package and set path"
   ]
  },
  {
   "cell_type": "code",
   "execution_count": 1,
   "metadata": {},
   "outputs": [],
   "source": [
    "import pandas as pd\n",
    "from pathlib import Path\n",
    "import glob\n",
    "import datetime\n",
    "\n",
    "import os\n",
    "import numpy as np\n",
    "from pandas.api.types import is_string_dtype\n",
    "from pandas.api.types import is_numeric_dtype\n",
    "from datetime import date\n",
    "import math\n",
    "import shutil"
   ]
  },
  {
   "cell_type": "code",
   "execution_count": 2,
   "metadata": {},
   "outputs": [],
   "source": [
    "# home and time\n",
    "home = os.path.expanduser(\"~\")\n",
    "todaystr = date.today().strftime('%Y-%m-%d')\n",
    "\n",
    "# set up concat directories\n",
    "targetFolder = os.path.join(home, 'HP Inc','GPSTW SOP - 2021 日新','Project team','Upload folder ( for buyer update )')\n",
    "FD_folder = os.path.join(targetFolder, \"FD_today\")\n",
    "shortage_folder = os.path.join(targetFolder ,\"shortage_today\")\n",
    "PNbasedDetail_folder = os.path.join(targetFolder ,\"PNbasedDetail_today\")"
   ]
  },
  {
   "attachments": {},
   "cell_type": "markdown",
   "metadata": {},
   "source": [
    "### Merge and clean FD"
   ]
  },
  {
   "attachments": {},
   "cell_type": "markdown",
   "metadata": {},
   "source": [
    "#### Merge"
   ]
  },
  {
   "cell_type": "code",
   "execution_count": 3,
   "metadata": {},
   "outputs": [
    {
     "name": "stdout",
     "output_type": "stream",
     "text": [
      "C:\\Users\\lulo\\HP Inc\\GPSTW SOP - 2021 日新\\Project team\\Upload folder ( for buyer update )\\FD_today\\20230104_BATTERY_CEI_ChenVivian(GPS)_FD.xlsx\n",
      "C:\\Users\\lulo\\HP Inc\\GPSTW SOP - 2021 日新\\Project team\\Upload folder ( for buyer update )\\FD_today\\20230104_BATTERY_CQQCI_ChenVivian(GPS)_FD.xlsx\n",
      "C:\\Users\\lulo\\HP Inc\\GPSTW SOP - 2021 日新\\Project team\\Upload folder ( for buyer update )\\FD_today\\20230105_BATTERY_CEI_ChenVivian(GPS)_FD.xlsx\n",
      "C:\\Users\\lulo\\HP Inc\\GPSTW SOP - 2021 日新\\Project team\\Upload folder ( for buyer update )\\FD_today\\20230105_BATTERY_CQQCI_ChenVivian(GPS)_FD.xlsx\n",
      "C:\\Users\\lulo\\HP Inc\\GPSTW SOP - 2021 日新\\Project team\\Upload folder ( for buyer update )\\FD_today\\20230106_BATTERY_CEI_ChenVivian(GPS)_FD.xlsx\n"
     ]
    }
   ],
   "source": [
    "# concat FD\n",
    "FD_files = []\n",
    "for FD_file in glob.glob(str(os.path.join(FD_folder,\"*.xlsx\"))):\n",
    "    print(FD_file)\n",
    "    FD = pd.read_excel(FD_file)\n",
    "    FD_files.append(FD)\n",
    "FD_all = pd.concat(FD_files)"
   ]
  },
  {
   "cell_type": "code",
   "execution_count": 4,
   "metadata": {},
   "outputs": [],
   "source": [
    "# remember inplace = True\n",
    "FD_all['len_FV'] = FD_all['FV'].str.len()\n",
    "FD_all['len_platform'] = FD_all['Platform'].str.len()\n",
    "FD_all = FD_all.sort_values( ['len_FV','len_platform'] , ascending = [False,False] )\n",
    "FD_all.reset_index( drop = True, inplace = True )"
   ]
  },
  {
   "attachments": {},
   "cell_type": "markdown",
   "metadata": {},
   "source": [
    "#### Move row with max len to the top row"
   ]
  },
  {
   "cell_type": "code",
   "execution_count": 5,
   "metadata": {},
   "outputs": [],
   "source": [
    "# Index where B is longest\n",
    "FD_idmax = FD_all['len_platform'].max()\n",
    "df_max = FD_all.loc[FD_all['len_platform'] == FD_idmax]\n",
    "df_max_to_add_FD = df_max.head(1)"
   ]
  },
  {
   "cell_type": "code",
   "execution_count": 6,
   "metadata": {},
   "outputs": [],
   "source": [
    "# isin用在list\n",
    "# drop the max len row\n",
    "FD_all = FD_all.drop([FD_all.index[df_max_to_add_FD.index.values[0]]]).reset_index( drop = True )"
   ]
  },
  {
   "cell_type": "code",
   "execution_count": 7,
   "metadata": {},
   "outputs": [],
   "source": [
    "# concat and put the max len row on the top\n",
    "FD_concat = [df_max_to_add_FD,FD_all]\n",
    "FD_output = pd.concat(FD_concat)\n",
    "FD_output.reset_index( drop = True , inplace = True)"
   ]
  },
  {
   "cell_type": "code",
   "execution_count": 8,
   "metadata": {},
   "outputs": [],
   "source": [
    "# cut more than 500\n",
    "FD_output['Platform'] = FD_output['Platform'].apply(lambda x: x[:450] if len(x) > 500 else x)\n",
    "FD_output = FD_output.drop( columns = ['len_FV','len_platform'])\n",
    "FD_output['Item'] = FD_output['Item'].astype(str)"
   ]
  },
  {
   "attachments": {},
   "cell_type": "markdown",
   "metadata": {},
   "source": [
    "### Merge and clean Shortage"
   ]
  },
  {
   "attachments": {},
   "cell_type": "markdown",
   "metadata": {},
   "source": [
    "#### Merge"
   ]
  },
  {
   "cell_type": "code",
   "execution_count": 9,
   "metadata": {},
   "outputs": [
    {
     "name": "stdout",
     "output_type": "stream",
     "text": [
      "C:\\Users\\lulo\\HP Inc\\GPSTW SOP - 2021 日新\\Project team\\Upload folder ( for buyer update )\\shortage_today\\20230104_BATTERY_CEI_ChenVivian(GPS)_Shortage.xlsx\n",
      "C:\\Users\\lulo\\HP Inc\\GPSTW SOP - 2021 日新\\Project team\\Upload folder ( for buyer update )\\shortage_today\\20230104_BATTERY_CQQCI_ChenVivian(GPS)_Shortage.xlsx\n",
      "C:\\Users\\lulo\\HP Inc\\GPSTW SOP - 2021 日新\\Project team\\Upload folder ( for buyer update )\\shortage_today\\20230105_BATTERY_CEI_ChenVivian(GPS)_Shortage.xlsx\n",
      "C:\\Users\\lulo\\HP Inc\\GPSTW SOP - 2021 日新\\Project team\\Upload folder ( for buyer update )\\shortage_today\\20230105_BATTERY_CQQCI_ChenVivian(GPS)_Shortage.xlsx\n",
      "C:\\Users\\lulo\\HP Inc\\GPSTW SOP - 2021 日新\\Project team\\Upload folder ( for buyer update )\\shortage_today\\20230106_BATTERY_CEI_ChenVivian(GPS)_Shortage.xlsx\n"
     ]
    }
   ],
   "source": [
    "# concat shortage\n",
    "shortage_files = []\n",
    "for shortage_file in glob.glob(str(os.path.join(shortage_folder,\"*.xlsx\"))):\n",
    "    print(shortage_file)\n",
    "    shortage = pd.read_excel(shortage_file)\n",
    "    shortage_files.append(shortage)\n",
    "shortage_all = pd.concat(shortage_files)"
   ]
  },
  {
   "cell_type": "code",
   "execution_count": 10,
   "metadata": {},
   "outputs": [],
   "source": [
    "# create value to sort \n",
    "shortage_all['len_FV'] = shortage_all['FV'].str.len()\n",
    "shortage_all['len_platform'] = shortage_all['Platform'].str.len()\n",
    "shortage_all = shortage_all.sort_values(['len_FV','len_platform'] , ascending=[False,False])\n",
    "shortage_all.reset_index( drop = True, inplace = True )"
   ]
  },
  {
   "cell_type": "code",
   "execution_count": 11,
   "metadata": {},
   "outputs": [],
   "source": [
    "try:\n",
    "    shortage_all['HP_PN'] = shortage_all['HP_PN'].apply(lambda x: x[:128] if len(x) > 128 else x)\n",
    "except:    \n",
    "    pass"
   ]
  },
  {
   "attachments": {},
   "cell_type": "markdown",
   "metadata": {},
   "source": [
    "#### Move row with max len to the top row"
   ]
  },
  {
   "cell_type": "code",
   "execution_count": 12,
   "metadata": {},
   "outputs": [
    {
     "data": {
      "text/html": [
       "<div>\n",
       "<style scoped>\n",
       "    .dataframe tbody tr th:only-of-type {\n",
       "        vertical-align: middle;\n",
       "    }\n",
       "\n",
       "    .dataframe tbody tr th {\n",
       "        vertical-align: top;\n",
       "    }\n",
       "\n",
       "    .dataframe thead th {\n",
       "        text-align: right;\n",
       "    }\n",
       "</style>\n",
       "<table border=\"1\" class=\"dataframe\">\n",
       "  <thead>\n",
       "    <tr style=\"text-align: right;\">\n",
       "      <th></th>\n",
       "      <th>ODM</th>\n",
       "      <th>Item</th>\n",
       "      <th>Commodity</th>\n",
       "      <th>FV</th>\n",
       "      <th>Platform</th>\n",
       "      <th>HP_PN</th>\n",
       "      <th>P1</th>\n",
       "      <th>Net P2</th>\n",
       "      <th>Net P3</th>\n",
       "      <th>Total Shortage Qty</th>\n",
       "      <th>BT shortage</th>\n",
       "      <th>Working on upside</th>\n",
       "      <th>ReportDate</th>\n",
       "      <th>last FD date</th>\n",
       "      <th>BuyerName</th>\n",
       "      <th>len_FV</th>\n",
       "      <th>len_platform</th>\n",
       "    </tr>\n",
       "  </thead>\n",
       "  <tbody>\n",
       "    <tr>\n",
       "      <th>0</th>\n",
       "      <td>CEI</td>\n",
       "      <td>BATT74</td>\n",
       "      <td>BATTERY</td>\n",
       "      <td>PG03052XL PL</td>\n",
       "      <td>Cyprus 1C19/Milos 1C19/Cyprus 20C1/Milos 20C1/...</td>\n",
       "      <td>L48430-2C1,L48430-2B1,L48430-AC2,L48430-2C2,L4...</td>\n",
       "      <td>1217</td>\n",
       "      <td>0</td>\n",
       "      <td>0</td>\n",
       "      <td>1217</td>\n",
       "      <td>0</td>\n",
       "      <td>1217</td>\n",
       "      <td>2023-01-04</td>\n",
       "      <td>2023-01-11</td>\n",
       "      <td>ChenVivian(GPS)</td>\n",
       "      <td>12</td>\n",
       "      <td>57</td>\n",
       "    </tr>\n",
       "  </tbody>\n",
       "</table>\n",
       "</div>"
      ],
      "text/plain": [
       "   ODM    Item Commodity            FV  \\\n",
       "0  CEI  BATT74   BATTERY  PG03052XL PL   \n",
       "\n",
       "                                            Platform  \\\n",
       "0  Cyprus 1C19/Milos 1C19/Cyprus 20C1/Milos 20C1/...   \n",
       "\n",
       "                                               HP_PN    P1  Net P2  Net P3  \\\n",
       "0  L48430-2C1,L48430-2B1,L48430-AC2,L48430-2C2,L4...  1217       0       0   \n",
       "\n",
       "   Total Shortage Qty  BT shortage  Working on upside ReportDate last FD date  \\\n",
       "0                1217            0               1217 2023-01-04   2023-01-11   \n",
       "\n",
       "         BuyerName  len_FV  len_platform  \n",
       "0  ChenVivian(GPS)      12            57  "
      ]
     },
     "execution_count": 12,
     "metadata": {},
     "output_type": "execute_result"
    }
   ],
   "source": [
    "# find the max length \n",
    "shortage_idmax = shortage_all['len_platform'].max()\n",
    "shortage_max = shortage_all.loc[shortage_all['len_platform'] == shortage_idmax]\n",
    "df_max_to_add_shortage = shortage_max.head(1)\n",
    "df_max_to_add_shortage"
   ]
  },
  {
   "cell_type": "code",
   "execution_count": 13,
   "metadata": {},
   "outputs": [],
   "source": [
    "# drop the max len row\n",
    "shortage_all = shortage_all.drop([shortage_all.index[df_max_to_add_shortage.index.values[0]]]).reset_index( drop = True )"
   ]
  },
  {
   "cell_type": "code",
   "execution_count": 14,
   "metadata": {},
   "outputs": [],
   "source": [
    "# concat and put the max len row on the top\n",
    "shortage_concat = [ df_max_to_add_shortage , shortage_all ]\n",
    "shortage_output = pd.concat(shortage_concat)\n",
    "shortage_output.reset_index( drop = True , inplace = True)"
   ]
  },
  {
   "cell_type": "code",
   "execution_count": 15,
   "metadata": {},
   "outputs": [],
   "source": [
    "# cut more than 500\n",
    "shortage_output['Platform'] = shortage_output['Platform'].apply(lambda x: x[:450] if len(x) > 500 else x)\n",
    "shortage_output = shortage_output.drop( columns= ['len_FV','len_platform'])\n",
    "shortage_output['Item'] = shortage_output['Item'].astype(str)"
   ]
  },
  {
   "attachments": {},
   "cell_type": "markdown",
   "metadata": {},
   "source": [
    "### Merge and clean PNbasedDetail"
   ]
  },
  {
   "attachments": {},
   "cell_type": "markdown",
   "metadata": {},
   "source": [
    "#### Merge"
   ]
  },
  {
   "cell_type": "code",
   "execution_count": 16,
   "metadata": {},
   "outputs": [
    {
     "name": "stdout",
     "output_type": "stream",
     "text": [
      "C:\\Users\\lulo\\HP Inc\\GPSTW SOP - 2021 日新\\Project team\\Upload folder ( for buyer update )\\PNbasedDetail_today\\20230104_BATTERY_CEI_ChenVivian(GPS)_PNbasedDetail.xlsx\n",
      "C:\\Users\\lulo\\HP Inc\\GPSTW SOP - 2021 日新\\Project team\\Upload folder ( for buyer update )\\PNbasedDetail_today\\20230104_BATTERY_CQQCI_ChenVivian(GPS)_PNbasedDetail.xlsx\n",
      "C:\\Users\\lulo\\HP Inc\\GPSTW SOP - 2021 日新\\Project team\\Upload folder ( for buyer update )\\PNbasedDetail_today\\20230105_BATTERY_CEI_ChenVivian(GPS)_PNbasedDetail.xlsx\n",
      "C:\\Users\\lulo\\HP Inc\\GPSTW SOP - 2021 日新\\Project team\\Upload folder ( for buyer update )\\PNbasedDetail_today\\20230105_BATTERY_CQQCI_ChenVivian(GPS)_PNbasedDetail.xlsx\n",
      "C:\\Users\\lulo\\HP Inc\\GPSTW SOP - 2021 日新\\Project team\\Upload folder ( for buyer update )\\PNbasedDetail_today\\20230106_BATTERY_CEI_ChenVivian(GPS)_PNbasedDetail.xlsx\n"
     ]
    }
   ],
   "source": [
    "# concat PNbasedDetail\n",
    "PNbasedDetail_files = []\n",
    "for PNbasedDetail_file in glob.glob(str(os.path.join(PNbasedDetail_folder,\"*.xlsx\"))):\n",
    "    print(PNbasedDetail_file)\n",
    "    PNbasedDetail = pd.read_excel(PNbasedDetail_file)\n",
    "    PNbasedDetail_files.append(PNbasedDetail)\n",
    "PNbasedDetail_all = pd.concat(PNbasedDetail_files)"
   ]
  },
  {
   "cell_type": "code",
   "execution_count": 17,
   "metadata": {},
   "outputs": [],
   "source": [
    "# create list to sort \n",
    "character_limit_list = ['GPS Remark','ODM use column1','ODM use column2','ODM use column3','ODM use column4','ODM use column5']\n",
    "sort_list = []\n",
    "asc_list = []\n",
    "for _ in character_limit_list:\n",
    "\n",
    "    try:\n",
    "        PNbasedDetail_all[str('len_' + _)] = PNbasedDetail_all[_].str.len()\n",
    "        sort_list.append(str('len_' + _))\n",
    "        asc_list.append(True)\n",
    "    except:    \n",
    "        pass"
   ]
  },
  {
   "attachments": {},
   "cell_type": "markdown",
   "metadata": {},
   "source": [
    "#### Move row with max len to the top row"
   ]
  },
  {
   "cell_type": "code",
   "execution_count": 18,
   "metadata": {},
   "outputs": [],
   "source": [
    "# sort value\n",
    "PNbasedDetail_all = PNbasedDetail_all.sort_values( sort_list , ascending = asc_list )\n",
    "PNbasedDetail_all.reset_index( drop=True , inplace=True ) "
   ]
  },
  {
   "cell_type": "code",
   "execution_count": 19,
   "metadata": {},
   "outputs": [],
   "source": [
    "# find the max length & concat\n",
    "PNbasedDetail_max_files = []\n",
    "\n",
    "# a for loop to calculate all the len max\n",
    "for i in range( 1 , len(sort_list) ):\n",
    "    PNbasedDetail_idmax = PNbasedDetail_all [ sort_list[i] ].max()\n",
    "    PNbasedDetail_max = PNbasedDetail_all.loc[ PNbasedDetail_all[ sort_list[i] ] == PNbasedDetail_idmax ]\n",
    "    PNbasedDetail_max_files.append( PNbasedDetail_max.head(1) )\n",
    "    df_max_to_add_PNbasedDetail_temp = pd.concat( PNbasedDetail_max_files )\n",
    "\n",
    "# sometimes with duplicates \n",
    "df_max_to_add_PNbasedDetail = df_max_to_add_PNbasedDetail_temp.drop_duplicates()"
   ]
  },
  {
   "cell_type": "code",
   "execution_count": 20,
   "metadata": {},
   "outputs": [
    {
     "data": {
      "text/html": [
       "<div>\n",
       "<style scoped>\n",
       "    .dataframe tbody tr th:only-of-type {\n",
       "        vertical-align: middle;\n",
       "    }\n",
       "\n",
       "    .dataframe tbody tr th {\n",
       "        vertical-align: top;\n",
       "    }\n",
       "\n",
       "    .dataframe thead th {\n",
       "        text-align: right;\n",
       "    }\n",
       "</style>\n",
       "<table border=\"1\" class=\"dataframe\">\n",
       "  <thead>\n",
       "    <tr style=\"text-align: right;\">\n",
       "      <th></th>\n",
       "      <th>ODM</th>\n",
       "      <th>Item</th>\n",
       "      <th>Commodity</th>\n",
       "      <th>HP PN</th>\n",
       "      <th>GPS Remark</th>\n",
       "      <th>852 stock</th>\n",
       "      <th>852 stock change</th>\n",
       "      <th>Over pull qty</th>\n",
       "      <th>ODM use column1</th>\n",
       "      <th>ODM use column2</th>\n",
       "      <th>ODM use column3</th>\n",
       "      <th>ODM use column4</th>\n",
       "      <th>ODM use column5</th>\n",
       "      <th>ReportDate</th>\n",
       "      <th>BuyerName</th>\n",
       "      <th>len_ODM use column1</th>\n",
       "      <th>len_ODM use column2</th>\n",
       "    </tr>\n",
       "  </thead>\n",
       "  <tbody>\n",
       "    <tr>\n",
       "      <th>0</th>\n",
       "      <td>CQQCI</td>\n",
       "      <td>1.0</td>\n",
       "      <td>BATTERY</td>\n",
       "      <td>L75253-1C1</td>\n",
       "      <td>NaN</td>\n",
       "      <td>0</td>\n",
       "      <td>0</td>\n",
       "      <td>0</td>\n",
       "      <td>0GB/0GI</td>\n",
       "      <td>GH02047PL-Total</td>\n",
       "      <td>NaN</td>\n",
       "      <td>NaN</td>\n",
       "      <td>NaN</td>\n",
       "      <td>2023-01-04</td>\n",
       "      <td>ChenVivian(GPS)</td>\n",
       "      <td>7.0</td>\n",
       "      <td>15.0</td>\n",
       "    </tr>\n",
       "  </tbody>\n",
       "</table>\n",
       "</div>"
      ],
      "text/plain": [
       "     ODM Item Commodity       HP PN  GPS Remark  852 stock  852 stock change  \\\n",
       "0  CQQCI  1.0   BATTERY  L75253-1C1         NaN          0                 0   \n",
       "\n",
       "   Over pull qty ODM use column1  ODM use column2  ODM use column3  \\\n",
       "0              0         0GB/0GI  GH02047PL-Total              NaN   \n",
       "\n",
       "   ODM use column4  ODM use column5 ReportDate        BuyerName  \\\n",
       "0              NaN              NaN 2023-01-04  ChenVivian(GPS)   \n",
       "\n",
       "   len_ODM use column1  len_ODM use column2  \n",
       "0                  7.0                 15.0  "
      ]
     },
     "execution_count": 20,
     "metadata": {},
     "output_type": "execute_result"
    }
   ],
   "source": [
    "# check point\n",
    "df_max_to_add_PNbasedDetail"
   ]
  },
  {
   "cell_type": "code",
   "execution_count": 21,
   "metadata": {},
   "outputs": [],
   "source": [
    "# drop the max len row\n",
    "for i in range( 0, len(df_max_to_add_PNbasedDetail.index.values)):\n",
    "    PNbasedDetail_all = PNbasedDetail_all.drop([PNbasedDetail_all.index[df_max_to_add_PNbasedDetail.index.values[i]]])"
   ]
  },
  {
   "cell_type": "code",
   "execution_count": 22,
   "metadata": {},
   "outputs": [
    {
     "data": {
      "text/html": [
       "<div>\n",
       "<style scoped>\n",
       "    .dataframe tbody tr th:only-of-type {\n",
       "        vertical-align: middle;\n",
       "    }\n",
       "\n",
       "    .dataframe tbody tr th {\n",
       "        vertical-align: top;\n",
       "    }\n",
       "\n",
       "    .dataframe thead th {\n",
       "        text-align: right;\n",
       "    }\n",
       "</style>\n",
       "<table border=\"1\" class=\"dataframe\">\n",
       "  <thead>\n",
       "    <tr style=\"text-align: right;\">\n",
       "      <th></th>\n",
       "      <th>ODM</th>\n",
       "      <th>Item</th>\n",
       "      <th>Commodity</th>\n",
       "      <th>HP PN</th>\n",
       "      <th>GPS Remark</th>\n",
       "      <th>852 stock</th>\n",
       "      <th>852 stock change</th>\n",
       "      <th>Over pull qty</th>\n",
       "      <th>ODM use column1</th>\n",
       "      <th>ODM use column2</th>\n",
       "      <th>ODM use column3</th>\n",
       "      <th>ODM use column4</th>\n",
       "      <th>ODM use column5</th>\n",
       "      <th>ReportDate</th>\n",
       "      <th>BuyerName</th>\n",
       "      <th>len_ODM use column1</th>\n",
       "      <th>len_ODM use column2</th>\n",
       "    </tr>\n",
       "  </thead>\n",
       "  <tbody>\n",
       "    <tr>\n",
       "      <th>0</th>\n",
       "      <td>CQQCI</td>\n",
       "      <td>1.0</td>\n",
       "      <td>BATTERY</td>\n",
       "      <td>L75253-1C1</td>\n",
       "      <td>NaN</td>\n",
       "      <td>0</td>\n",
       "      <td>0</td>\n",
       "      <td>0</td>\n",
       "      <td>0GB/0GI</td>\n",
       "      <td>GH02047PL-Total</td>\n",
       "      <td>NaN</td>\n",
       "      <td>NaN</td>\n",
       "      <td>NaN</td>\n",
       "      <td>2023-01-04</td>\n",
       "      <td>ChenVivian(GPS)</td>\n",
       "      <td>7.0</td>\n",
       "      <td>15.0</td>\n",
       "    </tr>\n",
       "    <tr>\n",
       "      <th>1</th>\n",
       "      <td>CQQCI</td>\n",
       "      <td>1.0</td>\n",
       "      <td>BATTERY</td>\n",
       "      <td>L75253-1C1</td>\n",
       "      <td>NaN</td>\n",
       "      <td>0</td>\n",
       "      <td>0</td>\n",
       "      <td>0</td>\n",
       "      <td>0GB/0GI</td>\n",
       "      <td>GH02047PL-Total</td>\n",
       "      <td>NaN</td>\n",
       "      <td>NaN</td>\n",
       "      <td>NaN</td>\n",
       "      <td>2023-01-05</td>\n",
       "      <td>ChenVivian(GPS)</td>\n",
       "      <td>7.0</td>\n",
       "      <td>15.0</td>\n",
       "    </tr>\n",
       "    <tr>\n",
       "      <th>2</th>\n",
       "      <td>CEI</td>\n",
       "      <td>BATT74</td>\n",
       "      <td>BATTERY</td>\n",
       "      <td>L48430-AC2</td>\n",
       "      <td>NaN</td>\n",
       "      <td>3874</td>\n",
       "      <td>0</td>\n",
       "      <td>0</td>\n",
       "      <td>NaN</td>\n",
       "      <td>NaN</td>\n",
       "      <td>NaN</td>\n",
       "      <td>NaN</td>\n",
       "      <td>NaN</td>\n",
       "      <td>2023-01-04</td>\n",
       "      <td>ChenVivian(GPS)</td>\n",
       "      <td>NaN</td>\n",
       "      <td>NaN</td>\n",
       "    </tr>\n",
       "    <tr>\n",
       "      <th>3</th>\n",
       "      <td>CEI</td>\n",
       "      <td>BATT74</td>\n",
       "      <td>BATTERY</td>\n",
       "      <td>L48430-AC2</td>\n",
       "      <td>NaN</td>\n",
       "      <td>3874</td>\n",
       "      <td>0</td>\n",
       "      <td>0</td>\n",
       "      <td>NaN</td>\n",
       "      <td>NaN</td>\n",
       "      <td>NaN</td>\n",
       "      <td>NaN</td>\n",
       "      <td>NaN</td>\n",
       "      <td>2023-01-05</td>\n",
       "      <td>ChenVivian(GPS)</td>\n",
       "      <td>NaN</td>\n",
       "      <td>NaN</td>\n",
       "    </tr>\n",
       "    <tr>\n",
       "      <th>4</th>\n",
       "      <td>CEI</td>\n",
       "      <td>BATT74</td>\n",
       "      <td>BATTERY</td>\n",
       "      <td>L48430-AC2</td>\n",
       "      <td>NaN</td>\n",
       "      <td>3692</td>\n",
       "      <td>0</td>\n",
       "      <td>0</td>\n",
       "      <td>NaN</td>\n",
       "      <td>NaN</td>\n",
       "      <td>NaN</td>\n",
       "      <td>NaN</td>\n",
       "      <td>NaN</td>\n",
       "      <td>2023-01-06</td>\n",
       "      <td>ChenVivian(GPS)</td>\n",
       "      <td>NaN</td>\n",
       "      <td>NaN</td>\n",
       "    </tr>\n",
       "  </tbody>\n",
       "</table>\n",
       "</div>"
      ],
      "text/plain": [
       "     ODM    Item Commodity       HP PN  GPS Remark  852 stock  \\\n",
       "0  CQQCI     1.0   BATTERY  L75253-1C1         NaN          0   \n",
       "1  CQQCI     1.0   BATTERY  L75253-1C1         NaN          0   \n",
       "2    CEI  BATT74   BATTERY  L48430-AC2         NaN       3874   \n",
       "3    CEI  BATT74   BATTERY  L48430-AC2         NaN       3874   \n",
       "4    CEI  BATT74   BATTERY  L48430-AC2         NaN       3692   \n",
       "\n",
       "   852 stock change  Over pull qty ODM use column1  ODM use column2  \\\n",
       "0                 0              0         0GB/0GI  GH02047PL-Total   \n",
       "1                 0              0         0GB/0GI  GH02047PL-Total   \n",
       "2                 0              0             NaN              NaN   \n",
       "3                 0              0             NaN              NaN   \n",
       "4                 0              0             NaN              NaN   \n",
       "\n",
       "   ODM use column3  ODM use column4  ODM use column5 ReportDate  \\\n",
       "0              NaN              NaN              NaN 2023-01-04   \n",
       "1              NaN              NaN              NaN 2023-01-05   \n",
       "2              NaN              NaN              NaN 2023-01-04   \n",
       "3              NaN              NaN              NaN 2023-01-05   \n",
       "4              NaN              NaN              NaN 2023-01-06   \n",
       "\n",
       "         BuyerName  len_ODM use column1  len_ODM use column2  \n",
       "0  ChenVivian(GPS)                  7.0                 15.0  \n",
       "1  ChenVivian(GPS)                  7.0                 15.0  \n",
       "2  ChenVivian(GPS)                  NaN                  NaN  \n",
       "3  ChenVivian(GPS)                  NaN                  NaN  \n",
       "4  ChenVivian(GPS)                  NaN                  NaN  "
      ]
     },
     "execution_count": 22,
     "metadata": {},
     "output_type": "execute_result"
    }
   ],
   "source": [
    "# concat and put on the top\n",
    "PNbasedDetail_concat_list = [ df_max_to_add_PNbasedDetail , PNbasedDetail_all ]\n",
    "PNbasedDetail_output = pd.concat(PNbasedDetail_concat_list).reset_index( drop = True )\n",
    "PNbasedDetail_output"
   ]
  },
  {
   "cell_type": "code",
   "execution_count": 23,
   "metadata": {},
   "outputs": [],
   "source": [
    "# cut more than 500\n",
    "for _ in character_limit_list:\n",
    "    try:\n",
    "        PNbasedDetail_output[_] = PNbasedDetail_output[_].apply(lambda x: x[:450] if len(x) > 500 else x)\n",
    "    except:    \n",
    "        pass\n"
   ]
  },
  {
   "cell_type": "code",
   "execution_count": 24,
   "metadata": {},
   "outputs": [
    {
     "data": {
      "text/html": [
       "<div>\n",
       "<style scoped>\n",
       "    .dataframe tbody tr th:only-of-type {\n",
       "        vertical-align: middle;\n",
       "    }\n",
       "\n",
       "    .dataframe tbody tr th {\n",
       "        vertical-align: top;\n",
       "    }\n",
       "\n",
       "    .dataframe thead th {\n",
       "        text-align: right;\n",
       "    }\n",
       "</style>\n",
       "<table border=\"1\" class=\"dataframe\">\n",
       "  <thead>\n",
       "    <tr style=\"text-align: right;\">\n",
       "      <th></th>\n",
       "      <th>ODM</th>\n",
       "      <th>Item</th>\n",
       "      <th>Commodity</th>\n",
       "      <th>HP PN</th>\n",
       "      <th>GPS Remark</th>\n",
       "      <th>852 stock</th>\n",
       "      <th>852 stock change</th>\n",
       "      <th>Over pull qty</th>\n",
       "      <th>ODM use column1</th>\n",
       "      <th>ODM use column2</th>\n",
       "      <th>ODM use column3</th>\n",
       "      <th>ODM use column4</th>\n",
       "      <th>ODM use column5</th>\n",
       "      <th>ReportDate</th>\n",
       "      <th>BuyerName</th>\n",
       "    </tr>\n",
       "  </thead>\n",
       "  <tbody>\n",
       "    <tr>\n",
       "      <th>0</th>\n",
       "      <td>CQQCI</td>\n",
       "      <td>1.0</td>\n",
       "      <td>BATTERY</td>\n",
       "      <td>L75253-1C1</td>\n",
       "      <td>NaN</td>\n",
       "      <td>0</td>\n",
       "      <td>0</td>\n",
       "      <td>0</td>\n",
       "      <td>0GB/0GI</td>\n",
       "      <td>GH02047PL-Total</td>\n",
       "      <td>NaN</td>\n",
       "      <td>NaN</td>\n",
       "      <td>NaN</td>\n",
       "      <td>2023-01-04</td>\n",
       "      <td>ChenVivian(GPS)</td>\n",
       "    </tr>\n",
       "    <tr>\n",
       "      <th>1</th>\n",
       "      <td>CQQCI</td>\n",
       "      <td>1.0</td>\n",
       "      <td>BATTERY</td>\n",
       "      <td>L75253-1C1</td>\n",
       "      <td>NaN</td>\n",
       "      <td>0</td>\n",
       "      <td>0</td>\n",
       "      <td>0</td>\n",
       "      <td>0GB/0GI</td>\n",
       "      <td>GH02047PL-Total</td>\n",
       "      <td>NaN</td>\n",
       "      <td>NaN</td>\n",
       "      <td>NaN</td>\n",
       "      <td>2023-01-05</td>\n",
       "      <td>ChenVivian(GPS)</td>\n",
       "    </tr>\n",
       "    <tr>\n",
       "      <th>2</th>\n",
       "      <td>CEI</td>\n",
       "      <td>BATT74</td>\n",
       "      <td>BATTERY</td>\n",
       "      <td>L48430-AC2</td>\n",
       "      <td>NaN</td>\n",
       "      <td>3874</td>\n",
       "      <td>0</td>\n",
       "      <td>0</td>\n",
       "      <td>NaN</td>\n",
       "      <td>NaN</td>\n",
       "      <td>NaN</td>\n",
       "      <td>NaN</td>\n",
       "      <td>NaN</td>\n",
       "      <td>2023-01-04</td>\n",
       "      <td>ChenVivian(GPS)</td>\n",
       "    </tr>\n",
       "    <tr>\n",
       "      <th>3</th>\n",
       "      <td>CEI</td>\n",
       "      <td>BATT74</td>\n",
       "      <td>BATTERY</td>\n",
       "      <td>L48430-AC2</td>\n",
       "      <td>NaN</td>\n",
       "      <td>3874</td>\n",
       "      <td>0</td>\n",
       "      <td>0</td>\n",
       "      <td>NaN</td>\n",
       "      <td>NaN</td>\n",
       "      <td>NaN</td>\n",
       "      <td>NaN</td>\n",
       "      <td>NaN</td>\n",
       "      <td>2023-01-05</td>\n",
       "      <td>ChenVivian(GPS)</td>\n",
       "    </tr>\n",
       "    <tr>\n",
       "      <th>4</th>\n",
       "      <td>CEI</td>\n",
       "      <td>BATT74</td>\n",
       "      <td>BATTERY</td>\n",
       "      <td>L48430-AC2</td>\n",
       "      <td>NaN</td>\n",
       "      <td>3692</td>\n",
       "      <td>0</td>\n",
       "      <td>0</td>\n",
       "      <td>NaN</td>\n",
       "      <td>NaN</td>\n",
       "      <td>NaN</td>\n",
       "      <td>NaN</td>\n",
       "      <td>NaN</td>\n",
       "      <td>2023-01-06</td>\n",
       "      <td>ChenVivian(GPS)</td>\n",
       "    </tr>\n",
       "  </tbody>\n",
       "</table>\n",
       "</div>"
      ],
      "text/plain": [
       "     ODM    Item Commodity       HP PN  GPS Remark  852 stock  \\\n",
       "0  CQQCI     1.0   BATTERY  L75253-1C1         NaN          0   \n",
       "1  CQQCI     1.0   BATTERY  L75253-1C1         NaN          0   \n",
       "2    CEI  BATT74   BATTERY  L48430-AC2         NaN       3874   \n",
       "3    CEI  BATT74   BATTERY  L48430-AC2         NaN       3874   \n",
       "4    CEI  BATT74   BATTERY  L48430-AC2         NaN       3692   \n",
       "\n",
       "   852 stock change  Over pull qty ODM use column1  ODM use column2  \\\n",
       "0                 0              0         0GB/0GI  GH02047PL-Total   \n",
       "1                 0              0         0GB/0GI  GH02047PL-Total   \n",
       "2                 0              0             NaN              NaN   \n",
       "3                 0              0             NaN              NaN   \n",
       "4                 0              0             NaN              NaN   \n",
       "\n",
       "   ODM use column3  ODM use column4  ODM use column5 ReportDate  \\\n",
       "0              NaN              NaN              NaN 2023-01-04   \n",
       "1              NaN              NaN              NaN 2023-01-05   \n",
       "2              NaN              NaN              NaN 2023-01-04   \n",
       "3              NaN              NaN              NaN 2023-01-05   \n",
       "4              NaN              NaN              NaN 2023-01-06   \n",
       "\n",
       "         BuyerName  \n",
       "0  ChenVivian(GPS)  \n",
       "1  ChenVivian(GPS)  \n",
       "2  ChenVivian(GPS)  \n",
       "3  ChenVivian(GPS)  \n",
       "4  ChenVivian(GPS)  "
      ]
     },
     "execution_count": 24,
     "metadata": {},
     "output_type": "execute_result"
    }
   ],
   "source": [
    "# final step, drop calculate step and output\n",
    "PNbasedDetail_output = PNbasedDetail_output.drop( columns = sort_list )\n",
    "PNbasedDetail_output['Item'] = PNbasedDetail_output['Item'].astype(str)\n",
    "PNbasedDetail_output"
   ]
  },
  {
   "attachments": {},
   "cell_type": "markdown",
   "metadata": {},
   "source": [
    "### Output concated FD, Shortage, and PNbasedDetail files"
   ]
  },
  {
   "cell_type": "code",
   "execution_count": 25,
   "metadata": {},
   "outputs": [],
   "source": [
    "# apache airflow to upload SQL ( currently to desktop )\n",
    "FD_output.to_excel(os.path.join(home, 'Desktop', 'FD_all.xlsx'), index=False)\n",
    "shortage_output.to_excel(os.path.join(home, 'Desktop', 'Shortage_all.xlsx'), index=False)\n",
    "PNbasedDetail_output.to_excel(os.path.join(home, 'Desktop', 'PNbasedDetail_all.xlsx'), index=False)"
   ]
  },
  {
   "cell_type": "markdown",
   "metadata": {},
   "source": [
    "### Move file to archive"
   ]
  },
  {
   "cell_type": "code",
   "execution_count": null,
   "metadata": {},
   "outputs": [],
   "source": [
    "FD_folder = os.path.join(targetFolder, \"FD_today\")\n",
    "FD_archive_folder = os.path.join(targetFolder, 'FD_Archive_After_1025')\n",
    "\n",
    "for f in os.listdir(FD_folder):\n",
    "    shutil.move(os.path.join(FD_folder, f), os.path.join(FD_archive_folder, f))\n",
    "    \n",
    "shortage_folder = os.path.join(targetFolder ,\"shortage_today\")\n",
    "shortage_archive_folder = os.path.join(targetFolder ,\"Shortage_Archive_After_1025\")\n",
    "\n",
    "for f in os.listdir(shortage_folder):\n",
    "    shutil.move(os.path.join(shortage_folder, f), os.path.join(shortage_archive_folder, f))\n",
    "\n",
    "PNbasedDetail_folder = os.path.join(targetFolder ,\"PNbasedDetail_today\")\n",
    "PNbasedDetail_archive_folder = os.path.join(targetFolder ,\"PNbasedDetail_Archive_After_1025\")\n",
    "\n",
    "for f in os.listdir(PNbasedDetail_folder):\n",
    "    shutil.move(os.path.join(PNbasedDetail_folder, f), os.path.join(PNbasedDetail_archive_folder, f))\n"
   ]
  }
 ],
 "metadata": {
  "kernelspec": {
   "display_name": "Python 3",
   "language": "python",
   "name": "python3"
  },
  "language_info": {
   "codemirror_mode": {
    "name": "ipython",
    "version": 3
   },
   "file_extension": ".py",
   "mimetype": "text/x-python",
   "name": "python",
   "nbconvert_exporter": "python",
   "pygments_lexer": "ipython3",
   "version": "3.10.6"
  },
  "orig_nbformat": 4,
  "vscode": {
   "interpreter": {
    "hash": "aff61a50ca05787580f84e419a783e3027ed4326834427d692766cd5b4e8a2a5"
   }
  }
 },
 "nbformat": 4,
 "nbformat_minor": 2
}
