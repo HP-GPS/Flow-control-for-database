{
 "cells": [
  {
   "attachments": {},
   "cell_type": "markdown",
   "metadata": {},
   "source": [
    "### Import Package and set path"
   ]
  },
  {
   "cell_type": "code",
   "execution_count": 1,
   "metadata": {},
   "outputs": [],
   "source": [
    "import pandas as pd\n",
    "import glob\n",
    "import os\n",
    "from datetime import date\n",
    "import shutil"
   ]
  },
  {
   "cell_type": "code",
   "execution_count": 2,
   "metadata": {},
   "outputs": [],
   "source": [
    "# home and time\n",
    "home = os.path.expanduser(\"~\")\n",
    "todaystr = date.today().strftime('%Y-%m-%d')\n",
    "\n",
    "# set up concat directories\n",
    "targetFolder = os.path.join(home, 'HP Inc','GPSTW SOP - 2021 日新','Project team','Upload folder ( for buyer update )')\n",
    "FD_folder = os.path.join(targetFolder, \"FD_today\")\n",
    "shortage_folder = os.path.join(targetFolder ,\"shortage_today\")\n",
    "PNbasedDetail_folder = os.path.join(targetFolder ,\"PNbasedDetail_today\")"
   ]
  },
  {
   "attachments": {},
   "cell_type": "markdown",
   "metadata": {},
   "source": [
    "### Amend data"
   ]
  },
  {
   "cell_type": "code",
   "execution_count": 3,
   "metadata": {},
   "outputs": [],
   "source": [
    "FD_amend_folder = os.path.join(targetFolder, \"FD_today\", 'amend')\n",
    "shortage_amend_folder = os.path.join(targetFolder ,\"shortage_today\",'amend')\n",
    "PNbasedDetail_amend_folder = os.path.join(targetFolder ,\"PNbasedDetail_today\",'amend')"
   ]
  },
  {
   "cell_type": "markdown",
   "metadata": {},
   "source": [
    "### Function Merge and Sort"
   ]
  },
  {
   "cell_type": "code",
   "execution_count": 4,
   "metadata": {},
   "outputs": [],
   "source": [
    "def merge(path: str) -> pd.DataFrame:\n",
    "    # concat\n",
    "    temp_file_list = []\n",
    "    for f in glob.glob(path):\n",
    "        # print(f)\n",
    "        temp_file = pd.read_excel(f)\n",
    "        temp_file_list.append(temp_file)\n",
    "    All = pd.concat(temp_file_list)\n",
    "    \n",
    "    return All"
   ]
  },
  {
   "cell_type": "code",
   "execution_count": 5,
   "metadata": {},
   "outputs": [],
   "source": [
    "def maxLen(df_all: pd.DataFrame, sort_index: list) -> pd.DataFrame:\n",
    "    # sort based on len\n",
    "    sort_list = []\n",
    "    for _ in sort_index:\n",
    "        try:\n",
    "            df_all[str('len_' + _)] = df_all[_].str.len()\n",
    "            sort_list.append(str('len_' + _))\n",
    "        except Exception as e:\n",
    "            print(e)\n",
    "    df_all = df_all.reset_index(drop = True)\n",
    "\n",
    "    max_files = []\n",
    "    for i, ele in enumerate(sort_list):\n",
    "        idmax = df_all[ele].max()\n",
    "        max = df_all[df_all[ele] == idmax]\n",
    "        max_files.append(max.head(1))\n",
    "    df_max_to_add = pd.concat(max_files).drop_duplicates()\n",
    "\n",
    "    # drop the max len row\n",
    "    for i, ele in enumerate(df_max_to_add.index.values):\n",
    "        df_all = df_all.drop([df_all.index[ele]])\n",
    "\n",
    "    # concat and put on the top\n",
    "    output = pd.concat([df_max_to_add, df_all]).reset_index( drop = True )\n",
    "\n",
    "    # cut more than 500\n",
    "    for _ in sort_index:\n",
    "        try:\n",
    "            output[_] = output[_].apply(lambda x: x[:450] if len(x) > 500 else x)\n",
    "        except Exception as e:\n",
    "            print(e)\n",
    "    \n",
    "    # final step, drop calculate step and output\n",
    "    output = output.drop(columns = sort_list)\n",
    "    output['Item'] = output['Item'].astype(str)\n",
    "\n",
    "    return output"
   ]
  },
  {
   "cell_type": "markdown",
   "metadata": {},
   "source": [
    "### Generate FD, shortage, PNDetail table"
   ]
  },
  {
   "cell_type": "code",
   "execution_count": 6,
   "metadata": {},
   "outputs": [
    {
     "name": "stdout",
     "output_type": "stream",
     "text": [
      "Can only use .str accessor with string values!\n",
      "Can only use .str accessor with string values!\n",
      "object of type 'float' has no len()\n",
      "object of type 'float' has no len()\n",
      "object of type 'float' has no len()\n",
      "object of type 'float' has no len()\n",
      "object of type 'float' has no len()\n",
      "object of type 'float' has no len()\n"
     ]
    }
   ],
   "source": [
    "FD = merge(str(os.path.join(FD_folder,\"*.xlsx\")))\n",
    "FD_output = maxLen(FD, ['FV','Platform'])\n",
    "\n",
    "\n",
    "shortage = merge(str(os.path.join(shortage_folder,\"*.xlsx\")))\n",
    "try:\n",
    "    shortage['HP_PN'] = shortage['HP_PN'].apply(lambda x: x[:128] if len(x) > 128 else x)\n",
    "except:    \n",
    "    pass\n",
    "Shortage_output = maxLen(shortage, ['FV','Platform'])\n",
    "\n",
    "\n",
    "PN = merge(str(os.path.join(PNbasedDetail_folder,\"*.xlsx\")))\n",
    "PNbasedDetail_output = maxLen(PN, ['GPS Remark','ODM use column1','ODM use column2','ODM use column3','ODM use column4','ODM use column5'])"
   ]
  },
  {
   "attachments": {},
   "cell_type": "markdown",
   "metadata": {},
   "source": [
    "### Generate amend --> FD, shortage, PNDetail table"
   ]
  },
  {
   "cell_type": "code",
   "execution_count": 7,
   "metadata": {},
   "outputs": [],
   "source": [
    "# FD_amend = merge(str(os.path.join(FD_amend_folder,\"*.xlsx\")))\n",
    "# FD_amend_output = maxLen(FD, ['FV','Platform'])\n",
    "\n",
    "\n",
    "# shortage_amend = merge(str(os.path.join(shortage_amend_folder,\"*.xlsx\")))\n",
    "# try:\n",
    "#     shortage_amend['HP_PN'] = shortage_amend['HP_PN'].apply(lambda x: x[:128] if len(x) > 128 else x)\n",
    "# except:    \n",
    "#     pass\n",
    "# Shortage_amend_output = maxLen(shortage_amend, ['FV','Platform'])\n",
    "\n",
    "\n",
    "# PN_amend = merge(str(os.path.join(PNbasedDetail_amend_folder,\"*.xlsx\")))\n",
    "# PNbasedDetail_amend_output = maxLen(PN_amend, ['GPS Remark','ODM use column1','ODM use column2','ODM use column3','ODM use column4','ODM use column5'])"
   ]
  },
  {
   "attachments": {},
   "cell_type": "markdown",
   "metadata": {},
   "source": [
    "### Output concated FD, Shortage, and PNbasedDetail files"
   ]
  },
  {
   "cell_type": "code",
   "execution_count": 8,
   "metadata": {},
   "outputs": [],
   "source": [
    "# apache airflow to upload SQL ( currently to desktop )\n",
    "FD_output.to_excel(os.path.join(home, 'Desktop', 'FD_all.xlsx'), index=False)\n",
    "Shortage_output.to_excel(os.path.join(home, 'Desktop', 'Shortage_all.xlsx'), index=False)\n",
    "PNbasedDetail_output.to_excel(os.path.join(home, 'Desktop', 'PNbasedDetail_all.xlsx'), index=False)"
   ]
  },
  {
   "attachments": {},
   "cell_type": "markdown",
   "metadata": {},
   "source": [
    "### Output concated amend FD, shortage, PNDetail"
   ]
  },
  {
   "cell_type": "code",
   "execution_count": 9,
   "metadata": {},
   "outputs": [],
   "source": [
    "# FD_amend_output.to_excel(os.path.join(home, 'Desktop', 'FD_amend_all.xlsx'), index=False)\n",
    "# Shortage_amend_output.to_excel(os.path.join(home, 'Desktop', 'Shortage_amend_all.xlsx'), index=False)\n",
    "# PNbasedDetail_amend_output.to_excel(os.path.join(home, 'Desktop', 'PNbasedDetail_amend_all.xlsx'), index=False)"
   ]
  },
  {
   "cell_type": "markdown",
   "metadata": {},
   "source": [
    "### Move file to archive"
   ]
  },
  {
   "cell_type": "code",
   "execution_count": 10,
   "metadata": {},
   "outputs": [],
   "source": [
    "FD_folder = os.path.join(targetFolder, \"FD_today\")\n",
    "FD_archive_folder = os.path.join(targetFolder, 'FD_Archive_After_1025')\n",
    "\n",
    "for f in os.listdir(FD_folder):\n",
    "    if f.endswith('.xlsx'):\n",
    "        shutil.move(os.path.join(FD_folder, f), os.path.join(FD_archive_folder, f))\n",
    "    else:\n",
    "        pass\n",
    "    \n",
    "shortage_folder = os.path.join(targetFolder ,\"shortage_today\")\n",
    "shortage_archive_folder = os.path.join(targetFolder ,\"Shortage_Archive_After_1025\")\n",
    "\n",
    "for f in os.listdir(shortage_folder):\n",
    "    if f.endswith('.xlsx'):\n",
    "        shutil.move(os.path.join(shortage_folder, f), os.path.join(shortage_archive_folder, f))\n",
    "    else:\n",
    "        pass\n",
    "\n",
    "PNbasedDetail_folder = os.path.join(targetFolder ,\"PNbasedDetail_today\")\n",
    "PNbasedDetail_archive_folder = os.path.join(targetFolder ,\"PNbasedDetail_Archive_After_1025\")\n",
    "\n",
    "for f in os.listdir(PNbasedDetail_folder):\n",
    "    if f.endswith('.xlsx'):\n",
    "        shutil.move(os.path.join(PNbasedDetail_folder, f), os.path.join(PNbasedDetail_archive_folder, f))\n",
    "    else:\n",
    "        pass\n"
   ]
  },
  {
   "attachments": {},
   "cell_type": "markdown",
   "metadata": {},
   "source": [
    "### move amend data to archive folder"
   ]
  },
  {
   "cell_type": "code",
   "execution_count": 11,
   "metadata": {},
   "outputs": [],
   "source": [
    "# for f in os.listdir(FD_amend_folder):\n",
    "#     shutil.move(os.path.join(FD_amend_folder, f), os.path.join(FD_archive_folder, f))\n",
    "\n",
    "# for f in os.listdir(shortage_amend_folder):\n",
    "#     shutil.move(os.path.join(shortage_amend_folder, f), os.path.join(shortage_archive_folder, f))\n",
    "\n",
    "# for f in os.listdir(PNbasedDetail_amend_folder):\n",
    "#     shutil.move(os.path.join(PNbasedDetail_amend_folder, f), os.path.join(PNbasedDetail_archive_folder, f))"
   ]
  }
 ],
 "metadata": {
  "kernelspec": {
   "display_name": "Python 3",
   "language": "python",
   "name": "python3"
  },
  "language_info": {
   "codemirror_mode": {
    "name": "ipython",
    "version": 3
   },
   "file_extension": ".py",
   "mimetype": "text/x-python",
   "name": "python",
   "nbconvert_exporter": "python",
   "pygments_lexer": "ipython3",
   "version": "3.10.4"
  },
  "orig_nbformat": 4,
  "vscode": {
   "interpreter": {
    "hash": "cadcbe1cf7f77607d04fb86883766795fe82998168b094e073d163801885097d"
   }
  }
 },
 "nbformat": 4,
 "nbformat_minor": 2
}
