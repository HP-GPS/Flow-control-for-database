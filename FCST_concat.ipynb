{
 "cells": [
  {
   "cell_type": "code",
   "execution_count": 1,
   "metadata": {},
   "outputs": [],
   "source": [
    "import pandas as pd\n",
    "import os\n",
    "import glob\n",
    "import numpy as np"
   ]
  },
  {
   "cell_type": "code",
   "execution_count": 3,
   "metadata": {},
   "outputs": [],
   "source": [
    "home = os.path.expanduser('~')\n",
    "source = os.path.join(home, 'HP Inc','GPSTW SOP - 2022 Newcomen','Fcst')"
   ]
  },
  {
   "cell_type": "code",
   "execution_count": 11,
   "metadata": {},
   "outputs": [
    {
     "data": {
      "text/plain": [
       "['C:\\\\Users\\\\lulo\\\\HP Inc\\\\GPSTW SOP - 2022 Newcomen\\\\Fcst\\\\AC ADAPTOR',\n",
       " 'C:\\\\Users\\\\lulo\\\\HP Inc\\\\GPSTW SOP - 2022 Newcomen\\\\Fcst\\\\AMD CPU_Chipset',\n",
       " 'C:\\\\Users\\\\lulo\\\\HP Inc\\\\GPSTW SOP - 2022 Newcomen\\\\Fcst\\\\AudioAMP',\n",
       " 'C:\\\\Users\\\\lulo\\\\HP Inc\\\\GPSTW SOP - 2022 Newcomen\\\\Fcst\\\\AudioCodec',\n",
       " 'C:\\\\Users\\\\lulo\\\\HP Inc\\\\GPSTW SOP - 2022 Newcomen\\\\Fcst\\\\BATTERY',\n",
       " 'C:\\\\Users\\\\lulo\\\\HP Inc\\\\GPSTW SOP - 2022 Newcomen\\\\Fcst\\\\CardReader',\n",
       " 'C:\\\\Users\\\\lulo\\\\HP Inc\\\\GPSTW SOP - 2022 Newcomen\\\\Fcst\\\\CONNECTOR',\n",
       " 'C:\\\\Users\\\\lulo\\\\HP Inc\\\\GPSTW SOP - 2022 Newcomen\\\\Fcst\\\\ECSIO',\n",
       " 'C:\\\\Users\\\\lulo\\\\HP Inc\\\\GPSTW SOP - 2022 Newcomen\\\\Fcst\\\\GPU',\n",
       " 'C:\\\\Users\\\\lulo\\\\HP Inc\\\\GPSTW SOP - 2022 Newcomen\\\\Fcst\\\\HDD',\n",
       " 'C:\\\\Users\\\\lulo\\\\HP Inc\\\\GPSTW SOP - 2022 Newcomen\\\\Fcst\\\\Intel CPU_Chipset',\n",
       " 'C:\\\\Users\\\\lulo\\\\HP Inc\\\\GPSTW SOP - 2022 Newcomen\\\\Fcst\\\\LanChip',\n",
       " 'C:\\\\Users\\\\lulo\\\\HP Inc\\\\GPSTW SOP - 2022 Newcomen\\\\Fcst\\\\LCD',\n",
       " 'C:\\\\Users\\\\lulo\\\\HP Inc\\\\GPSTW SOP - 2022 Newcomen\\\\Fcst\\\\MTK CPU_Chipset',\n",
       " 'C:\\\\Users\\\\lulo\\\\HP Inc\\\\GPSTW SOP - 2022 Newcomen\\\\Fcst\\\\ODD',\n",
       " 'C:\\\\Users\\\\lulo\\\\HP Inc\\\\GPSTW SOP - 2022 Newcomen\\\\Fcst\\\\POWERCORDS',\n",
       " 'C:\\\\Users\\\\lulo\\\\HP Inc\\\\GPSTW SOP - 2022 Newcomen\\\\Fcst\\\\PSU',\n",
       " 'C:\\\\Users\\\\lulo\\\\HP Inc\\\\GPSTW SOP - 2022 Newcomen\\\\Fcst\\\\SSS',\n",
       " 'C:\\\\Users\\\\lulo\\\\HP Inc\\\\GPSTW SOP - 2022 Newcomen\\\\Fcst\\\\TBT',\n",
       " 'C:\\\\Users\\\\lulo\\\\HP Inc\\\\GPSTW SOP - 2022 Newcomen\\\\Fcst\\\\TPM',\n",
       " 'C:\\\\Users\\\\lulo\\\\HP Inc\\\\GPSTW SOP - 2022 Newcomen\\\\Fcst\\\\USBIC',\n",
       " 'C:\\\\Users\\\\lulo\\\\HP Inc\\\\GPSTW SOP - 2022 Newcomen\\\\Fcst\\\\Webcam',\n",
       " 'C:\\\\Users\\\\lulo\\\\HP Inc\\\\GPSTW SOP - 2022 Newcomen\\\\Fcst\\\\WLAN',\n",
       " 'C:\\\\Users\\\\lulo\\\\HP Inc\\\\GPSTW SOP - 2022 Newcomen\\\\Fcst\\\\WWAN']"
      ]
     },
     "execution_count": 11,
     "metadata": {},
     "output_type": "execute_result"
    }
   ],
   "source": [
    "commodityfolder = []\n",
    "for i in os.listdir(source):\n",
    "    if os.path.isdir(os.path.join(source, i)):\n",
    "        commodityfolder.append(os.path.join(source, i))\n",
    "commodityfolder"
   ]
  },
  {
   "cell_type": "code",
   "execution_count": null,
   "metadata": {},
   "outputs": [],
   "source": []
  },
  {
   "cell_type": "code",
   "execution_count": 6,
   "metadata": {},
   "outputs": [
    {
     "data": {
      "text/plain": [
       "['C:\\\\Users\\\\lulo\\\\HP Inc\\\\GPSTW SOP - 2022 Newcomen\\\\Fcst\\\\AC ADAPTOR',\n",
       " 'C:\\\\Users\\\\lulo\\\\HP Inc\\\\GPSTW SOP - 2022 Newcomen\\\\Fcst\\\\AMD CPU_Chipset',\n",
       " 'C:\\\\Users\\\\lulo\\\\HP Inc\\\\GPSTW SOP - 2022 Newcomen\\\\Fcst\\\\AudioAMP',\n",
       " 'C:\\\\Users\\\\lulo\\\\HP Inc\\\\GPSTW SOP - 2022 Newcomen\\\\Fcst\\\\AudioCodec',\n",
       " 'C:\\\\Users\\\\lulo\\\\HP Inc\\\\GPSTW SOP - 2022 Newcomen\\\\Fcst\\\\BATTERY',\n",
       " 'C:\\\\Users\\\\lulo\\\\HP Inc\\\\GPSTW SOP - 2022 Newcomen\\\\Fcst\\\\CardReader',\n",
       " 'C:\\\\Users\\\\lulo\\\\HP Inc\\\\GPSTW SOP - 2022 Newcomen\\\\Fcst\\\\CONNECTOR',\n",
       " 'C:\\\\Users\\\\lulo\\\\HP Inc\\\\GPSTW SOP - 2022 Newcomen\\\\Fcst\\\\ECSIO',\n",
       " 'C:\\\\Users\\\\lulo\\\\HP Inc\\\\GPSTW SOP - 2022 Newcomen\\\\Fcst\\\\GPU',\n",
       " 'C:\\\\Users\\\\lulo\\\\HP Inc\\\\GPSTW SOP - 2022 Newcomen\\\\Fcst\\\\HDD',\n",
       " 'C:\\\\Users\\\\lulo\\\\HP Inc\\\\GPSTW SOP - 2022 Newcomen\\\\Fcst\\\\Intel CPU_Chipset',\n",
       " 'C:\\\\Users\\\\lulo\\\\HP Inc\\\\GPSTW SOP - 2022 Newcomen\\\\Fcst\\\\LanChip',\n",
       " 'C:\\\\Users\\\\lulo\\\\HP Inc\\\\GPSTW SOP - 2022 Newcomen\\\\Fcst\\\\LCD',\n",
       " 'C:\\\\Users\\\\lulo\\\\HP Inc\\\\GPSTW SOP - 2022 Newcomen\\\\Fcst\\\\MTK CPU_Chipset',\n",
       " 'C:\\\\Users\\\\lulo\\\\HP Inc\\\\GPSTW SOP - 2022 Newcomen\\\\Fcst\\\\ODD',\n",
       " 'C:\\\\Users\\\\lulo\\\\HP Inc\\\\GPSTW SOP - 2022 Newcomen\\\\Fcst\\\\POWERCORDS',\n",
       " 'C:\\\\Users\\\\lulo\\\\HP Inc\\\\GPSTW SOP - 2022 Newcomen\\\\Fcst\\\\PSU',\n",
       " 'C:\\\\Users\\\\lulo\\\\HP Inc\\\\GPSTW SOP - 2022 Newcomen\\\\Fcst\\\\RAM_SODIMM_Hynix_20221024.xlsx',\n",
       " 'C:\\\\Users\\\\lulo\\\\HP Inc\\\\GPSTW SOP - 2022 Newcomen\\\\Fcst\\\\RAM_SODIMM_Kingston_20221024.xlsx',\n",
       " 'C:\\\\Users\\\\lulo\\\\HP Inc\\\\GPSTW SOP - 2022 Newcomen\\\\Fcst\\\\RAM_SODIMM_Micron_20221024.xlsx',\n",
       " 'C:\\\\Users\\\\lulo\\\\HP Inc\\\\GPSTW SOP - 2022 Newcomen\\\\Fcst\\\\RAM_SODIMM_Nanya_20221024.xlsx',\n",
       " 'C:\\\\Users\\\\lulo\\\\HP Inc\\\\GPSTW SOP - 2022 Newcomen\\\\Fcst\\\\RAM_SODIMM_Samsung_20221024.xlsx',\n",
       " 'C:\\\\Users\\\\lulo\\\\HP Inc\\\\GPSTW SOP - 2022 Newcomen\\\\Fcst\\\\RAM_UDIMM_Hynix_20221024.xlsx',\n",
       " 'C:\\\\Users\\\\lulo\\\\HP Inc\\\\GPSTW SOP - 2022 Newcomen\\\\Fcst\\\\RAM_UDIMM_Micron_20221024.xlsx',\n",
       " 'C:\\\\Users\\\\lulo\\\\HP Inc\\\\GPSTW SOP - 2022 Newcomen\\\\Fcst\\\\RAM_UDIMM_Samsung_20221024.xlsx',\n",
       " 'C:\\\\Users\\\\lulo\\\\HP Inc\\\\GPSTW SOP - 2022 Newcomen\\\\Fcst\\\\SSS',\n",
       " 'C:\\\\Users\\\\lulo\\\\HP Inc\\\\GPSTW SOP - 2022 Newcomen\\\\Fcst\\\\TBT',\n",
       " 'C:\\\\Users\\\\lulo\\\\HP Inc\\\\GPSTW SOP - 2022 Newcomen\\\\Fcst\\\\TPM',\n",
       " 'C:\\\\Users\\\\lulo\\\\HP Inc\\\\GPSTW SOP - 2022 Newcomen\\\\Fcst\\\\TS_ALL_20221025.xlsx',\n",
       " 'C:\\\\Users\\\\lulo\\\\HP Inc\\\\GPSTW SOP - 2022 Newcomen\\\\Fcst\\\\USBIC',\n",
       " 'C:\\\\Users\\\\lulo\\\\HP Inc\\\\GPSTW SOP - 2022 Newcomen\\\\Fcst\\\\VRAM_HYNIX_20221024.xlsx',\n",
       " 'C:\\\\Users\\\\lulo\\\\HP Inc\\\\GPSTW SOP - 2022 Newcomen\\\\Fcst\\\\VRAM_MICRON_20221024.xlsx',\n",
       " 'C:\\\\Users\\\\lulo\\\\HP Inc\\\\GPSTW SOP - 2022 Newcomen\\\\Fcst\\\\VRAM_SAMSUNG_20221024.xlsx',\n",
       " 'C:\\\\Users\\\\lulo\\\\HP Inc\\\\GPSTW SOP - 2022 Newcomen\\\\Fcst\\\\Webcam',\n",
       " 'C:\\\\Users\\\\lulo\\\\HP Inc\\\\GPSTW SOP - 2022 Newcomen\\\\Fcst\\\\WLAN',\n",
       " 'C:\\\\Users\\\\lulo\\\\HP Inc\\\\GPSTW SOP - 2022 Newcomen\\\\Fcst\\\\WWAN']"
      ]
     },
     "execution_count": 6,
     "metadata": {},
     "output_type": "execute_result"
    }
   ],
   "source": [
    "glob.glob(os.path.join(source, '*'))"
   ]
  },
  {
   "cell_type": "code",
   "execution_count": null,
   "metadata": {},
   "outputs": [],
   "source": []
  }
 ],
 "metadata": {
  "kernelspec": {
   "display_name": "Python 3.10.6 64-bit",
   "language": "python",
   "name": "python3"
  },
  "language_info": {
   "codemirror_mode": {
    "name": "ipython",
    "version": 3
   },
   "file_extension": ".py",
   "mimetype": "text/x-python",
   "name": "python",
   "nbconvert_exporter": "python",
   "pygments_lexer": "ipython3",
   "version": "3.10.6"
  },
  "orig_nbformat": 4,
  "vscode": {
   "interpreter": {
    "hash": "aff61a50ca05787580f84e419a783e3027ed4326834427d692766cd5b4e8a2a5"
   }
  }
 },
 "nbformat": 4,
 "nbformat_minor": 2
}
