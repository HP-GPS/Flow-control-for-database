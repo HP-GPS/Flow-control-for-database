{
 "cells": [
  {
   "cell_type": "code",
   "execution_count": 1,
   "metadata": {},
   "outputs": [],
   "source": [
    "import pandas as pd\n",
    "from pathlib import Path\n",
    "import glob\n",
    "import datetime\n",
    "import re\n",
    "import os\n",
    "import numpy as np\n",
    "from pandas.api.types import is_string_dtype\n",
    "from pandas.api.types import is_numeric_dtype\n",
    "from datetime import date\n",
    "import math\n"
   ]
  },
  {
   "cell_type": "code",
   "execution_count": 2,
   "metadata": {},
   "outputs": [],
   "source": [
    "# home and time\n",
    "home = Path.home()\n",
    "todaystr = date.today().strftime('%Y-%m-%d')\n",
    "\n",
    "# set up concat directories\n",
    "FD_folder = Path(home, 'HP Inc','GPSTW SOP - 2021 日新','Project team','Upload folder ( event driven, run @ 5p.m. )',\"FD\",\"*.xlsx\")\n",
    "shortage_folder = Path(home, 'HP Inc','GPSTW SOP - 2021 日新','Project team','Upload folder ( event driven, run @ 5p.m. )',\"shortage\",\"*.xlsx\")\n",
    "PNbaseDetail_folder = Path(home, 'HP Inc','GPSTW SOP - 2021 日新','Project team','Upload folder ( event driven, run @ 5p.m. )',\"PNbasedDetail\",\"*.xlsx\")"
   ]
  },
  {
   "cell_type": "code",
   "execution_count": 3,
   "metadata": {},
   "outputs": [],
   "source": [
    "# concat FD\n",
    "FD_files = []\n",
    "for FD_file in glob.glob(str(Path(FD_folder))):\n",
    "    FD = pd.read_excel(FD_file)\n",
    "    FD_files.append(FD)\n",
    "FD_all = pd.concat(FD_files)\n"
   ]
  },
  {
   "cell_type": "code",
   "execution_count": 4,
   "metadata": {},
   "outputs": [],
   "source": [
    "# concat shortage\n",
    "shortage_files = []\n",
    "for shortage_file in glob.glob(str(Path(shortage_folder))):\n",
    "    shortage = pd.read_excel(FD_file)\n",
    "    shortage_files.append(FD)\n",
    "Shortage_all = pd.concat(shortage_files)"
   ]
  },
  {
   "cell_type": "code",
   "execution_count": 5,
   "metadata": {},
   "outputs": [],
   "source": [
    "# concat PNbaseDetail\n",
    "PNbasedDetail_files = []\n",
    "for PNbasedDetail_file in glob.glob(str(Path(PNbaseDetail_folder))):\n",
    "    PNbasedDetail = pd.read_excel(PNbasedDetail_file)\n",
    "    PNbasedDetail_files.append(PNbasedDetail)\n",
    "PNbaseDetail_all = pd.concat(PNbasedDetail_files)"
   ]
  },
  {
   "cell_type": "code",
   "execution_count": 6,
   "metadata": {},
   "outputs": [],
   "source": [
    "# apache airflow to upload SQL ( currently to desktop )\n",
    "FD_all.to_excel(Path(home, 'Desktop', 'FD_all.xlsx'), index=False)\n",
    "Shortage_all.to_excel(Path(home, 'Desktop', 'Shortage.xlsx'), index=False)\n",
    "PNbaseDetail_all.to_excel(Path(home, 'Desktop', 'PNbaseDetail_all.xlsx'), index=False)"
   ]
  }
 ],
 "metadata": {
  "kernelspec": {
   "display_name": "Python 3.9.12 ('base')",
   "language": "python",
   "name": "python3"
  },
  "language_info": {
   "codemirror_mode": {
    "name": "ipython",
    "version": 3
   },
   "file_extension": ".py",
   "mimetype": "text/x-python",
   "name": "python",
   "nbconvert_exporter": "python",
   "pygments_lexer": "ipython3",
   "version": "3.9.12"
  },
  "orig_nbformat": 4,
  "vscode": {
   "interpreter": {
    "hash": "0340fd9be07f79e7fee6f89041a304fd85cd99d2adddc5ff8ceed550ac7e8fe0"
   }
  }
 },
 "nbformat": 4,
 "nbformat_minor": 2
}
