{
 "cells": [
  {
   "cell_type": "code",
   "execution_count": null,
   "metadata": {},
   "outputs": [],
   "source": [
    "import pandas as pd\n",
    "from pathlib import Path\n",
    "import glob\n",
    "import datetime\n",
    "import re\n",
    "import os\n",
    "import numpy as np\n",
    "from pandas.api.types import is_string_dtype\n",
    "from pandas.api.types import is_numeric_dtype\n",
    "from datetime import date\n",
    "import math\n"
   ]
  },
  {
   "cell_type": "code",
   "execution_count": null,
   "metadata": {},
   "outputs": [],
   "source": [
    "# home and time\n",
    "home = Path.home()\n",
    "todaystr = date.today().strftime('%Y-%m-%d')\n",
    "\n",
    "# set up concat directories\n",
    "targetFolder = Path(home, 'HP Inc','GPSTW SOP - 2021 日新','Project team','Upload folder ( for buyer update )')\n",
    "FD_folder = Path(targetFolder, \"FD\",\"*.xlsx\")\n",
    "shortage_folder = Path(targetFolder ,\"shortage\",\"*.xlsx\")\n",
    "PNbaseDetail_folder = Path(targetFolder ,\"PNbasedDetail\",\"*.xlsx\")"
   ]
  },
  {
   "cell_type": "code",
   "execution_count": null,
   "metadata": {},
   "outputs": [],
   "source": [
    "# concat FD\n",
    "FD_files = []\n",
    "for FD_file in glob.glob(str(Path(FD_folder))):\n",
    "    FD = pd.read_excel(FD_file)\n",
    "    FD_files.append(FD)\n",
    "FD_all = pd.concat(FD_files)\n"
   ]
  },
  {
   "cell_type": "code",
   "execution_count": null,
   "metadata": {},
   "outputs": [],
   "source": [
    "# concat shortage\n",
    "shortage_files = []\n",
    "for shortage_file in glob.glob(str(Path(shortage_folder))):\n",
    "    shortage = pd.read_excel(shortage_file)\n",
    "    shortage_files.append(shortage)\n",
    "Shortage_all = pd.concat(shortage_files)"
   ]
  },
  {
   "cell_type": "code",
   "execution_count": null,
   "metadata": {},
   "outputs": [],
   "source": [
    "# concat PNbaseDetail\n",
    "PNbasedDetail_files = []\n",
    "for PNbasedDetail_file in glob.glob(str(Path(PNbaseDetail_folder))):\n",
    "    PNbasedDetail = pd.read_excel(PNbasedDetail_file)\n",
    "    PNbasedDetail_files.append(PNbasedDetail)\n",
    "PNbaseDetail_all = pd.concat(PNbasedDetail_files)"
   ]
  },
  {
   "cell_type": "code",
   "execution_count": null,
   "metadata": {},
   "outputs": [],
   "source": [
    "Shortage_all.head()"
   ]
  },
  {
   "cell_type": "code",
   "execution_count": null,
   "metadata": {},
   "outputs": [],
   "source": [
    "Shortage_all[(Shortage_all.P1 + Shortage_all['Net P2'] + Shortage_all['Net P3']) != Shortage_all['Total Shortage Qty']].to_excel('error.xlsx')"
   ]
  },
  {
   "cell_type": "code",
   "execution_count": null,
   "metadata": {},
   "outputs": [],
   "source": [
    "Shortage_all[(Shortage_all['ReportDate'] == Shortage_all['last FD date']) & (Shortage_all['Total Shortage Qty'] != 0)]"
   ]
  },
  {
   "cell_type": "code",
   "execution_count": null,
   "metadata": {},
   "outputs": [],
   "source": [
    "# apache airflow to upload SQL ( currently to desktop )\n",
    "FD_all.to_excel(Path(home, 'Desktop', 'FD_all.xlsx'), index=False)\n",
    "Shortage_all.to_excel(Path(home, 'Desktop', 'Shortage.xlsx'), index=False)\n",
    "PNbaseDetail_all.to_excel(Path(home, 'Desktop', 'PNbaseDetail_all.xlsx'), index=False)"
   ]
  }
 ],
 "metadata": {
  "kernelspec": {
   "display_name": "Python 3",
   "language": "python",
   "name": "python3"
  },
  "language_info": {
   "codemirror_mode": {
    "name": "ipython",
    "version": 3
   },
   "file_extension": ".py",
   "mimetype": "text/x-python",
   "name": "python",
   "nbconvert_exporter": "python",
   "pygments_lexer": "ipython3",
   "version": "3.10.6"
  },
  "orig_nbformat": 4,
  "vscode": {
   "interpreter": {
    "hash": "aff61a50ca05787580f84e419a783e3027ed4326834427d692766cd5b4e8a2a5"
   }
  }
 },
 "nbformat": 4,
 "nbformat_minor": 2
}
