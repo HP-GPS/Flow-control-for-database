{
 "cells": [
  {
   "cell_type": "code",
   "execution_count": 100,
   "metadata": {},
   "outputs": [],
   "source": [
    "import pyodbc\n",
    "import pandas as pd\n",
    "from pathlib import Path\n",
    "from datetime import date\n",
    "import numpy as np\n",
    "import win32com.client as win32"
   ]
  },
  {
   "cell_type": "code",
   "execution_count": 101,
   "metadata": {},
   "outputs": [
    {
     "data": {
      "text/plain": [
       "'2024-03-19'"
      ]
     },
     "execution_count": 101,
     "metadata": {},
     "output_type": "execute_result"
    }
   ],
   "source": [
    "today = date.today().strftime('%Y-%m-%d')\n",
    "today"
   ]
  },
  {
   "cell_type": "code",
   "execution_count": 102,
   "metadata": {},
   "outputs": [],
   "source": [
    "# testing\n",
    "# today = '2024-03-18'"
   ]
  },
  {
   "cell_type": "code",
   "execution_count": 103,
   "metadata": {},
   "outputs": [],
   "source": [
    "conn = pyodbc.connect('Driver={SQL Server Native Client 11.0}; Server=g7w11206g.inc.hpicorp.net; Database=CSI; Trusted_Connection=Yes;')\n",
    "cursor = conn.cursor()\n",
    "\n",
    "# download from SQL\n",
    "cursor.execute(f\"SELECT * FROM OPS.GPS_tbl_ops_shortage_ext where ReportDate = '{today}'\")\n",
    "shortage_ext = pd.DataFrame.from_records(cursor.fetchall(), columns = [i[0] for i in cursor.description])"
   ]
  },
  {
   "cell_type": "code",
   "execution_count": 104,
   "metadata": {},
   "outputs": [],
   "source": [
    "shortage_ext.loc[100,'P1'] = 100\n",
    "shortage_ext.loc[100,'Working on upside'] = 500\n",
    "shortage_ext.loc[100,'BT shortage'] = 500"
   ]
  },
  {
   "cell_type": "markdown",
   "metadata": {},
   "source": [
    "check last FD date is empty"
   ]
  },
  {
   "cell_type": "code",
   "execution_count": 105,
   "metadata": {},
   "outputs": [
    {
     "name": "stdout",
     "output_type": "stream",
     "text": [
      "Last FD is blank: 1\n"
     ]
    }
   ],
   "source": [
    "lastFDnull = shortage_ext[shortage_ext['last FD date'].isnull()].copy()\n",
    "lastFDnull.loc[:,'Error'] = 'Last FD is blank'\n",
    "\n",
    "print('Last FD is blank:', len(lastFDnull))"
   ]
  },
  {
   "cell_type": "markdown",
   "metadata": {},
   "source": [
    "P1~P3 sum <> total shortage"
   ]
  },
  {
   "cell_type": "code",
   "execution_count": 106,
   "metadata": {},
   "outputs": [
    {
     "name": "stdout",
     "output_type": "stream",
     "text": [
      "P1~P3 sum != total shortage: 1\n"
     ]
    }
   ],
   "source": [
    "QtyMismatch = []\n",
    "for i, row in shortage_ext.iterrows():\n",
    "    P123 = row['P1'] + row['Net P2'] + row['Net P3']\n",
    "    total = row['Total Shortage Qty'] \n",
    "    if P123 != total:\n",
    "        QtyMismatch.append(row)\n",
    "    else:\n",
    "        pass\n",
    "\n",
    "if len(QtyMismatch) > 0:\n",
    "    df_QtyMismatch = pd.DataFrame(QtyMismatch)\n",
    "    df_QtyMismatch['Error'] = 'P1~P3 sum <> total shortage'\n",
    "else:\n",
    "    df_QtyMismatch = pd.DataFrame()\n",
    "\n",
    "print(f'P1~P3 sum != total shortage: {len(QtyMismatch)}')\n"
   ]
  },
  {
   "cell_type": "markdown",
   "metadata": {},
   "source": [
    "BT > P1"
   ]
  },
  {
   "cell_type": "code",
   "execution_count": 107,
   "metadata": {},
   "outputs": [
    {
     "name": "stdout",
     "output_type": "stream",
     "text": [
      "BT shortage > P1: 1\n"
     ]
    }
   ],
   "source": [
    "BT_P1 = []\n",
    "for i, row in shortage_ext.iterrows():\n",
    "    BT = row['BT shortage']\n",
    "    P1 = row['P1'] \n",
    "    if BT > P1:\n",
    "        BT_P1.append(row)\n",
    "    else:\n",
    "        pass\n",
    "\n",
    "if len(BT_P1) > 0:\n",
    "    df_BT_P1 = pd.DataFrame(BT_P1)\n",
    "    df_BT_P1['Error'] = 'BT shortage > P1'\n",
    "else:\n",
    "    df_BT_P1 = pd.DataFrame()\n",
    "\n",
    "print('BT shortage > P1:', len(BT_P1))\n"
   ]
  },
  {
   "cell_type": "markdown",
   "metadata": {},
   "source": [
    "BT > total shortage"
   ]
  },
  {
   "cell_type": "code",
   "execution_count": 108,
   "metadata": {},
   "outputs": [
    {
     "name": "stdout",
     "output_type": "stream",
     "text": [
      "BT > total: 1\n"
     ]
    }
   ],
   "source": [
    "BT_total = []\n",
    "for i, row in shortage_ext.iterrows():\n",
    "    BT = row['BT shortage']\n",
    "    total = row['Total Shortage Qty'] \n",
    "    if BT > total:\n",
    "        BT_total.append(row)\n",
    "    else:\n",
    "        pass\n",
    "\n",
    "if len(BT_total) > 0:\n",
    "    df_BT_total = pd.DataFrame(BT_total)\n",
    "    df_BT_total['Error'] = 'BT shortage > Total shortage'\n",
    "else:\n",
    "    df_BT_total = pd.DataFrame()\n",
    "\n",
    "print('BT > total:', len(BT_total))"
   ]
  },
  {
   "cell_type": "markdown",
   "metadata": {},
   "source": [
    "working on upside > total shortage"
   ]
  },
  {
   "cell_type": "code",
   "execution_count": 109,
   "metadata": {},
   "outputs": [
    {
     "name": "stdout",
     "output_type": "stream",
     "text": [
      "upside > total: 1\n"
     ]
    }
   ],
   "source": [
    "upside_total = []\n",
    "for i, row in shortage_ext.iterrows():\n",
    "    upside = row['Working on upside']\n",
    "    total = row['Total Shortage Qty'] \n",
    "    if upside > total:\n",
    "        upside_total.append(row)\n",
    "    else:\n",
    "        pass\n",
    "\n",
    "if len(upside_total) > 0:\n",
    "    df_upside_total = pd.DataFrame(upside_total)\n",
    "    df_upside_total['Error'] = 'Working on upside > Total shortage'\n",
    "else:\n",
    "    df_upside_total = pd.DataFrame()\n",
    "\n",
    "print('upside > total:', len(upside_total))"
   ]
  },
  {
   "cell_type": "code",
   "execution_count": 110,
   "metadata": {},
   "outputs": [],
   "source": [
    "try:\n",
    "    error_all = pd.concat([lastFDnull, df_QtyMismatch, df_BT_P1, df_BT_total, df_upside_total], axis=0)\n",
    "    error_all['P1'] = error_all['P1'].astype(int)\n",
    "    error_all['Net P2'] = error_all['Net P2'].astype(int)\n",
    "    error_all['Net P3'] = error_all['Net P3'].astype(int)\n",
    "    error_all['BT shortage'] = error_all['BT shortage'].astype(int)\n",
    "    error_all['Working on upside'] = error_all['Working on upside'].astype(int)\n",
    "    error_all['Total Shortage Qty'] = error_all['Total Shortage Qty'].astype(int)\n",
    "except:\n",
    "    error_all = pd.DataFrame()\n",
    "    print('No error found')\n"
   ]
  },
  {
   "cell_type": "code",
   "execution_count": 111,
   "metadata": {},
   "outputs": [],
   "source": [
    "if len(error_all) > 0:\n",
    "    To_list = 'gps.taiwan.nb.buy-sell@hp.com'\n",
    "    CC_list = 'spencer.cheng1@hp.com; dustin.hsu1@hp.com'\n",
    "    mail = win32.Dispatch(\"Outlook.Application\").CreateItem(0)\n",
    "    mail.To = To_list\n",
    "    mail.CC = CC_list\n",
    "    mail.Subject = '<' + today + '> Shortage dashboard issue'\n",
    "    message = 'Hi team,<br><br>\\\n",
    "    Please find below issues found in the latest shortage data.<br> Please use transformation tool to revise your data.<br><br>' + error_all.to_html(index=False) \n",
    "    mail.GetInspector \n",
    "    index = mail.HTMLbody.find('>', mail.HTMLbody.find('<body')) \n",
    "    mail.HTMLBody = mail.HTMLbody[:index + 1] + message + mail.HTMLbody[index + 1:] \n",
    "    mail.display()\n",
    "else:\n",
    "    print('No error found, no email sent')"
   ]
  },
  {
   "cell_type": "code",
   "execution_count": null,
   "metadata": {},
   "outputs": [],
   "source": []
  }
 ],
 "metadata": {
  "kernelspec": {
   "display_name": "Python 3",
   "language": "python",
   "name": "python3"
  },
  "language_info": {
   "codemirror_mode": {
    "name": "ipython",
    "version": 3
   },
   "file_extension": ".py",
   "mimetype": "text/x-python",
   "name": "python",
   "nbconvert_exporter": "python",
   "pygments_lexer": "ipython3",
   "version": "3.10.4"
  }
 },
 "nbformat": 4,
 "nbformat_minor": 2
}
