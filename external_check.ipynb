{
 "cells": [
  {
   "cell_type": "markdown",
   "metadata": {},
   "source": [
    "### Check data correctness"
   ]
  },
  {
   "cell_type": "code",
   "execution_count": 25,
   "metadata": {},
   "outputs": [],
   "source": [
    "import pyodbc\n",
    "import pandas as pd\n",
    "from pathlib import Path\n",
    "from datetime import date\n",
    "import numpy as np\n",
    "import win32com.client as win32\n",
    "\n",
    "today = date.today().strftime('%Y-%m-%d')\n",
    "# today = '2024-03-22'"
   ]
  },
  {
   "cell_type": "code",
   "execution_count": 26,
   "metadata": {},
   "outputs": [],
   "source": [
    "# connection\n",
    "conn = pyodbc.connect('Driver={SQL Server Native Client 11.0}; Server=g7w11206g.inc.hpicorp.net; Database=CSI; Trusted_Connection=Yes;')\n",
    "cursor = conn.cursor()\n",
    "\n",
    "# download shortge from SQL\n",
    "cursor.execute(f\"SELECT * FROM OPS.GPS_tbl_ops_shortage_ext where ReportDate = '{today}'\")\n",
    "shortage_ext = pd.DataFrame.from_records(cursor.fetchall(), columns = [i[0] for i in cursor.description])\n",
    "shortage_ext['HP_PN'] = shortage_ext['HP_PN'].str.replace('\\n', ',', regex=False)\n",
    "shortage_ext['FV'] = shortage_ext['FV'].str.replace('\\n', ',', regex=False)\n",
    "\n",
    "# download PNFV from SQL\n",
    "cursor.execute(\"SELECT * FROM OPS.GPS_tbl_ops_PN_FV\")\n",
    "PNFV = pd.DataFrame.from_records(cursor.fetchall(), columns = [i[0] for i in cursor.description])\n",
    "PNFV = PNFV.rename({'Descr':'FV'})"
   ]
  },
  {
   "cell_type": "markdown",
   "metadata": {},
   "source": [
    "#### Check last FD date is empty"
   ]
  },
  {
   "cell_type": "code",
   "execution_count": 27,
   "metadata": {},
   "outputs": [],
   "source": [
    "# create the last FD null row\n",
    "lastFDnull = shortage_ext[shortage_ext['last FD date'].isnull()].copy()\n",
    "\n",
    "if len(lastFDnull)>0:\n",
    "    lastFDnull['Issue'] = 'Last FD is blank'\n",
    "    lastFDnull['last FD date'] = 'Blank'\n",
    "    print('Last FD is blank:', len(lastFDnull))\n",
    "else:\n",
    "    lastFDnull = pd.DataFrame()"
   ]
  },
  {
   "cell_type": "markdown",
   "metadata": {},
   "source": [
    "#### Check P1~P3 sum <> total shortage"
   ]
  },
  {
   "cell_type": "code",
   "execution_count": 28,
   "metadata": {},
   "outputs": [
    {
     "name": "stdout",
     "output_type": "stream",
     "text": [
      "P1~P3 sum != total shortage: 0\n"
     ]
    }
   ],
   "source": [
    "# P1 + P2 + P3 != Total\n",
    "QtyMismatch = []\n",
    "for i, row in shortage_ext.iterrows():\n",
    "    P123 = row['P1'] + row['Net P2'] + row['Net P3']\n",
    "    total = row['Total Shortage Qty'] \n",
    "    if P123 != total:\n",
    "        QtyMismatch.append(row)\n",
    "    else:\n",
    "        pass\n",
    "\n",
    "if len(QtyMismatch) > 0:\n",
    "    df_QtyMismatch = pd.DataFrame(QtyMismatch)\n",
    "    df_QtyMismatch['Issue'] = 'P1~P3 sum <> total shortage'\n",
    "else:\n",
    "    df_QtyMismatch = pd.DataFrame()\n",
    "\n",
    "print(f'P1~P3 sum != total shortage: {len(QtyMismatch)}')"
   ]
  },
  {
   "cell_type": "markdown",
   "metadata": {},
   "source": [
    "#### Check BT > P1"
   ]
  },
  {
   "cell_type": "code",
   "execution_count": 29,
   "metadata": {},
   "outputs": [
    {
     "name": "stdout",
     "output_type": "stream",
     "text": [
      "BT shortage > P1: 0\n"
     ]
    }
   ],
   "source": [
    "# BT qty > P1\n",
    "BT_P1 = []\n",
    "for i, row in shortage_ext.iterrows():\n",
    "    BT = row['BT shortage']\n",
    "    P1 = row['P1'] \n",
    "    if BT > P1:\n",
    "        BT_P1.append(row)\n",
    "    else:\n",
    "        pass\n",
    "\n",
    "if len(BT_P1) > 0:\n",
    "    df_BT_P1 = pd.DataFrame(BT_P1)\n",
    "    df_BT_P1['Issue'] = 'BT shortage > P1'\n",
    "else:\n",
    "    df_BT_P1 = pd.DataFrame()\n",
    "\n",
    "print('BT shortage > P1:', len(BT_P1))"
   ]
  },
  {
   "cell_type": "markdown",
   "metadata": {},
   "source": [
    "#### Check BT > total shortage"
   ]
  },
  {
   "cell_type": "code",
   "execution_count": 30,
   "metadata": {},
   "outputs": [
    {
     "name": "stdout",
     "output_type": "stream",
     "text": [
      "BT > total: 0\n"
     ]
    }
   ],
   "source": [
    "# BT > total shortage\n",
    "BT_total = []\n",
    "for i, row in shortage_ext.iterrows():\n",
    "    BT = row['BT shortage']\n",
    "    total = row['Total Shortage Qty'] \n",
    "    if BT > total:\n",
    "        BT_total.append(row)\n",
    "    else:\n",
    "        pass\n",
    "\n",
    "if len(BT_total) > 0:\n",
    "    df_BT_total = pd.DataFrame(BT_total)\n",
    "    df_BT_total['Issue'] = 'BT shortage > Total shortage'\n",
    "else:\n",
    "    df_BT_total = pd.DataFrame()\n",
    "\n",
    "print('BT > total:', len(BT_total))"
   ]
  },
  {
   "cell_type": "markdown",
   "metadata": {},
   "source": [
    "#### Check working on upside > total shortage"
   ]
  },
  {
   "cell_type": "code",
   "execution_count": 31,
   "metadata": {},
   "outputs": [
    {
     "name": "stdout",
     "output_type": "stream",
     "text": [
      "upside > total: 0\n"
     ]
    }
   ],
   "source": [
    "# working on upside > total shortage\n",
    "upside_total = []\n",
    "for i, row in shortage_ext.iterrows():\n",
    "    upside = row['Working on upside']\n",
    "    total = row['Total Shortage Qty'] \n",
    "    if upside > total:\n",
    "        upside_total.append(row)\n",
    "    else:\n",
    "        pass\n",
    "\n",
    "if len(upside_total) > 0:\n",
    "    df_upside_total = pd.DataFrame(upside_total)\n",
    "    df_upside_total['Issue'] = 'Working on upside > Total shortage'\n",
    "else:\n",
    "    df_upside_total = pd.DataFrame()\n",
    "\n",
    "print('upside > total:', len(upside_total))"
   ]
  },
  {
   "cell_type": "markdown",
   "metadata": {},
   "source": [
    "#### Check PN not in PNFV table"
   ]
  },
  {
   "cell_type": "code",
   "execution_count": 32,
   "metadata": {},
   "outputs": [
    {
     "name": "stdout",
     "output_type": "stream",
     "text": [
      "PN not in PNFV: 1\n"
     ]
    }
   ],
   "source": [
    "# PN not in PNFV table\n",
    "PN_list = PNFV.PN.tolist()\n",
    "\n",
    "\n",
    "df_PN_notExist = []\n",
    "for index, row in shortage_ext.iterrows():\n",
    "    hp_pns = row['HP_PN'].split(',')\n",
    "    if all(hp_pn.strip() in PN_list for hp_pn in hp_pns):\n",
    "        pass\n",
    "    else:\n",
    "        row['Issue'] = 'HP_PNs do not exist in the PNFV table'\n",
    "        df_PN_notExist.append(row)\n",
    "\n",
    "if len(df_PN_notExist) > 0:\n",
    "    df_PN_notExist = pd.DataFrame(df_PN_notExist)\n",
    "else:\n",
    "    df_PN_notExist = pd.DataFrame()\n",
    "\n",
    "print('PN not in PNFV:', len(df_PN_notExist))"
   ]
  },
  {
   "cell_type": "markdown",
   "metadata": {},
   "source": [
    "#### Check FV not in PNFV table"
   ]
  },
  {
   "cell_type": "code",
   "execution_count": 33,
   "metadata": {},
   "outputs": [
    {
     "name": "stdout",
     "output_type": "stream",
     "text": [
      "FV not in PNFV: 1\n"
     ]
    }
   ],
   "source": [
    "# FV not in PNFV table\n",
    "FV_list = PNFV.Descr.tolist()\n",
    "\n",
    "df_FV_notExist = []\n",
    "for index, row in shortage_ext.iterrows():\n",
    "    fvs = row['FV'].split(';')\n",
    "    if all(fv.strip() in FV_list for fv in fvs):\n",
    "        pass\n",
    "    else:\n",
    "        row['Issue'] = 'FVs do not exist in the PNFV table'\n",
    "        df_FV_notExist.append(row)\n",
    "\n",
    "if len(df_FV_notExist) > 0:\n",
    "    df_FV_notExist = pd.DataFrame(df_FV_notExist)\n",
    "else:\n",
    "    df_FV_notExist = pd.DataFrame()\n",
    "\n",
    "print('FV not in PNFV:', len(df_FV_notExist))"
   ]
  },
  {
   "cell_type": "markdown",
   "metadata": {},
   "source": [
    "#### Concat all result"
   ]
  },
  {
   "cell_type": "code",
   "execution_count": 34,
   "metadata": {},
   "outputs": [],
   "source": [
    "# data type management\n",
    "try:\n",
    "    error_all = pd.concat([lastFDnull, df_QtyMismatch, df_BT_P1, df_BT_total, df_upside_total, df_FV_notExist, df_PN_notExist], axis=0)\n",
    "    error_all['P1'] = error_all['P1'].astype(int)\n",
    "    error_all['Net P2'] = error_all['Net P2'].astype(int)\n",
    "    error_all['Net P3'] = error_all['Net P3'].astype(int)\n",
    "    error_all['BT shortage'] = error_all['BT shortage'].astype(int)\n",
    "    error_all['Working on upside'] = error_all['Working on upside'].astype(int)\n",
    "    error_all['Total Shortage Qty'] = error_all['Total Shortage Qty'].astype(int)\n",
    "except:\n",
    "    error_all = pd.DataFrame()\n",
    "    print('No error found')"
   ]
  },
  {
   "cell_type": "code",
   "execution_count": 35,
   "metadata": {},
   "outputs": [],
   "source": [
    "# concat same errors\n",
    "if len(error_all) > 0:\n",
    "    # fist group by all column except issue, then agg function will aggreate the words\n",
    "    concatenated_issues = error_all.groupby(list(error_all.columns.difference(['Issue']))).agg({'Issue': ', '.join}).reset_index()\n",
    "    error_all = concatenated_issues.drop_duplicates()\n",
    "    error_all = error_all[['BuyerName','Issue','ODM','Item','Commodity','FV','Platform','P1','Net P2','Net P3','Total Shortage Qty','BT shortage','Working on upside','ReportDate','last FD date','HP_PN',]]\n",
    "else:\n",
    "    pass"
   ]
  },
  {
   "cell_type": "markdown",
   "metadata": {},
   "source": [
    "# External vs. Internal shortage"
   ]
  },
  {
   "cell_type": "code",
   "execution_count": 40,
   "metadata": {},
   "outputs": [],
   "source": [
    "# connection\n",
    "conn = pyodbc.connect('Driver={SQL Server Native Client 11.0}; Server=g7w11206g.inc.hpicorp.net; Database=CSI; Trusted_Connection=Yes;')\n",
    "cursor = conn.cursor()\n",
    "\n",
    "# download shortge from SQL\n",
    "cursor.execute(f\"SELECT * FROM OPS.GPS_view_ops_critical_shortage_overview where [Report Date] = '{today}'\")\n",
    "internal = pd.DataFrame.from_records(cursor.fetchall(), columns = [i[0] for i in cursor.description])"
   ]
  },
  {
   "cell_type": "code",
   "execution_count": 44,
   "metadata": {},
   "outputs": [
    {
     "name": "stdout",
     "output_type": "stream",
     "text": [
      "No empty value in Commodity\n"
     ]
    }
   ],
   "source": [
    "# check if there is empty value in Commodity\n",
    "if internal.Commodity.isna().any():\n",
    "    print(internal[internal.Commodity.isna()])\n",
    "else:\n",
    "    print('No empty value in Commodity')"
   ]
  },
  {
   "cell_type": "code",
   "execution_count": 82,
   "metadata": {},
   "outputs": [],
   "source": [
    "item_num_int = internal.groupby('Commodity')['FV Des'].nunique().reset_index()\n",
    "shortage_sum_int = internal.groupby('Commodity')['Total Shortage Quantity'].sum().reset_index()\n",
    "df_int = pd.DataFrame(item_num_int).merge(shortage_sum_int, on='Commodity', how='left')\n",
    "df_int.rename(columns={'FV Des': 'FV', 'Total Shortage Quantity': 'Total Shortage Qty'}, inplace=True)\n",
    "df_int[['FV','Total Shortage Qty']] = df_int[['FV','Total Shortage Qty']].astype(int)"
   ]
  },
  {
   "cell_type": "code",
   "execution_count": 83,
   "metadata": {},
   "outputs": [],
   "source": [
    "item_num_ext = shortage_ext[shortage_ext['Total Shortage Qty'] != 0].groupby('Commodity')['FV'].nunique()\n",
    "shortage_sum_ext = shortage_ext[shortage_ext['Total Shortage Qty'] != 0].groupby('Commodity')['Total Shortage Qty'].sum()\n",
    "df_ext = pd.DataFrame(pd.concat([item_num_ext, shortage_sum_ext], axis=1).reset_index())\n",
    "df_ext[['FV','Total Shortage Qty']] = df_ext[['FV','Total Shortage Qty']].astype(int)"
   ]
  },
  {
   "cell_type": "code",
   "execution_count": 86,
   "metadata": {},
   "outputs": [
    {
     "data": {
      "text/html": [
       "<div>\n",
       "<style scoped>\n",
       "    .dataframe tbody tr th:only-of-type {\n",
       "        vertical-align: middle;\n",
       "    }\n",
       "\n",
       "    .dataframe tbody tr th {\n",
       "        vertical-align: top;\n",
       "    }\n",
       "\n",
       "    .dataframe thead th {\n",
       "        text-align: right;\n",
       "    }\n",
       "</style>\n",
       "<table border=\"1\" class=\"dataframe\">\n",
       "  <thead>\n",
       "    <tr style=\"text-align: right;\">\n",
       "      <th></th>\n",
       "      <th>Commodity</th>\n",
       "      <th>FV_int</th>\n",
       "      <th>Total Shortage Qty_int</th>\n",
       "      <th>FV_ext</th>\n",
       "      <th>Total Shortage Qty_ext</th>\n",
       "      <th>Remark</th>\n",
       "    </tr>\n",
       "  </thead>\n",
       "  <tbody>\n",
       "    <tr>\n",
       "      <th>0</th>\n",
       "      <td>AC ADAPTOR</td>\n",
       "      <td>1.0</td>\n",
       "      <td>1176.0</td>\n",
       "      <td>1</td>\n",
       "      <td>1176</td>\n",
       "      <td>Match</td>\n",
       "    </tr>\n",
       "    <tr>\n",
       "      <th>1</th>\n",
       "      <td>CHIPSET</td>\n",
       "      <td>2.0</td>\n",
       "      <td>366.0</td>\n",
       "      <td>2</td>\n",
       "      <td>366</td>\n",
       "      <td>Match</td>\n",
       "    </tr>\n",
       "    <tr>\n",
       "      <th>2</th>\n",
       "      <td>CPU</td>\n",
       "      <td>39.0</td>\n",
       "      <td>69127.0</td>\n",
       "      <td>64</td>\n",
       "      <td>153658</td>\n",
       "      <td>Mismatch</td>\n",
       "    </tr>\n",
       "    <tr>\n",
       "      <th>3</th>\n",
       "      <td>EC</td>\n",
       "      <td>1.0</td>\n",
       "      <td>12046.0</td>\n",
       "      <td>1</td>\n",
       "      <td>12046</td>\n",
       "      <td>Match</td>\n",
       "    </tr>\n",
       "    <tr>\n",
       "      <th>4</th>\n",
       "      <td>GPU</td>\n",
       "      <td>1.0</td>\n",
       "      <td>1252.0</td>\n",
       "      <td>8</td>\n",
       "      <td>19837</td>\n",
       "      <td>Mismatch</td>\n",
       "    </tr>\n",
       "    <tr>\n",
       "      <th>5</th>\n",
       "      <td>LCD</td>\n",
       "      <td>18.0</td>\n",
       "      <td>261246.0</td>\n",
       "      <td>18</td>\n",
       "      <td>261240</td>\n",
       "      <td>Mismatch</td>\n",
       "    </tr>\n",
       "    <tr>\n",
       "      <th>6</th>\n",
       "      <td>Memory</td>\n",
       "      <td>8.0</td>\n",
       "      <td>78267.0</td>\n",
       "      <td>8</td>\n",
       "      <td>78267</td>\n",
       "      <td>Match</td>\n",
       "    </tr>\n",
       "    <tr>\n",
       "      <th>7</th>\n",
       "      <td>POWERCORDS</td>\n",
       "      <td>20.0</td>\n",
       "      <td>103818.0</td>\n",
       "      <td>20</td>\n",
       "      <td>103818</td>\n",
       "      <td>Match</td>\n",
       "    </tr>\n",
       "    <tr>\n",
       "      <th>8</th>\n",
       "      <td>SSS</td>\n",
       "      <td>2.0</td>\n",
       "      <td>596.0</td>\n",
       "      <td>2</td>\n",
       "      <td>596</td>\n",
       "      <td>Match</td>\n",
       "    </tr>\n",
       "    <tr>\n",
       "      <th>9</th>\n",
       "      <td>TS</td>\n",
       "      <td>12.0</td>\n",
       "      <td>29346.0</td>\n",
       "      <td>12</td>\n",
       "      <td>29346</td>\n",
       "      <td>Match</td>\n",
       "    </tr>\n",
       "    <tr>\n",
       "      <th>10</th>\n",
       "      <td>USBIC</td>\n",
       "      <td>2.0</td>\n",
       "      <td>15927.0</td>\n",
       "      <td>2</td>\n",
       "      <td>15927</td>\n",
       "      <td>Match</td>\n",
       "    </tr>\n",
       "    <tr>\n",
       "      <th>11</th>\n",
       "      <td>CONNECTOR</td>\n",
       "      <td>NaN</td>\n",
       "      <td>NaN</td>\n",
       "      <td>5</td>\n",
       "      <td>324879</td>\n",
       "      <td>Mismatch</td>\n",
       "    </tr>\n",
       "    <tr>\n",
       "      <th>12</th>\n",
       "      <td>CardReader</td>\n",
       "      <td>NaN</td>\n",
       "      <td>NaN</td>\n",
       "      <td>3</td>\n",
       "      <td>8748</td>\n",
       "      <td>Mismatch</td>\n",
       "    </tr>\n",
       "    <tr>\n",
       "      <th>13</th>\n",
       "      <td>HDD</td>\n",
       "      <td>NaN</td>\n",
       "      <td>NaN</td>\n",
       "      <td>1</td>\n",
       "      <td>20</td>\n",
       "      <td>Mismatch</td>\n",
       "    </tr>\n",
       "    <tr>\n",
       "      <th>14</th>\n",
       "      <td>PSU</td>\n",
       "      <td>NaN</td>\n",
       "      <td>NaN</td>\n",
       "      <td>6</td>\n",
       "      <td>11022</td>\n",
       "      <td>Mismatch</td>\n",
       "    </tr>\n",
       "    <tr>\n",
       "      <th>15</th>\n",
       "      <td>WEBCAM</td>\n",
       "      <td>NaN</td>\n",
       "      <td>NaN</td>\n",
       "      <td>2</td>\n",
       "      <td>56962</td>\n",
       "      <td>Mismatch</td>\n",
       "    </tr>\n",
       "  </tbody>\n",
       "</table>\n",
       "</div>"
      ],
      "text/plain": [
       "     Commodity  FV_int  Total Shortage Qty_int  FV_ext  \\\n",
       "0   AC ADAPTOR     1.0                  1176.0       1   \n",
       "1      CHIPSET     2.0                   366.0       2   \n",
       "2          CPU    39.0                 69127.0      64   \n",
       "3           EC     1.0                 12046.0       1   \n",
       "4          GPU     1.0                  1252.0       8   \n",
       "5          LCD    18.0                261246.0      18   \n",
       "6       Memory     8.0                 78267.0       8   \n",
       "7   POWERCORDS    20.0                103818.0      20   \n",
       "8          SSS     2.0                   596.0       2   \n",
       "9           TS    12.0                 29346.0      12   \n",
       "10       USBIC     2.0                 15927.0       2   \n",
       "11   CONNECTOR     NaN                     NaN       5   \n",
       "12  CardReader     NaN                     NaN       3   \n",
       "13         HDD     NaN                     NaN       1   \n",
       "14         PSU     NaN                     NaN       6   \n",
       "15      WEBCAM     NaN                     NaN       2   \n",
       "\n",
       "    Total Shortage Qty_ext    Remark  \n",
       "0                     1176     Match  \n",
       "1                      366     Match  \n",
       "2                   153658  Mismatch  \n",
       "3                    12046     Match  \n",
       "4                    19837  Mismatch  \n",
       "5                   261240  Mismatch  \n",
       "6                    78267     Match  \n",
       "7                   103818     Match  \n",
       "8                      596     Match  \n",
       "9                    29346     Match  \n",
       "10                   15927     Match  \n",
       "11                  324879  Mismatch  \n",
       "12                    8748  Mismatch  \n",
       "13                      20  Mismatch  \n",
       "14                   11022  Mismatch  \n",
       "15                   56962  Mismatch  "
      ]
     },
     "execution_count": 86,
     "metadata": {},
     "output_type": "execute_result"
    }
   ],
   "source": [
    "df_compare = df_int.merge(df_ext, on='Commodity', how='outer', suffixes=('_int', '_ext'))\n",
    "df_compare['Remark'] = np.where((df_compare['FV_int'] != df_compare['FV_ext']) | (df_compare['Total Shortage Qty_int'] != df_compare['Total Shortage Qty_ext']), 'Mismatch', 'Match')\n",
    "df_compare"
   ]
  },
  {
   "cell_type": "code",
   "execution_count": 90,
   "metadata": {},
   "outputs": [
    {
     "name": "stderr",
     "output_type": "stream",
     "text": [
      "C:\\Users\\hsudu\\AppData\\Local\\Temp\\ipykernel_25752\\1868922595.py:2: SettingWithCopyWarning: \n",
      "A value is trying to be set on a copy of a slice from a DataFrame\n",
      "\n",
      "See the caveats in the documentation: https://pandas.pydata.org/pandas-docs/stable/user_guide/indexing.html#returning-a-view-versus-a-copy\n",
      "  df_compare_2.drop(columns=['Remark'], inplace=True)\n",
      "C:\\Users\\hsudu\\AppData\\Local\\Temp\\ipykernel_25752\\1868922595.py:7: SettingWithCopyWarning: \n",
      "A value is trying to be set on a copy of a slice from a DataFrame.\n",
      "Try using .loc[row_indexer,col_indexer] = value instead\n",
      "\n",
      "See the caveats in the documentation: https://pandas.pydata.org/pandas-docs/stable/user_guide/indexing.html#returning-a-view-versus-a-copy\n",
      "  df_compare_2[i] = df_compare_2[i].fillna(0)\n",
      "C:\\Users\\hsudu\\AppData\\Local\\Temp\\ipykernel_25752\\1868922595.py:8: SettingWithCopyWarning: \n",
      "A value is trying to be set on a copy of a slice from a DataFrame.\n",
      "Try using .loc[row_indexer,col_indexer] = value instead\n",
      "\n",
      "See the caveats in the documentation: https://pandas.pydata.org/pandas-docs/stable/user_guide/indexing.html#returning-a-view-versus-a-copy\n",
      "  df_compare_2[i] = df_compare_2[i].astype(int)\n",
      "C:\\Users\\hsudu\\AppData\\Local\\Temp\\ipykernel_25752\\1868922595.py:7: SettingWithCopyWarning: \n",
      "A value is trying to be set on a copy of a slice from a DataFrame.\n",
      "Try using .loc[row_indexer,col_indexer] = value instead\n",
      "\n",
      "See the caveats in the documentation: https://pandas.pydata.org/pandas-docs/stable/user_guide/indexing.html#returning-a-view-versus-a-copy\n",
      "  df_compare_2[i] = df_compare_2[i].fillna(0)\n",
      "C:\\Users\\hsudu\\AppData\\Local\\Temp\\ipykernel_25752\\1868922595.py:8: SettingWithCopyWarning: \n",
      "A value is trying to be set on a copy of a slice from a DataFrame.\n",
      "Try using .loc[row_indexer,col_indexer] = value instead\n",
      "\n",
      "See the caveats in the documentation: https://pandas.pydata.org/pandas-docs/stable/user_guide/indexing.html#returning-a-view-versus-a-copy\n",
      "  df_compare_2[i] = df_compare_2[i].astype(int)\n",
      "C:\\Users\\hsudu\\AppData\\Local\\Temp\\ipykernel_25752\\1868922595.py:7: SettingWithCopyWarning: \n",
      "A value is trying to be set on a copy of a slice from a DataFrame.\n",
      "Try using .loc[row_indexer,col_indexer] = value instead\n",
      "\n",
      "See the caveats in the documentation: https://pandas.pydata.org/pandas-docs/stable/user_guide/indexing.html#returning-a-view-versus-a-copy\n",
      "  df_compare_2[i] = df_compare_2[i].fillna(0)\n",
      "C:\\Users\\hsudu\\AppData\\Local\\Temp\\ipykernel_25752\\1868922595.py:8: SettingWithCopyWarning: \n",
      "A value is trying to be set on a copy of a slice from a DataFrame.\n",
      "Try using .loc[row_indexer,col_indexer] = value instead\n",
      "\n",
      "See the caveats in the documentation: https://pandas.pydata.org/pandas-docs/stable/user_guide/indexing.html#returning-a-view-versus-a-copy\n",
      "  df_compare_2[i] = df_compare_2[i].astype(int)\n",
      "C:\\Users\\hsudu\\AppData\\Local\\Temp\\ipykernel_25752\\1868922595.py:7: SettingWithCopyWarning: \n",
      "A value is trying to be set on a copy of a slice from a DataFrame.\n",
      "Try using .loc[row_indexer,col_indexer] = value instead\n",
      "\n",
      "See the caveats in the documentation: https://pandas.pydata.org/pandas-docs/stable/user_guide/indexing.html#returning-a-view-versus-a-copy\n",
      "  df_compare_2[i] = df_compare_2[i].fillna(0)\n",
      "C:\\Users\\hsudu\\AppData\\Local\\Temp\\ipykernel_25752\\1868922595.py:8: SettingWithCopyWarning: \n",
      "A value is trying to be set on a copy of a slice from a DataFrame.\n",
      "Try using .loc[row_indexer,col_indexer] = value instead\n",
      "\n",
      "See the caveats in the documentation: https://pandas.pydata.org/pandas-docs/stable/user_guide/indexing.html#returning-a-view-versus-a-copy\n",
      "  df_compare_2[i] = df_compare_2[i].astype(int)\n"
     ]
    },
    {
     "data": {
      "text/html": [
       "<div>\n",
       "<style scoped>\n",
       "    .dataframe tbody tr th:only-of-type {\n",
       "        vertical-align: middle;\n",
       "    }\n",
       "\n",
       "    .dataframe tbody tr th {\n",
       "        vertical-align: top;\n",
       "    }\n",
       "\n",
       "    .dataframe thead th {\n",
       "        text-align: right;\n",
       "    }\n",
       "</style>\n",
       "<table border=\"1\" class=\"dataframe\">\n",
       "  <thead>\n",
       "    <tr style=\"text-align: right;\">\n",
       "      <th></th>\n",
       "      <th>Commodity</th>\n",
       "      <th>FV_int</th>\n",
       "      <th>Total Shortage Qty_int</th>\n",
       "      <th>FV_ext</th>\n",
       "      <th>Total Shortage Qty_ext</th>\n",
       "    </tr>\n",
       "  </thead>\n",
       "  <tbody>\n",
       "    <tr>\n",
       "      <th>2</th>\n",
       "      <td>CPU</td>\n",
       "      <td>39</td>\n",
       "      <td>69127</td>\n",
       "      <td>64</td>\n",
       "      <td>153658</td>\n",
       "    </tr>\n",
       "    <tr>\n",
       "      <th>4</th>\n",
       "      <td>GPU</td>\n",
       "      <td>1</td>\n",
       "      <td>1252</td>\n",
       "      <td>8</td>\n",
       "      <td>19837</td>\n",
       "    </tr>\n",
       "    <tr>\n",
       "      <th>5</th>\n",
       "      <td>LCD</td>\n",
       "      <td>18</td>\n",
       "      <td>261246</td>\n",
       "      <td>18</td>\n",
       "      <td>261240</td>\n",
       "    </tr>\n",
       "    <tr>\n",
       "      <th>11</th>\n",
       "      <td>CONNECTOR</td>\n",
       "      <td>0</td>\n",
       "      <td>0</td>\n",
       "      <td>5</td>\n",
       "      <td>324879</td>\n",
       "    </tr>\n",
       "    <tr>\n",
       "      <th>12</th>\n",
       "      <td>CardReader</td>\n",
       "      <td>0</td>\n",
       "      <td>0</td>\n",
       "      <td>3</td>\n",
       "      <td>8748</td>\n",
       "    </tr>\n",
       "    <tr>\n",
       "      <th>13</th>\n",
       "      <td>HDD</td>\n",
       "      <td>0</td>\n",
       "      <td>0</td>\n",
       "      <td>1</td>\n",
       "      <td>20</td>\n",
       "    </tr>\n",
       "    <tr>\n",
       "      <th>14</th>\n",
       "      <td>PSU</td>\n",
       "      <td>0</td>\n",
       "      <td>0</td>\n",
       "      <td>6</td>\n",
       "      <td>11022</td>\n",
       "    </tr>\n",
       "    <tr>\n",
       "      <th>15</th>\n",
       "      <td>WEBCAM</td>\n",
       "      <td>0</td>\n",
       "      <td>0</td>\n",
       "      <td>2</td>\n",
       "      <td>56962</td>\n",
       "    </tr>\n",
       "  </tbody>\n",
       "</table>\n",
       "</div>"
      ],
      "text/plain": [
       "     Commodity  FV_int  Total Shortage Qty_int  FV_ext  Total Shortage Qty_ext\n",
       "2          CPU      39                   69127      64                  153658\n",
       "4          GPU       1                    1252       8                   19837\n",
       "5          LCD      18                  261246      18                  261240\n",
       "11   CONNECTOR       0                       0       5                  324879\n",
       "12  CardReader       0                       0       3                    8748\n",
       "13         HDD       0                       0       1                      20\n",
       "14         PSU       0                       0       6                   11022\n",
       "15      WEBCAM       0                       0       2                   56962"
      ]
     },
     "execution_count": 90,
     "metadata": {},
     "output_type": "execute_result"
    }
   ],
   "source": [
    "df_compare_2 = df_compare[df_compare['Remark'] == 'Mismatch']\n",
    "df_compare_2.drop(columns=['Remark'], inplace=True)\n",
    "for i in df_compare_2.columns:\n",
    "    if i == 'Commodity':\n",
    "        pass\n",
    "    else:\n",
    "        df_compare_2[i] = df_compare_2[i].fillna(0)\n",
    "        df_compare_2[i] = df_compare_2[i].astype(int)\n",
    "df_compare_2"
   ]
  },
  {
   "cell_type": "markdown",
   "metadata": {},
   "source": [
    "# Send email"
   ]
  },
  {
   "cell_type": "code",
   "execution_count": 96,
   "metadata": {},
   "outputs": [
    {
     "name": "stderr",
     "output_type": "stream",
     "text": [
      "C:\\Users\\hsudu\\AppData\\Local\\Temp\\ipykernel_25752\\3594710053.py:19: SettingWithCopyWarning: \n",
      "A value is trying to be set on a copy of a slice from a DataFrame.\n",
      "Try using .loc[row_indexer,col_indexer] = value instead\n",
      "\n",
      "See the caveats in the documentation: https://pandas.pydata.org/pandas-docs/stable/user_guide/indexing.html#returning-a-view-versus-a-copy\n",
      "  df_compare_2['Commodity'] = df_compare_2['Commodity'].apply(lambda name: f'<span style=\"background-color: yellow;\">{name}</span>')\n"
     ]
    }
   ],
   "source": [
    "if (len(error_all)) | (len(df_compare_2)) > 0:\n",
    "    # sent to list\n",
    "    To_list = 'gps.taiwan.nb.buy-sell@hp.com'\n",
    "    CC_list = 'spencer.cheng1@hp.com; dustin.hsu1@hp.com'\n",
    "\n",
    "    # start creating the email\n",
    "    mail = win32.Dispatch(\"Outlook.Application\").CreateItem(0)\n",
    "    mail.To = To_list\n",
    "    mail.CC = CC_list\n",
    "    mail.Subject = '<' + today + '> GPS B/S shortage dashboard alert '\n",
    "\n",
    "    # Step 1: Highlight only the BuyerName values\n",
    "    error_all['BuyerName'] = error_all['BuyerName'].apply(lambda name: f'<span style=\"background-color: yellow;\">{name}</span>')\n",
    "\n",
    "    # Step 2: Convert the DataFrame to HTML, allowing HTML content within cells\n",
    "    html_error_all = error_all.to_html(escape=False, index=False)\n",
    "\n",
    "    # Step 3: Highlight only the Commodity values\n",
    "    df_compare_2['Commodity'] = df_compare_2['Commodity'].apply(lambda name: f'<span style=\"background-color: yellow;\">{name}</span>')\n",
    "    # Step 4: Convert the DataFrame to HTML, allowing HTML content within cells\n",
    "    html_compare_2 = df_compare_2.to_html(escape=False, index=False)\n",
    "\n",
    "    # message --> use the html content from the previous step 1&2 to \n",
    "    signature = \"<br><br>Best Regards,<br>Newcomen Project Team\"\n",
    "    message = f\"\"\"Hi team,<br><br>\n",
    "    Here are items that need your amendment in shortage dashboard.<br>\n",
    "    Please complete it by next workday and contact project team if any question, thank you.<br>\n",
    "    * Due to database refresh timing gap, items you have done action might still be on the list here. Please ignore if you have done action. Let project team know if your amendment is not completed for days.<br><br>\n",
    "    {html_error_all}<br>Below information is <b><font color = 'blue'>misaligned/ missing in external & internal reports</b></font>, please help to check and make amendment.<br>{html_compare_2}{signature}\"\"\"\n",
    "\n",
    "    # make sure email fully initialized, and only write after <body>\n",
    "    mail.GetInspector \n",
    "    index = mail.HTMLbody.find('>', mail.HTMLbody.find('<body')) \n",
    "\n",
    "    # generate email\n",
    "    mail.HTMLBody = message\n",
    "    mail.display()\n",
    "\n",
    "else:\n",
    "    print('No error found, no email sent')"
   ]
  },
  {
   "cell_type": "code",
   "execution_count": null,
   "metadata": {},
   "outputs": [],
   "source": []
  }
 ],
 "metadata": {
  "kernelspec": {
   "display_name": "Python 3",
   "language": "python",
   "name": "python3"
  },
  "language_info": {
   "codemirror_mode": {
    "name": "ipython",
    "version": 3
   },
   "file_extension": ".py",
   "mimetype": "text/x-python",
   "name": "python",
   "nbconvert_exporter": "python",
   "pygments_lexer": "ipython3",
   "version": "3.10.4"
  }
 },
 "nbformat": 4,
 "nbformat_minor": 2
}
