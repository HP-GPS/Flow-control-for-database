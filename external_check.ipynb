{
 "cells": [
  {
   "cell_type": "code",
   "execution_count": 43,
   "metadata": {},
   "outputs": [],
   "source": [
    "import pyodbc\n",
    "import pandas as pd\n",
    "from pathlib import Path\n",
    "from datetime import date\n",
    "import numpy as np\n",
    "import win32com.client as win32"
   ]
  },
  {
   "cell_type": "code",
   "execution_count": 44,
   "metadata": {},
   "outputs": [
    {
     "data": {
      "text/plain": [
       "'2024-03-19'"
      ]
     },
     "execution_count": 44,
     "metadata": {},
     "output_type": "execute_result"
    }
   ],
   "source": [
    "today = date.today().strftime('%Y-%m-%d')\n",
    "today"
   ]
  },
  {
   "cell_type": "code",
   "execution_count": 45,
   "metadata": {},
   "outputs": [],
   "source": [
    "# testing\n",
    "today = '2024-03-18'"
   ]
  },
  {
   "cell_type": "code",
   "execution_count": 46,
   "metadata": {},
   "outputs": [],
   "source": [
    "conn = pyodbc.connect('Driver={SQL Server Native Client 11.0}; Server=g7w11206g.inc.hpicorp.net; Database=CSI; Trusted_Connection=Yes;')\n",
    "cursor = conn.cursor()\n",
    "\n",
    "# download from SQL\n",
    "cursor.execute(f\"SELECT * FROM OPS.GPS_tbl_ops_shortage_ext where ReportDate = '{today}'\")\n",
    "shortage_ext = pd.DataFrame.from_records(cursor.fetchall(), columns = [i[0] for i in cursor.description])"
   ]
  },
  {
   "cell_type": "code",
   "execution_count": 47,
   "metadata": {},
   "outputs": [],
   "source": [
    "shortage_ext.loc[50,'Total Shortage Qty'] = 0"
   ]
  },
  {
   "cell_type": "code",
   "execution_count": 48,
   "metadata": {},
   "outputs": [],
   "source": [
    "shortage_ext.loc[51,'Total Shortage Qty'] = 0"
   ]
  },
  {
   "cell_type": "markdown",
   "metadata": {},
   "source": [
    "check last FD date is empty"
   ]
  },
  {
   "cell_type": "code",
   "execution_count": 49,
   "metadata": {},
   "outputs": [
    {
     "name": "stderr",
     "output_type": "stream",
     "text": [
      "C:\\Users\\hsudu\\AppData\\Local\\Temp\\ipykernel_32228\\1113314973.py:2: SettingWithCopyWarning: \n",
      "A value is trying to be set on a copy of a slice from a DataFrame.\n",
      "Try using .loc[row_indexer,col_indexer] = value instead\n",
      "\n",
      "See the caveats in the documentation: https://pandas.pydata.org/pandas-docs/stable/user_guide/indexing.html#returning-a-view-versus-a-copy\n",
      "  lastFDnull.loc[:,'Error'] = 'Last FD date is empty'\n"
     ]
    }
   ],
   "source": [
    "lastFDnull = shortage_ext[shortage_ext['last FD date'].isnull()]\n",
    "lastFDnull.loc[:,'Error'] = 'Last FD date is empty'"
   ]
  },
  {
   "cell_type": "markdown",
   "metadata": {},
   "source": [
    "P1~P3 sum <> total shortage"
   ]
  },
  {
   "cell_type": "code",
   "execution_count": 50,
   "metadata": {},
   "outputs": [],
   "source": [
    "QtyMismatch = []\n",
    "for i, row in shortage_ext.iterrows():\n",
    "    P123 = row['P1'] + row['Net P2'] + row['Net P3']\n",
    "    total = row['Total Shortage Qty'] \n",
    "    if P123 != total:\n",
    "        QtyMismatch.append(row)\n",
    "    else:\n",
    "        pass\n",
    "\n",
    "if len(QtyMismatch) > 0:\n",
    "    df_QtyMismatch = pd.DataFrame(QtyMismatch)\n",
    "    df_QtyMismatch['Error'] = 'P1~P3 sum <> total shortage'\n"
   ]
  },
  {
   "cell_type": "code",
   "execution_count": 51,
   "metadata": {},
   "outputs": [
    {
     "data": {
      "text/html": [
       "<div>\n",
       "<style scoped>\n",
       "    .dataframe tbody tr th:only-of-type {\n",
       "        vertical-align: middle;\n",
       "    }\n",
       "\n",
       "    .dataframe tbody tr th {\n",
       "        vertical-align: top;\n",
       "    }\n",
       "\n",
       "    .dataframe thead th {\n",
       "        text-align: right;\n",
       "    }\n",
       "</style>\n",
       "<table border=\"1\" class=\"dataframe\">\n",
       "  <thead>\n",
       "    <tr style=\"text-align: right;\">\n",
       "      <th></th>\n",
       "      <th>ODM</th>\n",
       "      <th>Item</th>\n",
       "      <th>Commodity</th>\n",
       "      <th>FV</th>\n",
       "      <th>Platform</th>\n",
       "      <th>P1</th>\n",
       "      <th>Net P2</th>\n",
       "      <th>Net P3</th>\n",
       "      <th>Total Shortage Qty</th>\n",
       "      <th>BT shortage</th>\n",
       "      <th>Working on upside</th>\n",
       "      <th>ReportDate</th>\n",
       "      <th>last FD date</th>\n",
       "      <th>HP_PN</th>\n",
       "      <th>BuyerName</th>\n",
       "      <th>Error</th>\n",
       "    </tr>\n",
       "  </thead>\n",
       "  <tbody>\n",
       "    <tr>\n",
       "      <th>185</th>\n",
       "      <td>CQQCI</td>\n",
       "      <td>1.0</td>\n",
       "      <td>HDD</td>\n",
       "      <td>2000GB 5400 SATA</td>\n",
       "      <td>Conti27I - 23C1</td>\n",
       "      <td>24.0</td>\n",
       "      <td>0.0</td>\n",
       "      <td>0.0</td>\n",
       "      <td>24.0</td>\n",
       "      <td>0.0</td>\n",
       "      <td>0.0</td>\n",
       "      <td>2024-03-18</td>\n",
       "      <td>NaT</td>\n",
       "      <td>L01446-003,863128-004,L32157-002</td>\n",
       "      <td>TangWinnie</td>\n",
       "      <td>Last FD date is empty</td>\n",
       "    </tr>\n",
       "    <tr>\n",
       "      <th>50</th>\n",
       "      <td>CEI</td>\n",
       "      <td>CPU1347</td>\n",
       "      <td>CPU</td>\n",
       "      <td>AMD HAWKPOINT RYZEN5 8640HS FP8</td>\n",
       "      <td>Hyatt24C1/Park24C1</td>\n",
       "      <td>0.0</td>\n",
       "      <td>600.0</td>\n",
       "      <td>1000.0</td>\n",
       "      <td>0.0</td>\n",
       "      <td>0.0</td>\n",
       "      <td>0.0</td>\n",
       "      <td>2024-03-18</td>\n",
       "      <td>2024-03-23</td>\n",
       "      <td>N86918-A20</td>\n",
       "      <td>Ariel</td>\n",
       "      <td>P1~P3 sum &lt;&gt; total shortage</td>\n",
       "    </tr>\n",
       "    <tr>\n",
       "      <th>51</th>\n",
       "      <td>CEI</td>\n",
       "      <td>CPU1332</td>\n",
       "      <td>CPU</td>\n",
       "      <td>AMD PHOENIX RYZEN9 7940HS FP7R2</td>\n",
       "      <td>Thetiger23C1</td>\n",
       "      <td>0.0</td>\n",
       "      <td>0.0</td>\n",
       "      <td>300.0</td>\n",
       "      <td>0.0</td>\n",
       "      <td>0.0</td>\n",
       "      <td>0.0</td>\n",
       "      <td>2024-03-18</td>\n",
       "      <td>2024-04-13</td>\n",
       "      <td>N41421-A10</td>\n",
       "      <td>Celine</td>\n",
       "      <td>P1~P3 sum &lt;&gt; total shortage</td>\n",
       "    </tr>\n",
       "  </tbody>\n",
       "</table>\n",
       "</div>"
      ],
      "text/plain": [
       "       ODM     Item Commodity                               FV  \\\n",
       "185  CQQCI      1.0       HDD                 2000GB 5400 SATA   \n",
       "50     CEI  CPU1347       CPU  AMD HAWKPOINT RYZEN5 8640HS FP8   \n",
       "51     CEI  CPU1332       CPU  AMD PHOENIX RYZEN9 7940HS FP7R2   \n",
       "\n",
       "               Platform    P1  Net P2  Net P3  Total Shortage Qty  \\\n",
       "185     Conti27I - 23C1  24.0     0.0     0.0                24.0   \n",
       "50   Hyatt24C1/Park24C1   0.0   600.0  1000.0                 0.0   \n",
       "51         Thetiger23C1   0.0     0.0   300.0                 0.0   \n",
       "\n",
       "     BT shortage  Working on upside ReportDate last FD date  \\\n",
       "185          0.0                0.0 2024-03-18          NaT   \n",
       "50           0.0                0.0 2024-03-18   2024-03-23   \n",
       "51           0.0                0.0 2024-03-18   2024-04-13   \n",
       "\n",
       "                                HP_PN   BuyerName                        Error  \n",
       "185  L01446-003,863128-004,L32157-002  TangWinnie        Last FD date is empty  \n",
       "50                         N86918-A20       Ariel  P1~P3 sum <> total shortage  \n",
       "51                         N41421-A10      Celine  P1~P3 sum <> total shortage  "
      ]
     },
     "execution_count": 51,
     "metadata": {},
     "output_type": "execute_result"
    }
   ],
   "source": [
    "error_all = pd.concat([lastFDnull, df_QtyMismatch], axis=0)\n",
    "error_all"
   ]
  },
  {
   "cell_type": "code",
   "execution_count": 52,
   "metadata": {},
   "outputs": [],
   "source": [
    "To_list = 'gps.taiwan.nb.buy-sell@hp.com'\n",
    "CC_list = 'spencer.cheng1@hp.com; dustin.hsu1@hp.com'\n",
    "mail = win32.Dispatch(\"Outlook.Application\").CreateItem(0)\n",
    "mail.To = To_list\n",
    "mail.CC = CC_list\n",
    "mail.Subject = 'shortage dashboard issue as of ' + today\n",
    "message = 'Hi team,<br><br>\\\n",
    "Please find the latest issues found in the shortage data.<br> Please use transformation tool to revise your data.<br><br>' + error_all.to_html(index=False)\n",
    "mail.GetInspector \n",
    "index = mail.HTMLbody.find('>', mail.HTMLbody.find('<body')) \n",
    "mail.HTMLBody = mail.HTMLbody[:index + 1] + message + mail.HTMLbody[index + 1:] \n",
    "mail.display()"
   ]
  }
 ],
 "metadata": {
  "kernelspec": {
   "display_name": "Python 3",
   "language": "python",
   "name": "python3"
  },
  "language_info": {
   "codemirror_mode": {
    "name": "ipython",
    "version": 3
   },
   "file_extension": ".py",
   "mimetype": "text/x-python",
   "name": "python",
   "nbconvert_exporter": "python",
   "pygments_lexer": "ipython3",
   "version": "3.10.4"
  }
 },
 "nbformat": 4,
 "nbformat_minor": 2
}
