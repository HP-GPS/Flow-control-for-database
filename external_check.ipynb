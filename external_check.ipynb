{
 "cells": [
  {
   "cell_type": "markdown",
   "metadata": {},
   "source": [
    "### Check data correctness"
   ]
  },
  {
   "cell_type": "code",
   "execution_count": null,
   "metadata": {},
   "outputs": [],
   "source": [
    "import pyodbc\n",
    "import pandas as pd\n",
    "from pathlib import Path\n",
    "from datetime import date\n",
    "import numpy as np\n",
    "import win32com.client as win32\n",
    "\n",
    "today = date.today().strftime('%Y-%m-%d')\n",
    "# today = '2024-03-22'"
   ]
  },
  {
   "cell_type": "code",
   "execution_count": null,
   "metadata": {},
   "outputs": [],
   "source": [
    "# connection\n",
    "conn = pyodbc.connect('Driver={SQL Server Native Client 11.0}; Server=g7w11206g.inc.hpicorp.net; Database=CSI; Trusted_Connection=Yes;')\n",
    "cursor = conn.cursor()\n",
    "\n",
    "# download shortge from SQL\n",
    "cursor.execute(f\"SELECT * FROM OPS.GPS_tbl_ops_shortage_ext where ReportDate = '{today}'\")\n",
    "shortage_ext = pd.DataFrame.from_records(cursor.fetchall(), columns = [i[0] for i in cursor.description])\n",
    "shortage_ext['HP_PN'] = shortage_ext['HP_PN'].str.replace('\\n', ',', regex=False)\n",
    "shortage_ext['FV'] = shortage_ext['FV'].str.replace('\\n', ',', regex=False)\n",
    "\n",
    "# download PNFV from SQL\n",
    "cursor.execute(\"SELECT * FROM OPS.GPS_tbl_ops_PN_FV\")\n",
    "PNFV = pd.DataFrame.from_records(cursor.fetchall(), columns = [i[0] for i in cursor.description])\n",
    "PNFV = PNFV.rename({'Descr':'FV'})"
   ]
  },
  {
   "cell_type": "markdown",
   "metadata": {},
   "source": [
    "#### Check last FD date is empty"
   ]
  },
  {
   "cell_type": "code",
   "execution_count": null,
   "metadata": {},
   "outputs": [],
   "source": [
    "# create the last FD null row\n",
    "lastFDnull = shortage_ext[shortage_ext['last FD date'].isnull()].copy()\n",
    "\n",
    "if len(lastFDnull)>0:\n",
    "    lastFDnull['Issue'] = 'Last FD is blank'\n",
    "    lastFDnull['last FD date'] = 'Blank'\n",
    "    print('Last FD is blank:', len(lastFDnull))\n",
    "else:\n",
    "    lastFDnull = pd.DataFrame()"
   ]
  },
  {
   "cell_type": "markdown",
   "metadata": {},
   "source": [
    "#### Check P1~P3 sum <> total shortage"
   ]
  },
  {
   "cell_type": "code",
   "execution_count": null,
   "metadata": {},
   "outputs": [],
   "source": [
    "# P1 + P2 + P3 != Total\n",
    "QtyMismatch = []\n",
    "for i, row in shortage_ext.iterrows():\n",
    "    P123 = row['P1'] + row['Net P2'] + row['Net P3']\n",
    "    total = row['Total Shortage Qty'] \n",
    "    if P123 != total:\n",
    "        QtyMismatch.append(row)\n",
    "    else:\n",
    "        pass\n",
    "\n",
    "if len(QtyMismatch) > 0:\n",
    "    df_QtyMismatch = pd.DataFrame(QtyMismatch)\n",
    "    df_QtyMismatch['Issue'] = 'P1~P3 sum <> total shortage'\n",
    "else:\n",
    "    df_QtyMismatch = pd.DataFrame()\n",
    "\n",
    "print(f'P1~P3 sum != total shortage: {len(QtyMismatch)}')"
   ]
  },
  {
   "cell_type": "markdown",
   "metadata": {},
   "source": [
    "#### Check BT > P1"
   ]
  },
  {
   "cell_type": "code",
   "execution_count": null,
   "metadata": {},
   "outputs": [],
   "source": [
    "# BT qty > P1\n",
    "BT_P1 = []\n",
    "for i, row in shortage_ext.iterrows():\n",
    "    BT = row['BT shortage']\n",
    "    P1 = row['P1'] \n",
    "    if BT > P1:\n",
    "        BT_P1.append(row)\n",
    "    else:\n",
    "        pass\n",
    "\n",
    "if len(BT_P1) > 0:\n",
    "    df_BT_P1 = pd.DataFrame(BT_P1)\n",
    "    df_BT_P1['Issue'] = 'BT shortage > P1'\n",
    "else:\n",
    "    df_BT_P1 = pd.DataFrame()\n",
    "\n",
    "print('BT shortage > P1:', len(BT_P1))"
   ]
  },
  {
   "cell_type": "markdown",
   "metadata": {},
   "source": [
    "#### Check BT > total shortage"
   ]
  },
  {
   "cell_type": "code",
   "execution_count": null,
   "metadata": {},
   "outputs": [],
   "source": [
    "# BT > total shortage\n",
    "BT_total = []\n",
    "for i, row in shortage_ext.iterrows():\n",
    "    BT = row['BT shortage']\n",
    "    total = row['Total Shortage Qty'] \n",
    "    if BT > total:\n",
    "        BT_total.append(row)\n",
    "    else:\n",
    "        pass\n",
    "\n",
    "if len(BT_total) > 0:\n",
    "    df_BT_total = pd.DataFrame(BT_total)\n",
    "    df_BT_total['Issue'] = 'BT shortage > Total shortage'\n",
    "else:\n",
    "    df_BT_total = pd.DataFrame()\n",
    "\n",
    "print('BT > total:', len(BT_total))"
   ]
  },
  {
   "cell_type": "markdown",
   "metadata": {},
   "source": [
    "#### Check working on upside > total shortage"
   ]
  },
  {
   "cell_type": "code",
   "execution_count": null,
   "metadata": {},
   "outputs": [],
   "source": [
    "# working on upside > total shortage\n",
    "upside_total = []\n",
    "for i, row in shortage_ext.iterrows():\n",
    "    upside = row['Working on upside']\n",
    "    total = row['Total Shortage Qty'] \n",
    "    if upside > total:\n",
    "        upside_total.append(row)\n",
    "    else:\n",
    "        pass\n",
    "\n",
    "if len(upside_total) > 0:\n",
    "    df_upside_total = pd.DataFrame(upside_total)\n",
    "    df_upside_total['Issue'] = 'Working on upside > Total shortage'\n",
    "else:\n",
    "    df_upside_total = pd.DataFrame()\n",
    "\n",
    "print('upside > total:', len(upside_total))"
   ]
  },
  {
   "cell_type": "markdown",
   "metadata": {},
   "source": [
    "#### Check PN not in PNFV table"
   ]
  },
  {
   "cell_type": "code",
   "execution_count": null,
   "metadata": {},
   "outputs": [],
   "source": [
    "# PN not in PNFV table\n",
    "PN_list = PNFV.PN.tolist()\n",
    "\n",
    "\n",
    "df_PN_notExist = []\n",
    "for index, row in shortage_ext.iterrows():\n",
    "    hp_pns = row['HP_PN'].split(',')\n",
    "    if all(hp_pn.strip() in PN_list for hp_pn in hp_pns):\n",
    "        pass\n",
    "    else:\n",
    "        row['Issue'] = 'HP_PNs do not exist in the PNFV table'\n",
    "        df_PN_notExist.append(row)\n",
    "\n",
    "if len(df_PN_notExist) > 0:\n",
    "    df_PN_notExist = pd.DataFrame(df_PN_notExist)\n",
    "else:\n",
    "    df_PN_notExist = pd.DataFrame()\n",
    "\n",
    "print('PN not in PNFV:', len(df_PN_notExist))"
   ]
  },
  {
   "cell_type": "markdown",
   "metadata": {},
   "source": [
    "#### Check FV not in PNFV table"
   ]
  },
  {
   "cell_type": "code",
   "execution_count": null,
   "metadata": {},
   "outputs": [],
   "source": [
    "# FV not in PNFV table\n",
    "FV_list = PNFV.Descr.tolist()\n",
    "\n",
    "df_FV_notExist = []\n",
    "for index, row in shortage_ext.iterrows():\n",
    "    fvs = row['FV'].split(',')\n",
    "    if all(fv.strip() in FV_list for fv in fvs):\n",
    "        pass\n",
    "    else:\n",
    "        row['Issue'] = 'FVs do not exist in the PNFV table'\n",
    "        df_FV_notExist.append(row)\n",
    "\n",
    "if len(df_FV_notExist) > 0:\n",
    "    df_FV_notExist = pd.DataFrame(df_FV_notExist)\n",
    "else:\n",
    "    df_FV_notExist = pd.DataFrame()\n",
    "\n",
    "print('FV not in PNFV:', len(df_FV_notExist))"
   ]
  },
  {
   "cell_type": "markdown",
   "metadata": {},
   "source": [
    "#### Concat all result"
   ]
  },
  {
   "cell_type": "code",
   "execution_count": null,
   "metadata": {},
   "outputs": [],
   "source": [
    "# data type management\n",
    "try:\n",
    "    error_all = pd.concat([lastFDnull, df_QtyMismatch, df_BT_P1, df_BT_total, df_upside_total, df_FV_notExist, df_PN_notExist], axis=0)\n",
    "    error_all['P1'] = error_all['P1'].astype(int)\n",
    "    error_all['Net P2'] = error_all['Net P2'].astype(int)\n",
    "    error_all['Net P3'] = error_all['Net P3'].astype(int)\n",
    "    error_all['BT shortage'] = error_all['BT shortage'].astype(int)\n",
    "    error_all['Working on upside'] = error_all['Working on upside'].astype(int)\n",
    "    error_all['Total Shortage Qty'] = error_all['Total Shortage Qty'].astype(int)\n",
    "except:\n",
    "    error_all = pd.DataFrame()\n",
    "    print('No error found')"
   ]
  },
  {
   "cell_type": "code",
   "execution_count": null,
   "metadata": {},
   "outputs": [],
   "source": [
    "# concat same errors\n",
    "if len(error_all) > 0:\n",
    "    # fist group by all column except issue, then agg function will aggreate the words\n",
    "    concatenated_issues = error_all.groupby(list(error_all.columns.difference(['Issue']))).agg({'Issue': ', '.join}).reset_index()\n",
    "    error_all = concatenated_issues.drop_duplicates()\n",
    "    error_all = error_all[['BuyerName','Issue','ODM','Item','Commodity','FV','Platform','P1','Net P2','Net P3','Total Shortage Qty','BT shortage','Working on upside','ReportDate','last FD date','HP_PN',]]\n",
    "else:\n",
    "    pass"
   ]
  },
  {
   "cell_type": "markdown",
   "metadata": {},
   "source": [
    "#### Sent email"
   ]
  },
  {
   "cell_type": "code",
   "execution_count": null,
   "metadata": {},
   "outputs": [],
   "source": [
    "if len(error_all) > 0:\n",
    "    # sent to list\n",
    "    To_list = 'gps.taiwan.nb.buy-sell@hp.com'\n",
    "    CC_list = 'spencer.cheng1@hp.com; dustin.hsu1@hp.com'\n",
    "\n",
    "    # start creating the email\n",
    "    mail = win32.Dispatch(\"Outlook.Application\").CreateItem(0)\n",
    "    mail.To = To_list\n",
    "    mail.CC = CC_list\n",
    "    mail.Subject = '<' + today + '> GPS B/S shortage dashboard alert '\n",
    "\n",
    "    # Step 1: Highlight only the BuyerName values\n",
    "    error_all['BuyerName'] = error_all['BuyerName'].apply(lambda name: f'<span style=\"background-color: yellow;\">{name}</span>')\n",
    "\n",
    "    # Step 2: Convert the DataFrame to HTML, allowing HTML content within cells\n",
    "    html_error_all = error_all.to_html(escape=False, index=False)\n",
    "\n",
    "    # message --> use the html content from the previous step 1&2 to \n",
    "    signature = \"<br><br>Best Regards,<br>Newcomen Project Team\"\n",
    "    message = f\"\"\"Hi team,<br><br>\n",
    "    Here are items that need your amendment in shortage dashboard.<br>\n",
    "    Please complete it by next workday and contact project team if any question, thank you.<br>\n",
    "    * Due to database refresh timing gap, items you have done action might still be on the list here. Please ignore if you have done action. Let project team know if your amendment is not completed for days.<br><br>\n",
    "    {html_error_all}{signature}\"\"\"\n",
    "\n",
    "    # make sure email fully initialized, and only write after <body>\n",
    "    mail.GetInspector \n",
    "    index = mail.HTMLbody.find('>', mail.HTMLbody.find('<body')) \n",
    "\n",
    "    # generate email\n",
    "    mail.HTMLBody = message\n",
    "    mail.display()\n",
    "\n",
    "else:\n",
    "    print('No error found, no email sent')"
   ]
  }
 ],
 "metadata": {
  "kernelspec": {
   "display_name": "Python 3",
   "language": "python",
   "name": "python3"
  },
  "language_info": {
   "codemirror_mode": {
    "name": "ipython",
    "version": 3
   },
   "file_extension": ".py",
   "mimetype": "text/x-python",
   "name": "python",
   "nbconvert_exporter": "python",
   "pygments_lexer": "ipython3",
   "version": "3.10.7"
  }
 },
 "nbformat": 4,
 "nbformat_minor": 2
}
