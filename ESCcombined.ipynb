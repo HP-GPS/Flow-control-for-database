{
 "cells": [
  {
   "cell_type": "code",
   "execution_count": 1,
   "metadata": {},
   "outputs": [],
   "source": [
    "import pandas as pd\n",
    "import numpy as np\n",
    "from pathlib import Path\n",
    "import datetime as dt\n",
    "import glob"
   ]
  },
  {
   "cell_type": "code",
   "execution_count": 2,
   "metadata": {},
   "outputs": [],
   "source": [
    "home = Path.home()\n",
    "today = dt.date.today()"
   ]
  },
  {
   "cell_type": "code",
   "execution_count": 3,
   "metadata": {},
   "outputs": [],
   "source": [
    "sourcePath = Path(home, 'HP Inc', 'GPSTW SOP - 2021 日新','Project team','ESC')\n",
    "fileList = glob.glob(str(Path(sourcePath, 'ZRTR_US5A*xlsx')))\n",
    "PNFVpath = Path(home, 'HP Inc', 'GPSTW SOP - 2021 日新','PN FV description mapping table_ALL.xlsx')\n",
    "PNFVfile = pd.read_excel(PNFVpath)"
   ]
  },
  {
   "cell_type": "code",
   "execution_count": 4,
   "metadata": {},
   "outputs": [],
   "source": [
    "PNFVfile = PNFVfile[['Commodity', 'PN', 'Descr']]"
   ]
  },
  {
   "cell_type": "code",
   "execution_count": 5,
   "metadata": {},
   "outputs": [
    {
     "name": "stdout",
     "output_type": "stream",
     "text": [
      "C:\\Users\\lulo\\HP Inc\\GPSTW SOP - 2021 日新\\Project team\\ESC\\ZRTR_US5A_0804.xlsx\n",
      "C:\\Users\\lulo\\HP Inc\\GPSTW SOP - 2021 日新\\Project team\\ESC\\ZRTR_US5A_0906.xlsx\n",
      "C:\\Users\\lulo\\HP Inc\\GPSTW SOP - 2021 日新\\Project team\\ESC\\ZRTR_US5A_1006.xlsx\n"
     ]
    }
   ],
   "source": [
    "for _ in fileList:\n",
    "    print(_)"
   ]
  },
  {
   "cell_type": "code",
   "execution_count": 6,
   "metadata": {},
   "outputs": [
    {
     "data": {
      "text/plain": [
       "'C:\\\\Users\\\\lulo\\\\HP Inc\\\\GPSTW SOP - 2021 日新\\\\Project team\\\\ESC\\\\ZRTR_US5A_1006.xlsx'"
      ]
     },
     "execution_count": 6,
     "metadata": {},
     "output_type": "execute_result"
    }
   ],
   "source": [
    "fileList[-1]"
   ]
  },
  {
   "cell_type": "code",
   "execution_count": 7,
   "metadata": {},
   "outputs": [],
   "source": [
    "totalESCList = []\n"
   ]
  },
  {
   "cell_type": "code",
   "execution_count": 8,
   "metadata": {},
   "outputs": [
    {
     "name": "stdout",
     "output_type": "stream",
     "text": [
      "ZRTR_US5A_0804.xlsx\n",
      "ZRTR_US5A_0906.xlsx\n",
      "ZRTR_US5A_1006.xlsx\n"
     ]
    }
   ],
   "source": [
    "for _ in fileList:\n",
    "    print(_.split('\\\\')[-1])\n",
    "    temp = pd.read_excel(_)\n",
    "    tempdate = _.split('\\\\')[-1][10:14]\n",
    "    tempdate = dt.datetime.strptime(tempdate, '%m%d').replace(year = today.year)\n",
    "    try:\n",
    "        temp = temp[['Material', 'Comp code curr(legal)']]\n",
    "        temp = temp.rename(columns = {'Comp code curr(legal)' : 'Price', 'Material' : 'PN'})\n",
    "    except:\n",
    "        temp = temp[['Material', 'Standard price1']]\n",
    "        temp = temp.rename(columns = {'Standard price1' : 'Price', 'Material' : 'PN'})\n",
    "\n",
    "    temp.loc[:, 'date'] = tempdate\n",
    "    temp = temp.merge(PNFVfile, on = 'PN', how = 'left')\n",
    "    temp = temp.reset_index(drop = True)\n",
    "\n",
    "    totalESCList.append(temp)"
   ]
  },
  {
   "cell_type": "code",
   "execution_count": 9,
   "metadata": {},
   "outputs": [],
   "source": [
    "totalESC = pd.concat(totalESCList)\n"
   ]
  },
  {
   "cell_type": "code",
   "execution_count": 11,
   "metadata": {},
   "outputs": [],
   "source": [
    "writer = pd.ExcelWriter(Path(home, 'HP Inc', 'GPSTW SOP - 2021 日新','Project team','ESC', 'ESCtotal.xlsx'), datetime_format = 'yyyy-mm-dd')\n",
    "totalESC.to_excel(writer, index = False)\n",
    "writer.close()"
   ]
  },
  {
   "cell_type": "code",
   "execution_count": 12,
   "metadata": {},
   "outputs": [],
   "source": [
    "totalESC_1 = totalESC[totalESC['Descr'].notna()]"
   ]
  },
  {
   "cell_type": "code",
   "execution_count": 13,
   "metadata": {},
   "outputs": [],
   "source": [
    "totalESC_1_FV = totalESC_1.drop(columns=['PN', 'Commodity']).groupby(['Descr', 'date']).agg({'Price' : 'mean'})"
   ]
  },
  {
   "cell_type": "code",
   "execution_count": 14,
   "metadata": {},
   "outputs": [],
   "source": [
    "totalESC_1_FV = totalESC_1_FV.reset_index()"
   ]
  },
  {
   "cell_type": "code",
   "execution_count": 15,
   "metadata": {},
   "outputs": [],
   "source": [
    "totalESC_1 = totalESC_1.merge(totalESC_1_FV, on = ['Descr', 'date'], suffixes = ['', '_mean'])"
   ]
  },
  {
   "cell_type": "code",
   "execution_count": 16,
   "metadata": {},
   "outputs": [
    {
     "data": {
      "text/html": [
       "<div>\n",
       "<style scoped>\n",
       "    .dataframe tbody tr th:only-of-type {\n",
       "        vertical-align: middle;\n",
       "    }\n",
       "\n",
       "    .dataframe tbody tr th {\n",
       "        vertical-align: top;\n",
       "    }\n",
       "\n",
       "    .dataframe thead th {\n",
       "        text-align: right;\n",
       "    }\n",
       "</style>\n",
       "<table border=\"1\" class=\"dataframe\">\n",
       "  <thead>\n",
       "    <tr style=\"text-align: right;\">\n",
       "      <th></th>\n",
       "      <th>PN</th>\n",
       "      <th>Price</th>\n",
       "      <th>date</th>\n",
       "      <th>Commodity</th>\n",
       "      <th>Descr</th>\n",
       "      <th>Price_mean</th>\n",
       "    </tr>\n",
       "  </thead>\n",
       "  <tbody>\n",
       "    <tr>\n",
       "      <th>0</th>\n",
       "      <td>100613-021</td>\n",
       "      <td>1.57</td>\n",
       "      <td>2022-08-04</td>\n",
       "      <td>POWERCORDS</td>\n",
       "      <td>PWC C13 1.0m tag Premium UK</td>\n",
       "      <td>1.57</td>\n",
       "    </tr>\n",
       "    <tr>\n",
       "      <th>1</th>\n",
       "      <td>100614-016</td>\n",
       "      <td>1.5</td>\n",
       "      <td>2022-08-04</td>\n",
       "      <td>POWERCORDS</td>\n",
       "      <td>PWC C13 1.0m tag Premium EURO</td>\n",
       "      <td>1.50</td>\n",
       "    </tr>\n",
       "    <tr>\n",
       "      <th>2</th>\n",
       "      <td>100661-001</td>\n",
       "      <td>1.6</td>\n",
       "      <td>2022-08-04</td>\n",
       "      <td>POWERCORDS</td>\n",
       "      <td>PWC OPT-901 3-COND 1.83m C13</td>\n",
       "      <td>1.60</td>\n",
       "    </tr>\n",
       "    <tr>\n",
       "      <th>3</th>\n",
       "      <td>100661-021</td>\n",
       "      <td>1.34</td>\n",
       "      <td>2022-08-04</td>\n",
       "      <td>POWERCORDS</td>\n",
       "      <td>PWC C13 1.0m tag Premium AUST</td>\n",
       "      <td>1.34</td>\n",
       "    </tr>\n",
       "    <tr>\n",
       "      <th>4</th>\n",
       "      <td>109197-008</td>\n",
       "      <td>1.08</td>\n",
       "      <td>2022-08-04</td>\n",
       "      <td>POWERCORDS</td>\n",
       "      <td>PWC OPT-921 3-COND 1.83m C13</td>\n",
       "      <td>1.08</td>\n",
       "    </tr>\n",
       "    <tr>\n",
       "      <th>...</th>\n",
       "      <td>...</td>\n",
       "      <td>...</td>\n",
       "      <td>...</td>\n",
       "      <td>...</td>\n",
       "      <td>...</td>\n",
       "      <td>...</td>\n",
       "    </tr>\n",
       "    <tr>\n",
       "      <th>12961</th>\n",
       "      <td>N26505-001</td>\n",
       "      <td>14.8</td>\n",
       "      <td>2022-10-06</td>\n",
       "      <td>eMMC</td>\n",
       "      <td>UFS 128GB v3.0</td>\n",
       "      <td>14.80</td>\n",
       "    </tr>\n",
       "    <tr>\n",
       "      <th>12962</th>\n",
       "      <td>N26504-001</td>\n",
       "      <td>28</td>\n",
       "      <td>2022-10-06</td>\n",
       "      <td>eMMC</td>\n",
       "      <td>UFS 256GB v3.0</td>\n",
       "      <td>28.00</td>\n",
       "    </tr>\n",
       "    <tr>\n",
       "      <th>12963</th>\n",
       "      <td>N26506-001</td>\n",
       "      <td>28</td>\n",
       "      <td>2022-10-06</td>\n",
       "      <td>eMMC</td>\n",
       "      <td>UFS 256GB v3.0</td>\n",
       "      <td>28.00</td>\n",
       "    </tr>\n",
       "    <tr>\n",
       "      <th>12964</th>\n",
       "      <td>N26951-N01</td>\n",
       "      <td>49</td>\n",
       "      <td>2022-10-06</td>\n",
       "      <td>CHIPSET</td>\n",
       "      <td>Chipset C741</td>\n",
       "      <td>49.00</td>\n",
       "    </tr>\n",
       "    <tr>\n",
       "      <th>12965</th>\n",
       "      <td>N27137-380</td>\n",
       "      <td>21.76</td>\n",
       "      <td>2022-10-06</td>\n",
       "      <td>WEBCAM</td>\n",
       "      <td>2C DMC UB2 4MP IR - 2D4RT</td>\n",
       "      <td>21.76</td>\n",
       "    </tr>\n",
       "  </tbody>\n",
       "</table>\n",
       "<p>12966 rows × 6 columns</p>\n",
       "</div>"
      ],
      "text/plain": [
       "               PN  Price       date   Commodity  \\\n",
       "0      100613-021   1.57 2022-08-04  POWERCORDS   \n",
       "1      100614-016    1.5 2022-08-04  POWERCORDS   \n",
       "2      100661-001    1.6 2022-08-04  POWERCORDS   \n",
       "3      100661-021   1.34 2022-08-04  POWERCORDS   \n",
       "4      109197-008   1.08 2022-08-04  POWERCORDS   \n",
       "...           ...    ...        ...         ...   \n",
       "12961  N26505-001   14.8 2022-10-06        eMMC   \n",
       "12962  N26504-001     28 2022-10-06        eMMC   \n",
       "12963  N26506-001     28 2022-10-06        eMMC   \n",
       "12964  N26951-N01     49 2022-10-06     CHIPSET   \n",
       "12965  N27137-380  21.76 2022-10-06      WEBCAM   \n",
       "\n",
       "                               Descr  Price_mean  \n",
       "0        PWC C13 1.0m tag Premium UK        1.57  \n",
       "1      PWC C13 1.0m tag Premium EURO        1.50  \n",
       "2       PWC OPT-901 3-COND 1.83m C13        1.60  \n",
       "3      PWC C13 1.0m tag Premium AUST        1.34  \n",
       "4       PWC OPT-921 3-COND 1.83m C13        1.08  \n",
       "...                              ...         ...  \n",
       "12961                 UFS 128GB v3.0       14.80  \n",
       "12962                 UFS 256GB v3.0       28.00  \n",
       "12963                 UFS 256GB v3.0       28.00  \n",
       "12964                   Chipset C741       49.00  \n",
       "12965      2C DMC UB2 4MP IR - 2D4RT       21.76  \n",
       "\n",
       "[12966 rows x 6 columns]"
      ]
     },
     "execution_count": 16,
     "metadata": {},
     "output_type": "execute_result"
    }
   ],
   "source": [
    "totalESC_1"
   ]
  },
  {
   "cell_type": "code",
   "execution_count": 20,
   "metadata": {},
   "outputs": [],
   "source": [
    "totalESC_1['Price'] = totalESC_1['Price'].astype(float).round(2)\n",
    "totalESC_1['Price_mean'] = totalESC_1['Price_mean'].astype(float).round(2)"
   ]
  },
  {
   "cell_type": "code",
   "execution_count": 21,
   "metadata": {},
   "outputs": [
    {
     "data": {
      "text/html": [
       "<div>\n",
       "<style scoped>\n",
       "    .dataframe tbody tr th:only-of-type {\n",
       "        vertical-align: middle;\n",
       "    }\n",
       "\n",
       "    .dataframe tbody tr th {\n",
       "        vertical-align: top;\n",
       "    }\n",
       "\n",
       "    .dataframe thead th {\n",
       "        text-align: right;\n",
       "    }\n",
       "</style>\n",
       "<table border=\"1\" class=\"dataframe\">\n",
       "  <thead>\n",
       "    <tr style=\"text-align: right;\">\n",
       "      <th></th>\n",
       "      <th>PN</th>\n",
       "      <th>Price</th>\n",
       "      <th>date</th>\n",
       "      <th>Commodity</th>\n",
       "      <th>Descr</th>\n",
       "      <th>Price_mean</th>\n",
       "    </tr>\n",
       "  </thead>\n",
       "  <tbody>\n",
       "    <tr>\n",
       "      <th>0</th>\n",
       "      <td>100613-021</td>\n",
       "      <td>1.57</td>\n",
       "      <td>2022-08-04</td>\n",
       "      <td>POWERCORDS</td>\n",
       "      <td>PWC C13 1.0m tag Premium UK</td>\n",
       "      <td>1.57</td>\n",
       "    </tr>\n",
       "    <tr>\n",
       "      <th>1</th>\n",
       "      <td>100614-016</td>\n",
       "      <td>1.50</td>\n",
       "      <td>2022-08-04</td>\n",
       "      <td>POWERCORDS</td>\n",
       "      <td>PWC C13 1.0m tag Premium EURO</td>\n",
       "      <td>1.50</td>\n",
       "    </tr>\n",
       "    <tr>\n",
       "      <th>2</th>\n",
       "      <td>100661-001</td>\n",
       "      <td>1.60</td>\n",
       "      <td>2022-08-04</td>\n",
       "      <td>POWERCORDS</td>\n",
       "      <td>PWC OPT-901 3-COND 1.83m C13</td>\n",
       "      <td>1.60</td>\n",
       "    </tr>\n",
       "    <tr>\n",
       "      <th>3</th>\n",
       "      <td>100661-021</td>\n",
       "      <td>1.34</td>\n",
       "      <td>2022-08-04</td>\n",
       "      <td>POWERCORDS</td>\n",
       "      <td>PWC C13 1.0m tag Premium AUST</td>\n",
       "      <td>1.34</td>\n",
       "    </tr>\n",
       "    <tr>\n",
       "      <th>4</th>\n",
       "      <td>109197-008</td>\n",
       "      <td>1.08</td>\n",
       "      <td>2022-08-04</td>\n",
       "      <td>POWERCORDS</td>\n",
       "      <td>PWC OPT-921 3-COND 1.83m C13</td>\n",
       "      <td>1.08</td>\n",
       "    </tr>\n",
       "    <tr>\n",
       "      <th>...</th>\n",
       "      <td>...</td>\n",
       "      <td>...</td>\n",
       "      <td>...</td>\n",
       "      <td>...</td>\n",
       "      <td>...</td>\n",
       "      <td>...</td>\n",
       "    </tr>\n",
       "    <tr>\n",
       "      <th>12961</th>\n",
       "      <td>N26505-001</td>\n",
       "      <td>14.80</td>\n",
       "      <td>2022-10-06</td>\n",
       "      <td>eMMC</td>\n",
       "      <td>UFS 128GB v3.0</td>\n",
       "      <td>14.80</td>\n",
       "    </tr>\n",
       "    <tr>\n",
       "      <th>12962</th>\n",
       "      <td>N26504-001</td>\n",
       "      <td>28.00</td>\n",
       "      <td>2022-10-06</td>\n",
       "      <td>eMMC</td>\n",
       "      <td>UFS 256GB v3.0</td>\n",
       "      <td>28.00</td>\n",
       "    </tr>\n",
       "    <tr>\n",
       "      <th>12963</th>\n",
       "      <td>N26506-001</td>\n",
       "      <td>28.00</td>\n",
       "      <td>2022-10-06</td>\n",
       "      <td>eMMC</td>\n",
       "      <td>UFS 256GB v3.0</td>\n",
       "      <td>28.00</td>\n",
       "    </tr>\n",
       "    <tr>\n",
       "      <th>12964</th>\n",
       "      <td>N26951-N01</td>\n",
       "      <td>49.00</td>\n",
       "      <td>2022-10-06</td>\n",
       "      <td>CHIPSET</td>\n",
       "      <td>Chipset C741</td>\n",
       "      <td>49.00</td>\n",
       "    </tr>\n",
       "    <tr>\n",
       "      <th>12965</th>\n",
       "      <td>N27137-380</td>\n",
       "      <td>21.76</td>\n",
       "      <td>2022-10-06</td>\n",
       "      <td>WEBCAM</td>\n",
       "      <td>2C DMC UB2 4MP IR - 2D4RT</td>\n",
       "      <td>21.76</td>\n",
       "    </tr>\n",
       "  </tbody>\n",
       "</table>\n",
       "<p>12966 rows × 6 columns</p>\n",
       "</div>"
      ],
      "text/plain": [
       "               PN  Price       date   Commodity  \\\n",
       "0      100613-021   1.57 2022-08-04  POWERCORDS   \n",
       "1      100614-016   1.50 2022-08-04  POWERCORDS   \n",
       "2      100661-001   1.60 2022-08-04  POWERCORDS   \n",
       "3      100661-021   1.34 2022-08-04  POWERCORDS   \n",
       "4      109197-008   1.08 2022-08-04  POWERCORDS   \n",
       "...           ...    ...        ...         ...   \n",
       "12961  N26505-001  14.80 2022-10-06        eMMC   \n",
       "12962  N26504-001  28.00 2022-10-06        eMMC   \n",
       "12963  N26506-001  28.00 2022-10-06        eMMC   \n",
       "12964  N26951-N01  49.00 2022-10-06     CHIPSET   \n",
       "12965  N27137-380  21.76 2022-10-06      WEBCAM   \n",
       "\n",
       "                               Descr  Price_mean  \n",
       "0        PWC C13 1.0m tag Premium UK        1.57  \n",
       "1      PWC C13 1.0m tag Premium EURO        1.50  \n",
       "2       PWC OPT-901 3-COND 1.83m C13        1.60  \n",
       "3      PWC C13 1.0m tag Premium AUST        1.34  \n",
       "4       PWC OPT-921 3-COND 1.83m C13        1.08  \n",
       "...                              ...         ...  \n",
       "12961                 UFS 128GB v3.0       14.80  \n",
       "12962                 UFS 256GB v3.0       28.00  \n",
       "12963                 UFS 256GB v3.0       28.00  \n",
       "12964                   Chipset C741       49.00  \n",
       "12965      2C DMC UB2 4MP IR - 2D4RT       21.76  \n",
       "\n",
       "[12966 rows x 6 columns]"
      ]
     },
     "execution_count": 21,
     "metadata": {},
     "output_type": "execute_result"
    }
   ],
   "source": [
    "totalESC_1"
   ]
  },
  {
   "cell_type": "code",
   "execution_count": 22,
   "metadata": {},
   "outputs": [],
   "source": [
    "writer = pd.ExcelWriter(Path(home, 'HP Inc', 'GPSTW SOP - 2021 日新','Project team','ESC', 'ESCtotal_averagePrice.xlsx'), datetime_format = 'yyyy-mm-dd')\n",
    "totalESC_1.to_excel(writer, index = False)\n",
    "writer.close()"
   ]
  },
  {
   "cell_type": "code",
   "execution_count": 19,
   "metadata": {},
   "outputs": [
    {
     "ename": "KeyError",
     "evalue": "'Price_x'",
     "output_type": "error",
     "traceback": [
      "\u001b[1;31m---------------------------------------------------------------------------\u001b[0m",
      "\u001b[1;31mKeyError\u001b[0m                                  Traceback (most recent call last)",
      "\u001b[1;32mc:\\Users\\lulo\\Anaconda3\\lib\\site-packages\\pandas\\core\\indexes\\base.py\u001b[0m in \u001b[0;36mget_loc\u001b[1;34m(self, key, method, tolerance)\u001b[0m\n\u001b[0;32m   3799\u001b[0m             \u001b[1;32mtry\u001b[0m\u001b[1;33m:\u001b[0m\u001b[1;33m\u001b[0m\u001b[1;33m\u001b[0m\u001b[0m\n\u001b[1;32m-> 3800\u001b[1;33m                 \u001b[1;32mreturn\u001b[0m \u001b[0mself\u001b[0m\u001b[1;33m.\u001b[0m\u001b[0m_engine\u001b[0m\u001b[1;33m.\u001b[0m\u001b[0mget_loc\u001b[0m\u001b[1;33m(\u001b[0m\u001b[0mcasted_key\u001b[0m\u001b[1;33m)\u001b[0m\u001b[1;33m\u001b[0m\u001b[1;33m\u001b[0m\u001b[0m\n\u001b[0m\u001b[0;32m   3801\u001b[0m             \u001b[1;32mexcept\u001b[0m \u001b[0mKeyError\u001b[0m \u001b[1;32mas\u001b[0m \u001b[0merr\u001b[0m\u001b[1;33m:\u001b[0m\u001b[1;33m\u001b[0m\u001b[1;33m\u001b[0m\u001b[0m\n",
      "\u001b[1;32mc:\\Users\\lulo\\Anaconda3\\lib\\site-packages\\pandas\\_libs\\index.pyx\u001b[0m in \u001b[0;36mpandas._libs.index.IndexEngine.get_loc\u001b[1;34m()\u001b[0m\n",
      "\u001b[1;32mc:\\Users\\lulo\\Anaconda3\\lib\\site-packages\\pandas\\_libs\\index.pyx\u001b[0m in \u001b[0;36mpandas._libs.index.IndexEngine.get_loc\u001b[1;34m()\u001b[0m\n",
      "\u001b[1;32mpandas\\_libs\\hashtable_class_helper.pxi\u001b[0m in \u001b[0;36mpandas._libs.hashtable.PyObjectHashTable.get_item\u001b[1;34m()\u001b[0m\n",
      "\u001b[1;32mpandas\\_libs\\hashtable_class_helper.pxi\u001b[0m in \u001b[0;36mpandas._libs.hashtable.PyObjectHashTable.get_item\u001b[1;34m()\u001b[0m\n",
      "\u001b[1;31mKeyError\u001b[0m: 'Price_x'",
      "\nThe above exception was the direct cause of the following exception:\n",
      "\u001b[1;31mKeyError\u001b[0m                                  Traceback (most recent call last)",
      "\u001b[1;32m~\\AppData\\Local\\Temp/ipykernel_30904/713954931.py\u001b[0m in \u001b[0;36m<module>\u001b[1;34m\u001b[0m\n\u001b[1;32m----> 1\u001b[1;33m \u001b[0mtotalESC_1\u001b[0m\u001b[1;33m[\u001b[0m\u001b[0mtotalESC_1\u001b[0m\u001b[1;33m[\u001b[0m\u001b[1;34m'Price_x'\u001b[0m\u001b[1;33m]\u001b[0m \u001b[1;33m!=\u001b[0m \u001b[0mtotalESC_1\u001b[0m\u001b[1;33m[\u001b[0m\u001b[1;34m'Price_y'\u001b[0m\u001b[1;33m]\u001b[0m\u001b[1;33m]\u001b[0m\u001b[1;33m.\u001b[0m\u001b[0mreset_index\u001b[0m\u001b[1;33m(\u001b[0m\u001b[0mdrop\u001b[0m\u001b[1;33m=\u001b[0m \u001b[1;32mTrue\u001b[0m\u001b[1;33m)\u001b[0m\u001b[1;33m\u001b[0m\u001b[1;33m\u001b[0m\u001b[0m\n\u001b[0m",
      "\u001b[1;32mc:\\Users\\lulo\\Anaconda3\\lib\\site-packages\\pandas\\core\\frame.py\u001b[0m in \u001b[0;36m__getitem__\u001b[1;34m(self, key)\u001b[0m\n\u001b[0;32m   3803\u001b[0m             \u001b[1;32mif\u001b[0m \u001b[0mself\u001b[0m\u001b[1;33m.\u001b[0m\u001b[0mcolumns\u001b[0m\u001b[1;33m.\u001b[0m\u001b[0mnlevels\u001b[0m \u001b[1;33m>\u001b[0m \u001b[1;36m1\u001b[0m\u001b[1;33m:\u001b[0m\u001b[1;33m\u001b[0m\u001b[1;33m\u001b[0m\u001b[0m\n\u001b[0;32m   3804\u001b[0m                 \u001b[1;32mreturn\u001b[0m \u001b[0mself\u001b[0m\u001b[1;33m.\u001b[0m\u001b[0m_getitem_multilevel\u001b[0m\u001b[1;33m(\u001b[0m\u001b[0mkey\u001b[0m\u001b[1;33m)\u001b[0m\u001b[1;33m\u001b[0m\u001b[1;33m\u001b[0m\u001b[0m\n\u001b[1;32m-> 3805\u001b[1;33m             \u001b[0mindexer\u001b[0m \u001b[1;33m=\u001b[0m \u001b[0mself\u001b[0m\u001b[1;33m.\u001b[0m\u001b[0mcolumns\u001b[0m\u001b[1;33m.\u001b[0m\u001b[0mget_loc\u001b[0m\u001b[1;33m(\u001b[0m\u001b[0mkey\u001b[0m\u001b[1;33m)\u001b[0m\u001b[1;33m\u001b[0m\u001b[1;33m\u001b[0m\u001b[0m\n\u001b[0m\u001b[0;32m   3806\u001b[0m             \u001b[1;32mif\u001b[0m \u001b[0mis_integer\u001b[0m\u001b[1;33m(\u001b[0m\u001b[0mindexer\u001b[0m\u001b[1;33m)\u001b[0m\u001b[1;33m:\u001b[0m\u001b[1;33m\u001b[0m\u001b[1;33m\u001b[0m\u001b[0m\n\u001b[0;32m   3807\u001b[0m                 \u001b[0mindexer\u001b[0m \u001b[1;33m=\u001b[0m \u001b[1;33m[\u001b[0m\u001b[0mindexer\u001b[0m\u001b[1;33m]\u001b[0m\u001b[1;33m\u001b[0m\u001b[1;33m\u001b[0m\u001b[0m\n",
      "\u001b[1;32mc:\\Users\\lulo\\Anaconda3\\lib\\site-packages\\pandas\\core\\indexes\\base.py\u001b[0m in \u001b[0;36mget_loc\u001b[1;34m(self, key, method, tolerance)\u001b[0m\n\u001b[0;32m   3800\u001b[0m                 \u001b[1;32mreturn\u001b[0m \u001b[0mself\u001b[0m\u001b[1;33m.\u001b[0m\u001b[0m_engine\u001b[0m\u001b[1;33m.\u001b[0m\u001b[0mget_loc\u001b[0m\u001b[1;33m(\u001b[0m\u001b[0mcasted_key\u001b[0m\u001b[1;33m)\u001b[0m\u001b[1;33m\u001b[0m\u001b[1;33m\u001b[0m\u001b[0m\n\u001b[0;32m   3801\u001b[0m             \u001b[1;32mexcept\u001b[0m \u001b[0mKeyError\u001b[0m \u001b[1;32mas\u001b[0m \u001b[0merr\u001b[0m\u001b[1;33m:\u001b[0m\u001b[1;33m\u001b[0m\u001b[1;33m\u001b[0m\u001b[0m\n\u001b[1;32m-> 3802\u001b[1;33m                 \u001b[1;32mraise\u001b[0m \u001b[0mKeyError\u001b[0m\u001b[1;33m(\u001b[0m\u001b[0mkey\u001b[0m\u001b[1;33m)\u001b[0m \u001b[1;32mfrom\u001b[0m \u001b[0merr\u001b[0m\u001b[1;33m\u001b[0m\u001b[1;33m\u001b[0m\u001b[0m\n\u001b[0m\u001b[0;32m   3803\u001b[0m             \u001b[1;32mexcept\u001b[0m \u001b[0mTypeError\u001b[0m\u001b[1;33m:\u001b[0m\u001b[1;33m\u001b[0m\u001b[1;33m\u001b[0m\u001b[0m\n\u001b[0;32m   3804\u001b[0m                 \u001b[1;31m# If we have a listlike key, _check_indexing_error will raise\u001b[0m\u001b[1;33m\u001b[0m\u001b[1;33m\u001b[0m\u001b[0m\n",
      "\u001b[1;31mKeyError\u001b[0m: 'Price_x'"
     ]
    }
   ],
   "source": [
    "totalESC_1[totalESC_1['Price_x'] != totalESC_1['Price_y']].reset_index(drop= True)"
   ]
  },
  {
   "cell_type": "code",
   "execution_count": null,
   "metadata": {},
   "outputs": [],
   "source": []
  }
 ],
 "metadata": {
  "kernelspec": {
   "display_name": "Python 3.9.7 ('base')",
   "language": "python",
   "name": "python3"
  },
  "language_info": {
   "codemirror_mode": {
    "name": "ipython",
    "version": 3
   },
   "file_extension": ".py",
   "mimetype": "text/x-python",
   "name": "python",
   "nbconvert_exporter": "python",
   "pygments_lexer": "ipython3",
   "version": "3.9.7"
  },
  "orig_nbformat": 4,
  "vscode": {
   "interpreter": {
    "hash": "8e02d24046ff8f825816fb6da80a86461c9056b097b2711746cf851ec30621b7"
   }
  }
 },
 "nbformat": 4,
 "nbformat_minor": 2
}
