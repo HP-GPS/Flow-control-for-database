{
 "cells": [
  {
   "cell_type": "code",
   "execution_count": 1,
   "metadata": {},
   "outputs": [],
   "source": [
    "import pyodbc\n",
    "import pandas as pd\n",
    "from pathlib import Path\n",
    "from datetime import date\n",
    "import numpy as np\n",
    "import win32com.client as win32\n"
   ]
  },
  {
   "cell_type": "code",
   "execution_count": 2,
   "metadata": {},
   "outputs": [
    {
     "name": "stdout",
     "output_type": "stream",
     "text": [
      "2024-05-01\n"
     ]
    }
   ],
   "source": [
    "if (date.today()- pd.DateOffset(days=1)).weekday() == 6:\n",
    "    today = (date.today()- pd.DateOffset(days=3)).strftime('%Y-%m-%d')\n",
    "else:\n",
    "    today = (date.today()- pd.DateOffset(days=1)).strftime('%Y-%m-%d')\n",
    "print(today)"
   ]
  },
  {
   "cell_type": "markdown",
   "metadata": {},
   "source": [
    "### get external data"
   ]
  },
  {
   "cell_type": "code",
   "execution_count": 4,
   "metadata": {},
   "outputs": [],
   "source": [
    "# connection\n",
    "conn = pyodbc.connect('Driver={SQL Server Native Client 11.0}; Server=g7w11206g.inc.hpicorp.net; Database=CSI; Trusted_Connection=Yes;')\n",
    "cursor = conn.cursor()\n",
    "\n",
    "# download shortge from SQL\n",
    "cursor.execute(f\"SELECT * FROM OPS.GPS_tbl_ops_shortage_ext where ReportDate = '{today}'\")\n",
    "shortage_ext = pd.DataFrame.from_records(cursor.fetchall(), columns = [i[0] for i in cursor.description])\n",
    "shortage_ext['HP_PN'] = shortage_ext['HP_PN'].str.replace('\\n', ',', regex=False)\n",
    "shortage_ext['FV'] = shortage_ext['FV'].str.replace('\\n', ',', regex=False)\n",
    "\n",
    "# download PNFV from SQL\n",
    "cursor.execute(\"SELECT * FROM OPS.GPS_tbl_ops_PN_FV\")\n",
    "PNFV = pd.DataFrame.from_records(cursor.fetchall(), columns = [i[0] for i in cursor.description])\n",
    "PNFV = PNFV.rename({'Descr':'FV'})"
   ]
  },
  {
   "cell_type": "code",
   "execution_count": 5,
   "metadata": {},
   "outputs": [
    {
     "name": "stderr",
     "output_type": "stream",
     "text": [
      "C:\\Users\\hsudu\\AppData\\Local\\Temp\\ipykernel_5332\\3884976303.py:7: SettingWithCopyWarning: \n",
      "A value is trying to be set on a copy of a slice from a DataFrame.\n",
      "Try using .loc[row_indexer,col_indexer] = value instead\n",
      "\n",
      "See the caveats in the documentation: https://pandas.pydata.org/pandas-docs/stable/user_guide/indexing.html#returning-a-view-versus-a-copy\n",
      "  ext_CPU['Supplier'] = np.where(ext_CPU['FV'].str.contains('INTEL', case=False), 'INTEL', 'AMD')\n"
     ]
    }
   ],
   "source": [
    "# group bu commodity and count the len of each group\n",
    "shortage_ext = shortage_ext[shortage_ext['P1'] != 0]\n",
    "ext_count = shortage_ext.groupby(['Commodity']).size().reset_index(name='Count')\n",
    "\n",
    "# CPU need to add supplier\n",
    "ext_CPU = shortage_ext[shortage_ext['Commodity'] == 'CPU']\n",
    "ext_CPU['Supplier'] = np.where(ext_CPU['FV'].str.contains('INTEL', case=False), 'INTEL', 'AMD')\n",
    "ext_CPU_group = ext_CPU.groupby(['Commodity','Supplier']).size().reset_index(name='Count')\n",
    "ext_CPU_group['Commodity'] = ext_CPU_group['Supplier'] + ' ' +  ext_CPU_group['Commodity']\n",
    "ext_CPU_group.drop(columns=['Supplier'], inplace=True)"
   ]
  },
  {
   "cell_type": "markdown",
   "metadata": {},
   "source": [
    "### get internal data"
   ]
  },
  {
   "cell_type": "code",
   "execution_count": 6,
   "metadata": {},
   "outputs": [
    {
     "name": "stdout",
     "output_type": "stream",
     "text": [
      "No empty value in Commodity\n"
     ]
    }
   ],
   "source": [
    "# connection\n",
    "conn = pyodbc.connect('Driver={SQL Server Native Client 11.0}; Server=g7w11206g.inc.hpicorp.net; Database=CSI; Trusted_Connection=Yes;')\n",
    "cursor = conn.cursor()\n",
    "# download shortge from SQL\n",
    "cursor.execute(f\"SELECT * FROM OPS.GPS_view_ops_critical_shortage_overview where [Report Date] = '{today}'\")\n",
    "internal = pd.DataFrame.from_records(cursor.fetchall(), columns = [i[0] for i in cursor.description])\n",
    "# check if there is empty value in Commodity\n",
    "if internal.Commodity.isna().any():\n",
    "    print(internal[internal.Commodity.isna()])\n",
    "else:\n",
    "    print('No empty value in Commodity')"
   ]
  },
  {
   "cell_type": "code",
   "execution_count": 7,
   "metadata": {},
   "outputs": [
    {
     "name": "stderr",
     "output_type": "stream",
     "text": [
      "C:\\Users\\hsudu\\AppData\\Local\\Temp\\ipykernel_5332\\1167734445.py:7: SettingWithCopyWarning: \n",
      "A value is trying to be set on a copy of a slice from a DataFrame.\n",
      "Try using .loc[row_indexer,col_indexer] = value instead\n",
      "\n",
      "See the caveats in the documentation: https://pandas.pydata.org/pandas-docs/stable/user_guide/indexing.html#returning-a-view-versus-a-copy\n",
      "  int_CPU['Supplier'] = np.where(int_CPU['FV Des'].str.contains('INTEL', case=False), 'INTEL', 'AMD')\n"
     ]
    }
   ],
   "source": [
    "# drop the rows with 'Delete' == 'Y' and group by Commodity\n",
    "internal = internal[(~(internal['Delete'] == 'Y'))]\n",
    "int_counts = internal.groupby(['Commodity']).size().reset_index(name='Count')\n",
    "\n",
    "# CPU need to add supplier\n",
    "int_CPU = internal[internal['Commodity'] == 'CPU']\n",
    "int_CPU['Supplier'] = np.where(int_CPU['FV Des'].str.contains('INTEL', case=False), 'INTEL', 'AMD')\n",
    "int_CPU_group = int_CPU.groupby(['Commodity','Supplier']).size().reset_index(name='Count')\n",
    "int_CPU_group['Commodity'] = int_CPU_group['Supplier'] + ' ' +  int_CPU_group['Commodity']\n",
    "int_CPU_group.drop(columns=['Supplier'], inplace=True)"
   ]
  },
  {
   "cell_type": "code",
   "execution_count": 8,
   "metadata": {},
   "outputs": [
    {
     "name": "stdout",
     "output_type": "stream",
     "text": [
      "0\n"
     ]
    }
   ],
   "source": [
    "CQODM = ['CQQCI', 'CQIEC', 'CQWIS', 'TWIEC', 'L_WHFXN', 'CQPCQ', 'MSI', 'PCQ', 'PCP', 'WHFXN_L5', 'PSZ', 'FLH', 'TWQCI', 'SZBYD']\n",
    "WHODM = ['WHFXN']\n",
    "KSODM = ['CEI']\n",
    "THODM = ['THQCI','THIEC']\n",
    "MXODM = ['IMX']\n",
    "\n",
    "ODM_list = CQODM + WHODM + KSODM + THODM + MXODM\n",
    "\n",
    "incorrect_ODM = []\n",
    "for index in internal.index:\n",
    "    if internal.loc[index,'ODM'] not in ODM_list:\n",
    "        incorrect_ODM.append(internal.loc[index,:])\n",
    "    else:\n",
    "        pass\n",
    "\n",
    "incorrect_ODM = pd.DataFrame(incorrect_ODM)\n",
    "try:\n",
    "    incorrect_ODM = incorrect_ODM[['Buyer Name','Commodity','ODM']]\n",
    "except:\n",
    "    pass\n",
    "print(len(incorrect_ODM))"
   ]
  },
  {
   "cell_type": "code",
   "execution_count": 9,
   "metadata": {},
   "outputs": [
    {
     "name": "stdout",
     "output_type": "stream",
     "text": [
      "0\n"
     ]
    }
   ],
   "source": [
    "Commodity_list = ['AC ADAPTOR','AudioAMP','AudioCodec','BATTERY','CardReader','CHIPSET','CONNECTOR','CPU','EC','eMMC','Ethernet IC','GPU','GPU-Graphic Card','HDD','LanChip','LCD','Memory','NIC',\n",
    " 'ODD','POWERCORDS','PSU','Retimer','SIO','SSS','ThunderBT','TPM','TS','USBIC','VRAM','WEBCAM','WLAN','WWAN']\n",
    "\n",
    "incorrect_commodity = []\n",
    "for index in internal.index:\n",
    "    if internal.loc[index,'Commodity'] not in Commodity_list:\n",
    "        incorrect_commodity.append(internal.loc[index,:])\n",
    "    else:\n",
    "        pass\n",
    "\n",
    "incorrect_commodity = pd.DataFrame(incorrect_commodity)\n",
    "print(len(incorrect_commodity))"
   ]
  },
  {
   "cell_type": "markdown",
   "metadata": {},
   "source": [
    "### merge and compare internal with external"
   ]
  },
  {
   "cell_type": "code",
   "execution_count": 10,
   "metadata": {},
   "outputs": [],
   "source": [
    "df_compare = int_counts[int_counts['Commodity'] !='CPU'].merge(ext_count[ext_count['Commodity'] != 'CPU'], on=['Commodity'], how='outer',suffixes=('_int', '_ext'))\n",
    "df_compare_CPU = int_CPU_group.merge(ext_CPU_group, on=['Commodity'], how='outer',suffixes=('_int', '_ext'))\n",
    "df_compare = pd.concat([df_compare, df_compare_CPU], axis=0)"
   ]
  },
  {
   "cell_type": "code",
   "execution_count": 11,
   "metadata": {},
   "outputs": [
    {
     "data": {
      "text/html": [
       "<div>\n",
       "<style scoped>\n",
       "    .dataframe tbody tr th:only-of-type {\n",
       "        vertical-align: middle;\n",
       "    }\n",
       "\n",
       "    .dataframe tbody tr th {\n",
       "        vertical-align: top;\n",
       "    }\n",
       "\n",
       "    .dataframe thead th {\n",
       "        text-align: right;\n",
       "    }\n",
       "</style>\n",
       "<table border=\"1\" class=\"dataframe\">\n",
       "  <thead>\n",
       "    <tr style=\"text-align: right;\">\n",
       "      <th></th>\n",
       "      <th>Count_internal</th>\n",
       "      <th>Count_external</th>\n",
       "    </tr>\n",
       "    <tr>\n",
       "      <th>Commodity</th>\n",
       "      <th></th>\n",
       "      <th></th>\n",
       "    </tr>\n",
       "  </thead>\n",
       "  <tbody>\n",
       "    <tr>\n",
       "      <th>AudioCodec</th>\n",
       "      <td>1</td>\n",
       "      <td>0</td>\n",
       "    </tr>\n",
       "    <tr>\n",
       "      <th>PSU</th>\n",
       "      <td>8</td>\n",
       "      <td>0</td>\n",
       "    </tr>\n",
       "  </tbody>\n",
       "</table>\n",
       "</div>"
      ],
      "text/plain": [
       "            Count_internal  Count_external\n",
       "Commodity                                 \n",
       "AudioCodec               1               0\n",
       "PSU                      8               0"
      ]
     },
     "execution_count": 11,
     "metadata": {},
     "output_type": "execute_result"
    }
   ],
   "source": [
    "df_mismatch = df_compare[((df_compare['Count_int'].isnull()) & (df_compare['Count_ext'].notnull())) | ((df_compare['Count_int'].notnull()) & (df_compare['Count_ext'].isnull()))]\n",
    "df_mismatch.loc[:,['Count_int','Count_ext']] = df_mismatch.loc[:,['Count_int','Count_ext']].fillna(0)\n",
    "df_mismatch.set_index('Commodity', inplace=True)\n",
    "df_mismatch = df_mismatch.astype(int)\n",
    "df_mismatch.rename(columns={'Count_int':'Count_internal', 'Count_ext':'Count_external'}, inplace=True)\n",
    "df_mismatch"
   ]
  },
  {
   "cell_type": "code",
   "execution_count": 12,
   "metadata": {},
   "outputs": [],
   "source": [
    "if (len(df_mismatch) > 0 ) | (len(incorrect_ODM) > 0) | (len(incorrect_commodity) > 0):\n",
    "    # sent to list\n",
    "    To_list = 'gps.taiwan.nb.buy-sell@hp.com'\n",
    "    CC_list = 'spencer.cheng1@hp.com; dustin.hsu1@hp.com'\n",
    "\n",
    "    # start creating the email\n",
    "    mail = win32.Dispatch(\"Outlook.Application\").CreateItem(0)\n",
    "    mail.To = To_list\n",
    "    mail.CC = CC_list\n",
    "    mail.Subject = 'Internal/ External Report Misalignment alert' + '<Report date: ' + today + '>'\n",
    "\n",
    "    # Step 3: Highlight only the Commodity values\n",
    "    try:\n",
    "        for _ in df_mismatch.index:\n",
    "            df_mismatch.loc[_, 'Commodity'] = f'<span style=\"background-color: yellow;\">{_}</span>'\n",
    "        # df_mismatch['Commodity'] = df_mismatch['Commodity'].apply(lambda name: f'<span style=\"background-color: yellow;\">{name}</span>')\n",
    "        df_mismatch['Count_int'] = df_mismatch['Count_internal'].apply(lambda name: f'<font color = Red\">{name}</font>' if name == 0 else name)\n",
    "        df_mismatch['Count_ext'] = df_mismatch['Count_external'].apply(lambda name: f'<font color = Red\">{name}</font>' if name == 0 else name)\n",
    "    except:\n",
    "        pass\n",
    "\n",
    "    df_mismatch = df_mismatch.reindex(columns = ['Commodity','Count_int','Count_ext'])\n",
    "    # Step 4: Convert the DataFrame to HTML, allowing HTML content within cells\n",
    "    html_compare_2 = df_mismatch.to_html(escape=False, index=False)\n",
    "    try:\n",
    "        incorrect_ODM['ODM'] = incorrect_ODM['ODM'].apply(lambda name: f'<font color = Red\">{name}</font>')\n",
    "    except:\n",
    "        pass\n",
    "    try:\n",
    "        incorrect_commodity['Commodity'] = incorrect_commodity['Commodity'].apply(lambda name: f'<font color = Red\">{name}</font>')\n",
    "    except:\n",
    "        pass\n",
    "    # message --> use the html content from the previous step 1&2 to \n",
    "    signature = \"<br><br>Best Regards,<br>Newcomen Project Team\"\n",
    "    message = f\"\"\"Hi team,<br><br>Below information is <b><font color = 'blue'>misaligned/ missing</b></font> in external & internal reports on report date: <b><font color = 'blue'>{today}</b></font>,\n",
    "        please help to check and make amendment regardingliy.<br>{html_compare_2}<br><br>\n",
    "        Below data contains <b><font color = 'blue'>incorrect ODM name</b></font>, please delete the data and upload again with the correct ODM name.<br>{incorrect_ODM.to_html(escape=False, index=False)}<br><br>\n",
    "        Below data contains <b><font color = 'blue'>incorrect Commodity name</b></font>, data is deleted by project team, please upload the data with correct commodity name.<br>{incorrect_commodity.to_html(escape=False, index=False)}<br><br>\n",
    "        {signature}\"\"\"\n",
    "\n",
    "    # make sure email fully initialized, and only write after <body>\n",
    "    mail.GetInspector \n",
    "    index = mail.HTMLbody.find('>', mail.HTMLbody.find('<body')) \n",
    "\n",
    "    # generate email\n",
    "    mail.HTMLBody = message\n",
    "    mail.display()\n",
    "\n",
    "else:\n",
    "    print('No error found, no email sent')"
   ]
  },
  {
   "cell_type": "code",
   "execution_count": 13,
   "metadata": {},
   "outputs": [],
   "source": [
    "# connection\n",
    "conn = pyodbc.connect('Driver={SQL Server Native Client 11.0}; Server=g7w11206g.inc.hpicorp.net; Database=CSI; Trusted_Connection=Yes;')\n",
    "cursor = conn.cursor()\n",
    "\n",
    "# download shortge from SQL\n",
    "cursor.execute(f\"SELECT * FROM OPS.GPS_view_ops_critical_shortage_overview where [Report Date] = '{today}'\")\n",
    "shor = pd.DataFrame.from_records(cursor.fetchall(), columns = [i[0] for i in cursor.description])"
   ]
  },
  {
   "cell_type": "code",
   "execution_count": null,
   "metadata": {},
   "outputs": [],
   "source": []
  }
 ],
 "metadata": {
  "kernelspec": {
   "display_name": "Python 3",
   "language": "python",
   "name": "python3"
  },
  "language_info": {
   "codemirror_mode": {
    "name": "ipython",
    "version": 3
   },
   "file_extension": ".py",
   "mimetype": "text/x-python",
   "name": "python",
   "nbconvert_exporter": "python",
   "pygments_lexer": "ipython3",
   "version": "3.10.4"
  }
 },
 "nbformat": 4,
 "nbformat_minor": 2
}
