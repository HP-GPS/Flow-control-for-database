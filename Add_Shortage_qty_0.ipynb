{
 "cells": [
  {
   "cell_type": "code",
   "execution_count": 17,
   "metadata": {},
   "outputs": [],
   "source": [
    "import pandas as pd\n",
    "import pyodbc\n",
    "import os\n",
    "import datetime as dt\n",
    "import shutil"
   ]
  },
  {
   "cell_type": "code",
   "execution_count": 18,
   "metadata": {},
   "outputs": [],
   "source": [
    "# retrieve shortage qty from SQL, get unique list of FV/ODM in the past 6 months\n",
    "# compare with the FV/ODM list on the very day, get the difference list\n",
    "# amend qty 0 for the different list"
   ]
  },
  {
   "cell_type": "code",
   "execution_count": 19,
   "metadata": {},
   "outputs": [],
   "source": [
    "home = os.path.expanduser('~')\n",
    "today = dt.datetime.today().date()\n",
    "# retrieve date of 180 days ago\n",
    "target_date = today - dt.timedelta(days = 180)"
   ]
  },
  {
   "cell_type": "code",
   "execution_count": 20,
   "metadata": {},
   "outputs": [],
   "source": [
    "# # connect SQL server\n",
    "conn = pyodbc.connect('Driver={SQL Server Native Client 11.0}; Server=g7w11206g.inc.hpicorp.net; Database=CSI; Trusted_Connection=Yes;')\n",
    "cursor = conn.cursor()\n",
    "# query statement\n",
    "# select shortage data for the past 6 months with shortage qty not equal to zero\n",
    "Query = 'SELECT [ODM],[Item],[Commodity],[FV],[Platform],[HP_PN],[BuyerName] FROM OPS.GPS_tbl_ops_shortage_ext WHERE ReportDate >= ? AND [Total Shortage Qty] != 0'\n",
    "params = (target_date)\n",
    "cursor.execute(Query, params)\n",
    "shortage = pd.DataFrame.from_records(cursor.fetchall(), columns = [i[0] for i in cursor.description])\n",
    "# shortage.columns = ['ODM','Item','Commodity','FV','Platform','P1','Net P2','Net P3','Total Shortage Qty','BT shortage','Working on upside','ReportDate','last FD date','HP_PN','BuyerName']\n",
    "cursor.close()\n",
    "conn.close()"
   ]
  },
  {
   "cell_type": "code",
   "execution_count": 21,
   "metadata": {},
   "outputs": [
    {
     "name": "stdout",
     "output_type": "stream",
     "text": [
      "21778\n"
     ]
    }
   ],
   "source": [
    "print(len(shortage))"
   ]
  },
  {
   "cell_type": "code",
   "execution_count": 22,
   "metadata": {},
   "outputs": [
    {
     "name": "stdout",
     "output_type": "stream",
     "text": [
      "8191\n"
     ]
    }
   ],
   "source": [
    "shortage['len'] = shortage['HP_PN'].apply(lambda x: len(x))\n",
    "shortage.sort_values(by = 'len', inplace = True, ascending=True)\n",
    "shortage.drop(columns = 'len', inplace = True)\n",
    "shortage = shortage.drop_duplicates(keep = 'last')\n",
    "print(len(shortage))"
   ]
  },
  {
   "cell_type": "code",
   "execution_count": 23,
   "metadata": {},
   "outputs": [
    {
     "name": "stdout",
     "output_type": "stream",
     "text": [
      "1271\n"
     ]
    }
   ],
   "source": [
    "shortage = shortage.drop_duplicates(subset = ['ODM','Commodity','FV'],keep = 'last')\n",
    "print(len(shortage))\n",
    "shortage_tmp = shortage[['ODM','Commodity','FV']]"
   ]
  },
  {
   "cell_type": "code",
   "execution_count": 24,
   "metadata": {},
   "outputs": [],
   "source": [
    "today_shortage = pd.read_excel(os.path.join(home, 'Desktop', 'shortage_all.xlsx'), sheet_name='Sheet1' )\n",
    "today_shortage = today_shortage[['ODM','Commodity','FV']]"
   ]
  },
  {
   "cell_type": "code",
   "execution_count": 25,
   "metadata": {},
   "outputs": [],
   "source": [
    "merge = shortage_tmp.merge(today_shortage, on = ['ODM','Commodity','FV'], how = 'outer', indicator= True)"
   ]
  },
  {
   "cell_type": "code",
   "execution_count": 26,
   "metadata": {},
   "outputs": [
    {
     "name": "stdout",
     "output_type": "stream",
     "text": [
      "966\n",
      "40\n",
      "372\n"
     ]
    }
   ],
   "source": [
    "print(len(merge[merge['_merge'] == 'left_only']))\n",
    "print(len(merge[merge['_merge'] == 'right_only']))\n",
    "print(len(merge[merge['_merge'] == 'both']))"
   ]
  },
  {
   "cell_type": "code",
   "execution_count": 27,
   "metadata": {},
   "outputs": [],
   "source": [
    "amend_data = merge[merge['_merge'] == 'left_only'].drop(columns = '_merge').reset_index(drop = True)\n",
    "amend_data = amend_data.merge(shortage, on = ['ODM','Commodity','FV'], how = 'left')\n",
    "# amend_data['Total Shortage Qty'] = 0\n",
    "amend_data['ReportDate'] = today\n",
    "amend_data['last FD date'] = today\n",
    "amend_list = ['P1','Net P2','Net P3','Total Shortage Qty','BT shortage','Working on upside']\n",
    "for _ in amend_list:\n",
    "    amend_data[_] = 0\n"
   ]
  },
  {
   "cell_type": "code",
   "execution_count": 28,
   "metadata": {},
   "outputs": [
    {
     "data": {
      "text/html": [
       "<div>\n",
       "<style scoped>\n",
       "    .dataframe tbody tr th:only-of-type {\n",
       "        vertical-align: middle;\n",
       "    }\n",
       "\n",
       "    .dataframe tbody tr th {\n",
       "        vertical-align: top;\n",
       "    }\n",
       "\n",
       "    .dataframe thead th {\n",
       "        text-align: right;\n",
       "    }\n",
       "</style>\n",
       "<table border=\"1\" class=\"dataframe\">\n",
       "  <thead>\n",
       "    <tr style=\"text-align: right;\">\n",
       "      <th></th>\n",
       "      <th>ODM</th>\n",
       "      <th>Commodity</th>\n",
       "      <th>FV</th>\n",
       "      <th>Item</th>\n",
       "      <th>Platform</th>\n",
       "      <th>HP_PN</th>\n",
       "      <th>BuyerName</th>\n",
       "      <th>ReportDate</th>\n",
       "      <th>last FD date</th>\n",
       "      <th>P1</th>\n",
       "      <th>Net P2</th>\n",
       "      <th>Net P3</th>\n",
       "      <th>Total Shortage Qty</th>\n",
       "      <th>BT shortage</th>\n",
       "      <th>Working on upside</th>\n",
       "    </tr>\n",
       "  </thead>\n",
       "  <tbody>\n",
       "    <tr>\n",
       "      <th>0</th>\n",
       "      <td>CQQCI</td>\n",
       "      <td>CPU</td>\n",
       "      <td>INTEL ALDERLAKE-U 7305</td>\n",
       "      <td>44.0</td>\n",
       "      <td>Digdug/RONIN14</td>\n",
       "      <td>N03113-N07</td>\n",
       "      <td>Rocky</td>\n",
       "      <td>2024-07-02</td>\n",
       "      <td>2024-07-02</td>\n",
       "      <td>0</td>\n",
       "      <td>0</td>\n",
       "      <td>0</td>\n",
       "      <td>0</td>\n",
       "      <td>0</td>\n",
       "      <td>0</td>\n",
       "    </tr>\n",
       "    <tr>\n",
       "      <th>1</th>\n",
       "      <td>CQIEC</td>\n",
       "      <td>POWERCORDS</td>\n",
       "      <td>PWRCORD C13 1.83M STKR CON INDIA GREY</td>\n",
       "      <td>10.0</td>\n",
       "      <td>BOGGLE</td>\n",
       "      <td>L97621-124</td>\n",
       "      <td>LinSharon</td>\n",
       "      <td>2024-07-02</td>\n",
       "      <td>2024-07-02</td>\n",
       "      <td>0</td>\n",
       "      <td>0</td>\n",
       "      <td>0</td>\n",
       "      <td>0</td>\n",
       "      <td>0</td>\n",
       "      <td>0</td>\n",
       "    </tr>\n",
       "    <tr>\n",
       "      <th>2</th>\n",
       "      <td>WHFXN</td>\n",
       "      <td>CardReader</td>\n",
       "      <td>4TB 7200 SATA ENT 3.5</td>\n",
       "      <td>19</td>\n",
       "      <td>Flatiron</td>\n",
       "      <td>M93943-001</td>\n",
       "      <td>TangWinnie</td>\n",
       "      <td>2024-07-02</td>\n",
       "      <td>2024-07-02</td>\n",
       "      <td>0</td>\n",
       "      <td>0</td>\n",
       "      <td>0</td>\n",
       "      <td>0</td>\n",
       "      <td>0</td>\n",
       "      <td>0</td>\n",
       "    </tr>\n",
       "    <tr>\n",
       "      <th>3</th>\n",
       "      <td>CQQCI</td>\n",
       "      <td>LCD</td>\n",
       "      <td>14WQXGA AG UWVA EDPPSR BENTNB DCI 120Hz 500N</td>\n",
       "      <td>20.0</td>\n",
       "      <td>Olaf 14 93H34AV/Oaken 14 93H35AV</td>\n",
       "      <td>M75057-392</td>\n",
       "      <td>FerngApple</td>\n",
       "      <td>2024-07-02</td>\n",
       "      <td>2024-07-02</td>\n",
       "      <td>0</td>\n",
       "      <td>0</td>\n",
       "      <td>0</td>\n",
       "      <td>0</td>\n",
       "      <td>0</td>\n",
       "      <td>0</td>\n",
       "    </tr>\n",
       "    <tr>\n",
       "      <th>4</th>\n",
       "      <td>CEI</td>\n",
       "      <td>Memory</td>\n",
       "      <td>LPDDR5 32Gb 6400 0.5v IC FBGA315</td>\n",
       "      <td>DDR411</td>\n",
       "      <td>Park 24C1/Thompson 24C1/Motto 24C1</td>\n",
       "      <td>M52547-392</td>\n",
       "      <td>JhangEmily</td>\n",
       "      <td>2024-07-02</td>\n",
       "      <td>2024-07-02</td>\n",
       "      <td>0</td>\n",
       "      <td>0</td>\n",
       "      <td>0</td>\n",
       "      <td>0</td>\n",
       "      <td>0</td>\n",
       "      <td>0</td>\n",
       "    </tr>\n",
       "  </tbody>\n",
       "</table>\n",
       "</div>"
      ],
      "text/plain": [
       "     ODM   Commodity                                            FV    Item  \\\n",
       "0  CQQCI         CPU                        INTEL ALDERLAKE-U 7305    44.0   \n",
       "1  CQIEC  POWERCORDS         PWRCORD C13 1.83M STKR CON INDIA GREY    10.0   \n",
       "2  WHFXN  CardReader                         4TB 7200 SATA ENT 3.5      19   \n",
       "3  CQQCI         LCD  14WQXGA AG UWVA EDPPSR BENTNB DCI 120Hz 500N    20.0   \n",
       "4    CEI      Memory              LPDDR5 32Gb 6400 0.5v IC FBGA315  DDR411   \n",
       "\n",
       "                             Platform       HP_PN   BuyerName  ReportDate  \\\n",
       "0                      Digdug/RONIN14  N03113-N07       Rocky  2024-07-02   \n",
       "1                              BOGGLE  L97621-124   LinSharon  2024-07-02   \n",
       "2                            Flatiron  M93943-001  TangWinnie  2024-07-02   \n",
       "3    Olaf 14 93H34AV/Oaken 14 93H35AV  M75057-392  FerngApple  2024-07-02   \n",
       "4  Park 24C1/Thompson 24C1/Motto 24C1  M52547-392  JhangEmily  2024-07-02   \n",
       "\n",
       "  last FD date  P1  Net P2  Net P3  Total Shortage Qty  BT shortage  \\\n",
       "0   2024-07-02   0       0       0                   0            0   \n",
       "1   2024-07-02   0       0       0                   0            0   \n",
       "2   2024-07-02   0       0       0                   0            0   \n",
       "3   2024-07-02   0       0       0                   0            0   \n",
       "4   2024-07-02   0       0       0                   0            0   \n",
       "\n",
       "   Working on upside  \n",
       "0                  0  \n",
       "1                  0  \n",
       "2                  0  \n",
       "3                  0  \n",
       "4                  0  "
      ]
     },
     "execution_count": 28,
     "metadata": {},
     "output_type": "execute_result"
    }
   ],
   "source": [
    "amend_data.head()"
   ]
  },
  {
   "cell_type": "code",
   "execution_count": 29,
   "metadata": {},
   "outputs": [],
   "source": [
    "amend_data.to_excel(os.path.join(home, 'amend_stge_zero.xlsx'))"
   ]
  },
  {
   "cell_type": "code",
   "execution_count": 32,
   "metadata": {},
   "outputs": [
    {
     "name": "stdout",
     "output_type": "stream",
     "text": [
      "Error on CQIEC,1,ODD,ODD DVD SATA 9.5mm Slim Tray,BOGGLE/BoggleR,0,0,0,0,0,0,2024-07-02 00:00:00,2024-07-02 00:00:00,849054-6C7,ManeeratKosit(Kosit-GPSThailand)\n"
     ]
    }
   ],
   "source": [
    "# upload amend data to SQL\n",
    "conn = pyodbc.connect('Driver={SQL Server Native Client 11.0}; Server=g7w11206g.inc.hpicorp.net; Database=CSI; Trusted_Connection=Yes;')\n",
    "cursor = conn.cursor()\n",
    "\n",
    "for index, row in amend_data.iterrows():\n",
    "    s_ODM = row['ODM']\n",
    "    s_Item = row['Item']\n",
    "    s_Commodity = row['Commodity']\n",
    "    s_FV = row['FV']\n",
    "    s_Platform = row['Platform']\n",
    "    s_P1 = row['P1']\n",
    "    s_P2 = row['Net P2']\n",
    "    s_P3 = row['Net P3']\n",
    "    s_Total = row['Total Shortage Qty']\n",
    "    s_BT = row['BT shortage']\n",
    "    s_working = row['Working on upside']\n",
    "    s_ReportDate = pd.to_datetime(row['ReportDate'])\n",
    "    s_lastFDdate = pd.to_datetime(row['last FD date'])\n",
    "    s_BuyerName = row['BuyerName']\n",
    "    s_PN = row['HP_PN']\n",
    "    try:\n",
    "        cursor.execute(f\"INSERT INTO CSI.OPS.GPS_tbl_ops_shortage_zero ( ODM,Item,Commodity,FV,Platform,P1,[Net P2],[Net P3],[Total Shortage Qty],[BT shortage],[Working on upside],ReportDate,[last FD date],HP_PN,BuyerName )\\\n",
    "                        VALUES('{s_ODM}','{s_Item}','{s_Commodity}','{s_FV}','{s_Platform}','{s_P1}','{s_P2}','{s_P3}','{s_Total}','{s_BT}','{s_working}','{s_ReportDate}','{s_lastFDdate}','{s_PN}','{s_BuyerName}')\".replace(\"'NaT'\", \"NULL\"))\n",
    "    except:\n",
    "        print(f'Error on {s_ODM},{s_Item},{s_Commodity},{s_FV},{s_Platform},{s_P1},{s_P2},{s_P3},{s_Total},{s_BT},{s_working},{s_ReportDate},{s_lastFDdate},{s_PN},{s_BuyerName}')\n",
    "\n",
    "conn.commit()\n",
    "conn.close()"
   ]
  },
  {
   "cell_type": "code",
   "execution_count": null,
   "metadata": {},
   "outputs": [],
   "source": [
    "# 超過180以前等於0的要刪掉，不然會無限長大\n",
    "# delte shortage = 0 where report date is before 180 days, otherwise, the database will grow up without limit"
   ]
  },
  {
   "cell_type": "code",
   "execution_count": null,
   "metadata": {},
   "outputs": [],
   "source": [
    "# # # connect SQL server\n",
    "# conn = pyodbc.connect('Driver={SQL Server Native Client 11.0}; Server=g7w11206g.inc.hpicorp.net; Database=CSI; Trusted_Connection=Yes;')\n",
    "# cursor = conn.cursor()\n",
    "# # query statement\n",
    "# Query = 'DELETE FROM OPS.GPS_tbl_ops_shortage_ext WHERE ReportDate <= ? AND [Total Shortage Qty] = 0'\n",
    "# params = (target_date)\n",
    "# cursor.execute(Query, params)\n",
    "# shortage = pd.DataFrame.from_records(cursor.fetchall(), columns = [i[0] for i in cursor.description])\n",
    "# # shortage.columns = ['ODM','Item','Commodity','FV','Platform','P1','Net P2','Net P3','Total Shortage Qty','BT shortage','Working on upside','ReportDate','last FD date','HP_PN','BuyerName']\n",
    "# cursor.close()\n",
    "# conn.close()"
   ]
  }
 ],
 "metadata": {
  "kernelspec": {
   "display_name": "Python 3",
   "language": "python",
   "name": "python3"
  },
  "language_info": {
   "codemirror_mode": {
    "name": "ipython",
    "version": 3
   },
   "file_extension": ".py",
   "mimetype": "text/x-python",
   "name": "python",
   "nbconvert_exporter": "python",
   "pygments_lexer": "ipython3",
   "version": "3.10.4"
  },
  "orig_nbformat": 4,
  "vscode": {
   "interpreter": {
    "hash": "cadcbe1cf7f77607d04fb86883766795fe82998168b094e073d163801885097d"
   }
  }
 },
 "nbformat": 4,
 "nbformat_minor": 2
}
