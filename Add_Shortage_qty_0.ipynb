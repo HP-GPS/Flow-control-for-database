{
 "cells": [
  {
   "cell_type": "code",
   "execution_count": 65,
   "metadata": {},
   "outputs": [],
   "source": [
    "import pandas as pd\n",
    "import pyodbc\n",
    "import os\n",
    "import datetime as dt\n",
    "import shutil"
   ]
  },
  {
   "cell_type": "code",
   "execution_count": 66,
   "metadata": {},
   "outputs": [],
   "source": [
    "# retrieve shortage qty from SQL, get unique list of FV/ODM in the past 6 months\n",
    "# compare with the FV/ODM list on the very day, get the difference list\n",
    "# amend qty 0 for the different list"
   ]
  },
  {
   "cell_type": "code",
   "execution_count": 67,
   "metadata": {},
   "outputs": [],
   "source": [
    "home = os.path.expanduser('~')\n",
    "today = dt.datetime.today().date()\n",
    "# retrieve date of 180 days ago\n",
    "target_date = today - dt.timedelta(days = 180)"
   ]
  },
  {
   "cell_type": "code",
   "execution_count": 68,
   "metadata": {},
   "outputs": [],
   "source": [
    "# # connect SQL server\n",
    "conn = pyodbc.connect('Driver={SQL Server Native Client 11.0}; Server=g7w11206g.inc.hpicorp.net; Database=CSI; Trusted_Connection=Yes;')\n",
    "cursor = conn.cursor()\n",
    "# query statement\n",
    "# select shortage data for the past 6 months with shortage qty not equal to zero\n",
    "Query = 'SELECT [ODM],[Item],[Commodity],[FV],[Platform],[HP_PN],[BuyerName] FROM OPS.GPS_tbl_ops_shortage_ext WHERE ReportDate >= ? AND [Total Shortage Qty] != 0'\n",
    "params = (target_date)\n",
    "cursor.execute(Query, params)\n",
    "shortage = pd.DataFrame.from_records(cursor.fetchall(), columns = [i[0] for i in cursor.description])\n",
    "# shortage.columns = ['ODM','Item','Commodity','FV','Platform','P1','Net P2','Net P3','Total Shortage Qty','BT shortage','Working on upside','ReportDate','last FD date','HP_PN','BuyerName']\n",
    "cursor.close()\n",
    "conn.close()"
   ]
  },
  {
   "cell_type": "code",
   "execution_count": 69,
   "metadata": {},
   "outputs": [
    {
     "name": "stdout",
     "output_type": "stream",
     "text": [
      "31324\n"
     ]
    }
   ],
   "source": [
    "print(len(shortage))"
   ]
  },
  {
   "cell_type": "code",
   "execution_count": 70,
   "metadata": {},
   "outputs": [
    {
     "name": "stdout",
     "output_type": "stream",
     "text": [
      "10985\n"
     ]
    }
   ],
   "source": [
    "shortage['len'] = shortage['HP_PN'].apply(lambda x: len(x))\n",
    "shortage.sort_values(by = 'len', inplace = True, ascending=True)\n",
    "shortage.drop(columns = 'len', inplace = True)\n",
    "shortage = shortage.drop_duplicates(keep = 'last')\n",
    "print(len(shortage))"
   ]
  },
  {
   "cell_type": "code",
   "execution_count": 71,
   "metadata": {},
   "outputs": [
    {
     "name": "stdout",
     "output_type": "stream",
     "text": [
      "1713\n"
     ]
    }
   ],
   "source": [
    "shortage = shortage.drop_duplicates(subset = ['ODM','Commodity','FV'],keep = 'last')\n",
    "print(len(shortage))\n",
    "shortage_tmp = shortage[['ODM','Commodity','FV']]"
   ]
  },
  {
   "cell_type": "code",
   "execution_count": 72,
   "metadata": {},
   "outputs": [],
   "source": [
    "today_shortage = pd.read_excel(os.path.join(home, 'Desktop', 'shortage_all.xlsx'), sheet_name='Sheet1' )\n",
    "today_shortage = today_shortage[['ODM','Commodity','FV']]"
   ]
  },
  {
   "cell_type": "code",
   "execution_count": 73,
   "metadata": {},
   "outputs": [],
   "source": [
    "merge = shortage_tmp.merge(today_shortage, on = ['ODM','Commodity','FV'], how = 'outer', indicator= True)"
   ]
  },
  {
   "cell_type": "code",
   "execution_count": 74,
   "metadata": {},
   "outputs": [
    {
     "name": "stdout",
     "output_type": "stream",
     "text": [
      "1381\n",
      "45\n",
      "360\n"
     ]
    }
   ],
   "source": [
    "print(len(merge[merge['_merge'] == 'left_only']))\n",
    "print(len(merge[merge['_merge'] == 'right_only']))\n",
    "print(len(merge[merge['_merge'] == 'both']))"
   ]
  },
  {
   "cell_type": "code",
   "execution_count": 75,
   "metadata": {},
   "outputs": [],
   "source": [
    "amend_data = merge[merge['_merge'] == 'left_only'].drop(columns = '_merge').reset_index(drop = True)\n",
    "amend_data = amend_data.merge(shortage, on = ['ODM','Commodity','FV'], how = 'left')\n",
    "# amend_data['Total Shortage Qty'] = 0\n",
    "amend_data['ReportDate'] = today\n",
    "amend_data['last FD date'] = today\n",
    "amend_list = ['P1','Net P2','Net P3','Total Shortage Qty','BT shortage','Working on upside']\n",
    "for _ in amend_list:\n",
    "    amend_data[_] = 0\n"
   ]
  },
  {
   "cell_type": "code",
   "execution_count": 76,
   "metadata": {},
   "outputs": [
    {
     "data": {
      "text/html": [
       "<div>\n",
       "<style scoped>\n",
       "    .dataframe tbody tr th:only-of-type {\n",
       "        vertical-align: middle;\n",
       "    }\n",
       "\n",
       "    .dataframe tbody tr th {\n",
       "        vertical-align: top;\n",
       "    }\n",
       "\n",
       "    .dataframe thead th {\n",
       "        text-align: right;\n",
       "    }\n",
       "</style>\n",
       "<table border=\"1\" class=\"dataframe\">\n",
       "  <thead>\n",
       "    <tr style=\"text-align: right;\">\n",
       "      <th></th>\n",
       "      <th>ODM</th>\n",
       "      <th>Commodity</th>\n",
       "      <th>FV</th>\n",
       "      <th>Item</th>\n",
       "      <th>Platform</th>\n",
       "      <th>HP_PN</th>\n",
       "      <th>BuyerName</th>\n",
       "      <th>ReportDate</th>\n",
       "      <th>last FD date</th>\n",
       "      <th>P1</th>\n",
       "      <th>Net P2</th>\n",
       "      <th>Net P3</th>\n",
       "      <th>Total Shortage Qty</th>\n",
       "      <th>BT shortage</th>\n",
       "      <th>Working on upside</th>\n",
       "    </tr>\n",
       "  </thead>\n",
       "  <tbody>\n",
       "    <tr>\n",
       "      <th>0</th>\n",
       "      <td>CQQCI</td>\n",
       "      <td>CPU</td>\n",
       "      <td>AMD MENDOCINO RYZEN3 7320U</td>\n",
       "      <td>3</td>\n",
       "      <td>Otto</td>\n",
       "      <td>N24707-A02</td>\n",
       "      <td>Celine</td>\n",
       "      <td>2023-09-14</td>\n",
       "      <td>2023-09-14</td>\n",
       "      <td>0</td>\n",
       "      <td>0</td>\n",
       "      <td>0</td>\n",
       "      <td>0</td>\n",
       "      <td>0</td>\n",
       "      <td>0</td>\n",
       "    </tr>\n",
       "    <tr>\n",
       "      <th>1</th>\n",
       "      <td>CEI</td>\n",
       "      <td>CPU</td>\n",
       "      <td>DG2-MB4</td>\n",
       "      <td>CPU1227</td>\n",
       "      <td>Canis</td>\n",
       "      <td>N00330-001</td>\n",
       "      <td>Anny</td>\n",
       "      <td>2023-09-14</td>\n",
       "      <td>2023-09-14</td>\n",
       "      <td>0</td>\n",
       "      <td>0</td>\n",
       "      <td>0</td>\n",
       "      <td>0</td>\n",
       "      <td>0</td>\n",
       "      <td>0</td>\n",
       "    </tr>\n",
       "    <tr>\n",
       "      <th>2</th>\n",
       "      <td>CQWIS</td>\n",
       "      <td>POWERCORDS</td>\n",
       "      <td>C13 1.83m 15A Sticker Conventional Not Include...</td>\n",
       "      <td>6.0</td>\n",
       "      <td>FRBOC-ARNO</td>\n",
       "      <td>L97630-108</td>\n",
       "      <td>ZhaoGinger</td>\n",
       "      <td>2023-09-14</td>\n",
       "      <td>2023-09-14</td>\n",
       "      <td>0</td>\n",
       "      <td>0</td>\n",
       "      <td>0</td>\n",
       "      <td>0</td>\n",
       "      <td>0</td>\n",
       "      <td>0</td>\n",
       "    </tr>\n",
       "    <tr>\n",
       "      <th>3</th>\n",
       "      <td>CQQCI</td>\n",
       "      <td>CPU</td>\n",
       "      <td>INTEL TIGERLAKE-UP3 I7-1185G7</td>\n",
       "      <td>16</td>\n",
       "      <td>Reeds/Rabon</td>\n",
       "      <td>M18965-001</td>\n",
       "      <td>Celine</td>\n",
       "      <td>2023-09-14</td>\n",
       "      <td>2023-09-14</td>\n",
       "      <td>0</td>\n",
       "      <td>0</td>\n",
       "      <td>0</td>\n",
       "      <td>0</td>\n",
       "      <td>0</td>\n",
       "      <td>0</td>\n",
       "    </tr>\n",
       "    <tr>\n",
       "      <th>4</th>\n",
       "      <td>CQQCI</td>\n",
       "      <td>USBIC</td>\n",
       "      <td>SN1905025RSMR</td>\n",
       "      <td>7</td>\n",
       "      <td>CarmB24A/Montes 34/Montes34 22C1</td>\n",
       "      <td>M39757-001</td>\n",
       "      <td>WangAlice(GPSTaiwan)</td>\n",
       "      <td>2023-09-14</td>\n",
       "      <td>2023-09-14</td>\n",
       "      <td>0</td>\n",
       "      <td>0</td>\n",
       "      <td>0</td>\n",
       "      <td>0</td>\n",
       "      <td>0</td>\n",
       "      <td>0</td>\n",
       "    </tr>\n",
       "  </tbody>\n",
       "</table>\n",
       "</div>"
      ],
      "text/plain": [
       "     ODM   Commodity                                                 FV  \\\n",
       "0  CQQCI         CPU                         AMD MENDOCINO RYZEN3 7320U   \n",
       "1    CEI         CPU                                            DG2-MB4   \n",
       "2  CQWIS  POWERCORDS  C13 1.83m 15A Sticker Conventional Not Include...   \n",
       "3  CQQCI         CPU                      INTEL TIGERLAKE-UP3 I7-1185G7   \n",
       "4  CQQCI       USBIC                                      SN1905025RSMR   \n",
       "\n",
       "      Item                          Platform       HP_PN  \\\n",
       "0        3                              Otto  N24707-A02   \n",
       "1  CPU1227                             Canis  N00330-001   \n",
       "2      6.0                        FRBOC-ARNO  L97630-108   \n",
       "3       16                       Reeds/Rabon  M18965-001   \n",
       "4        7  CarmB24A/Montes 34/Montes34 22C1  M39757-001   \n",
       "\n",
       "              BuyerName  ReportDate last FD date  P1  Net P2  Net P3  \\\n",
       "0                Celine  2023-09-14   2023-09-14   0       0       0   \n",
       "1                  Anny  2023-09-14   2023-09-14   0       0       0   \n",
       "2            ZhaoGinger  2023-09-14   2023-09-14   0       0       0   \n",
       "3                Celine  2023-09-14   2023-09-14   0       0       0   \n",
       "4  WangAlice(GPSTaiwan)  2023-09-14   2023-09-14   0       0       0   \n",
       "\n",
       "   Total Shortage Qty  BT shortage  Working on upside  \n",
       "0                   0            0                  0  \n",
       "1                   0            0                  0  \n",
       "2                   0            0                  0  \n",
       "3                   0            0                  0  \n",
       "4                   0            0                  0  "
      ]
     },
     "execution_count": 76,
     "metadata": {},
     "output_type": "execute_result"
    }
   ],
   "source": [
    "amend_data.head()"
   ]
  },
  {
   "cell_type": "code",
   "execution_count": 77,
   "metadata": {},
   "outputs": [],
   "source": [
    "amend_data.to_excel(os.path.join(home, 'amend_stge_zero.xlsx'))"
   ]
  },
  {
   "cell_type": "code",
   "execution_count": 78,
   "metadata": {},
   "outputs": [],
   "source": [
    "# upload amend data to SQL\n",
    "conn = pyodbc.connect('Driver={SQL Server Native Client 11.0}; Server=g7w11206g.inc.hpicorp.net; Database=CSI; Trusted_Connection=Yes;')\n",
    "cursor = conn.cursor()\n",
    "\n",
    "for index, row in amend_data.iterrows():\n",
    "    s_ODM = row['ODM']\n",
    "    s_Item = row['Item']\n",
    "    s_Commodity = row['Commodity']\n",
    "    s_FV = row['FV']\n",
    "    s_Platform = row['Platform']\n",
    "    s_P1 = row['P1']\n",
    "    s_P2 = row['Net P2']\n",
    "    s_P3 = row['Net P3']\n",
    "    s_Total = row['Total Shortage Qty']\n",
    "    s_BT = row['BT shortage']\n",
    "    s_working = row['Working on upside']\n",
    "    s_ReportDate = pd.to_datetime(row['ReportDate'])\n",
    "    s_lastFDdate = pd.to_datetime(row['last FD date'])\n",
    "    s_BuyerName = row['BuyerName']\n",
    "    s_PN = row['HP_PN']\n",
    "\n",
    "    cursor.execute(f\"INSERT INTO CSI.OPS.GPS_tbl_ops_shortage_zero ( ODM,Item,Commodity,FV,Platform,P1,[Net P2],[Net P3],[Total Shortage Qty],[BT shortage],[Working on upside],ReportDate,[last FD date],HP_PN,BuyerName )\\\n",
    "                    VALUES('{s_ODM}','{s_Item}','{s_Commodity}','{s_FV}','{s_Platform}','{s_P1}','{s_P2}','{s_P3}','{s_Total}','{s_BT}','{s_working}','{s_ReportDate}','{s_lastFDdate}','{s_PN}','{s_BuyerName}')\".replace(\"'NaT'\", \"NULL\"))\n",
    "\n",
    "conn.commit()\n",
    "conn.close()"
   ]
  },
  {
   "cell_type": "code",
   "execution_count": 79,
   "metadata": {},
   "outputs": [],
   "source": [
    "# 超過180以前等於0的要刪掉，不然會無限長大\n",
    "# delte shortage = 0 where report date is before 180 days, otherwise, the database will grow up without limit"
   ]
  },
  {
   "cell_type": "code",
   "execution_count": 80,
   "metadata": {},
   "outputs": [],
   "source": [
    "# # # connect SQL server\n",
    "# conn = pyodbc.connect('Driver={SQL Server Native Client 11.0}; Server=g7w11206g.inc.hpicorp.net; Database=CSI; Trusted_Connection=Yes;')\n",
    "# cursor = conn.cursor()\n",
    "# # query statement\n",
    "# Query = 'DELETE FROM OPS.GPS_tbl_ops_shortage_ext WHERE ReportDate <= ? AND [Total Shortage Qty] = 0'\n",
    "# params = (target_date)\n",
    "# cursor.execute(Query, params)\n",
    "# shortage = pd.DataFrame.from_records(cursor.fetchall(), columns = [i[0] for i in cursor.description])\n",
    "# # shortage.columns = ['ODM','Item','Commodity','FV','Platform','P1','Net P2','Net P3','Total Shortage Qty','BT shortage','Working on upside','ReportDate','last FD date','HP_PN','BuyerName']\n",
    "# cursor.close()\n",
    "# conn.close()"
   ]
  }
 ],
 "metadata": {
  "kernelspec": {
   "display_name": "Python 3",
   "language": "python",
   "name": "python3"
  },
  "language_info": {
   "codemirror_mode": {
    "name": "ipython",
    "version": 3
   },
   "file_extension": ".py",
   "mimetype": "text/x-python",
   "name": "python",
   "nbconvert_exporter": "python",
   "pygments_lexer": "ipython3",
   "version": "3.10.4"
  },
  "orig_nbformat": 4,
  "vscode": {
   "interpreter": {
    "hash": "cadcbe1cf7f77607d04fb86883766795fe82998168b094e073d163801885097d"
   }
  }
 },
 "nbformat": 4,
 "nbformat_minor": 2
}
