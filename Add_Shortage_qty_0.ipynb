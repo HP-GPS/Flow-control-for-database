{
 "cells": [
  {
   "cell_type": "code",
   "execution_count": 1,
   "metadata": {},
   "outputs": [],
   "source": [
    "import pandas as pd\n",
    "import pyodbc\n",
    "import os\n",
    "import datetime as dt\n",
    "import shutil"
   ]
  },
  {
   "cell_type": "code",
   "execution_count": 2,
   "metadata": {},
   "outputs": [],
   "source": [
    "# retrieve shortage qty from SQL, get unique list of FV/ODM in the past 6 months\n",
    "# compare with the FV/ODM list on the very day, get the difference list\n",
    "# amend qty 0 for the different list"
   ]
  },
  {
   "cell_type": "code",
   "execution_count": 3,
   "metadata": {},
   "outputs": [],
   "source": [
    "home = os.path.expanduser('~')\n",
    "today = dt.datetime.today().date()\n",
    "# retrieve date of 180 days ago\n",
    "target_date = today - dt.timedelta(days = 180)"
   ]
  },
  {
   "cell_type": "code",
   "execution_count": 4,
   "metadata": {},
   "outputs": [],
   "source": [
    "# # connect SQL server\n",
    "conn = pyodbc.connect('Driver={SQL Server Native Client 11.0}; Server=g7w11206g.inc.hpicorp.net; Database=CSI; Trusted_Connection=Yes;')\n",
    "cursor = conn.cursor()\n",
    "# query statement\n",
    "# select shortage data for the past 6 months with shortage qty not equal to zero\n",
    "Query = 'SELECT [ODM],[Item],[Commodity],[FV],[Platform],[HP_PN],[BuyerName] FROM OPS.GPS_tbl_ops_shortage_ext WHERE ReportDate >= ? AND [Total Shortage Qty] != 0'\n",
    "params = (target_date)\n",
    "cursor.execute(Query, params)\n",
    "shortage = pd.DataFrame.from_records(cursor.fetchall(), columns = [i[0] for i in cursor.description])\n",
    "# shortage.columns = ['ODM','Item','Commodity','FV','Platform','P1','Net P2','Net P3','Total Shortage Qty','BT shortage','Working on upside','ReportDate','last FD date','HP_PN','BuyerName']\n",
    "cursor.close()\n",
    "conn.close()"
   ]
  },
  {
   "cell_type": "code",
   "execution_count": 5,
   "metadata": {},
   "outputs": [
    {
     "name": "stdout",
     "output_type": "stream",
     "text": [
      "22207\n"
     ]
    }
   ],
   "source": [
    "print(len(shortage))"
   ]
  },
  {
   "cell_type": "code",
   "execution_count": 6,
   "metadata": {},
   "outputs": [
    {
     "name": "stdout",
     "output_type": "stream",
     "text": [
      "8229\n"
     ]
    }
   ],
   "source": [
    "shortage['len'] = shortage['HP_PN'].apply(lambda x: len(x))\n",
    "shortage.sort_values(by = 'len', inplace = True, ascending=True)\n",
    "shortage.drop(columns = 'len', inplace = True)\n",
    "shortage = shortage.drop_duplicates(keep = 'last')\n",
    "print(len(shortage))"
   ]
  },
  {
   "cell_type": "code",
   "execution_count": 7,
   "metadata": {},
   "outputs": [
    {
     "name": "stdout",
     "output_type": "stream",
     "text": [
      "1345\n"
     ]
    }
   ],
   "source": [
    "shortage = shortage.drop_duplicates(subset = ['ODM','Commodity','FV'],keep = 'last')\n",
    "print(len(shortage))\n",
    "shortage_tmp = shortage[['ODM','Commodity','FV']]"
   ]
  },
  {
   "cell_type": "code",
   "execution_count": 8,
   "metadata": {},
   "outputs": [],
   "source": [
    "today_shortage = pd.read_excel(os.path.join(home, 'Desktop', 'shortage_all.xlsx'), sheet_name='Sheet1' )\n",
    "today_shortage = today_shortage[['ODM','Commodity','FV']]"
   ]
  },
  {
   "cell_type": "code",
   "execution_count": 9,
   "metadata": {},
   "outputs": [],
   "source": [
    "merge = shortage_tmp.merge(today_shortage, on = ['ODM','Commodity','FV'], how = 'outer', indicator= True)"
   ]
  },
  {
   "cell_type": "code",
   "execution_count": 10,
   "metadata": {},
   "outputs": [
    {
     "name": "stdout",
     "output_type": "stream",
     "text": [
      "1120\n",
      "36\n",
      "235\n"
     ]
    }
   ],
   "source": [
    "print(len(merge[merge['_merge'] == 'left_only']))\n",
    "print(len(merge[merge['_merge'] == 'right_only']))\n",
    "print(len(merge[merge['_merge'] == 'both']))"
   ]
  },
  {
   "cell_type": "code",
   "execution_count": 11,
   "metadata": {},
   "outputs": [],
   "source": [
    "amend_data = merge[merge['_merge'] == 'left_only'].drop(columns = '_merge').reset_index(drop = True)\n",
    "amend_data = amend_data.merge(shortage, on = ['ODM','Commodity','FV'], how = 'left')\n",
    "# amend_data['Total Shortage Qty'] = 0\n",
    "amend_data['ReportDate'] = today\n",
    "amend_data['last FD date'] = today\n",
    "amend_list = ['P1','Net P2','Net P3','Total Shortage Qty','BT shortage','Working on upside']\n",
    "for _ in amend_list:\n",
    "    amend_data[_] = 0\n"
   ]
  },
  {
   "cell_type": "code",
   "execution_count": 12,
   "metadata": {},
   "outputs": [
    {
     "data": {
      "text/html": [
       "<div>\n",
       "<style scoped>\n",
       "    .dataframe tbody tr th:only-of-type {\n",
       "        vertical-align: middle;\n",
       "    }\n",
       "\n",
       "    .dataframe tbody tr th {\n",
       "        vertical-align: top;\n",
       "    }\n",
       "\n",
       "    .dataframe thead th {\n",
       "        text-align: right;\n",
       "    }\n",
       "</style>\n",
       "<table border=\"1\" class=\"dataframe\">\n",
       "  <thead>\n",
       "    <tr style=\"text-align: right;\">\n",
       "      <th></th>\n",
       "      <th>ODM</th>\n",
       "      <th>Commodity</th>\n",
       "      <th>FV</th>\n",
       "      <th>Item</th>\n",
       "      <th>Platform</th>\n",
       "      <th>HP_PN</th>\n",
       "      <th>BuyerName</th>\n",
       "      <th>ReportDate</th>\n",
       "      <th>last FD date</th>\n",
       "      <th>P1</th>\n",
       "      <th>Net P2</th>\n",
       "      <th>Net P3</th>\n",
       "      <th>Total Shortage Qty</th>\n",
       "      <th>BT shortage</th>\n",
       "      <th>Working on upside</th>\n",
       "    </tr>\n",
       "  </thead>\n",
       "  <tbody>\n",
       "    <tr>\n",
       "      <th>0</th>\n",
       "      <td>CQIEC</td>\n",
       "      <td>CPU</td>\n",
       "      <td>INTEL ALDERLAKE-H I9-12900H</td>\n",
       "      <td>12</td>\n",
       "      <td>Magneta</td>\n",
       "      <td>N02668-N07</td>\n",
       "      <td>Rocky</td>\n",
       "      <td>2024-03-08</td>\n",
       "      <td>2024-03-08</td>\n",
       "      <td>0</td>\n",
       "      <td>0</td>\n",
       "      <td>0</td>\n",
       "      <td>0</td>\n",
       "      <td>0</td>\n",
       "      <td>0</td>\n",
       "    </tr>\n",
       "    <tr>\n",
       "      <th>1</th>\n",
       "      <td>CQIEC</td>\n",
       "      <td>CPU</td>\n",
       "      <td>AMD PHOENIX RYZEN7 7840U_LP FP7R2</td>\n",
       "      <td>22</td>\n",
       "      <td>Lox</td>\n",
       "      <td>N41422-A10</td>\n",
       "      <td>Celine</td>\n",
       "      <td>2024-03-08</td>\n",
       "      <td>2024-03-08</td>\n",
       "      <td>0</td>\n",
       "      <td>0</td>\n",
       "      <td>0</td>\n",
       "      <td>0</td>\n",
       "      <td>0</td>\n",
       "      <td>0</td>\n",
       "    </tr>\n",
       "    <tr>\n",
       "      <th>2</th>\n",
       "      <td>THQCI</td>\n",
       "      <td>CPU</td>\n",
       "      <td>INTEL RAPTORLAKE-U-R CORE7 150U</td>\n",
       "      <td>6</td>\n",
       "      <td>Sebastian 24C1</td>\n",
       "      <td>N83427-N10</td>\n",
       "      <td>Celine</td>\n",
       "      <td>2024-03-08</td>\n",
       "      <td>2024-03-08</td>\n",
       "      <td>0</td>\n",
       "      <td>0</td>\n",
       "      <td>0</td>\n",
       "      <td>0</td>\n",
       "      <td>0</td>\n",
       "      <td>0</td>\n",
       "    </tr>\n",
       "    <tr>\n",
       "      <th>3</th>\n",
       "      <td>CQIEC</td>\n",
       "      <td>WLAN</td>\n",
       "      <td>MEDIATEK TEQUINI2</td>\n",
       "      <td>1</td>\n",
       "      <td>Raw</td>\n",
       "      <td>N22392-001</td>\n",
       "      <td>ChengSpencer(GPS)</td>\n",
       "      <td>2024-03-08</td>\n",
       "      <td>2024-03-08</td>\n",
       "      <td>0</td>\n",
       "      <td>0</td>\n",
       "      <td>0</td>\n",
       "      <td>0</td>\n",
       "      <td>0</td>\n",
       "      <td>0</td>\n",
       "    </tr>\n",
       "    <tr>\n",
       "      <th>4</th>\n",
       "      <td>THQCI</td>\n",
       "      <td>CPU</td>\n",
       "      <td>INTEL RAPTORLAKE-U-R CORE5 120U</td>\n",
       "      <td>5</td>\n",
       "      <td>Sebastian 24C1</td>\n",
       "      <td>N83427-N20</td>\n",
       "      <td>Celine</td>\n",
       "      <td>2024-03-08</td>\n",
       "      <td>2024-03-08</td>\n",
       "      <td>0</td>\n",
       "      <td>0</td>\n",
       "      <td>0</td>\n",
       "      <td>0</td>\n",
       "      <td>0</td>\n",
       "      <td>0</td>\n",
       "    </tr>\n",
       "  </tbody>\n",
       "</table>\n",
       "</div>"
      ],
      "text/plain": [
       "     ODM Commodity                                 FV Item        Platform  \\\n",
       "0  CQIEC       CPU        INTEL ALDERLAKE-H I9-12900H   12         Magneta   \n",
       "1  CQIEC       CPU  AMD PHOENIX RYZEN7 7840U_LP FP7R2   22            Lox    \n",
       "2  THQCI       CPU    INTEL RAPTORLAKE-U-R CORE7 150U    6  Sebastian 24C1   \n",
       "3  CQIEC      WLAN                  MEDIATEK TEQUINI2    1             Raw   \n",
       "4  THQCI       CPU    INTEL RAPTORLAKE-U-R CORE5 120U    5  Sebastian 24C1   \n",
       "\n",
       "        HP_PN          BuyerName  ReportDate last FD date  P1  Net P2  Net P3  \\\n",
       "0  N02668-N07              Rocky  2024-03-08   2024-03-08   0       0       0   \n",
       "1  N41422-A10             Celine  2024-03-08   2024-03-08   0       0       0   \n",
       "2  N83427-N10             Celine  2024-03-08   2024-03-08   0       0       0   \n",
       "3  N22392-001  ChengSpencer(GPS)  2024-03-08   2024-03-08   0       0       0   \n",
       "4  N83427-N20             Celine  2024-03-08   2024-03-08   0       0       0   \n",
       "\n",
       "   Total Shortage Qty  BT shortage  Working on upside  \n",
       "0                   0            0                  0  \n",
       "1                   0            0                  0  \n",
       "2                   0            0                  0  \n",
       "3                   0            0                  0  \n",
       "4                   0            0                  0  "
      ]
     },
     "execution_count": 12,
     "metadata": {},
     "output_type": "execute_result"
    }
   ],
   "source": [
    "amend_data.head()"
   ]
  },
  {
   "cell_type": "code",
   "execution_count": 13,
   "metadata": {},
   "outputs": [],
   "source": [
    "amend_data.to_excel(os.path.join(home, 'amend_stge_zero.xlsx'))"
   ]
  },
  {
   "cell_type": "code",
   "execution_count": 14,
   "metadata": {},
   "outputs": [],
   "source": [
    "# upload amend data to SQL\n",
    "conn = pyodbc.connect('Driver={SQL Server Native Client 11.0}; Server=g7w11206g.inc.hpicorp.net; Database=CSI; Trusted_Connection=Yes;')\n",
    "cursor = conn.cursor()\n",
    "\n",
    "for index, row in amend_data.iterrows():\n",
    "    s_ODM = row['ODM']\n",
    "    s_Item = row['Item']\n",
    "    s_Commodity = row['Commodity']\n",
    "    s_FV = row['FV']\n",
    "    s_Platform = row['Platform']\n",
    "    s_P1 = row['P1']\n",
    "    s_P2 = row['Net P2']\n",
    "    s_P3 = row['Net P3']\n",
    "    s_Total = row['Total Shortage Qty']\n",
    "    s_BT = row['BT shortage']\n",
    "    s_working = row['Working on upside']\n",
    "    s_ReportDate = pd.to_datetime(row['ReportDate'])\n",
    "    s_lastFDdate = pd.to_datetime(row['last FD date'])\n",
    "    s_BuyerName = row['BuyerName']\n",
    "    s_PN = row['HP_PN']\n",
    "\n",
    "    cursor.execute(f\"INSERT INTO CSI.OPS.GPS_tbl_ops_shortage_zero ( ODM,Item,Commodity,FV,Platform,P1,[Net P2],[Net P3],[Total Shortage Qty],[BT shortage],[Working on upside],ReportDate,[last FD date],HP_PN,BuyerName )\\\n",
    "                    VALUES('{s_ODM}','{s_Item}','{s_Commodity}','{s_FV}','{s_Platform}','{s_P1}','{s_P2}','{s_P3}','{s_Total}','{s_BT}','{s_working}','{s_ReportDate}','{s_lastFDdate}','{s_PN}','{s_BuyerName}')\".replace(\"'NaT'\", \"NULL\"))\n",
    "\n",
    "conn.commit()\n",
    "conn.close()"
   ]
  },
  {
   "cell_type": "code",
   "execution_count": 15,
   "metadata": {},
   "outputs": [],
   "source": [
    "# 超過180以前等於0的要刪掉，不然會無限長大\n",
    "# delte shortage = 0 where report date is before 180 days, otherwise, the database will grow up without limit"
   ]
  },
  {
   "cell_type": "code",
   "execution_count": 16,
   "metadata": {},
   "outputs": [],
   "source": [
    "# # # connect SQL server\n",
    "# conn = pyodbc.connect('Driver={SQL Server Native Client 11.0}; Server=g7w11206g.inc.hpicorp.net; Database=CSI; Trusted_Connection=Yes;')\n",
    "# cursor = conn.cursor()\n",
    "# # query statement\n",
    "# Query = 'DELETE FROM OPS.GPS_tbl_ops_shortage_ext WHERE ReportDate <= ? AND [Total Shortage Qty] = 0'\n",
    "# params = (target_date)\n",
    "# cursor.execute(Query, params)\n",
    "# shortage = pd.DataFrame.from_records(cursor.fetchall(), columns = [i[0] for i in cursor.description])\n",
    "# # shortage.columns = ['ODM','Item','Commodity','FV','Platform','P1','Net P2','Net P3','Total Shortage Qty','BT shortage','Working on upside','ReportDate','last FD date','HP_PN','BuyerName']\n",
    "# cursor.close()\n",
    "# conn.close()"
   ]
  }
 ],
 "metadata": {
  "kernelspec": {
   "display_name": "Python 3",
   "language": "python",
   "name": "python3"
  },
  "language_info": {
   "codemirror_mode": {
    "name": "ipython",
    "version": 3
   },
   "file_extension": ".py",
   "mimetype": "text/x-python",
   "name": "python",
   "nbconvert_exporter": "python",
   "pygments_lexer": "ipython3",
   "version": "3.10.4"
  },
  "orig_nbformat": 4,
  "vscode": {
   "interpreter": {
    "hash": "cadcbe1cf7f77607d04fb86883766795fe82998168b094e073d163801885097d"
   }
  }
 },
 "nbformat": 4,
 "nbformat_minor": 2
}
