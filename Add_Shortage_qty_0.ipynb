{
 "cells": [
  {
   "cell_type": "code",
   "execution_count": null,
   "metadata": {},
   "outputs": [],
   "source": [
    "import pandas as pd\n",
    "import pyodbc\n",
    "import os\n",
    "import datetime as dt\n",
    "import shutil"
   ]
  },
  {
   "cell_type": "code",
   "execution_count": null,
   "metadata": {},
   "outputs": [],
   "source": [
    "# retrieve shortage qty from SQL, get unique list of FV/ODM in the past 6 months\n",
    "# compare with the FV/ODM list on the very day, get the difference list\n",
    "# amend qty 0 for the different list"
   ]
  },
  {
   "cell_type": "code",
   "execution_count": null,
   "metadata": {},
   "outputs": [],
   "source": [
    "home = os.path.expanduser('~')\n",
    "today = dt.datetime.today().date()\n",
    "# retrieve date of 180 days ago\n",
    "target_date = today - dt.timedelta(days = 180)"
   ]
  },
  {
   "cell_type": "code",
   "execution_count": null,
   "metadata": {},
   "outputs": [],
   "source": [
    "# # connect SQL server\n",
    "conn = pyodbc.connect('Driver={SQL Server Native Client 11.0}; Server=g7w11206g.inc.hpicorp.net; Database=CSI; Trusted_Connection=Yes;')\n",
    "cursor = conn.cursor()\n",
    "# query statement\n",
    "# select shortage data for the past 6 months with shortage qty not equal to zero\n",
    "Query = 'SELECT [ODM],[Item],[Commodity],[FV],[Platform],[HP_PN],[BuyerName] FROM OPS.GPS_tbl_ops_shortage_ext WHERE ReportDate >= ? AND [Total Shortage Qty] != 0'\n",
    "params = (target_date)\n",
    "cursor.execute(Query, params)\n",
    "shortage = pd.DataFrame.from_records(cursor.fetchall(), columns = [i[0] for i in cursor.description])\n",
    "# shortage.columns = ['ODM','Item','Commodity','FV','Platform','P1','Net P2','Net P3','Total Shortage Qty','BT shortage','Working on upside','ReportDate','last FD date','HP_PN','BuyerName']\n",
    "cursor.close()\n",
    "conn.close()"
   ]
  },
  {
   "cell_type": "code",
   "execution_count": null,
   "metadata": {},
   "outputs": [],
   "source": [
    "print(len(shortage))"
   ]
  },
  {
   "cell_type": "code",
   "execution_count": null,
   "metadata": {},
   "outputs": [],
   "source": [
    "shortage['len'] = shortage['HP_PN'].apply(lambda x: len(x))\n",
    "shortage.sort_values(by = 'len', inplace = True, ascending=True)\n",
    "shortage.drop(columns = 'len', inplace = True)\n",
    "shortage = shortage.drop_duplicates(keep = 'last')\n",
    "print(len(shortage))"
   ]
  },
  {
   "cell_type": "code",
   "execution_count": null,
   "metadata": {},
   "outputs": [],
   "source": [
    "shortage = shortage.drop_duplicates(subset = ['ODM','Commodity','FV'],keep = 'last')\n",
    "print(len(shortage))\n",
    "shortage_tmp = shortage[['ODM','Commodity','FV']]"
   ]
  },
  {
   "cell_type": "code",
   "execution_count": null,
   "metadata": {},
   "outputs": [],
   "source": [
    "today_shortage = pd.read_excel(os.path.join(home, 'Desktop', 'shortage_all.xlsx'), sheet_name='Sheet1' )\n",
    "today_shortage = today_shortage[['ODM','Commodity','FV']]"
   ]
  },
  {
   "cell_type": "code",
   "execution_count": null,
   "metadata": {},
   "outputs": [],
   "source": [
    "merge = shortage_tmp.merge(today_shortage, on = ['ODM','Commodity','FV'], how = 'outer', indicator= True)"
   ]
  },
  {
   "cell_type": "code",
   "execution_count": null,
   "metadata": {},
   "outputs": [],
   "source": [
    "print(len(merge[merge['_merge'] == 'left_only']))\n",
    "print(len(merge[merge['_merge'] == 'right_only']))\n",
    "print(len(merge[merge['_merge'] == 'both']))"
   ]
  },
  {
   "cell_type": "code",
   "execution_count": null,
   "metadata": {},
   "outputs": [],
   "source": [
    "amend_data = merge[merge['_merge'] == 'left_only'].drop(columns = '_merge').reset_index(drop = True)\n",
    "amend_data = amend_data.merge(shortage, on = ['ODM','Commodity','FV'], how = 'left')\n",
    "# amend_data['Total Shortage Qty'] = 0\n",
    "amend_data['ReportDate'] = today\n",
    "amend_data['last FD date'] = today\n",
    "amend_list = ['P1','Net P2','Net P3','Total Shortage Qty','BT shortage','Working on upside']\n",
    "for _ in amend_list:\n",
    "    amend_data[_] = 0\n"
   ]
  },
  {
   "cell_type": "code",
   "execution_count": null,
   "metadata": {},
   "outputs": [],
   "source": [
    "amend_data.head()"
   ]
  },
  {
   "cell_type": "code",
   "execution_count": null,
   "metadata": {},
   "outputs": [],
   "source": [
    "amend_data.to_excel(os.path.join(home, 'amend_stge_zero.xlsx'))"
   ]
  },
  {
   "cell_type": "code",
   "execution_count": null,
   "metadata": {},
   "outputs": [],
   "source": [
    "# upload amend data to SQL\n",
    "conn = pyodbc.connect('Driver={SQL Server Native Client 11.0}; Server=g7w11206g.inc.hpicorp.net; Database=CSI; Trusted_Connection=Yes;')\n",
    "cursor = conn.cursor()\n",
    "\n",
    "for index, row in amend_data.iterrows():\n",
    "    s_ODM = row['ODM']\n",
    "    s_Item = row['Item']\n",
    "    s_Commodity = row['Commodity']\n",
    "    s_FV = row['FV']\n",
    "    s_Platform = row['Platform']\n",
    "    s_P1 = row['P1']\n",
    "    s_P2 = row['Net P2']\n",
    "    s_P3 = row['Net P3']\n",
    "    s_Total = row['Total Shortage Qty']\n",
    "    s_BT = row['BT shortage']\n",
    "    s_working = row['Working on upside']\n",
    "    s_ReportDate = pd.to_datetime(row['ReportDate'])\n",
    "    s_lastFDdate = pd.to_datetime(row['last FD date'])\n",
    "    s_BuyerName = row['BuyerName']\n",
    "    s_PN = row['HP_PN']\n",
    "\n",
    "    cursor.execute(f\"INSERT INTO CSI.OPS.GPS_tbl_ops_shortage_ext ( ODM,Item,Commodity,FV,Platform,P1,[Net P2],[Net P3],[Total Shortage Qty],[BT shortage],[Working on upside],ReportDate,[last FD date],HP_PN,BuyerName )\\\n",
    "                    VALUES('{s_ODM}','{s_Item}','{s_Commodity}','{s_FV}','{s_Platform}','{s_P1}','{s_P2}','{s_P3}','{s_Total}','{s_BT}','{s_working}','{s_ReportDate}','{s_lastFDdate}','{s_PN}','{s_BuyerName}')\".replace(\"'NaT'\", \"NULL\"))\n",
    "\n",
    "conn.commit()\n",
    "conn.close()"
   ]
  },
  {
   "cell_type": "code",
   "execution_count": null,
   "metadata": {},
   "outputs": [],
   "source": [
    "# 超過180以前等於0的要刪掉，不然會無限長大\n",
    "# delte shortage = 0 where report date is before 180 days, otherwise, the database will grow up without limit"
   ]
  },
  {
   "cell_type": "code",
   "execution_count": null,
   "metadata": {},
   "outputs": [],
   "source": [
    "# # # connect SQL server\n",
    "# conn = pyodbc.connect('Driver={SQL Server Native Client 11.0}; Server=g7w11206g.inc.hpicorp.net; Database=CSI; Trusted_Connection=Yes;')\n",
    "# cursor = conn.cursor()\n",
    "# # query statement\n",
    "# Query = 'DELETE FROM OPS.GPS_tbl_ops_shortage_ext WHERE ReportDate <= ? AND [Total Shortage Qty] = 0'\n",
    "# params = (target_date)\n",
    "# cursor.execute(Query, params)\n",
    "# shortage = pd.DataFrame.from_records(cursor.fetchall(), columns = [i[0] for i in cursor.description])\n",
    "# # shortage.columns = ['ODM','Item','Commodity','FV','Platform','P1','Net P2','Net P3','Total Shortage Qty','BT shortage','Working on upside','ReportDate','last FD date','HP_PN','BuyerName']\n",
    "# cursor.close()\n",
    "# conn.close()"
   ]
  }
 ],
 "metadata": {
  "kernelspec": {
   "display_name": "Python 3",
   "language": "python",
   "name": "python3"
  },
  "language_info": {
   "codemirror_mode": {
    "name": "ipython",
    "version": 3
   },
   "file_extension": ".py",
   "mimetype": "text/x-python",
   "name": "python",
   "nbconvert_exporter": "python",
   "pygments_lexer": "ipython3",
   "version": "3.10.6"
  },
  "orig_nbformat": 4
 },
 "nbformat": 4,
 "nbformat_minor": 2
}
