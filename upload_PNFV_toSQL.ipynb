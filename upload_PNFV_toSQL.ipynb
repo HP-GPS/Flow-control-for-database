{
 "cells": [
  {
   "cell_type": "code",
   "execution_count": 1,
   "metadata": {},
   "outputs": [],
   "source": [
    "import pyodbc\n",
    "import pandas as pd\n",
    "from pathlib import Path\n",
    "from pandas.api.types import is_string_dtype\n",
    "from pandas.api.types import is_numeric_dtype\n",
    "from datetime import date\n",
    "import numpy as np\n",
    "import getpass\n",
    "import time\n",
    "\n",
    "# for collaboration\n",
    "username = getpass.getuser()\n",
    "username\n",
    "\n",
    "# Start the timer\n",
    "start_time = time.time()"
   ]
  },
  {
   "cell_type": "code",
   "execution_count": null,
   "metadata": {},
   "outputs": [
    {
     "ename": "FileNotFoundError",
     "evalue": "[Errno 2] No such file or directory: 'C:\\\\Users\\\\ChDo691\\\\HP Inc\\\\GPS TW Innovation - Documents\\\\Users\\\\GPS\\\\Shortage management related (Ri Xin)\\\\PN FV description mapping table_ALL.xlsx'",
     "output_type": "error",
     "traceback": [
      "\u001b[1;31m---------------------------------------------------------------------------\u001b[0m",
      "\u001b[1;31mFileNotFoundError\u001b[0m                         Traceback (most recent call last)",
      "Cell \u001b[1;32mIn[2], line 9\u001b[0m\n\u001b[0;32m      7\u001b[0m     PNFV \u001b[38;5;241m=\u001b[39m pd\u001b[38;5;241m.\u001b[39mread_excel(Path(home, \u001b[38;5;124m'\u001b[39m\u001b[38;5;124mHP Inc\u001b[39m\u001b[38;5;124m'\u001b[39m, \u001b[38;5;124m'\u001b[39m\u001b[38;5;124mGPS TW Innovation - 文件\u001b[39m\u001b[38;5;124m'\u001b[39m, \u001b[38;5;124m'\u001b[39m\u001b[38;5;124mUsers\u001b[39m\u001b[38;5;124m'\u001b[39m, \u001b[38;5;124m'\u001b[39m\u001b[38;5;124mGPS\u001b[39m\u001b[38;5;124m'\u001b[39m, \u001b[38;5;124m'\u001b[39m\u001b[38;5;124mShortage management related (Ri Xin)\u001b[39m\u001b[38;5;124m'\u001b[39m,\u001b[38;5;124m'\u001b[39m\u001b[38;5;124mPN FV description mapping table_ALL.xlsx\u001b[39m\u001b[38;5;124m'\u001b[39m)) \u001b[38;5;66;03m# Jesse    \u001b[39;00m\n\u001b[0;32m      8\u001b[0m \u001b[38;5;28;01melse\u001b[39;00m:    \n\u001b[1;32m----> 9\u001b[0m     PNFV \u001b[38;5;241m=\u001b[39m \u001b[43mpd\u001b[49m\u001b[38;5;241;43m.\u001b[39;49m\u001b[43mread_excel\u001b[49m\u001b[43m(\u001b[49m\u001b[43mPath\u001b[49m\u001b[43m(\u001b[49m\u001b[43mhome\u001b[49m\u001b[43m,\u001b[49m\u001b[43m \u001b[49m\u001b[38;5;124;43m'\u001b[39;49m\u001b[38;5;124;43mHP Inc\u001b[39;49m\u001b[38;5;124;43m'\u001b[39;49m\u001b[43m,\u001b[49m\u001b[43m \u001b[49m\u001b[38;5;124;43m'\u001b[39;49m\u001b[38;5;124;43mGPS TW Innovation - Documents\u001b[39;49m\u001b[38;5;124;43m'\u001b[39;49m\u001b[43m,\u001b[49m\u001b[43m \u001b[49m\u001b[38;5;124;43m'\u001b[39;49m\u001b[38;5;124;43mUsers\u001b[39;49m\u001b[38;5;124;43m'\u001b[39;49m\u001b[43m,\u001b[49m\u001b[43m \u001b[49m\u001b[38;5;124;43m'\u001b[39;49m\u001b[38;5;124;43mGPS\u001b[39;49m\u001b[38;5;124;43m'\u001b[39;49m\u001b[43m,\u001b[49m\u001b[43m \u001b[49m\u001b[38;5;124;43m'\u001b[39;49m\u001b[38;5;124;43mShortage management related (Ri Xin)\u001b[39;49m\u001b[38;5;124;43m'\u001b[39;49m\u001b[43m,\u001b[49m\u001b[38;5;124;43m'\u001b[39;49m\u001b[38;5;124;43mPN FV description mapping table_ALL.xlsx\u001b[39;49m\u001b[38;5;124;43m'\u001b[39;49m\u001b[43m)\u001b[49m\u001b[43m)\u001b[49m \u001b[38;5;66;03m# Dustin\u001b[39;00m\n\u001b[0;32m     11\u001b[0m \u001b[38;5;66;03m# someone keep upload duplicated rows\u001b[39;00m\n\u001b[0;32m     12\u001b[0m PNFV \u001b[38;5;241m=\u001b[39m PNFV\u001b[38;5;241m.\u001b[39mdrop_duplicates()\n",
      "File \u001b[1;32mc:\\Users\\ChDo691\\AppData\\Local\\Programs\\Python\\Python312\\Lib\\site-packages\\pandas\\io\\excel\\_base.py:504\u001b[0m, in \u001b[0;36mread_excel\u001b[1;34m(io, sheet_name, header, names, index_col, usecols, dtype, engine, converters, true_values, false_values, skiprows, nrows, na_values, keep_default_na, na_filter, verbose, parse_dates, date_parser, date_format, thousands, decimal, comment, skipfooter, storage_options, dtype_backend, engine_kwargs)\u001b[0m\n\u001b[0;32m    502\u001b[0m \u001b[38;5;28;01mif\u001b[39;00m \u001b[38;5;129;01mnot\u001b[39;00m \u001b[38;5;28misinstance\u001b[39m(io, ExcelFile):\n\u001b[0;32m    503\u001b[0m     should_close \u001b[38;5;241m=\u001b[39m \u001b[38;5;28;01mTrue\u001b[39;00m\n\u001b[1;32m--> 504\u001b[0m     io \u001b[38;5;241m=\u001b[39m \u001b[43mExcelFile\u001b[49m\u001b[43m(\u001b[49m\n\u001b[0;32m    505\u001b[0m \u001b[43m        \u001b[49m\u001b[43mio\u001b[49m\u001b[43m,\u001b[49m\n\u001b[0;32m    506\u001b[0m \u001b[43m        \u001b[49m\u001b[43mstorage_options\u001b[49m\u001b[38;5;241;43m=\u001b[39;49m\u001b[43mstorage_options\u001b[49m\u001b[43m,\u001b[49m\n\u001b[0;32m    507\u001b[0m \u001b[43m        \u001b[49m\u001b[43mengine\u001b[49m\u001b[38;5;241;43m=\u001b[39;49m\u001b[43mengine\u001b[49m\u001b[43m,\u001b[49m\n\u001b[0;32m    508\u001b[0m \u001b[43m        \u001b[49m\u001b[43mengine_kwargs\u001b[49m\u001b[38;5;241;43m=\u001b[39;49m\u001b[43mengine_kwargs\u001b[49m\u001b[43m,\u001b[49m\n\u001b[0;32m    509\u001b[0m \u001b[43m    \u001b[49m\u001b[43m)\u001b[49m\n\u001b[0;32m    510\u001b[0m \u001b[38;5;28;01melif\u001b[39;00m engine \u001b[38;5;129;01mand\u001b[39;00m engine \u001b[38;5;241m!=\u001b[39m io\u001b[38;5;241m.\u001b[39mengine:\n\u001b[0;32m    511\u001b[0m     \u001b[38;5;28;01mraise\u001b[39;00m \u001b[38;5;167;01mValueError\u001b[39;00m(\n\u001b[0;32m    512\u001b[0m         \u001b[38;5;124m\"\u001b[39m\u001b[38;5;124mEngine should not be specified when passing \u001b[39m\u001b[38;5;124m\"\u001b[39m\n\u001b[0;32m    513\u001b[0m         \u001b[38;5;124m\"\u001b[39m\u001b[38;5;124man ExcelFile - ExcelFile already has the engine set\u001b[39m\u001b[38;5;124m\"\u001b[39m\n\u001b[0;32m    514\u001b[0m     )\n",
      "File \u001b[1;32mc:\\Users\\ChDo691\\AppData\\Local\\Programs\\Python\\Python312\\Lib\\site-packages\\pandas\\io\\excel\\_base.py:1563\u001b[0m, in \u001b[0;36mExcelFile.__init__\u001b[1;34m(self, path_or_buffer, engine, storage_options, engine_kwargs)\u001b[0m\n\u001b[0;32m   1561\u001b[0m     ext \u001b[38;5;241m=\u001b[39m \u001b[38;5;124m\"\u001b[39m\u001b[38;5;124mxls\u001b[39m\u001b[38;5;124m\"\u001b[39m\n\u001b[0;32m   1562\u001b[0m \u001b[38;5;28;01melse\u001b[39;00m:\n\u001b[1;32m-> 1563\u001b[0m     ext \u001b[38;5;241m=\u001b[39m \u001b[43minspect_excel_format\u001b[49m\u001b[43m(\u001b[49m\n\u001b[0;32m   1564\u001b[0m \u001b[43m        \u001b[49m\u001b[43mcontent_or_path\u001b[49m\u001b[38;5;241;43m=\u001b[39;49m\u001b[43mpath_or_buffer\u001b[49m\u001b[43m,\u001b[49m\u001b[43m \u001b[49m\u001b[43mstorage_options\u001b[49m\u001b[38;5;241;43m=\u001b[39;49m\u001b[43mstorage_options\u001b[49m\n\u001b[0;32m   1565\u001b[0m \u001b[43m    \u001b[49m\u001b[43m)\u001b[49m\n\u001b[0;32m   1566\u001b[0m     \u001b[38;5;28;01mif\u001b[39;00m ext \u001b[38;5;129;01mis\u001b[39;00m \u001b[38;5;28;01mNone\u001b[39;00m:\n\u001b[0;32m   1567\u001b[0m         \u001b[38;5;28;01mraise\u001b[39;00m \u001b[38;5;167;01mValueError\u001b[39;00m(\n\u001b[0;32m   1568\u001b[0m             \u001b[38;5;124m\"\u001b[39m\u001b[38;5;124mExcel file format cannot be determined, you must specify \u001b[39m\u001b[38;5;124m\"\u001b[39m\n\u001b[0;32m   1569\u001b[0m             \u001b[38;5;124m\"\u001b[39m\u001b[38;5;124man engine manually.\u001b[39m\u001b[38;5;124m\"\u001b[39m\n\u001b[0;32m   1570\u001b[0m         )\n",
      "File \u001b[1;32mc:\\Users\\ChDo691\\AppData\\Local\\Programs\\Python\\Python312\\Lib\\site-packages\\pandas\\io\\excel\\_base.py:1419\u001b[0m, in \u001b[0;36minspect_excel_format\u001b[1;34m(content_or_path, storage_options)\u001b[0m\n\u001b[0;32m   1416\u001b[0m \u001b[38;5;28;01mif\u001b[39;00m \u001b[38;5;28misinstance\u001b[39m(content_or_path, \u001b[38;5;28mbytes\u001b[39m):\n\u001b[0;32m   1417\u001b[0m     content_or_path \u001b[38;5;241m=\u001b[39m BytesIO(content_or_path)\n\u001b[1;32m-> 1419\u001b[0m \u001b[38;5;28;01mwith\u001b[39;00m \u001b[43mget_handle\u001b[49m\u001b[43m(\u001b[49m\n\u001b[0;32m   1420\u001b[0m \u001b[43m    \u001b[49m\u001b[43mcontent_or_path\u001b[49m\u001b[43m,\u001b[49m\u001b[43m \u001b[49m\u001b[38;5;124;43m\"\u001b[39;49m\u001b[38;5;124;43mrb\u001b[39;49m\u001b[38;5;124;43m\"\u001b[39;49m\u001b[43m,\u001b[49m\u001b[43m \u001b[49m\u001b[43mstorage_options\u001b[49m\u001b[38;5;241;43m=\u001b[39;49m\u001b[43mstorage_options\u001b[49m\u001b[43m,\u001b[49m\u001b[43m \u001b[49m\u001b[43mis_text\u001b[49m\u001b[38;5;241;43m=\u001b[39;49m\u001b[38;5;28;43;01mFalse\u001b[39;49;00m\n\u001b[0;32m   1421\u001b[0m \u001b[43m\u001b[49m\u001b[43m)\u001b[49m \u001b[38;5;28;01mas\u001b[39;00m handle:\n\u001b[0;32m   1422\u001b[0m     stream \u001b[38;5;241m=\u001b[39m handle\u001b[38;5;241m.\u001b[39mhandle\n\u001b[0;32m   1423\u001b[0m     stream\u001b[38;5;241m.\u001b[39mseek(\u001b[38;5;241m0\u001b[39m)\n",
      "File \u001b[1;32mc:\\Users\\ChDo691\\AppData\\Local\\Programs\\Python\\Python312\\Lib\\site-packages\\pandas\\io\\common.py:872\u001b[0m, in \u001b[0;36mget_handle\u001b[1;34m(path_or_buf, mode, encoding, compression, memory_map, is_text, errors, storage_options)\u001b[0m\n\u001b[0;32m    863\u001b[0m         handle \u001b[38;5;241m=\u001b[39m \u001b[38;5;28mopen\u001b[39m(\n\u001b[0;32m    864\u001b[0m             handle,\n\u001b[0;32m    865\u001b[0m             ioargs\u001b[38;5;241m.\u001b[39mmode,\n\u001b[1;32m   (...)\u001b[0m\n\u001b[0;32m    868\u001b[0m             newline\u001b[38;5;241m=\u001b[39m\u001b[38;5;124m\"\u001b[39m\u001b[38;5;124m\"\u001b[39m,\n\u001b[0;32m    869\u001b[0m         )\n\u001b[0;32m    870\u001b[0m     \u001b[38;5;28;01melse\u001b[39;00m:\n\u001b[0;32m    871\u001b[0m         \u001b[38;5;66;03m# Binary mode\u001b[39;00m\n\u001b[1;32m--> 872\u001b[0m         handle \u001b[38;5;241m=\u001b[39m \u001b[38;5;28;43mopen\u001b[39;49m\u001b[43m(\u001b[49m\u001b[43mhandle\u001b[49m\u001b[43m,\u001b[49m\u001b[43m \u001b[49m\u001b[43mioargs\u001b[49m\u001b[38;5;241;43m.\u001b[39;49m\u001b[43mmode\u001b[49m\u001b[43m)\u001b[49m\n\u001b[0;32m    873\u001b[0m     handles\u001b[38;5;241m.\u001b[39mappend(handle)\n\u001b[0;32m    875\u001b[0m \u001b[38;5;66;03m# Convert BytesIO or file objects passed with an encoding\u001b[39;00m\n",
      "\u001b[1;31mFileNotFoundError\u001b[0m: [Errno 2] No such file or directory: 'C:\\\\Users\\\\ChDo691\\\\HP Inc\\\\GPS TW Innovation - Documents\\\\Users\\\\GPS\\\\Shortage management related (Ri Xin)\\\\PN FV description mapping table_ALL.xlsx'"
     ]
    }
   ],
   "source": [
    "# home and time\n",
    "home = Path.home()\n",
    "todaystr = date.today().strftime('%Y-%m-%d')\n",
    "# PNFV_alternative = pd.read_excel(Path(home, 'HP Inc', 'GPS TW Innovation - Documents', 'Users', 'GPS', 'PNFV', 'alternative.xlsx'))\n",
    "\n",
    "if username == 'panj':\n",
    "    PNFV = pd.read_excel(Path(home, 'HP Inc', 'GPS TW Innovation - 文件', 'Users', 'GPS', 'Shortage management related (Ri Xin)','PN FV description mapping table_ALL.xlsx')) # Jesse    \n",
    "else:    \n",
    "    PNFV = pd.read_excel(Path(home, 'HP Inc', 'GPS TW Innovation - Documents', 'Users', 'GPS', 'Shortage management related (Ri Xin)','PN FV description mapping table_ALL.xlsx')) # Dustin\n",
    "\n",
    "# someone keep upload duplicated rows\n",
    "PNFV = PNFV.drop_duplicates()\n",
    "PNFV = PNFV[['Commodity','Supplier','PN','Descr','Alternative part flag']]\n",
    "PNFV['Descr'] = PNFV['Descr'].str.strip()\n",
    "\n",
    "\"\"\"\n",
    "currently the folder for buyer to update is still in GPSTW SOP - 2021 日新\n",
    "REMEMBER to change the path when the folder officailly changed to GPS TW Innovation\n",
    "\"\"\""
   ]
  },
  {
   "cell_type": "code",
   "execution_count": null,
   "metadata": {},
   "outputs": [
    {
     "name": "stdout",
     "output_type": "stream",
     "text": [
      "0 rows to delete\n",
      "0 rows to upload\n"
     ]
    }
   ],
   "source": [
    "# find the old part and upload new\n",
    "conn = pyodbc.connect('Driver={SQL Server Native Client 11.0}; Server=g7w11206g.inc.hpicorp.net; Database=CSI; Trusted_Connection=Yes;')\n",
    "cursor = conn.cursor()\n",
    "\n",
    "# download from SQL\n",
    "cursor.execute(f\"SELECT * FROM OPS.GPS_tbl_ops_PN_FV\")\n",
    "PNFV_from_SQL = pd.DataFrame.from_records(cursor.fetchall(), columns = [i[0] for i in cursor.description])\n",
    "PNFV_from_SQL['alternative part flag'] = PNFV_from_SQL['alternative part flag'].replace({None: np.nan,'nan':np.nan})\n",
    "PNFV_from_SQL = PNFV_from_SQL.rename(columns={'alternative part flag':'Alternative part flag'})\n",
    "\n",
    "# make adjustmnet \n",
    "PNFV_from_SQL['Alternative part flag'] = PNFV_from_SQL['Alternative part flag'].astype(str)\n",
    "PNFV['Alternative part flag'] = PNFV['Alternative part flag'].astype(str)\n",
    "\n",
    "# find the rows need to upload and delete\n",
    "diff_df = PNFV_from_SQL.merge(PNFV, indicator=True, how='outer', on = ['Commodity','Supplier','PN','Descr','Alternative part flag'])\n",
    "rows_to_delete = diff_df[diff_df['_merge'] == 'left_only']\n",
    "rows_to_insert = diff_df[diff_df['_merge'] == 'right_only']\n",
    "\n",
    "print(str(len(rows_to_delete)) + ' rows to delete')\n",
    "print(str(len(rows_to_insert)) + ' rows to upload')"
   ]
  },
  {
   "cell_type": "code",
   "execution_count": null,
   "metadata": {},
   "outputs": [],
   "source": [
    "# Delete rows from the SQL table that are not in the local DataFrame\n",
    "for index, row in rows_to_delete.iterrows():\n",
    "    cursor.execute(f\"DELETE FROM OPS.GPS_tbl_ops_PN_FV WHERE Commodity = ? AND Supplier = ? AND PN = ? AND Descr = ?\", \n",
    "                   row['Commodity'], row['Supplier'], row['PN'], row['Descr'])\n",
    "conn.commit()\n",
    "\n",
    "# Upload the local file rows to SQL table\n",
    "for index, row in rows_to_insert.iterrows():\n",
    "    # Directly use None for null values\n",
    "    commodity = row['Commodity'] if pd.notnull(row['Commodity']) else None\n",
    "    supplier = row['Supplier'] if pd.notnull(row['Supplier']) else None\n",
    "    pn = row['PN'] if pd.notnull(row['PN']) else None\n",
    "    descr = row['Descr'] if pd.notnull(row['Descr']) else None\n",
    "    alternative = row['Alternative part flag'] if pd.notnull(row['Alternative part flag']) else None\n",
    "\n",
    "    # Execute the insert statement with parameters\n",
    "    cursor.execute(\"INSERT INTO OPS.GPS_tbl_ops_PN_FV (Commodity, Supplier, PN, Descr, [Alternative part flag]) VALUES (?, ?, ?, ?, ?)\", \n",
    "                commodity, supplier, pn, descr, alternative)\n",
    "    conn.commit()\n",
    "\n",
    "# Close the cursor and connection\n",
    "cursor.close()\n",
    "conn.close()"
   ]
  },
  {
   "cell_type": "code",
   "execution_count": null,
   "metadata": {},
   "outputs": [
    {
     "name": "stdout",
     "output_type": "stream",
     "text": [
      "Records aligned, upload successfully!\n"
     ]
    }
   ],
   "source": [
    "# check whether upload successfully\n",
    "conn = pyodbc.connect('Driver={SQL Server Native Client 11.0}; Server=g7w11206g.inc.hpicorp.net; Database=CSI; Trusted_Connection=Yes;')\n",
    "cursor = conn.cursor()\n",
    "\n",
    "# download from SQL\n",
    "cursor.execute(f\"SELECT * FROM OPS.GPS_tbl_ops_PN_FV\")\n",
    "PNFV_from_SQL_new = pd.DataFrame.from_records(cursor.fetchall(), columns = [i[0] for i in cursor.description])\n",
    "\n",
    "# check diff\n",
    "diff_df_new = PNFV_from_SQL_new.merge(PNFV, indicator=True, how='outer', on = ['Commodity','Supplier','PN','Descr'])\n",
    "rows_to_delete_new = diff_df_new[diff_df_new['_merge'] == 'left_only']\n",
    "rows_to_insert_new = diff_df_new[diff_df_new['_merge'] == 'right_only']\n",
    "\n",
    "# Check if there are no rows to delete or insert\n",
    "if rows_to_delete_new.empty and rows_to_insert_new.empty:\n",
    "    print('Records aligned, upload successfully!')\n",
    "else:\n",
    "    print('Please try again, something went wrong.')"
   ]
  },
  {
   "cell_type": "code",
   "execution_count": null,
   "metadata": {},
   "outputs": [
    {
     "name": "stdout",
     "output_type": "stream",
     "text": [
      "The code used 9.82 seconds, it is super fast!\n"
     ]
    }
   ],
   "source": [
    "# End the timer\n",
    "end_time = time.time()\n",
    "print(\"The code used\", round(end_time-start_time,2), \"seconds, it is super fast!\")"
   ]
  },
  {
   "cell_type": "code",
   "execution_count": null,
   "metadata": {},
   "outputs": [
    {
     "name": "stdout",
     "output_type": "stream",
     "text": [
      "CPU,INTEL,N25852-N08,DT INTEL Raptor Lake i7-13700 deleted from CSI.OPS.GPS_tbl_ops_PN_FV\n",
      "Memory,MICRON,N20973-682,16GB DDR5-5600 deleted from CSI.OPS.GPS_tbl_ops_PN_FV\n",
      "CPU,INTEL,N25852-N08,DT INTEL Raptor Lake i7-13700uploaded to CSI.OPS.GPS_tbl_ops_PN_FV\n",
      "Memory,MICRON,N20973-682,16GB DDR5-5600uploaded to CSI.OPS.GPS_tbl_ops_PN_FV\n",
      "CPU,INTEL,N25852-N08,DT INTEL Raptor Lake i7-13700uploaded to CSI.OPS.GPS_tbl_ops_PN_FV\n",
      "CPU,INTEL,N25852-N08,DT INTEL Raptor Lake i7-13700uploaded to CSI.OPS.GPS_tbl_ops_PN_FV\n",
      "Memory,MICRON,N20973-682,16GB DDR5-5600uploaded to CSI.OPS.GPS_tbl_ops_PN_FV\n",
      "Memory,MICRON,N20973-682,16GB DDR5-5600uploaded to CSI.OPS.GPS_tbl_ops_PN_FV\n",
      "CPU,INTEL,N25852-N08,DT INTEL Raptor Lake i7-13700uploaded to CSI.OPS.GPS_tbl_ops_PN_FV\n",
      "CPU,INTEL,N25852-N08,DT INTEL Raptor Lake i7-13700uploaded to CSI.OPS.GPS_tbl_ops_PN_FV\n",
      "Memory,MICRON,N20973-682,16GB DDR5-5600uploaded to CSI.OPS.GPS_tbl_ops_PN_FV\n",
      "Memory,MICRON,N20973-682,16GB DDR5-5600uploaded to CSI.OPS.GPS_tbl_ops_PN_FV\n",
      "CPU,INTEL,N25852-N08,DT INTEL Raptor Lake i7-13700uploaded to CSI.OPS.GPS_tbl_ops_PN_FV\n",
      "CPU,INTEL,N25852-N08,DT INTEL Raptor Lake i7-13700uploaded to CSI.OPS.GPS_tbl_ops_PN_FV\n",
      "Memory,MICRON,N20973-682,16GB DDR5-5600uploaded to CSI.OPS.GPS_tbl_ops_PN_FV\n",
      "Memory,MICRON,N20973-682,16GB DDR5-5600uploaded to CSI.OPS.GPS_tbl_ops_PN_FV\n",
      "CPU,INTEL,N25852-N08,DT INTEL Raptor Lake i7-13700uploaded to CSI.OPS.GPS_tbl_ops_PN_FV\n",
      "CPU,INTEL,N25852-N08,DT INTEL Raptor Lake i7-13700uploaded to CSI.OPS.GPS_tbl_ops_PN_FV\n",
      "Memory,MICRON,N20973-682,16GB DDR5-5600uploaded to CSI.OPS.GPS_tbl_ops_PN_FV\n",
      "Memory,MICRON,N20973-682,16GB DDR5-5600uploaded to CSI.OPS.GPS_tbl_ops_PN_FV\n",
      "CPU,INTEL,N25852-N08,DT INTEL Raptor Lake i7-13700uploaded to CSI.OPS.GPS_tbl_ops_PN_FV\n",
      "CPU,INTEL,N25852-N08,DT INTEL Raptor Lake i7-13700uploaded to CSI.OPS.GPS_tbl_ops_PN_FV\n",
      "Memory,MICRON,N20973-682,16GB DDR5-5600uploaded to CSI.OPS.GPS_tbl_ops_PN_FV\n",
      "Memory,MICRON,N20973-682,16GB DDR5-5600uploaded to CSI.OPS.GPS_tbl_ops_PN_FV\n"
     ]
    }
   ],
   "source": [
    "# check the duplicated rows\n",
    "duplicate_rows = PNFV_from_SQL[PNFV_from_SQL.duplicated()]\n",
    "for index,row in duplicate_rows.iterrows():\n",
    "    delete_query = \"DELETE FROM CSI.OPS.GPS_tbl_ops_PN_FV WHERE Commodity =? AND Supplier=? AND PN=? AND Descr=? AND [Alternative part flag]=?\"\n",
    "    cursor.execute(delete_query,(row['Commodity'],row['Supplier'],row['PN'],row['Descr'],str(row['Alternative part flag'])))\n",
    "    if cursor.rowcount:\n",
    "        # print(row)\n",
    "        print(f\"{row['Commodity']},{row['Supplier']},{row['PN']},{row['Descr']} deleted from CSI.OPS.GPS_tbl_ops_PN_FV\")\n",
    "conn.commit()\n",
    "for index, row in duplicate_rows.iterrows():\n",
    "    s_Commodity = row['Commodity']\n",
    "    s_supplier = row['Supplier']\n",
    "    s_PN = row['PN']\n",
    "    s_descr = row['Descr']\n",
    "    s_alternative = str(row['Alternative part flag'])\n",
    "\n",
    "    cursor.execute(f\"INSERT INTO CSI.OPS.GPS_tbl_ops_PN_FV (Commodity, Supplier, PN, Descr, [Alternative part flag] )\\\n",
    "                    VALUES('{s_Commodity}','{s_supplier}','{s_PN}','{s_descr}','{s_alternative}')\".replace(\"'NaN'\", \"'NULL'\"))\n",
    "    if cursor.rowcount:\n",
    "        # print(row)\n",
    "        print(f\"{row['Commodity']},{row['Supplier']},{row['PN']},{row['Descr'] }uploaded to CSI.OPS.GPS_tbl_ops_PN_FV\")\n",
    "conn.commit()\n",
    "conn.close()"
   ]
  }
 ],
 "metadata": {
  "kernelspec": {
   "display_name": "Python 3",
   "language": "python",
   "name": "python3"
  },
  "language_info": {
   "codemirror_mode": {
    "name": "ipython",
    "version": 3
   },
   "file_extension": ".py",
   "mimetype": "text/x-python",
   "name": "python",
   "nbconvert_exporter": "python",
   "pygments_lexer": "ipython3",
   "version": "3.12.7"
  },
  "orig_nbformat": 4,
  "vscode": {
   "interpreter": {
    "hash": "cadcbe1cf7f77607d04fb86883766795fe82998168b094e073d163801885097d"
   }
  }
 },
 "nbformat": 4,
 "nbformat_minor": 2
}
