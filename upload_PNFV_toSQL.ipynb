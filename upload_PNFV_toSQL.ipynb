{
 "cells": [
  {
   "cell_type": "code",
   "execution_count": 4,
   "metadata": {},
   "outputs": [
    {
     "data": {
      "text/plain": [
       "'panj'"
      ]
     },
     "execution_count": 4,
     "metadata": {},
     "output_type": "execute_result"
    }
   ],
   "source": [
    "import pyodbc\n",
    "import pandas as pd\n",
    "from pathlib import Path\n",
    "from pandas.api.types import is_string_dtype\n",
    "from pandas.api.types import is_numeric_dtype\n",
    "from datetime import date\n",
    "import time\n",
    "import getpass\n",
    "\n",
    "username = getpass.getuser()\n",
    "username"
   ]
  },
  {
   "cell_type": "code",
   "execution_count": null,
   "metadata": {},
   "outputs": [],
   "source": [
    "# home and time\n",
    "home = Path.home()\n",
    "todaystr = date.today().strftime('%Y-%m-%d')\n",
    "# PNFV_alternative = pd.read_excel(Path(home, 'HP Inc', 'GPS TW Innovation - Documents', 'Users', 'GPS', 'PNFV', 'alternative.xlsx'))\n",
    "\n",
    "if username == 'panj':\n",
    "    PNFV = pd.read_excel(Path(home, 'HP Inc', 'GPS TW Innovation - 文件', 'Users', 'GPS', 'Shortage management related (Ri Xin)','PN FV description mapping table_ALL.xlsx')) # Jesse    \n",
    "else:    \n",
    "    PNFV = pd.read_excel(Path(home, 'HP Inc', 'GPS TW Innovation - Documents', 'Users', 'GPS', 'Shortage management related (Ri Xin)','PN FV description mapping table_ALL.xlsx')) # Dustin\n",
    "\n",
    "\"\"\"\n",
    "currently the folder for buyer to update is still in GPSTW SOP - 2021 日新\n",
    "REMEMBER to change the path when the folder officailly changed to GPS TW Innovation\n",
    "\"\"\"\n",
    "# PNFV = pd.read_excel(Path(home, 'HP Inc', 'GPSTW SOP - 2021 日新', 'PN FV description mapping table_ALL.xlsx'))\n",
    "# PNFV = pd.merge(PNFV, PNFV_alternative, on = 'Descr', how = 'left')"
   ]
  },
  {
   "cell_type": "code",
   "execution_count": null,
   "metadata": {},
   "outputs": [],
   "source": [
    "len(PNFV)"
   ]
  },
  {
   "cell_type": "code",
   "execution_count": null,
   "metadata": {},
   "outputs": [],
   "source": [
    "start_time = time.time()\n",
    "conn = pyodbc.connect('Driver={SQL Server Native Client 11.0}; Server=g7w11206g.inc.hpicorp.net; Database=CSI; Trusted_Connection=Yes;')\n",
    "cursor = conn.cursor()\n",
    "\n",
    "cursor.execute(f\"SELECT COUNT(*) FROM OPS.GPS_tbl_ops_PN_FV\")\n",
    "conn.commit()\n",
    "\n",
    "cursor.execute(f\"DELETE FROM OPS.GPS_tbl_ops_PN_FV\")\n",
    "conn.commit()\n",
    "print(\"%s seconds ---\" % (time.time() - start_time))\n",
    "\n",
    "cursor.execute(f\"SELECT COUNT(*) FROM OPS.GPS_tbl_ops_PN_FV\")\n",
    "conn.commit()\n",
    "\n",
    "for index, row in PNFV.iterrows():\n",
    "\n",
    "    Commodity = str(row['Commodity'])\n",
    "    Supplier = str(row['Supplier'])\n",
    "    PN = str(row['PN'])\n",
    "    Descr = str(row['Descr'])\n",
    "    #alternative = str(row['alternative part flag'])\n",
    "    alternative = str(row['Alternative part flag'])\n",
    "\n",
    "    cursor.execute(f\"INSERT INTO CSI.OPS.GPS_tbl_ops_PN_FV ( Commodity, Supplier, PN, Descr, [alternative part flag] )\\\n",
    "                    VALUES('{Commodity}','{Supplier}','{PN}','{Descr}','{alternative}')\")\n",
    "    \n",
    "    print(\"%s seconds ---\" % (time.time() - start_time))\n",
    "conn.commit()\n",
    "conn.close()\n",
    "print(\"%s seconds ---\" % (time.time() - start_time))"
   ]
  }
 ],
 "metadata": {
  "kernelspec": {
   "display_name": "Python 3",
   "language": "python",
   "name": "python3"
  },
  "language_info": {
   "codemirror_mode": {
    "name": "ipython",
    "version": 3
   },
   "file_extension": ".py",
   "mimetype": "text/x-python",
   "name": "python",
   "nbconvert_exporter": "python",
   "pygments_lexer": "ipython3",
   "version": "3.10.4"
  },
  "orig_nbformat": 4,
  "vscode": {
   "interpreter": {
    "hash": "cadcbe1cf7f77607d04fb86883766795fe82998168b094e073d163801885097d"
   }
  }
 },
 "nbformat": 4,
 "nbformat_minor": 2
}
