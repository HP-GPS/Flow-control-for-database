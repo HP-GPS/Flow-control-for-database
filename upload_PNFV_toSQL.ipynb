{
 "cells": [
  {
   "cell_type": "code",
   "execution_count": null,
   "metadata": {},
   "outputs": [],
   "source": [
    "import pyodbc\n",
    "import pandas as pd\n",
    "from pathlib import Path\n",
    "import glob\n",
    "import datetime\n",
    "import re\n",
    "import os\n",
    "import numpy as np\n",
    "from pandas.api.types import is_string_dtype\n",
    "from pandas.api.types import is_numeric_dtype\n",
    "from datetime import date\n",
    "import math\n",
    "import time"
   ]
  },
  {
   "cell_type": "code",
   "execution_count": null,
   "metadata": {},
   "outputs": [],
   "source": [
    "# home and time\n",
    "home = Path.home()\n",
    "todaystr = date.today().strftime('%Y-%m-%d')\n",
    "PNFV_alternative = pd.read_excel(Path(home, 'HP Inc','GPSTW SOP - 2021 日新','Project team','PNFV', 'alternative.xlsx'))\n",
    "PNFV = pd.read_excel(Path(home, 'HP Inc','GPSTW SOP - 2021 日新','PN FV description mapping table_ALL.xlsx'))\n"
   ]
  },
  {
   "cell_type": "code",
   "execution_count": null,
   "metadata": {},
   "outputs": [],
   "source": [
    "PNFV = pd.merge(PNFV, PNFV_alternative, on = 'Descr', how = 'left')"
   ]
  },
  {
   "cell_type": "code",
   "execution_count": null,
   "metadata": {},
   "outputs": [],
   "source": [
    "PNFV"
   ]
  },
  {
   "cell_type": "code",
   "execution_count": null,
   "metadata": {},
   "outputs": [],
   "source": [
    "# PNFV.to_excel(Path(home, 'HP Inc','GPSTW SOP - 2021 日新','PN FV description mapping table_ALL.xls'), index = False)"
   ]
  },
  {
   "cell_type": "code",
   "execution_count": null,
   "metadata": {},
   "outputs": [],
   "source": [
    "\n",
    "start_time = time.time()\n",
    "conn = pyodbc.connect('Driver={SQL Server Native Client 11.0}; Server=g7w11206g.inc.hpicorp.net; Database=CSI; Trusted_Connection=Yes;')\n",
    "cursor = conn.cursor()\n",
    "\n",
    "cursor.execute(f\"SELECT COUNT(*) FROM GPS.GPS_tbl_ops_PN_FV\")\n",
    "conn.commit()\n",
    "\n",
    "cursor.execute(f\"DELETE FROM GPS.GPS_tbl_ops_PN_FV\")\n",
    "conn.commit()\n",
    "print(\"%s seconds ---\" % (time.time() - start_time))\n",
    "\n",
    "cursor.execute(f\"SELECT COUNT(*) FROM GPS.GPS_tbl_ops_PN_FV\")\n",
    "conn.commit()\n",
    "\n",
    "for index, row in PNFV.iterrows():\n",
    "\n",
    "    Commodity = str(row['Commodity'])\n",
    "    Supplier = str(row['Supplier'])\n",
    "    PN = str(row['PN'])\n",
    "    Descr = str(row['Descr'])\n",
    "    alternative = str(row['alternative part flag'])\n",
    "\n",
    "    cursor.execute(f\"INSERT INTO CSI.GPS.GPS_tbl_ops_PN_FV ( Commodity, Supplier, PN, Descr, [alternative part flag] )\\\n",
    "                    VALUES('{Commodity}','{Supplier}','{PN}','{Descr}','{alternative}')\")\n",
    "    \n",
    "    print(\"%s seconds ---\" % (time.time() - start_time))\n",
    "conn.commit()\n",
    "conn.close()\n",
    "print(\"%s seconds ---\" % (time.time() - start_time))"
   ]
  }
 ],
 "metadata": {
  "kernelspec": {
   "display_name": "Python 3",
   "language": "python",
   "name": "python3"
  },
  "language_info": {
   "codemirror_mode": {
    "name": "ipython",
    "version": 3
   },
   "file_extension": ".py",
   "mimetype": "text/x-python",
   "name": "python",
   "nbconvert_exporter": "python",
   "pygments_lexer": "ipython3",
   "version": "3.10.6"
  },
  "orig_nbformat": 4,
  "vscode": {
   "interpreter": {
    "hash": "aff61a50ca05787580f84e419a783e3027ed4326834427d692766cd5b4e8a2a5"
   }
  }
 },
 "nbformat": 4,
 "nbformat_minor": 2
}
