{
 "cells": [
  {
   "cell_type": "code",
   "execution_count": 26,
   "metadata": {},
   "outputs": [],
   "source": [
    "import pyodbc\n",
    "import pandas as pd\n",
    "from pathlib import Path\n",
    "from datetime import date\n",
    "import numpy as np\n",
    "import win32com.client as win32"
   ]
  },
  {
   "cell_type": "code",
   "execution_count": 27,
   "metadata": {},
   "outputs": [
    {
     "name": "stdout",
     "output_type": "stream",
     "text": [
      "2024-06-06\n",
      "2024-05-30\n"
     ]
    }
   ],
   "source": [
    "if (date.today()- pd.DateOffset(days=1)).weekday() == 6:\n",
    "    today = (date.today()- pd.DateOffset(days=3)).strftime('%Y-%m-%d')\n",
    "else:\n",
    "    today = (date.today()- pd.DateOffset(days=1)).strftime('%Y-%m-%d')\n",
    "print(today)\n",
    "\n",
    "start_date = date.today() - pd.DateOffset(days=8)\n",
    "start_date = start_date.strftime('%Y-%m-%d')\n",
    "print(start_date)\n",
    "# start_date  ='2024-05-01'"
   ]
  },
  {
   "cell_type": "code",
   "execution_count": 28,
   "metadata": {},
   "outputs": [
    {
     "name": "stdout",
     "output_type": "stream",
     "text": [
      "2024-05-30\n",
      "2024-05-31\n",
      "2024-06-01\n",
      "2024-06-02\n",
      "2024-06-03\n",
      "2024-06-04\n",
      "2024-06-05\n",
      "2024-06-06\n"
     ]
    }
   ],
   "source": [
    "date_range = pd.date_range(start=start_date, end=today)\n",
    "\n",
    "for single_date in date_range:\n",
    "    print(single_date.strftime('%Y-%m-%d'))"
   ]
  },
  {
   "cell_type": "code",
   "execution_count": 29,
   "metadata": {},
   "outputs": [],
   "source": [
    "# today = '2024-04-25'"
   ]
  },
  {
   "cell_type": "code",
   "execution_count": 30,
   "metadata": {},
   "outputs": [],
   "source": [
    "reason_codes = [\n",
    "    \"Hub SB\",\n",
    "    \"WWSB\",\n",
    "    \"Broker buy\",\n",
    "    \"Return from ODM\",\n",
    "    \"To be re-programmed\",\n",
    "    \"To be sorted\",\n",
    "    \"To be qualified\",\n",
    "    \"FXN internal SB\",\n",
    "    \"Append EM\",\n",
    "    \"Navy deal\",\n",
    "    \"EOL without any supply\",\n",
    "    \"Waiver process\",\n",
    "    \"Others\"]"
   ]
  },
  {
   "cell_type": "markdown",
   "metadata": {},
   "source": [
    "### get external data"
   ]
  },
  {
   "cell_type": "code",
   "execution_count": 31,
   "metadata": {},
   "outputs": [
    {
     "name": "stdout",
     "output_type": "stream",
     "text": [
      "connect\n"
     ]
    }
   ],
   "source": [
    "# connection\n",
    "conn = pyodbc.connect('Driver={ODBC Driver 17 for SQL Server}; Server=g7w11206g.inc.hpicorp.net; Database=CSI; Trusted_Connection=Yes;')\n",
    "cursor = conn.cursor()\n",
    "print('connect')\n",
    "\n",
    "# download shortge from SQL\n",
    "\n",
    "\n",
    "cursor.execute(f\"SELECT * FROM OPS.GPS_tbl_ops_shortage_ext where ReportDate >= '{start_date}'\")\n",
    "shortage_ext = pd.DataFrame.from_records(cursor.fetchall(), columns = [i[0] for i in cursor.description])\n",
    "shortage_ext['HP_PN'] = shortage_ext['HP_PN'].str.replace('\\n', ',', regex=False)\n",
    "shortage_ext['FV'] = shortage_ext['FV'].str.replace('\\n', ',', regex=False)\n",
    "\n",
    "# download PNFV from SQL\n",
    "cursor.execute(\"SELECT * FROM OPS.GPS_tbl_ops_PN_FV\")\n",
    "PNFV = pd.DataFrame.from_records(cursor.fetchall(), columns = [i[0] for i in cursor.description])\n",
    "PNFV = PNFV.rename({'Descr':'FV'})"
   ]
  },
  {
   "cell_type": "code",
   "execution_count": 32,
   "metadata": {},
   "outputs": [
    {
     "name": "stderr",
     "output_type": "stream",
     "text": [
      "C:\\Users\\ChHo808\\AppData\\Local\\Temp\\ipykernel_14028\\3884976303.py:7: SettingWithCopyWarning: \n",
      "A value is trying to be set on a copy of a slice from a DataFrame.\n",
      "Try using .loc[row_indexer,col_indexer] = value instead\n",
      "\n",
      "See the caveats in the documentation: https://pandas.pydata.org/pandas-docs/stable/user_guide/indexing.html#returning-a-view-versus-a-copy\n",
      "  ext_CPU['Supplier'] = np.where(ext_CPU['FV'].str.contains('INTEL', case=False), 'INTEL', 'AMD')\n"
     ]
    }
   ],
   "source": [
    "# group bu commodity and count the len of each group\n",
    "shortage_ext = shortage_ext[shortage_ext['P1'] != 0]\n",
    "ext_count = shortage_ext.groupby(['Commodity']).size().reset_index(name='Count')\n",
    "\n",
    "# CPU need to add supplier\n",
    "ext_CPU = shortage_ext[shortage_ext['Commodity'] == 'CPU']\n",
    "ext_CPU['Supplier'] = np.where(ext_CPU['FV'].str.contains('INTEL', case=False), 'INTEL', 'AMD')\n",
    "ext_CPU_group = ext_CPU.groupby(['Commodity','Supplier']).size().reset_index(name='Count')\n",
    "ext_CPU_group['Commodity'] = ext_CPU_group['Supplier'] + ' ' +  ext_CPU_group['Commodity']\n",
    "ext_CPU_group.drop(columns=['Supplier'], inplace=True)"
   ]
  },
  {
   "cell_type": "markdown",
   "metadata": {},
   "source": [
    "### get internal data"
   ]
  },
  {
   "cell_type": "code",
   "execution_count": 33,
   "metadata": {},
   "outputs": [
    {
     "name": "stdout",
     "output_type": "stream",
     "text": [
      "No empty value in Commodity\n"
     ]
    }
   ],
   "source": [
    "# connection\n",
    "conn = pyodbc.connect('Driver={ODBC Driver 17 for SQL Server}; Server=g7w11206g.inc.hpicorp.net; Database=CSI; Trusted_Connection=Yes;')\n",
    "cursor = conn.cursor()\n",
    "# download shortge from SQL\n",
    "cursor.execute(f\"SELECT * FROM OPS.GPS_view_ops_critical_shortage_overview where [Report Date] >= '{start_date}'\")\n",
    "internal = pd.DataFrame.from_records(cursor.fetchall(), columns = [i[0] for i in cursor.description])\n",
    "# check if there is empty value in Commodity\n",
    "if internal.Commodity.isna().any():\n",
    "    print(internal[internal.Commodity.isna()])\n",
    "else:\n",
    "    print('No empty value in Commodity')"
   ]
  },
  {
   "cell_type": "code",
   "execution_count": 34,
   "metadata": {},
   "outputs": [
    {
     "name": "stderr",
     "output_type": "stream",
     "text": [
      "C:\\Users\\ChHo808\\AppData\\Local\\Temp\\ipykernel_14028\\3113042560.py:13: SettingWithCopyWarning: \n",
      "A value is trying to be set on a copy of a slice from a DataFrame.\n",
      "Try using .loc[row_indexer,col_indexer] = value instead\n",
      "\n",
      "See the caveats in the documentation: https://pandas.pydata.org/pandas-docs/stable/user_guide/indexing.html#returning-a-view-versus-a-copy\n",
      "  int_CPU['Supplier'] = np.where(int_CPU['FV Des'].str.contains('INTEL', case=False), 'INTEL', 'AMD')\n"
     ]
    }
   ],
   "source": [
    "# drop the rows with 'Delete' == 'Y' and group by Commodity\n",
    "internal = internal[(~(internal['Delete'] == 'Y'))]\n",
    "\n",
    "#drop internal P1 = 0 and na\n",
    "internal = internal.dropna(subset=['P1'])\n",
    "internal = internal[internal['P1'] != 0]\n",
    "\n",
    "\n",
    "int_counts = internal.groupby(['Commodity']).size().reset_index(name='Count')\n",
    "\n",
    "# CPU need to add supplier\n",
    "int_CPU = internal[internal['Commodity'] == 'CPU']\n",
    "int_CPU['Supplier'] = np.where(int_CPU['FV Des'].str.contains('INTEL', case=False), 'INTEL', 'AMD')\n",
    "int_CPU_group = int_CPU.groupby(['Commodity','Supplier']).size().reset_index(name='Count')\n",
    "int_CPU_group['Commodity'] = int_CPU_group['Supplier'] + ' ' +  int_CPU_group['Commodity']\n",
    "int_CPU_group.drop(columns=['Supplier'], inplace=True)"
   ]
  },
  {
   "cell_type": "markdown",
   "metadata": {},
   "source": [
    "Special supply format misaligned (in reason_codes)"
   ]
  },
  {
   "cell_type": "code",
   "execution_count": 35,
   "metadata": {},
   "outputs": [],
   "source": [
    "df_special_supply = internal.copy()\n",
    "#special supply is non supplier supply\n",
    "df_special_supply['ETA'] = df_special_supply['ETA'].str.split('\\n')\n",
    "df_special_supply = df_special_supply.explode('ETA')\n",
    "text = df_special_supply['ETA']"
   ]
  },
  {
   "cell_type": "code",
   "execution_count": 36,
   "metadata": {},
   "outputs": [
    {
     "name": "stdout",
     "output_type": "stream",
     "text": [
      "            Reference ID      Buyer Name Severity Shortage Start Date  \\\n",
      "0    AC20240530141610001  Josephine Chen        R          2024-05-14   \n",
      "0    AC20240530141610001  Josephine Chen        R          2024-05-14   \n",
      "0    AC20240530141610001  Josephine Chen        R          2024-05-14   \n",
      "0    AC20240530141610001  Josephine Chen        R          2024-05-14   \n",
      "0    AC20240530141610001  Josephine Chen        R          2024-05-14   \n",
      "..                   ...             ...      ...                 ...   \n",
      "918  WE20240603132609001     Kylie/Sally        R          2024-06-03   \n",
      "918  WE20240603132609001     Kylie/Sally        R          2024-06-03   \n",
      "919  WE20240605115928001     Kylie/Sally        R          2024-06-05   \n",
      "920  WE20240606133804001     Kylie/Sally        Y          2024-06-06   \n",
      "921  WE20240606133806002     Kylie/Sally        R          2024-06-06   \n",
      "\n",
      "      Commodity                                     HP Part Number  \\\n",
      "0    AC ADAPTOR                              L55693-002,L55693-003   \n",
      "0    AC ADAPTOR                              L55693-002,L55693-003   \n",
      "0    AC ADAPTOR                              L55693-002,L55693-003   \n",
      "0    AC ADAPTOR                              L55693-002,L55693-003   \n",
      "0    AC ADAPTOR                              L55693-002,L55693-003   \n",
      "..          ...                                                ...   \n",
      "918      WEBCAM  N18770-3C0,N18770-DC1,N18770-3C1,N18770-DC2,N1...   \n",
      "918      WEBCAM  N18770-3C0,N18770-DC1,N18770-3C1,N18770-DC2,N1...   \n",
      "919      WEBCAM  L60902-130,L60902-370,L60902-131,L60902-371,L6...   \n",
      "920      WEBCAM  L60902-130,L60902-370,L60902-131,L60902-371,L6...   \n",
      "921      WEBCAM  L50767-9A0,L50767-8K0,L50767-3K0,L50767-1K0,L5...   \n",
      "\n",
      "                                 FV Des Site    ODM  \\\n",
      "0                  45W Cupid Japan plus   CQ  CQQCI   \n",
      "0                  45W Cupid Japan plus   CQ  CQQCI   \n",
      "0                  45W Cupid Japan plus   CQ  CQQCI   \n",
      "0                  45W Cupid Japan plus   CQ  CQQCI   \n",
      "0                  45W Cupid Japan plus   CQ  CQQCI   \n",
      "..                                  ...  ...    ...   \n",
      "918  2F NMc UB2 5MP IR NFOV TNR - 3D5RU   CQ  CQQCI   \n",
      "918  2F NMc UB2 5MP IR NFOV TNR - 3D5RU   CQ  CQQCI   \n",
      "919          1A NMc NKBL UB2 5MP - EAU5   CQ  CQIEC   \n",
      "920          1A NMc NKBL UB2 5MP - EAU5   CQ  CQIEC   \n",
      "921             1F DMc UB2 720HD -9VHDO   CQ  CQQCI   \n",
      "\n",
      "                                              Platform  ...  \\\n",
      "0        Kraken 13/Thanos13/ROC 15/Pan14/Pan15/Ronin15  ...   \n",
      "0        Kraken 13/Thanos13/ROC 15/Pan14/Pan15/Ronin15  ...   \n",
      "0        Kraken 13/Thanos13/ROC 15/Pan14/Pan15/Ronin15  ...   \n",
      "0        Kraken 13/Thanos13/ROC 15/Pan14/Pan15/Ronin15  ...   \n",
      "0        Kraken 13/Thanos13/ROC 15/Pan14/Pan15/Ronin15  ...   \n",
      "..                                                 ...  ...   \n",
      "918  Splendor RCTO/Splendor 2023/Splendor 2023/Sple...  ...   \n",
      "918  Splendor RCTO/Splendor 2023/Splendor 2023/Sple...  ...   \n",
      "919                                                Pax  ...   \n",
      "920                                                Pax  ...   \n",
      "921      Langkawi/Langkawi 20C2/Lankawi 21C1/Rebak21C1  ...   \n",
      "\n",
      "     Hub Stock under Specific ODM Bucket  Root Cause  Impact  \\\n",
      "0                                 2496.0                       \n",
      "0                                 2496.0                       \n",
      "0                                 2496.0                       \n",
      "0                                 2496.0                       \n",
      "0                                 2496.0                       \n",
      "..                                   ...         ...     ...   \n",
      "918                                491.0                       \n",
      "918                                491.0                       \n",
      "919                               6240.0                       \n",
      "920                                  NaN                       \n",
      "921                                  NaN                       \n",
      "\n",
      "     GPS Action Taken  Help Needed  FCST Upside Order Overdrop Report Date  \\\n",
      "0                             None          NaN            NaN  2024-05-30   \n",
      "0                             None          NaN            NaN  2024-05-30   \n",
      "0                             None          NaN            NaN  2024-05-30   \n",
      "0                             None          NaN            NaN  2024-05-30   \n",
      "0                             None          NaN            NaN  2024-05-30   \n",
      "..                ...          ...          ...            ...         ...   \n",
      "918                           None          NaN            NaN  2024-06-03   \n",
      "918                           None          NaN            NaN  2024-06-03   \n",
      "919                           None          NaN            NaN  2024-06-05   \n",
      "920                           None          NaN            NaN  2024-06-06   \n",
      "921                           None          NaN            NaN  2024-06-06   \n",
      "\n",
      "    Delete ETA misaligned  \n",
      "0     None          False  \n",
      "0     None          False  \n",
      "0     None          False  \n",
      "0     None          False  \n",
      "0     None          False  \n",
      "..     ...            ...  \n",
      "918   None          False  \n",
      "918   None          False  \n",
      "919   None          False  \n",
      "920   None          False  \n",
      "921   None          False  \n",
      "\n",
      "[1816 rows x 30 columns]\n"
     ]
    }
   ],
   "source": [
    "def check_conditions(text):\n",
    "   # 检查文本是否以 'ETA' 或 'TBD' 开头\n",
    "   if text is None:\n",
    "        return False\n",
    "   \n",
    "   if text.startswith('ETA') or text.startswith('TBD'):\n",
    "       return False\n",
    "   # 检查文本是否包含任何 reason_codes 中的字符串\n",
    "   for reason in reason_codes:\n",
    "       if reason in text:\n",
    "           return True\n",
    "   return False\n",
    "# 应用函数到 'ETA' 列\n",
    "df_special_supply['ETA misaligned'] = df_special_supply['ETA'].apply(check_conditions)\n",
    "# 打印结果\n",
    "print(df_special_supply)\n",
    "df_spsupply_true = df_special_supply[df_special_supply['ETA misaligned'] == True]\n",
    "df_spsupply_mis = df_spsupply_true[['Report Date', 'Buyer Name', 'Commodity', 'FV Des', 'ETA']]"
   ]
  },
  {
   "cell_type": "code",
   "execution_count": 37,
   "metadata": {},
   "outputs": [
    {
     "data": {
      "text/html": [
       "<div>\n",
       "<style scoped>\n",
       "    .dataframe tbody tr th:only-of-type {\n",
       "        vertical-align: middle;\n",
       "    }\n",
       "\n",
       "    .dataframe tbody tr th {\n",
       "        vertical-align: top;\n",
       "    }\n",
       "\n",
       "    .dataframe thead th {\n",
       "        text-align: right;\n",
       "    }\n",
       "</style>\n",
       "<table border=\"1\" class=\"dataframe\">\n",
       "  <thead>\n",
       "    <tr style=\"text-align: right;\">\n",
       "      <th></th>\n",
       "      <th>ODM</th>\n",
       "      <th>Item</th>\n",
       "      <th>Commodity</th>\n",
       "      <th>FV</th>\n",
       "      <th>Platform</th>\n",
       "      <th>P1</th>\n",
       "      <th>Net P2</th>\n",
       "      <th>Net P3</th>\n",
       "      <th>Total Shortage Qty</th>\n",
       "      <th>BT shortage</th>\n",
       "      <th>Working on upside</th>\n",
       "      <th>ReportDate</th>\n",
       "      <th>last FD date</th>\n",
       "      <th>HP_PN</th>\n",
       "      <th>BuyerName</th>\n",
       "    </tr>\n",
       "  </thead>\n",
       "  <tbody>\n",
       "    <tr>\n",
       "      <th>1</th>\n",
       "      <td>WHFXN</td>\n",
       "      <td>4.0</td>\n",
       "      <td>HDD</td>\n",
       "      <td>500GB 7200 SATA</td>\n",
       "      <td>Trinidad</td>\n",
       "      <td>4229.0</td>\n",
       "      <td>0.0</td>\n",
       "      <td>0.0</td>\n",
       "      <td>4229.0</td>\n",
       "      <td>0.0</td>\n",
       "      <td>1079.0</td>\n",
       "      <td>2024-06-05</td>\n",
       "      <td>2050-01-01</td>\n",
       "      <td>L86041-001,724967-004,L08546-004</td>\n",
       "      <td>JittungmanSupansa(GPSThailand)</td>\n",
       "    </tr>\n",
       "    <tr>\n",
       "      <th>2</th>\n",
       "      <td>CEI</td>\n",
       "      <td>LCD228</td>\n",
       "      <td>LCD</td>\n",
       "      <td>16WQXGA AG UWVA EDP NB sRGB LBL DDS 400N 240HZ</td>\n",
       "      <td>Quaker 23C1</td>\n",
       "      <td>234.0</td>\n",
       "      <td>0.0</td>\n",
       "      <td>0.0</td>\n",
       "      <td>234.0</td>\n",
       "      <td>0.0</td>\n",
       "      <td>234.0</td>\n",
       "      <td>2024-06-05</td>\n",
       "      <td>2050-01-01</td>\n",
       "      <td>N21832-361,N21832-L61,N21832-S61</td>\n",
       "      <td>WangYu-Ting</td>\n",
       "    </tr>\n",
       "    <tr>\n",
       "      <th>3</th>\n",
       "      <td>CQIEC</td>\n",
       "      <td>3.0</td>\n",
       "      <td>LCD</td>\n",
       "      <td>13.5WUXGA+ BV UWVA EDPPSR BENTNB sRGB LBL 400N</td>\n",
       "      <td>Sandwalker</td>\n",
       "      <td>105.0</td>\n",
       "      <td>0.0</td>\n",
       "      <td>0.0</td>\n",
       "      <td>105.0</td>\n",
       "      <td>0.0</td>\n",
       "      <td>5.0</td>\n",
       "      <td>2024-06-05</td>\n",
       "      <td>2050-01-01</td>\n",
       "      <td>M53580-JR1,M53580-2R2</td>\n",
       "      <td>ChenJasmine</td>\n",
       "    </tr>\n",
       "    <tr>\n",
       "      <th>6</th>\n",
       "      <td>CQIEC</td>\n",
       "      <td>8.0</td>\n",
       "      <td>LCD</td>\n",
       "      <td>17.3FHD AG UWVA EDPPSR SLIMNB 300N 60HZ</td>\n",
       "      <td>VladRPL6U</td>\n",
       "      <td>799.0</td>\n",
       "      <td>0.0</td>\n",
       "      <td>0.0</td>\n",
       "      <td>799.0</td>\n",
       "      <td>0.0</td>\n",
       "      <td>0.0</td>\n",
       "      <td>2024-06-05</td>\n",
       "      <td>2024-06-13</td>\n",
       "      <td>L43245-LG2,L43245-3G1,L43245-2G3,L43245-JG2,L4...</td>\n",
       "      <td>JenBella</td>\n",
       "    </tr>\n",
       "    <tr>\n",
       "      <th>7</th>\n",
       "      <td>CQIEC</td>\n",
       "      <td>9.0</td>\n",
       "      <td>LCD</td>\n",
       "      <td>17.3HD+ AG SVA EDP SLIMNBZ 250N</td>\n",
       "      <td>Vlad21C1</td>\n",
       "      <td>1710.0</td>\n",
       "      <td>0.0</td>\n",
       "      <td>0.0</td>\n",
       "      <td>1710.0</td>\n",
       "      <td>0.0</td>\n",
       "      <td>0.0</td>\n",
       "      <td>2024-06-05</td>\n",
       "      <td>2024-06-15</td>\n",
       "      <td>M12358-LG1,M12358-3G1</td>\n",
       "      <td>JenBella</td>\n",
       "    </tr>\n",
       "  </tbody>\n",
       "</table>\n",
       "</div>"
      ],
      "text/plain": [
       "     ODM    Item Commodity                                              FV  \\\n",
       "1  WHFXN     4.0       HDD                                 500GB 7200 SATA   \n",
       "2    CEI  LCD228       LCD  16WQXGA AG UWVA EDP NB sRGB LBL DDS 400N 240HZ   \n",
       "3  CQIEC     3.0       LCD  13.5WUXGA+ BV UWVA EDPPSR BENTNB sRGB LBL 400N   \n",
       "6  CQIEC     8.0       LCD         17.3FHD AG UWVA EDPPSR SLIMNB 300N 60HZ   \n",
       "7  CQIEC     9.0       LCD                 17.3HD+ AG SVA EDP SLIMNBZ 250N   \n",
       "\n",
       "      Platform      P1  Net P2  Net P3  Total Shortage Qty  BT shortage  \\\n",
       "1     Trinidad  4229.0     0.0     0.0              4229.0          0.0   \n",
       "2  Quaker 23C1   234.0     0.0     0.0               234.0          0.0   \n",
       "3   Sandwalker   105.0     0.0     0.0               105.0          0.0   \n",
       "6    VladRPL6U   799.0     0.0     0.0               799.0          0.0   \n",
       "7     Vlad21C1  1710.0     0.0     0.0              1710.0          0.0   \n",
       "\n",
       "   Working on upside ReportDate last FD date  \\\n",
       "1             1079.0 2024-06-05   2050-01-01   \n",
       "2              234.0 2024-06-05   2050-01-01   \n",
       "3                5.0 2024-06-05   2050-01-01   \n",
       "6                0.0 2024-06-05   2024-06-13   \n",
       "7                0.0 2024-06-05   2024-06-15   \n",
       "\n",
       "                                               HP_PN  \\\n",
       "1                   L86041-001,724967-004,L08546-004   \n",
       "2                   N21832-361,N21832-L61,N21832-S61   \n",
       "3                              M53580-JR1,M53580-2R2   \n",
       "6  L43245-LG2,L43245-3G1,L43245-2G3,L43245-JG2,L4...   \n",
       "7                              M12358-LG1,M12358-3G1   \n",
       "\n",
       "                        BuyerName  \n",
       "1  JittungmanSupansa(GPSThailand)  \n",
       "2                     WangYu-Ting  \n",
       "3                     ChenJasmine  \n",
       "6                        JenBella  \n",
       "7                        JenBella  "
      ]
     },
     "execution_count": 37,
     "metadata": {},
     "output_type": "execute_result"
    }
   ],
   "source": [
    "shortage_ext.head()"
   ]
  },
  {
   "cell_type": "code",
   "execution_count": 38,
   "metadata": {},
   "outputs": [
    {
     "data": {
      "text/html": [
       "<div>\n",
       "<style scoped>\n",
       "    .dataframe tbody tr th:only-of-type {\n",
       "        vertical-align: middle;\n",
       "    }\n",
       "\n",
       "    .dataframe tbody tr th {\n",
       "        vertical-align: top;\n",
       "    }\n",
       "\n",
       "    .dataframe thead th {\n",
       "        text-align: right;\n",
       "    }\n",
       "</style>\n",
       "<table border=\"1\" class=\"dataframe\">\n",
       "  <thead>\n",
       "    <tr style=\"text-align: right;\">\n",
       "      <th></th>\n",
       "      <th>Report Date</th>\n",
       "      <th>Buyer Name</th>\n",
       "      <th>Commodity</th>\n",
       "      <th>FV Des</th>\n",
       "      <th>ETA</th>\n",
       "    </tr>\n",
       "  </thead>\n",
       "  <tbody>\n",
       "  </tbody>\n",
       "</table>\n",
       "</div>"
      ],
      "text/plain": [
       "Empty DataFrame\n",
       "Columns: [Report Date, Buyer Name, Commodity, FV Des, ETA]\n",
       "Index: []"
      ]
     },
     "execution_count": 38,
     "metadata": {},
     "output_type": "execute_result"
    }
   ],
   "source": [
    "df_spsupply_mis.head()"
   ]
  },
  {
   "cell_type": "code",
   "execution_count": 39,
   "metadata": {},
   "outputs": [
    {
     "name": "stdout",
     "output_type": "stream",
     "text": [
      "0\n"
     ]
    }
   ],
   "source": [
    "CQODM = ['CQQCI', 'CQIEC', 'CQWIS', 'TWIEC', 'L_WHFXN', 'CQPCQ', 'MSI', 'PCQ', 'PCP', 'WHFXN_L5', 'PSZ', 'FLH', 'TWQCI', 'SZBYD']\n",
    "WHODM = ['WHFXN']\n",
    "KSODM = ['CEI']\n",
    "THODM = ['THQCI','THIEC']\n",
    "MXODM = ['IMX']\n",
    "\n",
    "ODM_list = CQODM + WHODM + KSODM + THODM + MXODM\n",
    "\n",
    "incorrect_ODM = []\n",
    "for index in internal.index:\n",
    "    if internal.loc[index,'ODM'] not in ODM_list:\n",
    "        incorrect_ODM.append(internal.loc[index,:])\n",
    "    else:\n",
    "        pass\n",
    "\n",
    "incorrect_ODM = pd.DataFrame(incorrect_ODM)\n",
    "try:\n",
    "    incorrect_ODM = incorrect_ODM[['Report Date', 'Buyer Name','Commodity','ODM']]\n",
    "except:\n",
    "    pass\n",
    "\n",
    "incorrect_ODM = incorrect_ODM.drop_duplicates()\n",
    "\n",
    "\n",
    "\n",
    "print(len(incorrect_ODM))"
   ]
  },
  {
   "cell_type": "code",
   "execution_count": 40,
   "metadata": {},
   "outputs": [
    {
     "name": "stdout",
     "output_type": "stream",
     "text": [
      "0\n"
     ]
    }
   ],
   "source": [
    "Commodity_list = ['AC ADAPTOR','AudioAMP','AudioCodec','BATTERY','CardReader','CHIPSET','CONNECTOR','CPU','EC','eMMC', 'Ethernet IC','GPU','GPU-Graphic Card','HDD','LanChip','LCD','Memory','NIC',\n",
    " 'ODD','POWERCORDS','PSU','Retimer','SIO','SSS','ThunderBT','TPM','TS','USBIC','VRAM','WEBCAM','WLAN','WWAN']\n",
    "\n",
    "incorrect_commodity = []\n",
    "for index in internal.index:\n",
    "    if internal.loc[index,'Commodity'] not in Commodity_list:\n",
    "        incorrect_commodity.append(internal.loc[index,:])\n",
    "    else:\n",
    "        pass\n",
    "\n",
    "incorrect_commodity = pd.DataFrame(incorrect_commodity)\n",
    "print(len(incorrect_commodity))"
   ]
  },
  {
   "cell_type": "markdown",
   "metadata": {},
   "source": [
    "### merge and compare internal with external"
   ]
  },
  {
   "cell_type": "code",
   "execution_count": 41,
   "metadata": {},
   "outputs": [],
   "source": [
    "df_compare = int_counts[int_counts['Commodity'] !='CPU'].merge(ext_count[ext_count['Commodity'] != 'CPU'], on=['Commodity'], how='outer',suffixes=('_int', '_ext'))\n",
    "df_compare_CPU = int_CPU_group.merge(ext_CPU_group, on=['Commodity'], how='outer',suffixes=('_int', '_ext'))\n",
    "df_compare = pd.concat([df_compare, df_compare_CPU], axis=0)"
   ]
  },
  {
   "cell_type": "code",
   "execution_count": 42,
   "metadata": {},
   "outputs": [
    {
     "data": {
      "text/html": [
       "<div>\n",
       "<style scoped>\n",
       "    .dataframe tbody tr th:only-of-type {\n",
       "        vertical-align: middle;\n",
       "    }\n",
       "\n",
       "    .dataframe tbody tr th {\n",
       "        vertical-align: top;\n",
       "    }\n",
       "\n",
       "    .dataframe thead th {\n",
       "        text-align: right;\n",
       "    }\n",
       "</style>\n",
       "<table border=\"1\" class=\"dataframe\">\n",
       "  <thead>\n",
       "    <tr style=\"text-align: right;\">\n",
       "      <th></th>\n",
       "      <th>Count_internal</th>\n",
       "      <th>Count_external</th>\n",
       "    </tr>\n",
       "    <tr>\n",
       "      <th>Commodity</th>\n",
       "      <th></th>\n",
       "      <th></th>\n",
       "    </tr>\n",
       "  </thead>\n",
       "  <tbody>\n",
       "  </tbody>\n",
       "</table>\n",
       "</div>"
      ],
      "text/plain": [
       "Empty DataFrame\n",
       "Columns: [Count_internal, Count_external]\n",
       "Index: []"
      ]
     },
     "execution_count": 42,
     "metadata": {},
     "output_type": "execute_result"
    }
   ],
   "source": [
    "df_mismatch = df_compare[((df_compare['Count_int'].isnull()) & (df_compare['Count_ext'].notnull())) | ((df_compare['Count_int'].notnull()) & (df_compare['Count_ext'].isnull()))]\n",
    "df_mismatch.loc[:,['Count_int','Count_ext']] = df_mismatch.loc[:,['Count_int','Count_ext']].fillna(0)\n",
    "df_mismatch.set_index('Commodity', inplace=True)\n",
    "df_mismatch = df_mismatch.astype(int)\n",
    "df_mismatch.rename(columns={'Count_int':'Count_internal', 'Count_ext':'Count_external'}, inplace=True)\n",
    "df_mismatch = df_mismatch[df_mismatch.index != 'Ethernet IC']\n",
    "df_mismatch"
   ]
  },
  {
   "cell_type": "code",
   "execution_count": 43,
   "metadata": {},
   "outputs": [
    {
     "name": "stdout",
     "output_type": "stream",
     "text": [
      "No error found on 2024-06-06\n"
     ]
    }
   ],
   "source": [
    "if (len(df_mismatch) > 0 ) | (len(incorrect_ODM) > 0) | (len(incorrect_commodity) > 0) | (len(df_spsupply_mis) > 0):\n",
    "    # sent to list\n",
    "    To_list = 'gps.taiwan.nb.buy-sell@hp.com'\n",
    "    CC_list = 'spencer.cheng1@hp.com; dustin.hsu1@hp.com'\n",
    "\n",
    "    # start creating the email\n",
    "    mail = win32.Dispatch(\"Outlook.Application\").CreateItem(0)\n",
    "    mail.To = To_list\n",
    "    mail.CC = CC_list\n",
    "    mail.Subject = 'Internal/ External Report Misalignment alert' + '<From Report Date: '+ start_date+' to ' + today + '>'\n",
    "\n",
    "    # Step 3: Highlight only the Commodity values\n",
    "    try:\n",
    "        for _ in df_mismatch.index:\n",
    "            df_mismatch.loc[_, 'Commodity'] = f'<span style=\"background-color: yellow;\">{_}</span>'\n",
    "        # df_mismatch['Commodity'] = df_mismatch['Commodity'].apply(lambda name: f'<span style=\"background-color: yellow;\">{name}</span>')\n",
    "        df_mismatch['Count_internal'] = df_mismatch['Count_internal'].apply(lambda name: f'<font color = Red\">{name}</font>' if name == 0 else name)\n",
    "        df_mismatch['Count_external'] = df_mismatch['Count_external'].apply(lambda name: f'<font color = Red\">{name}</font>' if name == 0 else name)\n",
    "        # df_mismatch.rename(columns={'Count_int':'Count_internal', 'Count_ext':'Count_external'},inplace=True)\n",
    "        df_mismatch = df_mismatch.reindex(columns=['Commodity','Count_internal','Count_external'])\n",
    "    except:\n",
    "        pass\n",
    "\n",
    "    # df_mismatch = df_mismatch.reindex(columns = ['Commodity','Count_int','Count_ext'])\n",
    "    # Step 4: Convert the DataFrame to HTML, allowing HTML content within cells\n",
    "    html_compare_2 = df_mismatch.to_html(escape=False, index=False)\n",
    "    try:\n",
    "        incorrect_ODM['ODM'] = incorrect_ODM['ODM'].apply(lambda name: f'<font color = Red\">{name}</font>')\n",
    "    except:\n",
    "        pass\n",
    "    try:\n",
    "        incorrect_commodity['Commodity'] = incorrect_commodity['Commodity'].apply(lambda name: f'<font color = Red\">{name}</font>')\n",
    "    except:\n",
    "        pass\n",
    "    # message --> use the html content from the previous step 1&2 to \n",
    "    signature = \"<br><br>Best Regards,<br>Newcomen Project Team\"\n",
    "    message = f\"\"\"Hi team,<br><br>Below information is <b><font color = 'blue'>misaligned/ missing</b></font> in external & internal reports from report date: <b><font color = 'blue'>{start_date}</b></font>,\n",
    "        please help to check and make amendment regardingliy.<br>{html_compare_2}<br><br>\n",
    "        Below data contains <b><font color = 'blue'>incorrect ODM name</b></font>, please delete the data and upload again with the correct ODM name.<br>{incorrect_ODM.to_html(escape=False, index=False)}<br><br>\n",
    "        Below data contains <b><font color = 'blue'>incorrect Commodity name</b></font>, data is deleted by project team, please upload the data with correct commodity name.<br>{incorrect_commodity.to_html(escape=False, index=False)}<br><br>\n",
    "        Below data contains <b><font color = 'blue'>non supplier supply with incorrect format</b></font>, please revise the data with internal shortage tool accordingly.<br>{df_spsupply_mis.to_html(escape=False, index=False)} <br><br>\n",
    "        {signature}\"\"\"\n",
    "\n",
    "    # make sure email fully initialized, and only write after <body>\n",
    "    mail.GetInspector \n",
    "    index = mail.HTMLbody.find('>', mail.HTMLbody.find('<body')) \n",
    "\n",
    "    # generate email\n",
    "    mail.HTMLBody = message\n",
    "    mail.display()\n",
    "\n",
    "else:\n",
    "    To_list = 'gps.taiwan.nb.buy-sell@hp.com'\n",
    "    CC_list = 'spencer.cheng1@hp.com; dustin.hsu1@hp.com'\n",
    "\n",
    "    # start creating the email\n",
    "    mail = win32.Dispatch(\"Outlook.Application\").CreateItem(0)\n",
    "    mail.To = To_list\n",
    "    mail.CC = CC_list\n",
    "    mail.Subject = 'Internal/ External Report Misalignment alert' + '<From Report Date: '+ start_date+' to ' + today + '>'\n",
    "    signature = \"<br><br>Best Regards,<br>Newcomen Project Team\"\n",
    "    message = f\"\"\"Hi team,<br><br>\n",
    "    No information is <b><font color = 'blue'>misaligned/ missing</b></font> in external & internal reports from report date: <b><font color = 'blue'>{start_date} to {today}</b></font>.\n",
    "    Thank you.<br><br>{signature}\"\"\"\n",
    "\n",
    "    mail.GetInspector \n",
    "    index = mail.HTMLbody.find('>', mail.HTMLbody.find('<body')) \n",
    "\n",
    "    # generate email\n",
    "    mail.HTMLBody = message\n",
    "    mail.display()\n",
    "    \n",
    "    print(f'No error found on {today}')"
   ]
  },
  {
   "cell_type": "code",
   "execution_count": 44,
   "metadata": {},
   "outputs": [
    {
     "data": {
      "text/plain": [
       "<function Connection.close>"
      ]
     },
     "execution_count": 44,
     "metadata": {},
     "output_type": "execute_result"
    }
   ],
   "source": [
    "# connection\n",
    "conn = pyodbc.connect('Driver={ODBC Driver 17 for SQL Server}; Server=g7w11206g.inc.hpicorp.net; Database=CSI; Trusted_Connection=Yes;')\n",
    "cursor = conn.cursor()\n",
    "\n",
    "# download shortge from SQL\n",
    "cursor.execute(f\"SELECT * FROM OPS.GPS_view_ops_critical_shortage_overview where [Report Date] = '{today}'\")\n",
    "shor = pd.DataFrame.from_records(cursor.fetchall(), columns = [i[0] for i in cursor.description])\n",
    "conn.close"
   ]
  }
 ],
 "metadata": {
  "kernelspec": {
   "display_name": "Python 3",
   "language": "python",
   "name": "python3"
  },
  "language_info": {
   "codemirror_mode": {
    "name": "ipython",
    "version": 3
   },
   "file_extension": ".py",
   "mimetype": "text/x-python",
   "name": "python",
   "nbconvert_exporter": "python",
   "pygments_lexer": "ipython3",
   "version": "3.12.0"
  }
 },
 "nbformat": 4,
 "nbformat_minor": 2
}
