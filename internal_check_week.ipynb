{
 "cells": [
  {
   "cell_type": "code",
   "execution_count": 7,
   "metadata": {},
   "outputs": [],
   "source": [
    "import pyodbc\n",
    "import pandas as pd\n",
    "from pathlib import Path\n",
    "from datetime import date\n",
    "import numpy as np\n",
    "import win32com.client as win32"
   ]
  },
  {
   "cell_type": "code",
<<<<<<< HEAD
   "execution_count": 8,
=======
   "execution_count": null,
>>>>>>> internal_check_adjust
   "metadata": {},
   "outputs": [
    {
     "name": "stdout",
     "output_type": "stream",
     "text": [
      "2024-10-31\n",
      "2024-10-24\n"
     ]
    }
   ],
   "source": [
    "if (date.today()- pd.DateOffset(days=1)).weekday() == 6:\n",
    "    today = (date.today()- pd.DateOffset(days=3)).strftime('%Y-%m-%d')\n",
    "else:\n",
    "    today = (date.today()- pd.DateOffset(days=1)).strftime('%Y-%m-%d')\n",
    "print(today)\n",
    "\n",
    "start_date = date.today() - pd.DateOffset(days=8)\n",
    "start_date = start_date.strftime('%Y-%m-%d')\n",
    "print(start_date)\n",
    "#start_date  ='2024-10-01'"
   ]
  },
  {
   "cell_type": "code",
<<<<<<< HEAD
   "execution_count": 9,
=======
   "execution_count": 3,
>>>>>>> internal_check_adjust
   "metadata": {},
   "outputs": [
    {
     "name": "stdout",
     "output_type": "stream",
     "text": [
      "2024-10-01\n",
      "2024-10-02\n",
      "2024-10-03\n",
      "2024-10-04\n",
      "2024-10-05\n",
      "2024-10-06\n",
      "2024-10-07\n",
      "2024-10-08\n",
      "2024-10-09\n",
      "2024-10-10\n",
      "2024-10-11\n",
      "2024-10-12\n",
      "2024-10-13\n",
      "2024-10-14\n",
      "2024-10-15\n",
      "2024-10-16\n",
      "2024-10-17\n",
      "2024-10-18\n",
      "2024-10-19\n",
      "2024-10-20\n",
      "2024-10-21\n",
      "2024-10-22\n",
      "2024-10-23\n",
      "2024-10-24\n",
      "2024-10-25\n",
      "2024-10-26\n",
      "2024-10-27\n",
      "2024-10-28\n",
      "2024-10-29\n",
      "2024-10-30\n",
      "2024-10-31\n"
     ]
    }
   ],
   "source": [
    "date_range = pd.date_range(start=start_date, end=today)\n",
    "\n",
    "for single_date in date_range:\n",
    "    print(single_date.strftime('%Y-%m-%d'))"
   ]
  },
  {
   "cell_type": "code",
<<<<<<< HEAD
   "execution_count": 10,
=======
   "execution_count": 4,
>>>>>>> internal_check_adjust
   "metadata": {},
   "outputs": [],
   "source": [
    "# today = '2024-04-25'"
   ]
  },
  {
   "cell_type": "code",
<<<<<<< HEAD
   "execution_count": 11,
=======
   "execution_count": 5,
>>>>>>> internal_check_adjust
   "metadata": {},
   "outputs": [],
   "source": [
    "reason_codes = [\n",
    "    \"Hub SB\",\n",
    "    \"WWSB\",\n",
    "    \"Broker buy\",\n",
    "    \"Return from ODM\",\n",
    "    \"To be re-programmed\",\n",
    "    \"To be sorted\",\n",
    "    \"To be qualified\",\n",
    "    \"FXN internal SB\",\n",
    "    \"Append EM\",\n",
    "    \"Navy deal\",\n",
    "    \"EOL without any supply\",\n",
    "    \"Waiver process\",\n",
    "    \"Others\"]"
   ]
  },
  {
   "cell_type": "markdown",
   "metadata": {},
   "source": [
    "### get external data"
   ]
  },
  {
   "cell_type": "code",
<<<<<<< HEAD
   "execution_count": 12,
=======
   "execution_count": 6,
>>>>>>> internal_check_adjust
   "metadata": {},
   "outputs": [
    {
     "name": "stdout",
     "output_type": "stream",
     "text": [
      "connect\n"
     ]
    }
   ],
   "source": [
    "# connection\n",
    "conn = pyodbc.connect('Driver={ODBC Driver 17 for SQL Server}; Server=g7w11206g.inc.hpicorp.net; Database=CSI; Trusted_Connection=Yes;')\n",
    "cursor = conn.cursor()\n",
    "print('connect')\n",
    "\n",
    "# download shortge from SQL\n",
    "\n",
    "\n",
    "cursor.execute(f\"SELECT * FROM OPS.GPS_tbl_ops_shortage_ext where ReportDate >= '{start_date}' and ReportDate <= '{today}'\")\n",
    "shortage_ext = pd.DataFrame.from_records(cursor.fetchall(), columns = [i[0] for i in cursor.description])\n",
    "shortage_ext['HP_PN'] = shortage_ext['HP_PN'].str.replace('\\n', ',', regex=False)\n",
    "shortage_ext['FV'] = shortage_ext['FV'].str.replace('\\n', ',', regex=False)\n",
    "\n",
    "# download PNFV from SQL\n",
    "cursor.execute(\"SELECT * FROM OPS.GPS_tbl_ops_PN_FV\")\n",
    "PNFV = pd.DataFrame.from_records(cursor.fetchall(), columns = [i[0] for i in cursor.description])\n",
    "PNFV = PNFV.apply(lambda x: x.str.strip() if x.dtype == \"object\" else x)\n",
    "PNFV = PNFV.rename({'Descr':'FV'})"
   ]
  },
  {
   "cell_type": "code",
<<<<<<< HEAD
   "execution_count": 13,
=======
   "execution_count": 7,
   "metadata": {},
   "outputs": [
    {
     "data": {
      "text/html": [
       "<div>\n",
       "<style scoped>\n",
       "    .dataframe tbody tr th:only-of-type {\n",
       "        vertical-align: middle;\n",
       "    }\n",
       "\n",
       "    .dataframe tbody tr th {\n",
       "        vertical-align: top;\n",
       "    }\n",
       "\n",
       "    .dataframe thead th {\n",
       "        text-align: right;\n",
       "    }\n",
       "</style>\n",
       "<table border=\"1\" class=\"dataframe\">\n",
       "  <thead>\n",
       "    <tr style=\"text-align: right;\">\n",
       "      <th></th>\n",
       "      <th>Commodity</th>\n",
       "      <th>Supplier</th>\n",
       "      <th>PN</th>\n",
       "      <th>Descr</th>\n",
       "      <th>alternative part flag</th>\n",
       "    </tr>\n",
       "  </thead>\n",
       "  <tbody>\n",
       "    <tr>\n",
       "      <th>0</th>\n",
       "      <td>Memory</td>\n",
       "      <td>SK-HYNIX</td>\n",
       "      <td>M49881-382</td>\n",
       "      <td>8GB DDR5-4800 UDIMM</td>\n",
       "      <td>nan</td>\n",
       "    </tr>\n",
       "    <tr>\n",
       "      <th>1</th>\n",
       "      <td>Memory</td>\n",
       "      <td>KINGSTON</td>\n",
       "      <td>N20975-H81</td>\n",
       "      <td>8GB DDR5-5600 UDIMM</td>\n",
       "      <td>nan</td>\n",
       "    </tr>\n",
       "    <tr>\n",
       "      <th>2</th>\n",
       "      <td>CONNECTOR</td>\n",
       "      <td>SINGATRON</td>\n",
       "      <td>N53175-S15</td>\n",
       "      <td>DCIN 10P H4.5 N53175</td>\n",
       "      <td>nan</td>\n",
       "    </tr>\n",
       "    <tr>\n",
       "      <th>3</th>\n",
       "      <td>CONNECTOR</td>\n",
       "      <td>SUYIN-CORP</td>\n",
       "      <td>N53175-Y15</td>\n",
       "      <td>DCIN 10P H4.5 N53175</td>\n",
       "      <td>nan</td>\n",
       "    </tr>\n",
       "    <tr>\n",
       "      <th>4</th>\n",
       "      <td>LCD</td>\n",
       "      <td>AUO</td>\n",
       "      <td>M81328-362</td>\n",
       "      <td>16WUXGA AG UWVA EDPPSR USLIM SRGB LP 400N</td>\n",
       "      <td>nan</td>\n",
       "    </tr>\n",
       "    <tr>\n",
       "      <th>...</th>\n",
       "      <td>...</td>\n",
       "      <td>...</td>\n",
       "      <td>...</td>\n",
       "      <td>...</td>\n",
       "      <td>...</td>\n",
       "    </tr>\n",
       "    <tr>\n",
       "      <th>6647</th>\n",
       "      <td>WEBCAM</td>\n",
       "      <td>LUXVISIONS</td>\n",
       "      <td>M81906-5A2</td>\n",
       "      <td>1C DMc UB2 HD NFOV - ZHN</td>\n",
       "      <td>None</td>\n",
       "    </tr>\n",
       "    <tr>\n",
       "      <th>6648</th>\n",
       "      <td>WEBCAM</td>\n",
       "      <td>TFC</td>\n",
       "      <td>M81906-A22</td>\n",
       "      <td>1C DMc UB2 HD NFOV - ZHN</td>\n",
       "      <td>None</td>\n",
       "    </tr>\n",
       "    <tr>\n",
       "      <th>6649</th>\n",
       "      <td>WEBCAM</td>\n",
       "      <td>CGI</td>\n",
       "      <td>M81906-152</td>\n",
       "      <td>1C DMc UB2 HD NFOV - ZHN</td>\n",
       "      <td>None</td>\n",
       "    </tr>\n",
       "    <tr>\n",
       "      <th>6650</th>\n",
       "      <td>Memory</td>\n",
       "      <td>MICRON</td>\n",
       "      <td>N20972-682</td>\n",
       "      <td>8GB DDR5-5600</td>\n",
       "      <td>None</td>\n",
       "    </tr>\n",
       "    <tr>\n",
       "      <th>6651</th>\n",
       "      <td>Memory</td>\n",
       "      <td>MICRON</td>\n",
       "      <td>N20973-682</td>\n",
       "      <td>16GB DDR5-5600</td>\n",
       "      <td>None</td>\n",
       "    </tr>\n",
       "  </tbody>\n",
       "</table>\n",
       "<p>6652 rows × 5 columns</p>\n",
       "</div>"
      ],
      "text/plain": [
       "      Commodity    Supplier          PN  \\\n",
       "0        Memory    SK-HYNIX  M49881-382   \n",
       "1        Memory    KINGSTON  N20975-H81   \n",
       "2     CONNECTOR   SINGATRON  N53175-S15   \n",
       "3     CONNECTOR  SUYIN-CORP  N53175-Y15   \n",
       "4           LCD         AUO  M81328-362   \n",
       "...         ...         ...         ...   \n",
       "6647     WEBCAM  LUXVISIONS  M81906-5A2   \n",
       "6648     WEBCAM         TFC  M81906-A22   \n",
       "6649     WEBCAM         CGI  M81906-152   \n",
       "6650     Memory      MICRON  N20972-682   \n",
       "6651     Memory      MICRON  N20973-682   \n",
       "\n",
       "                                          Descr alternative part flag  \n",
       "0                           8GB DDR5-4800 UDIMM                   nan  \n",
       "1                           8GB DDR5-5600 UDIMM                   nan  \n",
       "2                          DCIN 10P H4.5 N53175                   nan  \n",
       "3                          DCIN 10P H4.5 N53175                   nan  \n",
       "4     16WUXGA AG UWVA EDPPSR USLIM SRGB LP 400N                   nan  \n",
       "...                                         ...                   ...  \n",
       "6647                   1C DMc UB2 HD NFOV - ZHN                  None  \n",
       "6648                   1C DMc UB2 HD NFOV - ZHN                  None  \n",
       "6649                   1C DMc UB2 HD NFOV - ZHN                  None  \n",
       "6650                              8GB DDR5-5600                  None  \n",
       "6651                             16GB DDR5-5600                  None  \n",
       "\n",
       "[6652 rows x 5 columns]"
      ]
     },
     "execution_count": 7,
     "metadata": {},
     "output_type": "execute_result"
    }
   ],
   "source": [
    "PNFV"
   ]
  },
  {
   "cell_type": "code",
   "execution_count": 8,
>>>>>>> internal_check_adjust
   "metadata": {},
   "outputs": [
    {
     "name": "stderr",
     "output_type": "stream",
     "text": [
<<<<<<< HEAD
      "C:\\Users\\ChDo691\\AppData\\Local\\Temp\\ipykernel_22572\\1592905366.py:8: SettingWithCopyWarning: \n",
=======
      "C:\\Users\\ChDo691\\AppData\\Local\\Temp\\ipykernel_33580\\1592905366.py:8: SettingWithCopyWarning: \n",
>>>>>>> internal_check_adjust
      "A value is trying to be set on a copy of a slice from a DataFrame.\n",
      "Try using .loc[row_indexer,col_indexer] = value instead\n",
      "\n",
      "See the caveats in the documentation: https://pandas.pydata.org/pandas-docs/stable/user_guide/indexing.html#returning-a-view-versus-a-copy\n",
      "  ext_CPU['Supplier'] = np.where(ext_CPU['FV'].str.contains('INTEL', case=False), 'INTEL', 'AMD')\n"
     ]
    }
   ],
   "source": [
    "shortage_ext['ReportDate'] = pd.to_datetime(shortage_ext['ReportDate'])\n",
    "\n",
    "# group bu commodity and count the len of each group\n",
    "shortage_ext = shortage_ext[shortage_ext['P1'] != 0]\n",
    "\n",
    "# CPU need to add supplier\n",
    "ext_CPU = shortage_ext[shortage_ext['Commodity'] == 'CPU']\n",
    "ext_CPU['Supplier'] = np.where(ext_CPU['FV'].str.contains('INTEL', case=False), 'INTEL', 'AMD')\n",
    "ext_CPU_group = ext_CPU.groupby(['ReportDate','Commodity','Supplier']).size().reset_index(name='Count')\n",
    "ext_CPU_group['Commodity'] = ext_CPU_group['Supplier'] + ' ' +  ext_CPU_group['Commodity']\n",
    "ext_CPU_group.drop(columns=['Supplier'], inplace=True)"
   ]
  },
  {
   "cell_type": "markdown",
   "metadata": {},
   "source": [
    "### get internal data"
   ]
  },
  {
   "cell_type": "code",
<<<<<<< HEAD
   "execution_count": 14,
=======
   "execution_count": 9,
>>>>>>> internal_check_adjust
   "metadata": {},
   "outputs": [
    {
     "name": "stdout",
     "output_type": "stream",
     "text": [
      "No empty value in Commodity\n"
     ]
    }
   ],
   "source": [
    "# connection\n",
    "conn = pyodbc.connect('Driver={ODBC Driver 17 for SQL Server}; Server=g7w11206g.inc.hpicorp.net; Database=CSI; Trusted_Connection=Yes;')\n",
    "cursor = conn.cursor()\n",
    "# download shortge from SQL\n",
    "cursor.execute(f\"SELECT * FROM OPS.GPS_view_ops_critical_shortage_overview WHERE [Report Date] >= '{start_date}' AND [Report Date] <= '{today}'\")\n",
    "internal = pd.DataFrame.from_records(cursor.fetchall(), columns = [i[0] for i in cursor.description])\n",
    "# check if there is empty value in Commodity\n",
    "if internal.Commodity.isna().any():\n",
    "    print(internal[internal.Commodity.isna()])\n",
    "else:\n",
    "    print('No empty value in Commodity')"
   ]
  },
  {
   "cell_type": "code",
<<<<<<< HEAD
   "execution_count": 15,
=======
   "execution_count": 10,
>>>>>>> internal_check_adjust
   "metadata": {},
   "outputs": [
    {
     "name": "stderr",
     "output_type": "stream",
     "text": [
<<<<<<< HEAD
      "C:\\Users\\ChDo691\\AppData\\Local\\Temp\\ipykernel_22572\\845081004.py:13: SettingWithCopyWarning: \n",
=======
      "C:\\Users\\ChDo691\\AppData\\Local\\Temp\\ipykernel_33580\\845081004.py:13: SettingWithCopyWarning: \n",
>>>>>>> internal_check_adjust
      "A value is trying to be set on a copy of a slice from a DataFrame.\n",
      "Try using .loc[row_indexer,col_indexer] = value instead\n",
      "\n",
      "See the caveats in the documentation: https://pandas.pydata.org/pandas-docs/stable/user_guide/indexing.html#returning-a-view-versus-a-copy\n",
      "  int_CPU['Supplier'] = np.where(int_CPU['FV Des'].str.contains('INTEL', case=False), 'INTEL', 'AMD')\n"
     ]
    }
   ],
   "source": [
    "# drop the rows with 'Delete' == 'Y' and group by Commodity\n",
    "internal = internal[(~(internal['Delete'] == 'Y'))]\n",
    "\n",
    "#drop internal P1 = 0 and na\n",
    "internal = internal.dropna(subset=['P1'])\n",
    "internal = internal[internal['P1'] != 0]\n",
    "\n",
    "internal.rename(columns={'Report Date': 'ReportDate'}, inplace=True)\n",
    "internal['ReportDate'] = pd.to_datetime(internal['ReportDate'])\n",
    "\n",
    "# CPU need to add supplier\n",
    "int_CPU = internal[internal['Commodity'] == 'CPU']\n",
    "int_CPU['Supplier'] = np.where(int_CPU['FV Des'].str.contains('INTEL', case=False), 'INTEL', 'AMD')\n",
    "int_CPU_group = int_CPU.groupby(['ReportDate','Commodity','Supplier']).size().reset_index(name='Count')\n",
    "int_CPU_group['Commodity'] = int_CPU_group['Supplier'] + ' ' +  int_CPU_group['Commodity']\n",
    "int_CPU_group.drop(columns=['Supplier'], inplace=True)"
   ]
  },
  {
   "cell_type": "markdown",
   "metadata": {},
   "source": [
    "Special supply format misaligned (in reason_codes)"
   ]
  },
  {
   "cell_type": "code",
<<<<<<< HEAD
   "execution_count": 16,
=======
   "execution_count": 11,
>>>>>>> internal_check_adjust
   "metadata": {},
   "outputs": [],
   "source": [
    "df_special_supply = internal.copy()\n",
    "#special supply is non supplier supply\n",
    "df_special_supply['ETA'] = df_special_supply['ETA'].str.split('\\n')\n",
    "df_special_supply = df_special_supply.explode('ETA')\n",
    "text = df_special_supply['ETA']"
   ]
  },
  {
   "cell_type": "code",
<<<<<<< HEAD
   "execution_count": 17,
=======
   "execution_count": 12,
>>>>>>> internal_check_adjust
   "metadata": {},
   "outputs": [
    {
     "name": "stdout",
     "output_type": "stream",
     "text": [
      "             Reference ID Buyer Name Severity Shortage Start Date   Commodity  \\\n",
      "0     AC20240930163509001   Fion Fei        R          2024-08-15  AC ADAPTOR   \n",
      "0     AC20240930163509001   Fion Fei        R          2024-08-15  AC ADAPTOR   \n",
      "0     AC20240930163509001   Fion Fei        R          2024-08-15  AC ADAPTOR   \n",
      "1     AC20240930163512002   Fion Fei        R          2024-09-03  AC ADAPTOR   \n",
      "2     AC20240930163530001   Fion Fei        R          2024-08-15  AC ADAPTOR   \n",
      "...                   ...        ...      ...                 ...         ...   \n",
<<<<<<< HEAD
      "1146  WL20241031130857001     Alice         R          2024-08-16        WLAN   \n",
      "1146  WL20241031130857001     Alice         R          2024-08-16        WLAN   \n",
      "1147  WL20241031130906002     Alice         R          2024-08-08        WLAN   \n",
      "1147  WL20241031130906002     Alice         R          2024-08-08        WLAN   \n",
      "1148  WL20241031130914003     Alice         Y          2024-10-30        WLAN   \n",
=======
      "3866  WL20241031130857001     Alice         R          2024-08-16        WLAN   \n",
      "3866  WL20241031130857001     Alice         R          2024-08-16        WLAN   \n",
      "3867  WL20241031130906002     Alice         R          2024-08-08        WLAN   \n",
      "3867  WL20241031130906002     Alice         R          2024-08-08        WLAN   \n",
      "3868  WL20241031130914003     Alice         Y          2024-10-30        WLAN   \n",
>>>>>>> internal_check_adjust
      "\n",
      "             HP Part Number                   FV Des Site    ODM  \\\n",
      "0     L45440-001,L45440-003  90W TUBE USBC Gaia plus   CQ  CQWIS   \n",
      "0     L45440-001,L45440-003  90W TUBE USBC Gaia plus   CQ  CQWIS   \n",
      "0     L45440-001,L45440-003  90W TUBE USBC Gaia plus   CQ  CQWIS   \n",
      "1     L45440-003,L45440-001  90W TUBE USBC Gaia plus   KS    CEI   \n",
      "2     L45440-001,L45440-003  90W TUBE USBC Gaia plus   CQ  CQWIS   \n",
      "...                     ...                      ...  ...    ...   \n",
<<<<<<< HEAD
      "1146             M61212-002       QUALCOMM MARTINI 2   CQ  CQIEC   \n",
      "1146             M61212-002       QUALCOMM MARTINI 2   CQ  CQIEC   \n",
      "1147             M61212-002       QUALCOMM MARTINI 2   CQ  CQQCI   \n",
      "1147             M61212-002       QUALCOMM MARTINI 2   CQ  CQQCI   \n",
      "1148             N26140-002                 RT CHOYA   KS    CEI   \n",
      "\n",
      "            Platform  ...  Hub Stock under Specific ODM Bucket  \\\n",
      "0              TUFFY  ...                              12096.0   \n",
      "1           Duckhorn  ...                                 50.0   \n",
      "1           Duckhorn  ...                                 50.0   \n",
      "1           Duckhorn  ...                                 50.0   \n",
      "1           Duckhorn  ...                                 50.0   \n",
      "...              ...  ...                                  ...   \n",
      "1146    Pax/Lockheed  ...                               5336.0   \n",
      "1146    Pax/Lockheed  ...                               5336.0   \n",
      "1147           Pan14  ...                                  0.0   \n",
      "1147           Pan14  ...                                  0.0   \n",
      "1148  MaldivesR6U2.0  ...                              16720.0   \n",
      "\n",
      "                                             Root Cause  \\\n",
      "0     Tuffy , demand upside 99% in oct ,single sourc...   \n",
      "1                             EOL part, order over drop   \n",
      "1                             EOL part, order over drop   \n",
      "1                             EOL part, order over drop   \n",
      "1                             EOL part, order over drop   \n",
      "...                                                 ...   \n",
      "1146                                order overdrop 107%   \n",
      "1146                                order overdrop 107%   \n",
      "1147                                order overdrop 169%   \n",
      "1147                                order overdrop 169%   \n",
      "1148                                                      \n",
=======
      "3866             M61212-002       QUALCOMM MARTINI 2   CQ  CQIEC   \n",
      "3866             M61212-002       QUALCOMM MARTINI 2   CQ  CQIEC   \n",
      "3867             M61212-002       QUALCOMM MARTINI 2   CQ  CQQCI   \n",
      "3867             M61212-002       QUALCOMM MARTINI 2   CQ  CQQCI   \n",
      "3868             N26140-002                 RT CHOYA   KS    CEI   \n",
      "\n",
      "                                               Platform  ...  \\\n",
      "0                                              Duckhorn  ...   \n",
      "0                                              Duckhorn  ...   \n",
      "0                                              Duckhorn  ...   \n",
      "1     Weller 22C1/Pappy 22C1/GOLDY 23C1/Sparty 23C1/...  ...   \n",
      "2                                              Duckhorn  ...   \n",
      "...                                                 ...  ...   \n",
      "3866                                       Pax/Lockheed  ...   \n",
      "3866                                       Pax/Lockheed  ...   \n",
      "3867                                              Pan14  ...   \n",
      "3867                                              Pan14  ...   \n",
      "3868                                     MaldivesR6U2.0  ...   \n",
      "\n",
      "      Hub Stock under Specific ODM Bucket                 Root Cause  \\\n",
      "0                                 11625.0  EOL part, order over drop   \n",
      "0                                 11625.0  EOL part, order over drop   \n",
      "0                                 11625.0  EOL part, order over drop   \n",
      "1                                    50.0                              \n",
      "2                                 11625.0  EOL part, order over drop   \n",
      "...                                   ...                        ...   \n",
      "3866                               5336.0        order overdrop 107%   \n",
      "3866                               5336.0        order overdrop 107%   \n",
      "3867                                  0.0        order overdrop 169%   \n",
      "3867                                  0.0        order overdrop 169%   \n",
      "3868                              16720.0                              \n",
>>>>>>> internal_check_adjust
      "\n",
      "                                                 Impact  \\\n",
      "0     68K TSDI:\\nEarly Nov:16K\\nEarly Dec: 27K (17K ...   \n",
      "0     68K TSDI:\\nEarly Nov:16K\\nEarly Dec: 27K (17K ...   \n",
      "0     68K TSDI:\\nEarly Nov:16K\\nEarly Dec: 27K (17K ...   \n",
      "1                                                         \n",
      "2     68K TSDI:\\nEarly Nov:16K\\nEarly Dec: 27K (17K ...   \n",
      "...                                                 ...   \n",
<<<<<<< HEAD
      "1146                              FCT & ISDI* 3463pcs\\n   \n",
      "1146                              FCT & ISDI* 3463pcs\\n   \n",
      "1147                                         FCT*111pcs   \n",
      "1147                                         FCT*111pcs   \n",
      "1148                                                      \n",
=======
      "3866                              FCT & ISDI* 3463pcs\\n   \n",
      "3866                              FCT & ISDI* 3463pcs\\n   \n",
      "3867                                         FCT*111pcs   \n",
      "3867                                         FCT*111pcs   \n",
      "3868                                                      \n",
>>>>>>> internal_check_adjust
      "\n",
      "                                       GPS Action Taken  \\\n",
      "0     1.24K received on 9/16\\n2.44K received on 9/20...   \n",
      "0     1.24K received on 9/16\\n2.44K received on 9/20...   \n",
      "0     1.24K received on 9/16\\n2.44K received on 9/20...   \n",
      "1                                                         \n",
      "2     1.24K received on 9/16\\n2.44K received on 9/20...   \n",
      "...                                                 ...   \n",
<<<<<<< HEAD
      "1146  *Schedule has pulled 1.8k to ETA 11/21 from 11...   \n",
      "1146  *Schedule has pulled 1.8k to ETA 11/21 from 11...   \n",
      "1147                                                      \n",
      "1147                                                      \n",
      "1148                                                      \n",
=======
      "3866  *Schedule has pulled 1.8k to ETA 11/21 from 11...   \n",
      "3866  *Schedule has pulled 1.8k to ETA 11/21 from 11...   \n",
      "3867                                                      \n",
      "3867                                                      \n",
      "3868                                                      \n",
>>>>>>> internal_check_adjust
      "\n",
      "                                         Help Needed  FCST Upside  \\\n",
      "0     CM/GSM help to expedite material delivery & FD          NaN   \n",
      "0     CM/GSM help to expedite material delivery & FD          NaN   \n",
      "0     CM/GSM help to expedite material delivery & FD          NaN   \n",
      "1                                               None          NaN   \n",
      "2     CM/GSM help to expedite material delivery & FD          NaN   \n",
      "...                                              ...          ...   \n",
<<<<<<< HEAD
      "1146                                              NA          NaN   \n",
      "1146                                              NA          NaN   \n",
      "1147                                            None          NaN   \n",
      "1147                                            None          NaN   \n",
      "1148                                            None          NaN   \n",
=======
      "3866                                              NA          NaN   \n",
      "3866                                              NA          NaN   \n",
      "3867                                                          NaN   \n",
      "3867                                                          NaN   \n",
      "3868                                                          NaN   \n",
>>>>>>> internal_check_adjust
      "\n",
      "     Order Overdrop ReportDate Delete ETA misaligned  \n",
      "0               NaN 2024-10-01   None          False  \n",
      "0               NaN 2024-10-01   None          False  \n",
      "0               NaN 2024-10-01   None          False  \n",
      "1               NaN 2024-10-01   None          False  \n",
      "2               NaN 2024-10-02   None          False  \n",
      "...             ...        ...    ...            ...  \n",
<<<<<<< HEAD
      "1146            NaN 2024-10-31   None          False  \n",
      "1146            NaN 2024-10-31   None          False  \n",
      "1147            NaN 2024-10-31   None          False  \n",
      "1147            NaN 2024-10-31   None          False  \n",
      "1148            NaN 2024-10-31   None          False  \n",
      "\n",
      "[1887 rows x 30 columns]\n"
=======
      "3866            NaN 2024-10-31   None          False  \n",
      "3866            NaN 2024-10-31   None          False  \n",
      "3867            NaN 2024-10-31   None          False  \n",
      "3867            NaN 2024-10-31   None          False  \n",
      "3868            NaN 2024-10-31   None          False  \n",
      "\n",
      "[6888 rows x 30 columns]\n"
>>>>>>> internal_check_adjust
     ]
    }
   ],
   "source": [
    "def check_conditions(text):\n",
    "   # 检查文本是否以 'ETA' 或 'TBD' 开头\n",
    "   if text is None:\n",
    "        return False\n",
    "   \n",
    "   if text.startswith('ETA') or text.startswith('TBD'):\n",
    "       return False\n",
    "   # 检查文本是否包含任何 reason_codes 中的字符串\n",
    "   for reason in reason_codes:\n",
    "       if reason in text:\n",
    "           return True\n",
    "   return False\n",
    "# 应用函数到 'ETA' 列\n",
    "df_special_supply['ETA misaligned'] = df_special_supply['ETA'].apply(check_conditions)\n",
    "# 打印结果\n",
    "print(df_special_supply)\n",
    "df_spsupply_true = df_special_supply[df_special_supply['ETA misaligned'] == True]\n",
    "df_spsupply_mis = df_spsupply_true[['ReportDate', 'Buyer Name', 'Commodity', 'FV Des', 'ETA']]"
   ]
  },
  {
   "cell_type": "code",
<<<<<<< HEAD
   "execution_count": 18,
=======
   "execution_count": 13,
>>>>>>> internal_check_adjust
   "metadata": {},
   "outputs": [
    {
     "data": {
      "text/html": [
       "<div>\n",
       "<style scoped>\n",
       "    .dataframe tbody tr th:only-of-type {\n",
       "        vertical-align: middle;\n",
       "    }\n",
       "\n",
       "    .dataframe tbody tr th {\n",
       "        vertical-align: top;\n",
       "    }\n",
       "\n",
       "    .dataframe thead th {\n",
       "        text-align: right;\n",
       "    }\n",
       "</style>\n",
       "<table border=\"1\" class=\"dataframe\">\n",
       "  <thead>\n",
       "    <tr style=\"text-align: right;\">\n",
       "      <th></th>\n",
       "      <th>ODM</th>\n",
       "      <th>Item</th>\n",
       "      <th>Commodity</th>\n",
       "      <th>FV</th>\n",
       "      <th>Platform</th>\n",
       "      <th>P1</th>\n",
       "      <th>Net P2</th>\n",
       "      <th>Net P3</th>\n",
       "      <th>Total Shortage Qty</th>\n",
       "      <th>BT shortage</th>\n",
       "      <th>Working on upside</th>\n",
       "      <th>ReportDate</th>\n",
       "      <th>last FD date</th>\n",
       "      <th>HP_PN</th>\n",
       "      <th>BuyerName</th>\n",
       "    </tr>\n",
       "  </thead>\n",
       "  <tbody>\n",
       "    <tr>\n",
       "      <th>2</th>\n",
       "      <td>CQIEC</td>\n",
       "      <td>7</td>\n",
       "      <td>CPU</td>\n",
       "      <td>AMD LUCIENNE RYZEN5 5500U FP6</td>\n",
       "      <td>Ashmo6U;Eunic11</td>\n",
       "      <td>445.0</td>\n",
       "      <td>0.0</td>\n",
       "      <td>0.0</td>\n",
       "      <td>445.0</td>\n",
       "      <td>0.0</td>\n",
       "      <td>445.0</td>\n",
       "      <td>2024-10-14</td>\n",
       "      <td>2050-01-01</td>\n",
       "      <td>M29517-001</td>\n",
       "      <td>Ariel</td>\n",
       "    </tr>\n",
       "    <tr>\n",
       "      <th>3</th>\n",
       "      <td>CQIEC</td>\n",
       "      <td>10</td>\n",
       "      <td>CPU</td>\n",
       "      <td>AMD PHOENIX RYZEN9 PRO 7940HS FP7R2</td>\n",
       "      <td>Lox</td>\n",
       "      <td>67.0</td>\n",
       "      <td>0.0</td>\n",
       "      <td>0.0</td>\n",
       "      <td>67.0</td>\n",
       "      <td>0.0</td>\n",
       "      <td>67.0</td>\n",
       "      <td>2024-10-14</td>\n",
       "      <td>2050-01-01</td>\n",
       "      <td>N41421-A40</td>\n",
       "      <td>Ariel</td>\n",
       "    </tr>\n",
       "    <tr>\n",
       "      <th>4</th>\n",
       "      <td>CQIEC</td>\n",
       "      <td>11</td>\n",
       "      <td>CPU</td>\n",
       "      <td>AMD PHOENIX RYZEN7 7840U FP7R2</td>\n",
       "      <td>Lox</td>\n",
       "      <td>424.0</td>\n",
       "      <td>0.0</td>\n",
       "      <td>0.0</td>\n",
       "      <td>424.0</td>\n",
       "      <td>0.0</td>\n",
       "      <td>424.0</td>\n",
       "      <td>2024-10-14</td>\n",
       "      <td>2050-01-01</td>\n",
       "      <td>N41421-A70</td>\n",
       "      <td>Ariel</td>\n",
       "    </tr>\n",
       "    <tr>\n",
       "      <th>5</th>\n",
       "      <td>CQIEC</td>\n",
       "      <td>9</td>\n",
       "      <td>CPU</td>\n",
       "      <td>AMD RYZEN EMBEDDED V2546 FP6</td>\n",
       "      <td>Puffin</td>\n",
       "      <td>637.0</td>\n",
       "      <td>0.0</td>\n",
       "      <td>0.0</td>\n",
       "      <td>637.0</td>\n",
       "      <td>0.0</td>\n",
       "      <td>0.0</td>\n",
       "      <td>2024-10-14</td>\n",
       "      <td>2024-11-02</td>\n",
       "      <td>N36241-A10</td>\n",
       "      <td>Celine</td>\n",
       "    </tr>\n",
       "    <tr>\n",
       "      <th>6</th>\n",
       "      <td>CQIEC</td>\n",
       "      <td>2</td>\n",
       "      <td>CPU</td>\n",
       "      <td>DT Intel Raptor Lake-S i7-14700T</td>\n",
       "      <td>Boggle</td>\n",
       "      <td>201.0</td>\n",
       "      <td>0.0</td>\n",
       "      <td>0.0</td>\n",
       "      <td>201.0</td>\n",
       "      <td>0.0</td>\n",
       "      <td>0.0</td>\n",
       "      <td>2024-10-14</td>\n",
       "      <td>2024-10-18</td>\n",
       "      <td>N68914-N60</td>\n",
       "      <td>Karen</td>\n",
       "    </tr>\n",
       "  </tbody>\n",
       "</table>\n",
       "</div>"
      ],
      "text/plain": [
       "     ODM Item Commodity                                   FV         Platform  \\\n",
       "2  CQIEC    7       CPU        AMD LUCIENNE RYZEN5 5500U FP6  Ashmo6U;Eunic11   \n",
       "3  CQIEC   10       CPU  AMD PHOENIX RYZEN9 PRO 7940HS FP7R2              Lox   \n",
       "4  CQIEC   11       CPU       AMD PHOENIX RYZEN7 7840U FP7R2              Lox   \n",
       "5  CQIEC    9       CPU         AMD RYZEN EMBEDDED V2546 FP6           Puffin   \n",
       "6  CQIEC    2       CPU     DT Intel Raptor Lake-S i7-14700T           Boggle   \n",
       "\n",
       "      P1  Net P2  Net P3  Total Shortage Qty  BT shortage  Working on upside  \\\n",
       "2  445.0     0.0     0.0               445.0          0.0              445.0   \n",
       "3   67.0     0.0     0.0                67.0          0.0               67.0   \n",
       "4  424.0     0.0     0.0               424.0          0.0              424.0   \n",
       "5  637.0     0.0     0.0               637.0          0.0                0.0   \n",
       "6  201.0     0.0     0.0               201.0          0.0                0.0   \n",
       "\n",
       "  ReportDate last FD date       HP_PN BuyerName  \n",
       "2 2024-10-14   2050-01-01  M29517-001     Ariel  \n",
       "3 2024-10-14   2050-01-01  N41421-A40     Ariel  \n",
       "4 2024-10-14   2050-01-01  N41421-A70     Ariel  \n",
       "5 2024-10-14   2024-11-02  N36241-A10    Celine  \n",
       "6 2024-10-14   2024-10-18  N68914-N60     Karen  "
      ]
     },
<<<<<<< HEAD
     "execution_count": 18,
=======
     "execution_count": 13,
>>>>>>> internal_check_adjust
     "metadata": {},
     "output_type": "execute_result"
    }
   ],
   "source": [
    "shortage_ext.head()"
   ]
  },
  {
   "cell_type": "code",
<<<<<<< HEAD
   "execution_count": 19,
=======
   "execution_count": 14,
>>>>>>> internal_check_adjust
   "metadata": {},
   "outputs": [
    {
     "data": {
      "text/html": [
       "<div>\n",
       "<style scoped>\n",
       "    .dataframe tbody tr th:only-of-type {\n",
       "        vertical-align: middle;\n",
       "    }\n",
       "\n",
       "    .dataframe tbody tr th {\n",
       "        vertical-align: top;\n",
       "    }\n",
       "\n",
       "    .dataframe thead th {\n",
       "        text-align: right;\n",
       "    }\n",
       "</style>\n",
       "<table border=\"1\" class=\"dataframe\">\n",
       "  <thead>\n",
       "    <tr style=\"text-align: right;\">\n",
       "      <th></th>\n",
       "      <th>ReportDate</th>\n",
       "      <th>Buyer Name</th>\n",
       "      <th>Commodity</th>\n",
       "      <th>FV Des</th>\n",
       "      <th>ETA</th>\n",
       "    </tr>\n",
       "  </thead>\n",
       "  <tbody>\n",
       "  </tbody>\n",
       "</table>\n",
       "</div>"
      ],
      "text/plain": [
       "Empty DataFrame\n",
       "Columns: [ReportDate, Buyer Name, Commodity, FV Des, ETA]\n",
       "Index: []"
      ]
     },
<<<<<<< HEAD
     "execution_count": 19,
=======
     "execution_count": 14,
>>>>>>> internal_check_adjust
     "metadata": {},
     "output_type": "execute_result"
    }
   ],
   "source": [
    "df_spsupply_mis.head()"
   ]
  },
  {
   "cell_type": "code",
<<<<<<< HEAD
   "execution_count": 20,
=======
   "execution_count": 15,
>>>>>>> internal_check_adjust
   "metadata": {},
   "outputs": [
    {
     "name": "stdout",
     "output_type": "stream",
     "text": [
      "0\n"
     ]
    }
   ],
   "source": [
    "CQODM = ['CQQCI', 'CQIEC', 'CQWIS', 'TWIEC', 'L_WHFXN', 'CQPCQ', 'MSI', 'PCQ', 'PCP', 'WHFXN_L5', 'PSZ', 'FLH', 'TWQCI', 'SZBYD']\n",
    "WHODM = ['WHFXN']\n",
    "KSODM = ['CEI']\n",
    "THODM = ['THQCI','THIEC']\n",
    "MXODM = ['IMX']\n",
    "\n",
    "ODM_list = CQODM + WHODM + KSODM + THODM + MXODM\n",
    "\n",
    "incorrect_ODM = []\n",
    "for index in internal.index:\n",
    "    if internal.loc[index,'ODM'] not in ODM_list:\n",
    "        incorrect_ODM.append(internal.loc[index,:])\n",
    "    else:\n",
    "        pass\n",
    "\n",
    "incorrect_ODM = pd.DataFrame(incorrect_ODM)\n",
    "try:\n",
    "    incorrect_ODM = incorrect_ODM[['Report Date', 'Buyer Name','Commodity','ODM']]\n",
    "except:\n",
    "    pass\n",
    "\n",
    "incorrect_ODM = incorrect_ODM.drop_duplicates()\n",
    "\n",
    "\n",
    "\n",
    "print(len(incorrect_ODM))"
   ]
  },
  {
   "cell_type": "code",
<<<<<<< HEAD
   "execution_count": 21,
=======
   "execution_count": 16,
>>>>>>> internal_check_adjust
   "metadata": {},
   "outputs": [
    {
     "name": "stdout",
     "output_type": "stream",
     "text": [
      "0\n"
     ]
    }
   ],
   "source": [
    "Commodity_list = ['AC ADAPTOR','AudioAMP','AudioCodec','BATTERY','CardReader','CHIPSET','CONNECTOR','CPU','EC','eMMC', 'Ethernet IC','GPU','GPU-Graphic Card','HDD','LanChip','LCD','Memory','NIC',\n",
    " 'ODD','POWERCORDS','PSU','Retimer','SIO','SSS','ThunderBT','TPM','TS','USBIC','VRAM','WEBCAM','WLAN','WWAN']\n",
    "\n",
    "incorrect_commodity = []\n",
    "for index in internal.index:\n",
    "    if internal.loc[index,'Commodity'] not in Commodity_list:\n",
    "        incorrect_commodity.append(internal.loc[index,:])\n",
    "    else:\n",
    "        pass\n",
    "\n",
    "incorrect_commodity = pd.DataFrame(incorrect_commodity)\n",
    "print(len(incorrect_commodity))"
   ]
  },
  {
   "cell_type": "code",
<<<<<<< HEAD
   "execution_count": 22,
=======
   "execution_count": 17,
>>>>>>> internal_check_adjust
   "metadata": {},
   "outputs": [
    {
     "data": {
      "text/html": [
       "<div>\n",
       "<style scoped>\n",
       "    .dataframe tbody tr th:only-of-type {\n",
       "        vertical-align: middle;\n",
       "    }\n",
       "\n",
       "    .dataframe tbody tr th {\n",
       "        vertical-align: top;\n",
       "    }\n",
       "\n",
       "    .dataframe thead th {\n",
       "        text-align: right;\n",
       "    }\n",
       "</style>\n",
       "<table border=\"1\" class=\"dataframe\">\n",
       "  <thead>\n",
       "    <tr style=\"text-align: right;\">\n",
       "      <th></th>\n",
       "      <th>Reference ID</th>\n",
       "      <th>Buyer Name</th>\n",
       "      <th>Severity</th>\n",
       "      <th>Shortage Start Date</th>\n",
       "      <th>Commodity</th>\n",
       "      <th>HP Part Number</th>\n",
       "      <th>FV Des</th>\n",
       "      <th>Site</th>\n",
       "      <th>ODM</th>\n",
       "      <th>Platform</th>\n",
       "      <th>...</th>\n",
       "      <th>Working on Upside</th>\n",
       "      <th>Hub Stock under Specific ODM Bucket</th>\n",
       "      <th>Root Cause</th>\n",
       "      <th>Impact</th>\n",
       "      <th>GPS Action Taken</th>\n",
       "      <th>Help Needed</th>\n",
       "      <th>FCST Upside</th>\n",
       "      <th>Order Overdrop</th>\n",
       "      <th>ReportDate</th>\n",
       "      <th>Delete</th>\n",
       "    </tr>\n",
       "  </thead>\n",
       "  <tbody>\n",
       "    <tr>\n",
       "      <th>0</th>\n",
       "      <td>AC20240930163509001</td>\n",
       "      <td>Fion Fei</td>\n",
       "      <td>R</td>\n",
       "      <td>2024-08-15</td>\n",
       "      <td>AC ADAPTOR</td>\n",
       "      <td>L45440-001,L45440-003</td>\n",
       "      <td>90W TUBE USBC Gaia plus</td>\n",
       "      <td>CQ</td>\n",
       "      <td>CQWIS</td>\n",
       "      <td>Duckhorn</td>\n",
       "      <td>...</td>\n",
       "      <td>41995</td>\n",
       "      <td>11625.0</td>\n",
       "      <td>EOL part, order over drop</td>\n",
       "      <td>68K TSDI:\\nEarly Nov:16K\\nEarly Dec: 27K (17K ...</td>\n",
       "      <td>1.24K received on 9/16\\n2.44K received on 9/20...</td>\n",
       "      <td>CM/GSM help to expedite material delivery &amp; FD</td>\n",
       "      <td>NaN</td>\n",
       "      <td>NaN</td>\n",
       "      <td>2024-10-01</td>\n",
       "      <td>None</td>\n",
       "    </tr>\n",
       "    <tr>\n",
       "      <th>1</th>\n",
       "      <td>AC20240930163512002</td>\n",
       "      <td>Fion Fei</td>\n",
       "      <td>R</td>\n",
       "      <td>2024-09-03</td>\n",
       "      <td>AC ADAPTOR</td>\n",
       "      <td>L45440-003,L45440-001</td>\n",
       "      <td>90W TUBE USBC Gaia plus</td>\n",
       "      <td>KS</td>\n",
       "      <td>CEI</td>\n",
       "      <td>Weller 22C1/Pappy 22C1/GOLDY 23C1/Sparty 23C1/...</td>\n",
       "      <td>...</td>\n",
       "      <td>None</td>\n",
       "      <td>50.0</td>\n",
       "      <td></td>\n",
       "      <td></td>\n",
       "      <td></td>\n",
       "      <td>None</td>\n",
       "      <td>NaN</td>\n",
       "      <td>NaN</td>\n",
       "      <td>2024-10-01</td>\n",
       "      <td>None</td>\n",
       "    </tr>\n",
       "  </tbody>\n",
       "</table>\n",
       "<p>2 rows × 29 columns</p>\n",
       "</div>"
      ],
      "text/plain": [
       "          Reference ID Buyer Name Severity Shortage Start Date   Commodity  \\\n",
       "0  AC20240930163509001   Fion Fei        R          2024-08-15  AC ADAPTOR   \n",
       "1  AC20240930163512002   Fion Fei        R          2024-09-03  AC ADAPTOR   \n",
       "\n",
       "          HP Part Number                   FV Des Site    ODM  \\\n",
       "0  L45440-001,L45440-003  90W TUBE USBC Gaia plus   CQ  CQWIS   \n",
       "1  L45440-003,L45440-001  90W TUBE USBC Gaia plus   KS    CEI   \n",
       "\n",
       "                                            Platform  ...  Working on Upside  \\\n",
       "0                                           Duckhorn  ...              41995   \n",
       "1  Weller 22C1/Pappy 22C1/GOLDY 23C1/Sparty 23C1/...  ...               None   \n",
       "\n",
       "   Hub Stock under Specific ODM Bucket                 Root Cause  \\\n",
       "0                              11625.0  EOL part, order over drop   \n",
       "1                                 50.0                              \n",
       "\n",
       "                                              Impact  \\\n",
       "0  68K TSDI:\\nEarly Nov:16K\\nEarly Dec: 27K (17K ...   \n",
       "1                                                      \n",
       "\n",
       "                                    GPS Action Taken  \\\n",
       "0  1.24K received on 9/16\\n2.44K received on 9/20...   \n",
       "1                                                      \n",
       "\n",
       "                                      Help Needed FCST Upside Order Overdrop  \\\n",
       "0  CM/GSM help to expedite material delivery & FD         NaN            NaN   \n",
       "1                                            None         NaN            NaN   \n",
       "\n",
       "  ReportDate Delete  \n",
       "0 2024-10-01   None  \n",
       "1 2024-10-01   None  \n",
       "\n",
       "[2 rows x 29 columns]"
      ]
     },
<<<<<<< HEAD
     "execution_count": 22,
=======
     "execution_count": 17,
>>>>>>> internal_check_adjust
     "metadata": {},
     "output_type": "execute_result"
    }
   ],
   "source": [
    "internal.head(2)"
   ]
  },
  {
   "cell_type": "code",
<<<<<<< HEAD
   "execution_count": 23,
=======
   "execution_count": 18,
>>>>>>> internal_check_adjust
   "metadata": {},
   "outputs": [
    {
     "data": {
      "text/html": [
       "<div>\n",
       "<style scoped>\n",
       "    .dataframe tbody tr th:only-of-type {\n",
       "        vertical-align: middle;\n",
       "    }\n",
       "\n",
       "    .dataframe tbody tr th {\n",
       "        vertical-align: top;\n",
       "    }\n",
       "\n",
       "    .dataframe thead th {\n",
       "        text-align: right;\n",
       "    }\n",
       "</style>\n",
       "<table border=\"1\" class=\"dataframe\">\n",
       "  <thead>\n",
       "    <tr style=\"text-align: right;\">\n",
       "      <th></th>\n",
       "      <th>ODM</th>\n",
       "      <th>Item</th>\n",
       "      <th>Commodity</th>\n",
       "      <th>FV</th>\n",
       "      <th>Platform</th>\n",
       "      <th>P1</th>\n",
       "      <th>Net P2</th>\n",
       "      <th>Net P3</th>\n",
       "      <th>Total Shortage Qty</th>\n",
       "      <th>BT shortage</th>\n",
       "      <th>Working on upside</th>\n",
       "      <th>ReportDate</th>\n",
       "      <th>last FD date</th>\n",
       "      <th>HP_PN</th>\n",
       "      <th>BuyerName</th>\n",
       "    </tr>\n",
       "  </thead>\n",
       "  <tbody>\n",
       "    <tr>\n",
       "      <th>2</th>\n",
       "      <td>CQIEC</td>\n",
       "      <td>7</td>\n",
       "      <td>CPU</td>\n",
       "      <td>AMD LUCIENNE RYZEN5 5500U FP6</td>\n",
       "      <td>Ashmo6U;Eunic11</td>\n",
       "      <td>445.0</td>\n",
       "      <td>0.0</td>\n",
       "      <td>0.0</td>\n",
       "      <td>445.0</td>\n",
       "      <td>0.0</td>\n",
       "      <td>445.0</td>\n",
       "      <td>2024-10-14</td>\n",
       "      <td>2050-01-01</td>\n",
       "      <td>M29517-001</td>\n",
       "      <td>Ariel</td>\n",
       "    </tr>\n",
       "    <tr>\n",
       "      <th>3</th>\n",
       "      <td>CQIEC</td>\n",
       "      <td>10</td>\n",
       "      <td>CPU</td>\n",
       "      <td>AMD PHOENIX RYZEN9 PRO 7940HS FP7R2</td>\n",
       "      <td>Lox</td>\n",
       "      <td>67.0</td>\n",
       "      <td>0.0</td>\n",
       "      <td>0.0</td>\n",
       "      <td>67.0</td>\n",
       "      <td>0.0</td>\n",
       "      <td>67.0</td>\n",
       "      <td>2024-10-14</td>\n",
       "      <td>2050-01-01</td>\n",
       "      <td>N41421-A40</td>\n",
       "      <td>Ariel</td>\n",
       "    </tr>\n",
       "  </tbody>\n",
       "</table>\n",
       "</div>"
      ],
      "text/plain": [
       "     ODM Item Commodity                                   FV         Platform  \\\n",
       "2  CQIEC    7       CPU        AMD LUCIENNE RYZEN5 5500U FP6  Ashmo6U;Eunic11   \n",
       "3  CQIEC   10       CPU  AMD PHOENIX RYZEN9 PRO 7940HS FP7R2              Lox   \n",
       "\n",
       "      P1  Net P2  Net P3  Total Shortage Qty  BT shortage  Working on upside  \\\n",
       "2  445.0     0.0     0.0               445.0          0.0              445.0   \n",
       "3   67.0     0.0     0.0                67.0          0.0               67.0   \n",
       "\n",
       "  ReportDate last FD date       HP_PN BuyerName  \n",
       "2 2024-10-14   2050-01-01  M29517-001     Ariel  \n",
       "3 2024-10-14   2050-01-01  N41421-A40     Ariel  "
      ]
     },
<<<<<<< HEAD
     "execution_count": 23,
=======
     "execution_count": 18,
>>>>>>> internal_check_adjust
     "metadata": {},
     "output_type": "execute_result"
    }
   ],
   "source": [
    "shortage_ext.head(2)"
   ]
  },
  {
   "cell_type": "markdown",
   "metadata": {},
   "source": [
    "### merge and compare internal with external"
   ]
  },
  {
   "cell_type": "code",
<<<<<<< HEAD
   "execution_count": 24,
=======
   "execution_count": 19,
>>>>>>> internal_check_adjust
   "metadata": {},
   "outputs": [],
   "source": [
    "\n",
    "\n",
    "int_counts = internal.groupby(['ReportDate', 'Commodity']).size().reset_index(name='Count')\n",
    "ext_count = shortage_ext.groupby(['ReportDate', 'Commodity']).size().reset_index(name='Count')\n",
    "df_compare = int_counts[(int_counts['Commodity'] != 'CPU')].merge(ext_count[(ext_count['Commodity'] != 'CPU')],on=['ReportDate', 'Commodity'],how='outer',suffixes=('_int', '_ext'))\n",
    "df_compare_CPU = int_CPU_group.merge(ext_CPU_group,on=['ReportDate','Commodity'],how='outer',suffixes=('_int', '_ext'))\n",
    "df_compare = pd.concat([df_compare, df_compare_CPU], axis=0)\n",
    "df_compare = df_compare.apply(lambda x: x.str.strip() if x.dtype == \"object\" else x)\n",
    "\n"
   ]
  },
  {
   "cell_type": "code",
<<<<<<< HEAD
   "execution_count": 25,
=======
   "execution_count": 20,
>>>>>>> internal_check_adjust
   "metadata": {},
   "outputs": [
    {
     "data": {
      "text/html": [
       "<div>\n",
       "<style scoped>\n",
       "    .dataframe tbody tr th:only-of-type {\n",
       "        vertical-align: middle;\n",
       "    }\n",
       "\n",
       "    .dataframe tbody tr th {\n",
       "        vertical-align: top;\n",
       "    }\n",
       "\n",
       "    .dataframe thead th {\n",
       "        text-align: right;\n",
       "    }\n",
       "</style>\n",
       "<table border=\"1\" class=\"dataframe\">\n",
       "  <thead>\n",
       "    <tr style=\"text-align: right;\">\n",
       "      <th></th>\n",
       "      <th>ReportDate</th>\n",
       "      <th>Commodity</th>\n",
       "      <th>Count_int</th>\n",
       "      <th>Count_ext</th>\n",
       "    </tr>\n",
       "  </thead>\n",
       "  <tbody>\n",
       "    <tr>\n",
       "      <th>0</th>\n",
       "      <td>2024-10-01</td>\n",
       "      <td>AC ADAPTOR</td>\n",
       "      <td>2.0</td>\n",
       "      <td>2.0</td>\n",
       "    </tr>\n",
       "    <tr>\n",
       "      <th>1</th>\n",
       "      <td>2024-10-01</td>\n",
       "      <td>BATTERY</td>\n",
       "      <td>4.0</td>\n",
       "      <td>4.0</td>\n",
       "    </tr>\n",
       "    <tr>\n",
       "      <th>2</th>\n",
       "      <td>2024-10-01</td>\n",
       "      <td>CONNECTOR</td>\n",
       "      <td>1.0</td>\n",
       "      <td>1.0</td>\n",
       "    </tr>\n",
       "    <tr>\n",
       "      <th>3</th>\n",
       "      <td>2024-10-01</td>\n",
       "      <td>GPU</td>\n",
       "      <td>2.0</td>\n",
       "      <td>2.0</td>\n",
       "    </tr>\n",
       "    <tr>\n",
       "      <th>4</th>\n",
       "      <td>2024-10-01</td>\n",
       "      <td>LCD</td>\n",
       "      <td>31.0</td>\n",
       "      <td>24.0</td>\n",
       "    </tr>\n",
       "    <tr>\n",
       "      <th>...</th>\n",
       "      <td>...</td>\n",
       "      <td>...</td>\n",
       "      <td>...</td>\n",
       "      <td>...</td>\n",
       "    </tr>\n",
       "    <tr>\n",
<<<<<<< HEAD
       "      <th>9</th>\n",
=======
       "      <th>39</th>\n",
>>>>>>> internal_check_adjust
       "      <td>2024-10-29</td>\n",
       "      <td>INTEL CPU</td>\n",
       "      <td>53.0</td>\n",
       "      <td>53.0</td>\n",
       "    </tr>\n",
       "    <tr>\n",
       "      <th>40</th>\n",
       "      <td>2024-10-30</td>\n",
       "      <td>AMD CPU</td>\n",
       "      <td>11.0</td>\n",
       "      <td>11.0</td>\n",
       "    </tr>\n",
       "    <tr>\n",
       "      <th>41</th>\n",
       "      <td>2024-10-30</td>\n",
       "      <td>INTEL CPU</td>\n",
       "      <td>47.0</td>\n",
       "      <td>47.0</td>\n",
       "    </tr>\n",
       "    <tr>\n",
       "      <th>42</th>\n",
       "      <td>2024-10-31</td>\n",
       "      <td>AMD CPU</td>\n",
       "      <td>11.0</td>\n",
       "      <td>11.0</td>\n",
       "    </tr>\n",
       "    <tr>\n",
       "      <th>43</th>\n",
       "      <td>2024-10-31</td>\n",
       "      <td>AMD CPU</td>\n",
       "      <td>4</td>\n",
       "      <td>NaN</td>\n",
       "    </tr>\n",
       "    <tr>\n",
       "      <th>13</th>\n",
       "      <td>2024-10-31</td>\n",
       "      <td>INTEL CPU</td>\n",
       "      <td>54.0</td>\n",
       "      <td>54.0</td>\n",
       "    </tr>\n",
       "  </tbody>\n",
       "</table>\n",
<<<<<<< HEAD
       "<p>95 rows × 4 columns</p>\n",
=======
       "<p>321 rows × 4 columns</p>\n",
>>>>>>> internal_check_adjust
       "</div>"
      ],
      "text/plain": [
       "   ReportDate   Commodity  Count_int  Count_ext\n",
       "0  2024-10-01  AC ADAPTOR        2.0        2.0\n",
       "1  2024-10-01     BATTERY        4.0        4.0\n",
       "2  2024-10-01   CONNECTOR        1.0        1.0\n",
       "3  2024-10-01         GPU        2.0        2.0\n",
       "4  2024-10-01         LCD       31.0       24.0\n",
       "..        ...         ...        ...        ...\n",
<<<<<<< HEAD
       "9  2024-10-29   INTEL CPU         53       53.0\n",
       "10 2024-10-30     AMD CPU         11       11.0\n",
       "11 2024-10-30   INTEL CPU         47       47.0\n",
       "12 2024-10-31     AMD CPU          4        NaN\n",
       "13 2024-10-31   INTEL CPU          8        NaN\n",
       "\n",
       "[95 rows x 4 columns]"
      ]
     },
     "execution_count": 25,
=======
       "39 2024-10-29   INTEL CPU       53.0       53.0\n",
       "40 2024-10-30     AMD CPU       11.0       11.0\n",
       "41 2024-10-30   INTEL CPU       47.0       47.0\n",
       "42 2024-10-31     AMD CPU       11.0       11.0\n",
       "43 2024-10-31   INTEL CPU       54.0       54.0\n",
       "\n",
       "[321 rows x 4 columns]"
      ]
     },
     "execution_count": 20,
>>>>>>> internal_check_adjust
     "metadata": {},
     "output_type": "execute_result"
    }
   ],
   "source": [
    "df_compare"
   ]
  },
  {
   "cell_type": "code",
<<<<<<< HEAD
   "execution_count": 26,
=======
   "execution_count": 21,
>>>>>>> internal_check_adjust
   "metadata": {},
   "outputs": [
    {
     "name": "stderr",
     "output_type": "stream",
     "text": [
<<<<<<< HEAD
      "C:\\Users\\ChDo691\\AppData\\Local\\Temp\\ipykernel_22572\\3124613913.py:9: SettingWithCopyWarning: \n",
=======
      "C:\\Users\\ChDo691\\AppData\\Local\\Temp\\ipykernel_33580\\3124613913.py:8: SettingWithCopyWarning: \n",
      "A value is trying to be set on a copy of a slice from a DataFrame.\n",
      "Try using .loc[row_indexer,col_indexer] = value instead\n",
      "\n",
      "See the caveats in the documentation: https://pandas.pydata.org/pandas-docs/stable/user_guide/indexing.html#returning-a-view-versus-a-copy\n",
      "  df_mismatch[['Count_int', 'Count_ext']] = df_mismatch[['Count_int', 'Count_ext']].astype(int)\n",
      "C:\\Users\\ChDo691\\AppData\\Local\\Temp\\ipykernel_33580\\3124613913.py:9: SettingWithCopyWarning: \n",
>>>>>>> internal_check_adjust
      "A value is trying to be set on a copy of a slice from a DataFrame\n",
      "\n",
      "See the caveats in the documentation: https://pandas.pydata.org/pandas-docs/stable/user_guide/indexing.html#returning-a-view-versus-a-copy\n",
      "  df_mismatch.rename(columns={'Count_int': 'Count_internal', 'Count_ext': 'Count_external'}, inplace=True)\n",
<<<<<<< HEAD
      "C:\\Users\\ChDo691\\AppData\\Local\\Temp\\ipykernel_22572\\3124613913.py:9: SettingWithCopyWarning: \n",
=======
      "C:\\Users\\ChDo691\\AppData\\Local\\Temp\\ipykernel_33580\\3124613913.py:9: SettingWithCopyWarning: \n",
>>>>>>> internal_check_adjust
      "A value is trying to be set on a copy of a slice from a DataFrame\n",
      "\n",
      "See the caveats in the documentation: https://pandas.pydata.org/pandas-docs/stable/user_guide/indexing.html#returning-a-view-versus-a-copy\n",
      "  df_mismatch.rename(columns={'Count_int': 'Count_internal', 'Count_ext': 'Count_external'}, inplace=True)\n",
<<<<<<< HEAD
      "C:\\Users\\ChDo691\\AppData\\Local\\Temp\\ipykernel_22572\\3124613913.py:9: SettingWithCopyWarning: \n",
=======
      "C:\\Users\\ChDo691\\AppData\\Local\\Temp\\ipykernel_33580\\3124613913.py:9: SettingWithCopyWarning: \n",
>>>>>>> internal_check_adjust
      "A value is trying to be set on a copy of a slice from a DataFrame\n",
      "\n",
      "See the caveats in the documentation: https://pandas.pydata.org/pandas-docs/stable/user_guide/indexing.html#returning-a-view-versus-a-copy\n",
      "  df_mismatch.rename(columns={'Count_int': 'Count_internal', 'Count_ext': 'Count_external'}, inplace=True)\n",
<<<<<<< HEAD
      "C:\\Users\\ChDo691\\AppData\\Local\\Temp\\ipykernel_22572\\3124613913.py:9: SettingWithCopyWarning: \n",
=======
      "C:\\Users\\ChDo691\\AppData\\Local\\Temp\\ipykernel_33580\\3124613913.py:9: SettingWithCopyWarning: \n",
>>>>>>> internal_check_adjust
      "A value is trying to be set on a copy of a slice from a DataFrame\n",
      "\n",
      "See the caveats in the documentation: https://pandas.pydata.org/pandas-docs/stable/user_guide/indexing.html#returning-a-view-versus-a-copy\n",
      "  df_mismatch.rename(columns={'Count_int': 'Count_internal', 'Count_ext': 'Count_external'}, inplace=True)\n",
<<<<<<< HEAD
      "C:\\Users\\ChDo691\\AppData\\Local\\Temp\\ipykernel_22572\\3124613913.py:9: SettingWithCopyWarning: \n",
=======
      "C:\\Users\\ChDo691\\AppData\\Local\\Temp\\ipykernel_33580\\3124613913.py:9: SettingWithCopyWarning: \n",
>>>>>>> internal_check_adjust
      "A value is trying to be set on a copy of a slice from a DataFrame\n",
      "\n",
      "See the caveats in the documentation: https://pandas.pydata.org/pandas-docs/stable/user_guide/indexing.html#returning-a-view-versus-a-copy\n",
      "  df_mismatch.rename(columns={'Count_int': 'Count_internal', 'Count_ext': 'Count_external'}, inplace=True)\n",
<<<<<<< HEAD
      "C:\\Users\\ChDo691\\AppData\\Local\\Temp\\ipykernel_22572\\3124613913.py:9: SettingWithCopyWarning: \n",
=======
      "C:\\Users\\ChDo691\\AppData\\Local\\Temp\\ipykernel_33580\\3124613913.py:9: SettingWithCopyWarning: \n",
      "A value is trying to be set on a copy of a slice from a DataFrame\n",
      "\n",
      "See the caveats in the documentation: https://pandas.pydata.org/pandas-docs/stable/user_guide/indexing.html#returning-a-view-versus-a-copy\n",
      "  df_mismatch.rename(columns={'Count_int': 'Count_internal', 'Count_ext': 'Count_external'}, inplace=True)\n",
      "C:\\Users\\ChDo691\\AppData\\Local\\Temp\\ipykernel_33580\\3124613913.py:9: SettingWithCopyWarning: \n",
      "A value is trying to be set on a copy of a slice from a DataFrame\n",
      "\n",
      "See the caveats in the documentation: https://pandas.pydata.org/pandas-docs/stable/user_guide/indexing.html#returning-a-view-versus-a-copy\n",
      "  df_mismatch.rename(columns={'Count_int': 'Count_internal', 'Count_ext': 'Count_external'}, inplace=True)\n",
      "C:\\Users\\ChDo691\\AppData\\Local\\Temp\\ipykernel_33580\\3124613913.py:9: SettingWithCopyWarning: \n",
      "A value is trying to be set on a copy of a slice from a DataFrame\n",
      "\n",
      "See the caveats in the documentation: https://pandas.pydata.org/pandas-docs/stable/user_guide/indexing.html#returning-a-view-versus-a-copy\n",
      "  df_mismatch.rename(columns={'Count_int': 'Count_internal', 'Count_ext': 'Count_external'}, inplace=True)\n",
      "C:\\Users\\ChDo691\\AppData\\Local\\Temp\\ipykernel_33580\\3124613913.py:8: SettingWithCopyWarning: \n",
      "A value is trying to be set on a copy of a slice from a DataFrame.\n",
      "Try using .loc[row_indexer,col_indexer] = value instead\n",
      "\n",
      "See the caveats in the documentation: https://pandas.pydata.org/pandas-docs/stable/user_guide/indexing.html#returning-a-view-versus-a-copy\n",
      "  df_mismatch[['Count_int', 'Count_ext']] = df_mismatch[['Count_int', 'Count_ext']].astype(int)\n",
      "C:\\Users\\ChDo691\\AppData\\Local\\Temp\\ipykernel_33580\\3124613913.py:9: SettingWithCopyWarning: \n",
      "A value is trying to be set on a copy of a slice from a DataFrame\n",
      "\n",
      "See the caveats in the documentation: https://pandas.pydata.org/pandas-docs/stable/user_guide/indexing.html#returning-a-view-versus-a-copy\n",
      "  df_mismatch.rename(columns={'Count_int': 'Count_internal', 'Count_ext': 'Count_external'}, inplace=True)\n",
      "C:\\Users\\ChDo691\\AppData\\Local\\Temp\\ipykernel_33580\\3124613913.py:9: SettingWithCopyWarning: \n",
      "A value is trying to be set on a copy of a slice from a DataFrame\n",
      "\n",
      "See the caveats in the documentation: https://pandas.pydata.org/pandas-docs/stable/user_guide/indexing.html#returning-a-view-versus-a-copy\n",
      "  df_mismatch.rename(columns={'Count_int': 'Count_internal', 'Count_ext': 'Count_external'}, inplace=True)\n",
      "C:\\Users\\ChDo691\\AppData\\Local\\Temp\\ipykernel_33580\\3124613913.py:8: SettingWithCopyWarning: \n",
      "A value is trying to be set on a copy of a slice from a DataFrame.\n",
      "Try using .loc[row_indexer,col_indexer] = value instead\n",
      "\n",
      "See the caveats in the documentation: https://pandas.pydata.org/pandas-docs/stable/user_guide/indexing.html#returning-a-view-versus-a-copy\n",
      "  df_mismatch[['Count_int', 'Count_ext']] = df_mismatch[['Count_int', 'Count_ext']].astype(int)\n",
      "C:\\Users\\ChDo691\\AppData\\Local\\Temp\\ipykernel_33580\\3124613913.py:9: SettingWithCopyWarning: \n",
      "A value is trying to be set on a copy of a slice from a DataFrame\n",
      "\n",
      "See the caveats in the documentation: https://pandas.pydata.org/pandas-docs/stable/user_guide/indexing.html#returning-a-view-versus-a-copy\n",
      "  df_mismatch.rename(columns={'Count_int': 'Count_internal', 'Count_ext': 'Count_external'}, inplace=True)\n",
      "C:\\Users\\ChDo691\\AppData\\Local\\Temp\\ipykernel_33580\\3124613913.py:9: SettingWithCopyWarning: \n",
      "A value is trying to be set on a copy of a slice from a DataFrame\n",
      "\n",
      "See the caveats in the documentation: https://pandas.pydata.org/pandas-docs/stable/user_guide/indexing.html#returning-a-view-versus-a-copy\n",
      "  df_mismatch.rename(columns={'Count_int': 'Count_internal', 'Count_ext': 'Count_external'}, inplace=True)\n",
      "C:\\Users\\ChDo691\\AppData\\Local\\Temp\\ipykernel_33580\\3124613913.py:9: SettingWithCopyWarning: \n",
      "A value is trying to be set on a copy of a slice from a DataFrame\n",
      "\n",
      "See the caveats in the documentation: https://pandas.pydata.org/pandas-docs/stable/user_guide/indexing.html#returning-a-view-versus-a-copy\n",
      "  df_mismatch.rename(columns={'Count_int': 'Count_internal', 'Count_ext': 'Count_external'}, inplace=True)\n",
      "C:\\Users\\ChDo691\\AppData\\Local\\Temp\\ipykernel_33580\\3124613913.py:8: SettingWithCopyWarning: \n",
      "A value is trying to be set on a copy of a slice from a DataFrame.\n",
      "Try using .loc[row_indexer,col_indexer] = value instead\n",
      "\n",
      "See the caveats in the documentation: https://pandas.pydata.org/pandas-docs/stable/user_guide/indexing.html#returning-a-view-versus-a-copy\n",
      "  df_mismatch[['Count_int', 'Count_ext']] = df_mismatch[['Count_int', 'Count_ext']].astype(int)\n",
      "C:\\Users\\ChDo691\\AppData\\Local\\Temp\\ipykernel_33580\\3124613913.py:9: SettingWithCopyWarning: \n",
      "A value is trying to be set on a copy of a slice from a DataFrame\n",
      "\n",
      "See the caveats in the documentation: https://pandas.pydata.org/pandas-docs/stable/user_guide/indexing.html#returning-a-view-versus-a-copy\n",
      "  df_mismatch.rename(columns={'Count_int': 'Count_internal', 'Count_ext': 'Count_external'}, inplace=True)\n",
      "C:\\Users\\ChDo691\\AppData\\Local\\Temp\\ipykernel_33580\\3124613913.py:9: SettingWithCopyWarning: \n",
      "A value is trying to be set on a copy of a slice from a DataFrame\n",
      "\n",
      "See the caveats in the documentation: https://pandas.pydata.org/pandas-docs/stable/user_guide/indexing.html#returning-a-view-versus-a-copy\n",
      "  df_mismatch.rename(columns={'Count_int': 'Count_internal', 'Count_ext': 'Count_external'}, inplace=True)\n",
      "C:\\Users\\ChDo691\\AppData\\Local\\Temp\\ipykernel_33580\\3124613913.py:8: SettingWithCopyWarning: \n",
      "A value is trying to be set on a copy of a slice from a DataFrame.\n",
      "Try using .loc[row_indexer,col_indexer] = value instead\n",
      "\n",
      "See the caveats in the documentation: https://pandas.pydata.org/pandas-docs/stable/user_guide/indexing.html#returning-a-view-versus-a-copy\n",
      "  df_mismatch[['Count_int', 'Count_ext']] = df_mismatch[['Count_int', 'Count_ext']].astype(int)\n",
      "C:\\Users\\ChDo691\\AppData\\Local\\Temp\\ipykernel_33580\\3124613913.py:9: SettingWithCopyWarning: \n",
      "A value is trying to be set on a copy of a slice from a DataFrame\n",
      "\n",
      "See the caveats in the documentation: https://pandas.pydata.org/pandas-docs/stable/user_guide/indexing.html#returning-a-view-versus-a-copy\n",
      "  df_mismatch.rename(columns={'Count_int': 'Count_internal', 'Count_ext': 'Count_external'}, inplace=True)\n",
      "C:\\Users\\ChDo691\\AppData\\Local\\Temp\\ipykernel_33580\\3124613913.py:9: SettingWithCopyWarning: \n",
      "A value is trying to be set on a copy of a slice from a DataFrame\n",
      "\n",
      "See the caveats in the documentation: https://pandas.pydata.org/pandas-docs/stable/user_guide/indexing.html#returning-a-view-versus-a-copy\n",
      "  df_mismatch.rename(columns={'Count_int': 'Count_internal', 'Count_ext': 'Count_external'}, inplace=True)\n",
      "C:\\Users\\ChDo691\\AppData\\Local\\Temp\\ipykernel_33580\\3124613913.py:9: SettingWithCopyWarning: \n",
      "A value is trying to be set on a copy of a slice from a DataFrame\n",
      "\n",
      "See the caveats in the documentation: https://pandas.pydata.org/pandas-docs/stable/user_guide/indexing.html#returning-a-view-versus-a-copy\n",
      "  df_mismatch.rename(columns={'Count_int': 'Count_internal', 'Count_ext': 'Count_external'}, inplace=True)\n",
      "C:\\Users\\ChDo691\\AppData\\Local\\Temp\\ipykernel_33580\\3124613913.py:9: SettingWithCopyWarning: \n",
      "A value is trying to be set on a copy of a slice from a DataFrame\n",
      "\n",
      "See the caveats in the documentation: https://pandas.pydata.org/pandas-docs/stable/user_guide/indexing.html#returning-a-view-versus-a-copy\n",
      "  df_mismatch.rename(columns={'Count_int': 'Count_internal', 'Count_ext': 'Count_external'}, inplace=True)\n",
      "C:\\Users\\ChDo691\\AppData\\Local\\Temp\\ipykernel_33580\\3124613913.py:9: SettingWithCopyWarning: \n",
      "A value is trying to be set on a copy of a slice from a DataFrame\n",
      "\n",
      "See the caveats in the documentation: https://pandas.pydata.org/pandas-docs/stable/user_guide/indexing.html#returning-a-view-versus-a-copy\n",
      "  df_mismatch.rename(columns={'Count_int': 'Count_internal', 'Count_ext': 'Count_external'}, inplace=True)\n",
      "C:\\Users\\ChDo691\\AppData\\Local\\Temp\\ipykernel_33580\\3124613913.py:9: SettingWithCopyWarning: \n",
      "A value is trying to be set on a copy of a slice from a DataFrame\n",
      "\n",
      "See the caveats in the documentation: https://pandas.pydata.org/pandas-docs/stable/user_guide/indexing.html#returning-a-view-versus-a-copy\n",
      "  df_mismatch.rename(columns={'Count_int': 'Count_internal', 'Count_ext': 'Count_external'}, inplace=True)\n",
      "C:\\Users\\ChDo691\\AppData\\Local\\Temp\\ipykernel_33580\\3124613913.py:9: SettingWithCopyWarning: \n",
      "A value is trying to be set on a copy of a slice from a DataFrame\n",
      "\n",
      "See the caveats in the documentation: https://pandas.pydata.org/pandas-docs/stable/user_guide/indexing.html#returning-a-view-versus-a-copy\n",
      "  df_mismatch.rename(columns={'Count_int': 'Count_internal', 'Count_ext': 'Count_external'}, inplace=True)\n",
      "C:\\Users\\ChDo691\\AppData\\Local\\Temp\\ipykernel_33580\\3124613913.py:9: SettingWithCopyWarning: \n",
>>>>>>> internal_check_adjust
      "A value is trying to be set on a copy of a slice from a DataFrame\n",
      "\n",
      "See the caveats in the documentation: https://pandas.pydata.org/pandas-docs/stable/user_guide/indexing.html#returning-a-view-versus-a-copy\n",
      "  df_mismatch.rename(columns={'Count_int': 'Count_internal', 'Count_ext': 'Count_external'}, inplace=True)\n"
     ]
    },
    {
     "data": {
      "text/html": [
       "<div>\n",
       "<style scoped>\n",
       "    .dataframe tbody tr th:only-of-type {\n",
       "        vertical-align: middle;\n",
       "    }\n",
       "\n",
       "    .dataframe tbody tr th {\n",
       "        vertical-align: top;\n",
       "    }\n",
       "\n",
       "    .dataframe thead th {\n",
       "        text-align: right;\n",
       "    }\n",
       "</style>\n",
       "<table border=\"1\" class=\"dataframe\">\n",
       "  <thead>\n",
       "    <tr style=\"text-align: right;\">\n",
       "      <th></th>\n",
       "      <th>Commodity</th>\n",
       "      <th>ReportDate</th>\n",
       "      <th>Count_internal</th>\n",
       "      <th>Count_external</th>\n",
       "    </tr>\n",
       "  </thead>\n",
       "  <tbody>\n",
       "    <tr>\n",
       "      <th>0</th>\n",
<<<<<<< HEAD
       "      <td>AC ADAPTOR</td>\n",
       "      <td>2024-10-31</td>\n",
       "      <td>4</td>\n",
=======
       "      <td>SSS</td>\n",
       "      <td>2024-10-01</td>\n",
       "      <td>3</td>\n",
>>>>>>> internal_check_adjust
       "      <td>0</td>\n",
       "    </tr>\n",
       "    <tr>\n",
       "      <th>1</th>\n",
       "      <td>CONNECTOR</td>\n",
<<<<<<< HEAD
       "      <td>2024-10-31</td>\n",
       "      <td>4</td>\n",
=======
       "      <td>2024-10-11</td>\n",
       "      <td>2</td>\n",
>>>>>>> internal_check_adjust
       "      <td>0</td>\n",
       "    </tr>\n",
       "    <tr>\n",
       "      <th>2</th>\n",
<<<<<<< HEAD
       "      <td>GPU</td>\n",
       "      <td>2024-10-31</td>\n",
       "      <td>8</td>\n",
       "      <td>0</td>\n",
       "    </tr>\n",
       "    <tr>\n",
       "      <th>3</th>\n",
       "      <td>LCD</td>\n",
       "      <td>2024-10-31</td>\n",
       "      <td>8</td>\n",
       "      <td>0</td>\n",
       "    </tr>\n",
       "    <tr>\n",
       "      <th>4</th>\n",
       "      <td>Memory</td>\n",
       "      <td>2024-10-31</td>\n",
=======
       "      <td>WEBCAM</td>\n",
       "      <td>2024-10-15</td>\n",
>>>>>>> internal_check_adjust
       "      <td>3</td>\n",
       "      <td>0</td>\n",
       "    </tr>\n",
       "    <tr>\n",
<<<<<<< HEAD
       "      <th>5</th>\n",
       "      <td>POWERCORDS</td>\n",
       "      <td>2024-10-31</td>\n",
       "      <td>24</td>\n",
=======
       "      <th>3</th>\n",
       "      <td>SSS</td>\n",
       "      <td>2024-10-18</td>\n",
>>>>>>> internal_check_adjust
       "      <td>0</td>\n",
       "      <td>1</td>\n",
       "    </tr>\n",
       "    <tr>\n",
<<<<<<< HEAD
       "      <th>6</th>\n",
       "      <td>SSS</td>\n",
       "      <td>2024-10-31</td>\n",
       "      <td>1</td>\n",
       "      <td>0</td>\n",
       "    </tr>\n",
       "    <tr>\n",
       "      <th>7</th>\n",
       "      <td>WLAN</td>\n",
       "      <td>2024-10-31</td>\n",
       "      <td>3</td>\n",
       "      <td>0</td>\n",
       "    </tr>\n",
       "    <tr>\n",
       "      <th>8</th>\n",
       "      <td>AMD CPU</td>\n",
       "      <td>2024-10-31</td>\n",
       "      <td>4</td>\n",
       "      <td>0</td>\n",
       "    </tr>\n",
       "    <tr>\n",
       "      <th>9</th>\n",
       "      <td>INTEL CPU</td>\n",
       "      <td>2024-10-31</td>\n",
       "      <td>8</td>\n",
       "      <td>0</td>\n",
=======
       "      <th>4</th>\n",
       "      <td>WEBCAM</td>\n",
       "      <td>2024-10-22</td>\n",
       "      <td>0</td>\n",
       "      <td>3</td>\n",
>>>>>>> internal_check_adjust
       "    </tr>\n",
       "  </tbody>\n",
       "</table>\n",
       "</div>"
      ],
      "text/plain": [
<<<<<<< HEAD
       "    Commodity ReportDate  Count_internal  Count_external\n",
       "0  AC ADAPTOR 2024-10-31               4               0\n",
       "1   CONNECTOR 2024-10-31               4               0\n",
       "2         GPU 2024-10-31               8               0\n",
       "3         LCD 2024-10-31               8               0\n",
       "4      Memory 2024-10-31               3               0\n",
       "5  POWERCORDS 2024-10-31              24               0\n",
       "6         SSS 2024-10-31               1               0\n",
       "7        WLAN 2024-10-31               3               0\n",
       "8     AMD CPU 2024-10-31               4               0\n",
       "9   INTEL CPU 2024-10-31               8               0"
      ]
     },
     "execution_count": 26,
=======
       "   Commodity ReportDate  Count_internal  Count_external\n",
       "0        SSS 2024-10-01               3               0\n",
       "1  CONNECTOR 2024-10-11               2               0\n",
       "2     WEBCAM 2024-10-15               3               0\n",
       "3        SSS 2024-10-18               0               1\n",
       "4     WEBCAM 2024-10-22               0               3"
      ]
     },
     "execution_count": 21,
>>>>>>> internal_check_adjust
     "metadata": {},
     "output_type": "execute_result"
    }
   ],
   "source": [
    "df_mismatch_total = pd.DataFrame()\n",
    "\n",
    "\n",
    "for report_date, group in df_compare.groupby('ReportDate'):\n",
    "    df_mismatch = group[((group['Count_int'].isnull()) & (group['Count_ext'].notnull())) | ((group['Count_int'].notnull()) & (group['Count_ext'].isnull()))]\n",
    "    df_mismatch.loc[:, ['Count_int', 'Count_ext']] = df_mismatch.loc[:, ['Count_int', 'Count_ext']].fillna(0)\n",
    "    df_mismatch.set_index('Commodity', inplace=True)\n",
    "    df_mismatch[['Count_int', 'Count_ext']] = df_mismatch[['Count_int', 'Count_ext']].astype(int)\n",
    "    df_mismatch.rename(columns={'Count_int': 'Count_internal', 'Count_ext': 'Count_external'}, inplace=True)\n",
    "    df_mismatch = df_mismatch[df_mismatch.index != 'Ethernet IC']\n",
    "    df_mismatch['ReportDate'] = report_date\n",
    "    df_mismatch_total = pd.concat([df_mismatch_total, df_mismatch], axis=0)\n",
    "\n",
    "df_mismatch_total.reset_index(inplace=True)\n",
    "df_mismatch_total\n"
   ]
  },
  {
   "cell_type": "code",
   "execution_count": null,
   "metadata": {},
   "outputs": [],
   "source": []
  },
  {
   "cell_type": "code",
<<<<<<< HEAD
   "execution_count": 27,
=======
   "execution_count": 22,
>>>>>>> internal_check_adjust
   "metadata": {},
   "outputs": [],
   "source": [
    "\n",
    "if (len(df_mismatch_total) > 0) | (len(incorrect_ODM) > 0) | (len(incorrect_commodity) > 0) | (len(df_spsupply_mis) > 0):\n",
    "\n",
    "    To_list = 'gps.taiwan.nb.buy-sell@hp.com'\n",
    "    CC_list = 'spencer.cheng1@hp.com;howie.chang1@hp.com;qin.yi.xu@hp.com;dobby.cheng@hp.com;frederick.shih@hp.com'\n",
    "\n",
    "\n",
    "    mail = win32.Dispatch(\"Outlook.Application\").CreateItem(0)\n",
    "    mail.To = To_list\n",
    "    mail.CC = CC_list\n",
    "    mail.Subject = f'Internal/ External Report Misalignment alert <From Report Date: {start_date} to {today}>'\n",
    "\n",
    "\n",
    "    df_mismatch_total['Commodity'] = df_mismatch_total['Commodity'].apply(lambda name: f'<span style=\"background-color: yellow;\">{name}</span>')\n",
    "    df_mismatch_total['Count_internal'] = df_mismatch_total['Count_internal'].apply(lambda count: f'<font color=\"Red\">{count}</font>' if count == 0 else count)\n",
    "    df_mismatch_total['Count_external'] = df_mismatch_total['Count_external'].apply(lambda count: f'<font color=\"Red\">{count}</font>' if count == 0 else count)\n",
    "\n",
    "\n",
    "    df_mismatch_total = df_mismatch_total[['ReportDate', 'Commodity', 'Count_internal', 'Count_external']]\n",
    "    html_compare = df_mismatch_total.to_html(escape=False, index=False)\n",
    "\n",
    "\n",
    "    try:\n",
    "        incorrect_ODM['ODM'] = incorrect_ODM['ODM'].apply(lambda name: f'<font color=\"Red\">{name}</font>')\n",
    "    except:\n",
    "        pass\n",
    "    try:\n",
    "        incorrect_commodity['Commodity'] = incorrect_commodity['Commodity'].apply(lambda name: f'<font color=\"Red\">{name}</font>')\n",
    "    except:\n",
    "        pass\n",
    "\n",
    "\n",
    "    signature = \"<br><br>Best Regards,<br>Newcomen Project Team\"\n",
    "    message = f\"\"\"Hi team,<br><br>Below information is <b><font color=\"blue\">misaligned/ missing</b></font> in external & internal reports from report date: <b><font color=\"blue\">{start_date}</b></font>,\n",
    "        please help to check and make amendment accordingly.<br>{html_compare}<br><br>\n",
    "        Below data contains <b><font color=\"blue\">incorrect ODM name</b></font>, please delete the data and upload again with the correct ODM name.<br>{incorrect_ODM.to_html(escape=False, index=False)}<br><br>\n",
    "        Below data contains <b><font color=\"blue\">incorrect Commodity name</b></font>, data is deleted by project team, please upload the data with correct commodity name.<br>{incorrect_commodity.to_html(escape=False, index=False)}<br><br>\n",
    "        Below data contains <b><font color=\"blue\">non supplier supply with incorrect format</b></font>, please revise the data with internal shortage tool accordingly.<br>{df_spsupply_mis.to_html(escape=False, index=False)} <br><br>\n",
    "        {signature}\"\"\"\n",
    "\n",
    "\n",
    "    mail.GetInspector\n",
    "    index = mail.HTMLbody.find('>', mail.HTMLbody.find('<body'))\n",
    "    mail.HTMLBody = message\n",
    "    mail.display()\n",
    "\n",
    "else:\n",
    "\n",
    "    To_list = 'gps.taiwan.nb.buy-sell@hp.com'\n",
    "    CC_list = 'spencer.cheng1@hp.com;howie.chang1@hp.com;qin.yi.xu@hp.com;dobby.cheng@hp.com;frederick.shih@hp.com'\n",
    "\n",
    "\n",
    "    mail = win32.Dispatch(\"Outlook.Application\").CreateItem(0)\n",
    "    mail.To = To_list\n",
    "    mail.CC = CC_list\n",
    "    mail.Subject = f'Internal/ External Report Misalignment alert <From Report Date: {start_date} to {today}>'\n",
    "    \n",
    "\n",
    "    signature = \"<br><br>Best Regards,<br>Newcomen Project Team\"\n",
    "    message = f\"\"\"Hi team,<br><br>\n",
    "    No information is <b><font color=\"blue\">misaligned/ missing</b></font> in external & internal reports from report date: <b><font color=\"blue\">{start_date} to {today}</b></font>.\n",
    "    Thank you.<br><br>{signature}\"\"\"\n",
    "\n",
    "    mail.GetInspector\n",
    "    index = mail.HTMLbody.find('>', mail.HTMLbody.find('<body'))\n",
    "    mail.HTMLBody = message\n",
    "    mail.display()\n",
    "    \n",
    "    print(f'No error found on {today}')\n"
   ]
  },
  {
   "cell_type": "code",
<<<<<<< HEAD
   "execution_count": 28,
=======
   "execution_count": 23,
>>>>>>> internal_check_adjust
   "metadata": {},
   "outputs": [
    {
     "data": {
      "text/plain": [
       "<function Connection.close>"
      ]
     },
<<<<<<< HEAD
     "execution_count": 28,
=======
     "execution_count": 23,
>>>>>>> internal_check_adjust
     "metadata": {},
     "output_type": "execute_result"
    }
   ],
   "source": [
    "# connection\n",
    "conn = pyodbc.connect('Driver={ODBC Driver 17 for SQL Server}; Server=g7w11206g.inc.hpicorp.net; Database=CSI; Trusted_Connection=Yes;')\n",
    "cursor = conn.cursor()\n",
    "\n",
    "# download shortge from SQL\n",
    "cursor.execute(f\"SELECT * FROM OPS.GPS_view_ops_critical_shortage_overview where [Report Date] = '{today}'\")\n",
    "shor = pd.DataFrame.from_records(cursor.fetchall(), columns = [i[0] for i in cursor.description])\n",
    "conn.close"
   ]
  }
 ],
 "metadata": {
  "kernelspec": {
   "display_name": "Python 3",
   "language": "python",
   "name": "python3"
  },
  "language_info": {
   "codemirror_mode": {
    "name": "ipython",
    "version": 3
   },
   "file_extension": ".py",
   "mimetype": "text/x-python",
   "name": "python",
   "nbconvert_exporter": "python",
   "pygments_lexer": "ipython3",
   "version": "3.12.7"
  }
 },
 "nbformat": 4,
 "nbformat_minor": 2
}
