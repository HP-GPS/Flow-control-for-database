{
 "cells": [
  {
   "cell_type": "code",
   "execution_count": 1,
   "metadata": {},
   "outputs": [],
   "source": [
    "import pyodbc\n",
    "import pandas as pd\n",
    "from pathlib import Path\n",
    "from datetime import date\n",
    "import numpy as np\n",
    "import win32com.client as win32"
   ]
  },
  {
   "cell_type": "code",
   "execution_count": null,
   "metadata": {},
   "outputs": [],
   "source": [
    "if (date.today()- pd.DateOffset(days=1)).weekday() == 6:\n",
    "    today = (date.today()- pd.DateOffset(days=3)).strftime('%Y-%m-%d')\n",
    "else:\n",
    "    today = (date.today()- pd.DateOffset(days=1)).strftime('%Y-%m-%d')\n",
    "print(today)\n",
    "\n",
    "start_date = date.today() - pd.DateOffset(days=8)\n",
    "start_date = start_date.strftime('%Y-%m-%d')\n",
    "print(start_date)\n",
    "#start_date  ='2024-10-01'"
   ]
  },
  {
   "cell_type": "code",
   "execution_count": null,
   "metadata": {},
   "outputs": [],
   "source": [
    "date_range = pd.date_range(start=start_date, end=today)\n",
    "\n",
    "for single_date in date_range:\n",
    "    print(single_date.strftime('%Y-%m-%d'))"
   ]
  },
  {
   "cell_type": "code",
   "execution_count": 4,
   "metadata": {},
   "outputs": [],
   "source": [
    "# today = '2024-04-25'"
   ]
  },
  {
   "cell_type": "code",
   "execution_count": 5,
   "metadata": {},
   "outputs": [],
   "source": [
    "reason_codes = [\n",
    "    \"Hub SB\",\n",
    "    \"WWSB\",\n",
    "    \"Broker buy\",\n",
    "    \"Return from ODM\",\n",
    "    \"To be re-programmed\",\n",
    "    \"To be sorted\",\n",
    "    \"To be qualified\",\n",
    "    \"FXN internal SB\",\n",
    "    \"Append EM\",\n",
    "    \"Navy deal\",\n",
    "    \"EOL without any supply\",\n",
    "    \"Waiver process\",\n",
    "    \"Others\"]"
   ]
  },
  {
   "cell_type": "markdown",
   "metadata": {},
   "source": [
    "### get external data"
   ]
  },
  {
   "cell_type": "code",
   "execution_count": null,
   "metadata": {},
   "outputs": [],
   "source": [
    "# connection\n",
    "conn = pyodbc.connect('Driver={ODBC Driver 17 for SQL Server}; Server=g7w11206g.inc.hpicorp.net; Database=CSI; Trusted_Connection=Yes;')\n",
    "cursor = conn.cursor()\n",
    "print('connect')\n",
    "\n",
    "# download shortge from SQL\n",
    "\n",
    "\n",
    "cursor.execute(f\"SELECT * FROM OPS.GPS_tbl_ops_shortage_ext where ReportDate >= '{start_date}' and ReportDate <= '{today}'\")\n",
    "shortage_ext = pd.DataFrame.from_records(cursor.fetchall(), columns = [i[0] for i in cursor.description])\n",
    "shortage_ext['HP_PN'] = shortage_ext['HP_PN'].str.replace('\\n', ',', regex=False)\n",
    "shortage_ext['FV'] = shortage_ext['FV'].str.replace('\\n', ',', regex=False)\n",
    "\n",
    "# download PNFV from SQL\n",
    "cursor.execute(\"SELECT * FROM OPS.GPS_tbl_ops_PN_FV\")\n",
    "PNFV = pd.DataFrame.from_records(cursor.fetchall(), columns = [i[0] for i in cursor.description])\n",
    "PNFV = PNFV.apply(lambda x: x.str.strip() if x.dtype == \"object\" else x)\n",
    "PNFV = PNFV.rename({'Descr':'FV'})"
   ]
  },
  {
   "cell_type": "code",
   "execution_count": null,
   "metadata": {},
   "outputs": [],
   "source": [
    "PNFV"
   ]
  },
  {
   "cell_type": "code",
   "execution_count": null,
   "metadata": {},
   "outputs": [],
   "source": [
    "shortage_ext['ReportDate'] = pd.to_datetime(shortage_ext['ReportDate'])\n",
    "\n",
    "# group bu commodity and count the len of each group\n",
    "shortage_ext = shortage_ext[shortage_ext['P1'] != 0]\n",
    "\n",
    "# CPU need to add supplier\n",
    "ext_CPU = shortage_ext[shortage_ext['Commodity'] == 'CPU']\n",
    "ext_CPU['Supplier'] = np.where(ext_CPU['FV'].str.contains('INTEL', case=False), 'INTEL', 'AMD')\n",
    "ext_CPU_group = ext_CPU.groupby(['ReportDate','Commodity','Supplier']).size().reset_index(name='Count')\n",
    "ext_CPU_group['Commodity'] = ext_CPU_group['Supplier'] + ' ' +  ext_CPU_group['Commodity']\n",
    "ext_CPU_group.drop(columns=['Supplier'], inplace=True)"
   ]
  },
  {
   "cell_type": "markdown",
   "metadata": {},
   "source": [
    "### get internal data"
   ]
  },
  {
   "cell_type": "code",
   "execution_count": null,
   "metadata": {},
   "outputs": [],
   "source": [
    "# connection\n",
    "conn = pyodbc.connect('Driver={ODBC Driver 17 for SQL Server}; Server=g7w11206g.inc.hpicorp.net; Database=CSI; Trusted_Connection=Yes;')\n",
    "cursor = conn.cursor()\n",
    "# download shortge from SQL\n",
    "cursor.execute(f\"SELECT * FROM OPS.GPS_view_ops_critical_shortage_overview WHERE [Report Date] >= '{start_date}' AND [Report Date] <= '{today}'\")\n",
    "internal = pd.DataFrame.from_records(cursor.fetchall(), columns = [i[0] for i in cursor.description])\n",
    "# check if there is empty value in Commodity\n",
    "if internal.Commodity.isna().any():\n",
    "    print(internal[internal.Commodity.isna()])\n",
    "else:\n",
    "    print('No empty value in Commodity')"
   ]
  },
  {
   "cell_type": "code",
   "execution_count": null,
   "metadata": {},
   "outputs": [],
   "source": [
    "# drop the rows with 'Delete' == 'Y' and group by Commodity\n",
    "internal = internal[(~(internal['Delete'] == 'Y'))]\n",
    "\n",
    "#drop internal P1 = 0 and na\n",
    "internal = internal.dropna(subset=['P1'])\n",
    "internal = internal[internal['P1'] != 0]\n",
    "\n",
    "internal.rename(columns={'Report Date': 'ReportDate'}, inplace=True)\n",
    "internal['ReportDate'] = pd.to_datetime(internal['ReportDate'])\n",
    "\n",
    "# CPU need to add supplier\n",
    "int_CPU = internal[internal['Commodity'] == 'CPU']\n",
    "int_CPU['Supplier'] = np.where(int_CPU['FV Des'].str.contains('INTEL', case=False), 'INTEL', 'AMD')\n",
    "int_CPU_group = int_CPU.groupby(['ReportDate','Commodity','Supplier']).size().reset_index(name='Count')\n",
    "int_CPU_group['Commodity'] = int_CPU_group['Supplier'] + ' ' +  int_CPU_group['Commodity']\n",
    "int_CPU_group.drop(columns=['Supplier'], inplace=True)"
   ]
  },
  {
   "cell_type": "markdown",
   "metadata": {},
   "source": [
    "Special supply format misaligned (in reason_codes)"
   ]
  },
  {
   "cell_type": "code",
   "execution_count": 11,
   "metadata": {},
   "outputs": [],
   "source": [
    "df_special_supply = internal.copy()\n",
    "#special supply is non supplier supply\n",
    "df_special_supply['ETA'] = df_special_supply['ETA'].str.split('\\n')\n",
    "df_special_supply = df_special_supply.explode('ETA')\n",
    "text = df_special_supply['ETA']"
   ]
  },
  {
   "cell_type": "code",
   "execution_count": null,
   "metadata": {},
   "outputs": [],
   "source": [
    "def check_conditions(text):\n",
    "   # 检查文本是否以 'ETA' 或 'TBD' 开头\n",
    "   if text is None:\n",
    "        return False\n",
    "   \n",
    "   if text.startswith('ETA') or text.startswith('TBD'):\n",
    "       return False\n",
    "   # 检查文本是否包含任何 reason_codes 中的字符串\n",
    "   for reason in reason_codes:\n",
    "       if reason in text:\n",
    "           return True\n",
    "   return False\n",
    "# 应用函数到 'ETA' 列\n",
    "df_special_supply['ETA misaligned'] = df_special_supply['ETA'].apply(check_conditions)\n",
    "# 打印结果\n",
    "print(df_special_supply)\n",
    "df_spsupply_true = df_special_supply[df_special_supply['ETA misaligned'] == True]\n",
    "df_spsupply_mis = df_spsupply_true[['ReportDate', 'Buyer Name', 'Commodity', 'FV Des', 'ETA']]"
   ]
  },
  {
   "cell_type": "code",
   "execution_count": null,
   "metadata": {},
   "outputs": [],
   "source": [
    "shortage_ext.head()"
   ]
  },
  {
   "cell_type": "code",
   "execution_count": null,
   "metadata": {},
   "outputs": [],
   "source": [
    "df_spsupply_mis.head()"
   ]
  },
  {
   "cell_type": "code",
   "execution_count": null,
   "metadata": {},
   "outputs": [],
   "source": [
    "CQODM = ['CQQCI', 'CQIEC', 'CQWIS', 'TWIEC', 'L_WHFXN', 'CQPCQ', 'MSI', 'PCQ', 'PCP', 'WHFXN_L5', 'PSZ', 'FLH', 'TWQCI', 'SZBYD']\n",
    "WHODM = ['WHFXN']\n",
    "KSODM = ['CEI']\n",
    "THODM = ['THQCI','THIEC']\n",
    "MXODM = ['IMX']\n",
    "\n",
    "ODM_list = CQODM + WHODM + KSODM + THODM + MXODM\n",
    "\n",
    "incorrect_ODM = []\n",
    "for index in internal.index:\n",
    "    if internal.loc[index,'ODM'] not in ODM_list:\n",
    "        incorrect_ODM.append(internal.loc[index,:])\n",
    "    else:\n",
    "        pass\n",
    "\n",
    "incorrect_ODM = pd.DataFrame(incorrect_ODM)\n",
    "try:\n",
    "    incorrect_ODM = incorrect_ODM[['Report Date', 'Buyer Name','Commodity','ODM']]\n",
    "except:\n",
    "    pass\n",
    "\n",
    "incorrect_ODM = incorrect_ODM.drop_duplicates()\n",
    "\n",
    "\n",
    "\n",
    "print(len(incorrect_ODM))"
   ]
  },
  {
   "cell_type": "code",
   "execution_count": null,
   "metadata": {},
   "outputs": [],
   "source": [
    "Commodity_list = ['AC ADAPTOR','AudioAMP','AudioCodec','BATTERY','CardReader','CHIPSET','CONNECTOR','CPU','EC','eMMC', 'Ethernet IC','GPU','GPU-Graphic Card','HDD','LanChip','LCD','Memory','NIC',\n",
    " 'ODD','POWERCORDS','PSU','Retimer','SIO','SSS','ThunderBT','TPM','TS','USBIC','VRAM','WEBCAM','WLAN','WWAN']\n",
    "\n",
    "incorrect_commodity = []\n",
    "for index in internal.index:\n",
    "    if internal.loc[index,'Commodity'] not in Commodity_list:\n",
    "        incorrect_commodity.append(internal.loc[index,:])\n",
    "    else:\n",
    "        pass\n",
    "\n",
    "incorrect_commodity = pd.DataFrame(incorrect_commodity)\n",
    "print(len(incorrect_commodity))"
   ]
  },
  {
   "cell_type": "code",
   "execution_count": null,
   "metadata": {},
   "outputs": [],
   "source": [
    "internal.head(2)"
   ]
  },
  {
   "cell_type": "code",
   "execution_count": null,
   "metadata": {},
   "outputs": [],
   "source": [
    "shortage_ext.head(2)"
   ]
  },
  {
   "cell_type": "markdown",
   "metadata": {},
   "source": [
    "### merge and compare internal with external"
   ]
  },
  {
   "cell_type": "code",
   "execution_count": 19,
   "metadata": {},
   "outputs": [],
   "source": [
    "\n",
    "\n",
    "int_counts = internal.groupby(['ReportDate', 'Commodity']).size().reset_index(name='Count')\n",
    "ext_count = shortage_ext.groupby(['ReportDate', 'Commodity']).size().reset_index(name='Count')\n",
    "df_compare = int_counts[(int_counts['Commodity'] != 'CPU')].merge(ext_count[(ext_count['Commodity'] != 'CPU')],on=['ReportDate', 'Commodity'],how='outer',suffixes=('_int', '_ext'))\n",
    "df_compare_CPU = int_CPU_group.merge(ext_CPU_group,on=['ReportDate','Commodity'],how='outer',suffixes=('_int', '_ext'))\n",
    "df_compare = pd.concat([df_compare, df_compare_CPU], axis=0)\n",
    "df_compare = df_compare.apply(lambda x: x.str.strip() if x.dtype == \"object\" else x)\n",
    "\n"
   ]
  },
  {
   "cell_type": "code",
   "execution_count": null,
   "metadata": {},
   "outputs": [],
   "source": [
    "df_compare"
   ]
  },
  {
   "cell_type": "code",
   "execution_count": null,
   "metadata": {},
   "outputs": [],
   "source": [
    "df_mismatch_total = pd.DataFrame()\n",
    "\n",
    "\n",
    "for report_date, group in df_compare.groupby('ReportDate'):\n",
    "    df_mismatch = group[((group['Count_int'].isnull()) & (group['Count_ext'].notnull())) | ((group['Count_int'].notnull()) & (group['Count_ext'].isnull()))]\n",
    "    df_mismatch.loc[:, ['Count_int', 'Count_ext']] = df_mismatch.loc[:, ['Count_int', 'Count_ext']].fillna(0)\n",
    "    df_mismatch.set_index('Commodity', inplace=True)\n",
    "    df_mismatch[['Count_int', 'Count_ext']] = df_mismatch[['Count_int', 'Count_ext']].astype(int)\n",
    "    df_mismatch.rename(columns={'Count_int': 'Count_internal', 'Count_ext': 'Count_external'}, inplace=True)\n",
    "    df_mismatch = df_mismatch[df_mismatch.index != 'Ethernet IC']\n",
    "    df_mismatch['ReportDate'] = report_date\n",
    "    df_mismatch_total = pd.concat([df_mismatch_total, df_mismatch], axis=0)\n",
    "\n",
    "df_mismatch_total.reset_index(inplace=True)\n",
    "df_mismatch_total\n"
   ]
  },
  {
   "cell_type": "code",
   "execution_count": null,
   "metadata": {},
   "outputs": [],
   "source": []
  },
  {
   "cell_type": "code",
   "execution_count": 22,
   "metadata": {},
   "outputs": [],
   "source": [
    "\n",
    "if (len(df_mismatch_total) > 0) | (len(incorrect_ODM) > 0) | (len(incorrect_commodity) > 0) | (len(df_spsupply_mis) > 0):\n",
    "\n",
    "    To_list = 'gps.taiwan.nb.buy-sell@hp.com'\n",
    "    CC_list = 'spencer.cheng1@hp.com;howie.chang1@hp.com;qin.yi.xu@hp.com;dobby.cheng@hp.com;frederick.shih@hp.com'\n",
    "\n",
    "\n",
    "    mail = win32.Dispatch(\"Outlook.Application\").CreateItem(0)\n",
    "    mail.To = To_list\n",
    "    mail.CC = CC_list\n",
    "    mail.Subject = f'Internal/ External Report Misalignment alert <From Report Date: {start_date} to {today}>'\n",
    "\n",
    "\n",
    "    df_mismatch_total['Commodity'] = df_mismatch_total['Commodity'].apply(lambda name: f'<span style=\"background-color: yellow;\">{name}</span>')\n",
    "    df_mismatch_total['Count_internal'] = df_mismatch_total['Count_internal'].apply(lambda count: f'<font color=\"Red\">{count}</font>' if count == 0 else count)\n",
    "    df_mismatch_total['Count_external'] = df_mismatch_total['Count_external'].apply(lambda count: f'<font color=\"Red\">{count}</font>' if count == 0 else count)\n",
    "\n",
    "\n",
    "    df_mismatch_total = df_mismatch_total[['ReportDate', 'Commodity', 'Count_internal', 'Count_external']]\n",
    "    html_compare = df_mismatch_total.to_html(escape=False, index=False)\n",
    "\n",
    "\n",
    "    try:\n",
    "        incorrect_ODM['ODM'] = incorrect_ODM['ODM'].apply(lambda name: f'<font color=\"Red\">{name}</font>')\n",
    "    except:\n",
    "        pass\n",
    "    try:\n",
    "        incorrect_commodity['Commodity'] = incorrect_commodity['Commodity'].apply(lambda name: f'<font color=\"Red\">{name}</font>')\n",
    "    except:\n",
    "        pass\n",
    "\n",
    "\n",
    "    signature = \"<br><br>Best Regards,<br>Newcomen Project Team\"\n",
    "    message = f\"\"\"Hi team,<br><br>Below information is <b><font color=\"blue\">misaligned/ missing</b></font> in external & internal reports from report date: <b><font color=\"blue\">{start_date}</b></font>,\n",
    "        please help to check and make amendment accordingly.<br>{html_compare}<br><br>\n",
    "        Below data contains <b><font color=\"blue\">incorrect ODM name</b></font>, please delete the data and upload again with the correct ODM name.<br>{incorrect_ODM.to_html(escape=False, index=False)}<br><br>\n",
    "        Below data contains <b><font color=\"blue\">incorrect Commodity name</b></font>, data is deleted by project team, please upload the data with correct commodity name.<br>{incorrect_commodity.to_html(escape=False, index=False)}<br><br>\n",
    "        Below data contains <b><font color=\"blue\">non supplier supply with incorrect format</b></font>, please revise the data with internal shortage tool accordingly.<br>{df_spsupply_mis.to_html(escape=False, index=False)} <br><br>\n",
    "        {signature}\"\"\"\n",
    "\n",
    "\n",
    "    mail.GetInspector\n",
    "    index = mail.HTMLbody.find('>', mail.HTMLbody.find('<body'))\n",
    "    mail.HTMLBody = message\n",
    "    mail.display()\n",
    "\n",
    "else:\n",
    "\n",
    "    To_list = 'gps.taiwan.nb.buy-sell@hp.com'\n",
    "    CC_list = 'spencer.cheng1@hp.com;howie.chang1@hp.com;qin.yi.xu@hp.com;dobby.cheng@hp.com;frederick.shih@hp.com'\n",
    "\n",
    "\n",
    "    mail = win32.Dispatch(\"Outlook.Application\").CreateItem(0)\n",
    "    mail.To = To_list\n",
    "    mail.CC = CC_list\n",
    "    mail.Subject = f'Internal/ External Report Misalignment alert <From Report Date: {start_date} to {today}>'\n",
    "    \n",
    "\n",
    "    signature = \"<br><br>Best Regards,<br>Newcomen Project Team\"\n",
    "    message = f\"\"\"Hi team,<br><br>\n",
    "    No information is <b><font color=\"blue\">misaligned/ missing</b></font> in external & internal reports from report date: <b><font color=\"blue\">{start_date} to {today}</b></font>.\n",
    "    Thank you.<br><br>{signature}\"\"\"\n",
    "\n",
    "    mail.GetInspector\n",
    "    index = mail.HTMLbody.find('>', mail.HTMLbody.find('<body'))\n",
    "    mail.HTMLBody = message\n",
    "    mail.display()\n",
    "    \n",
    "    print(f'No error found on {today}')\n"
   ]
  },
  {
   "cell_type": "code",
   "execution_count": null,
   "metadata": {},
   "outputs": [],
   "source": [
    "# connection\n",
    "conn = pyodbc.connect('Driver={ODBC Driver 17 for SQL Server}; Server=g7w11206g.inc.hpicorp.net; Database=CSI; Trusted_Connection=Yes;')\n",
    "cursor = conn.cursor()\n",
    "\n",
    "# download shortge from SQL\n",
    "cursor.execute(f\"SELECT * FROM OPS.GPS_view_ops_critical_shortage_overview where [Report Date] = '{today}'\")\n",
    "shor = pd.DataFrame.from_records(cursor.fetchall(), columns = [i[0] for i in cursor.description])\n",
    "conn.close"
   ]
  }
 ],
 "metadata": {
  "kernelspec": {
   "display_name": "Python 3",
   "language": "python",
   "name": "python3"
  },
  "language_info": {
   "codemirror_mode": {
    "name": "ipython",
    "version": 3
   },
   "file_extension": ".py",
   "mimetype": "text/x-python",
   "name": "python",
   "nbconvert_exporter": "python",
   "pygments_lexer": "ipython3",
   "version": "3.12.5"
  }
 },
 "nbformat": 4,
 "nbformat_minor": 2
}
