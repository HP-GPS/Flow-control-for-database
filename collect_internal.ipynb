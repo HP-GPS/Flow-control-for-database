{
 "cells": [
  {
   "cell_type": "code",
   "execution_count": 39,
   "metadata": {},
   "outputs": [],
   "source": [
    "import win32com.client\n",
    "import os\n",
    "import datetime"
   ]
  },
  {
   "cell_type": "code",
   "execution_count": 40,
   "metadata": {},
   "outputs": [],
   "source": [
    "outlook = win32com.client.Dispatch('outlook.application')\n",
    "mapi = outlook.GetNamespace(\"MAPI\")\n",
    "\n",
    "inbox = mapi.GetDefaultFolder(6).Folders['Internal']\n",
    "messages = inbox.Items"
   ]
  },
  {
   "cell_type": "code",
   "execution_count": 55,
   "metadata": {},
   "outputs": [],
   "source": [
    "path = os.path.expanduser(\"~/Desktop/internal_shortages\")\n",
    "subject = 'shortage status update as of'"
   ]
  },
  {
   "cell_type": "code",
   "execution_count": null,
   "metadata": {},
   "outputs": [],
   "source": [
    "for msg in messages: # sort the messages by date in ascending order\n",
    "    try:\n",
    "        if (str(msg.ReceivedTime)[:10] >= '2023-08-24'):\n",
    "            if (msg.Subject.lower().startswith(subject)): # find mails that start with 'shortage status update as of'....lower all the letters\n",
    "                print(f'{msg.Subject}, sent on {msg.SentOn}')\n",
    "                for att in msg.Attachments:\n",
    "                    if att.FileName.endswith('.xlsx'):\n",
    "                        file_path = os.path.join(path, att.FileName)\n",
    "                        if os.path.isfile(file_path):\n",
    "                            os.remove(file_path)\n",
    "                            print(f'{att.FileName} already exists, deleting old file')\n",
    "                            att.SaveAsFile(file_path)\n",
    "                        else:\n",
    "                            att.SaveAsFile(file_path)\n",
    "        else:\n",
    "            break\n",
    "    except:\n",
    "        pass"
   ]
  },
  {
   "cell_type": "code",
   "execution_count": null,
   "metadata": {},
   "outputs": [],
   "source": []
  }
 ],
 "metadata": {
  "kernelspec": {
   "display_name": "Python 3",
   "language": "python",
   "name": "python3"
  },
  "language_info": {
   "codemirror_mode": {
    "name": "ipython",
    "version": 3
   },
   "file_extension": ".py",
   "mimetype": "text/x-python",
   "name": "python",
   "nbconvert_exporter": "python",
   "pygments_lexer": "ipython3",
   "version": "3.10.4"
  }
 },
 "nbformat": 4,
 "nbformat_minor": 2
}
