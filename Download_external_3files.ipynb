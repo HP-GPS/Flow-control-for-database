{
 "cells": [
  {
   "cell_type": "code",
   "execution_count": 33,
   "metadata": {},
   "outputs": [],
   "source": [
    "import datetime\n",
    "import os\n",
    "import win32com.client\n",
    "from pathlib import Path\n",
    "import re"
   ]
  },
  {
   "cell_type": "code",
   "execution_count": 34,
   "metadata": {},
   "outputs": [],
   "source": [
    "#path and date variable\n",
    "home = os.path.expanduser('~')\n",
    "path = os.path.join(home, 'HP Inc','GPSTW SOP - 2021 日新','Project team','Upload folder ( for buyer update )')"
   ]
  },
  {
   "cell_type": "code",
   "execution_count": 35,
   "metadata": {},
   "outputs": [
    {
     "data": {
      "text/plain": [
       "<COMObject Item>"
      ]
     },
     "execution_count": 35,
     "metadata": {},
     "output_type": "execute_result"
    }
   ],
   "source": [
    "today = datetime.date.today()\n",
    "outlook = win32com.client.Dispatch(\"Outlook.Application\").GetNamespace(\"MAPI\")\n",
    "outlook.Session.Accounts.Item(2)"
   ]
  },
  {
   "cell_type": "code",
   "execution_count": 36,
   "metadata": {},
   "outputs": [],
   "source": [
    "# get into the correct email inbox\n",
    "item = outlook.Folders.Item(2)\n",
    "if item.Name != 'gpscommunication@hp.com':\n",
    "    item = outlook.Folders.Item(1)\n",
    "else:\n",
    "    pass"
   ]
  },
  {
   "cell_type": "code",
   "execution_count": 37,
   "metadata": {},
   "outputs": [],
   "source": [
    "#get into inbox and get emails\n",
    "inbox = item.Folders['inbox']\n",
    "project_folder = inbox.Folders['Newcomen']\n",
    "target_folder = project_folder.Folders['Processed_Data']\n",
    "messages = target_folder.Items"
   ]
  },
  {
   "cell_type": "code",
   "execution_count": 38,
   "metadata": {},
   "outputs": [],
   "source": [
    "# sort by message sent time\n",
    "messages.Sort(\"[Senton]\")"
   ]
  },
  {
   "cell_type": "code",
   "execution_count": 39,
   "metadata": {},
   "outputs": [],
   "source": [
    "def saveattachemnts(regex = '.*<(\\d{4}-\\d{2}-\\d{2}) processed data>\\[\\'\\d{8}_[&a-zA-Z ]+_[&a-zA-Z ]+_.*'):\n",
    "    #regex = '<(\\d{4}-\\d{2}-\\d{2}) processed data>\\[\\'\\d{8}_[a-zA-Z]+_[a-zA-Z]+_.*'\n",
    "    for message in messages:\n",
    "        # if message.Subject == subject and message.Unread or message.Senton.date() == today:\n",
    "        #assert re.match(regex, message.Subject)\n",
    "        #if re.match(regex, message.Subject):\n",
    "        if (message.Unread or message.Senton.date() == today) and re.match(regex, message.Subject) :\n",
    "            #body_content = message.body\n",
    "            #print(message.Sender.GetExchangeUser().PrimarySmtpAddress)\n",
    "            #attachments = message.Attachments\n",
    "            #attachment = attachments.Item(1)\n",
    "            for attachment in message.Attachments:\n",
    "                #print(attachment)\n",
    "\n",
    "                if '_FD.xlsx' in str(attachment):\n",
    "                    try:\n",
    "                        attachment.SaveAsFile(os.path.join(path, 'FD_today', str(attachment)))\n",
    "                    except Exception as e:\n",
    "                        print(attachment)\n",
    "                        print(e)\n",
    "                    if re.match(regex, message.Subject) and message.Unread:\n",
    "                        message.Unread = False\n",
    "                    continue\n",
    "                elif '_Shortage.xlsx' in str(attachment):\n",
    "                    try: \n",
    "                        attachment.SaveAsFile(os.path.join(path, 'shortage_today', str(attachment)))\n",
    "                    except Exception as e:\n",
    "                        print(attachment)\n",
    "                        print(e)\n",
    "                    if re.match(regex, message.Subject) and message.Unread:\n",
    "                        message.Unread = False\n",
    "                    continue\n",
    "                elif '_PNbasedDetail.xlsx' in str(attachment):\n",
    "                    try:\n",
    "                        attachment.SaveAsFile(os.path.join(path, 'PNbasedDetail_today', str(attachment)))\n",
    "                    except Exception as e:\n",
    "                        print(attachment)\n",
    "                        print(e)\n",
    "                    if re.match(regex, message.Subject) and message.Unread:\n",
    "                        message.Unread = False\n",
    "                    continue\n",
    "                if '_reason' in str(attachment):\n",
    "                    try:\n",
    "                        attachment.SaveAsFile(os.path.join(path, 'error_reason', str(message.Sender.GetExchangeUser().PrimarySmtpAddress).split('@')[0].replace('.', '_') + '_' + str(attachment)))\n",
    "                        print(message.Sender.GetExchangeUser().PrimarySmtpAddress)\n",
    "                    except Exception as e:\n",
    "                        print(attachment)\n",
    "                        print(e)\n",
    "                    if re.match(regex, message.Subject) and message.Unread:\n",
    "                        message.Unread = False\n",
    "                    continue\n",
    "\n",
    "                else:\n",
    "                    try:                        \n",
    "                        attachment.SaveAsFile(os.path.join(home, 'HP Inc','GPSTW SOP - 2021 日新','Project team','External test destination', 'today',str(attachment)))                    \n",
    "                    except Exception as e:\n",
    "                        print(attachment)\n",
    "                        print(e)\n",
    "        else:\n",
    "            pass"
   ]
  },
  {
   "cell_type": "code",
   "execution_count": 40,
   "metadata": {},
   "outputs": [],
   "source": [
    "#saveattachemnts()"
   ]
  },
  {
   "cell_type": "code",
   "execution_count": 41,
   "metadata": {},
   "outputs": [],
   "source": [
    "def saveattachemnts2(regex = '<(\\d{4}-\\d{2}-\\d{2}) processed data>\\[\\'\\d{8}_[&a-zA-Z ]+_[&a-zA-Z ]+_.*'):\n",
    "    #regex = '<(\\d{4}-\\d{2}-\\d{2}) processed data>\\[\\'\\d{8}_[a-zA-Z]+_[a-zA-Z]+_.*'\n",
    "    for message in messages:\n",
    "        # if message.Subject == subject and message.Unread or message.Senton.date() == today:\n",
    "        #assert re.match(regex, message.Subject)\n",
    "        #if re.match(regex, message.Subject):\n",
    "        if (message.Unread or message.Senton.date() == today) and re.match(regex, message.Subject) :\n",
    "            #body_content = message.body\n",
    "            #print(message.Sender.GetExchangeUser().PrimarySmtpAddress)\n",
    "            #attachments = message.Attachments\n",
    "            #attachment = attachments.Item(1)\n",
    "            for attachment in message.Attachments:\n",
    "                #print(attachment)\n",
    "\n",
    "                if '_FD.xlsx' in str(attachment):\n",
    "                    try:\n",
    "                        attachment.SaveAsFile(os.path.join(path, 'FD_today', str(attachment)))\n",
    "                    except Exception as e:\n",
    "                        print(attachment)\n",
    "                        print(e)\n",
    "                    if re.match(regex, message.Subject) and message.Unread:\n",
    "                        message.Unread = False\n",
    "                    continue\n",
    "                elif '_Shortage.xlsx' in str(attachment):\n",
    "                    try: \n",
    "                        attachment.SaveAsFile(os.path.join(path, 'shortage_today', str(attachment)))\n",
    "                    except Exception as e:\n",
    "                        print(attachment)\n",
    "                        print(e)\n",
    "                    if re.match(regex, message.Subject) and message.Unread:\n",
    "                        message.Unread = False\n",
    "                    continue\n",
    "                elif '_PNbasedDetail.xlsx' in str(attachment):\n",
    "                    try:\n",
    "                        attachment.SaveAsFile(os.path.join(path, 'PNbasedDetail_today', str(attachment)))\n",
    "                    except Exception as e:\n",
    "                        print(attachment)\n",
    "                        print(e)\n",
    "                    if re.match(regex, message.Subject) and message.Unread:\n",
    "                        message.Unread = False\n",
    "                    continue\n",
    "                if '_reason' in str(attachment):\n",
    "                    try:\n",
    "                        attachment.SaveAsFile(os.path.join(path, 'error_reason', str(message.Sender.GetExchangeUser().PrimarySmtpAddress).split('@')[0].replace('.', '_') + '_' + str(attachment)))\n",
    "                        print(message.Sender.GetExchangeUser().PrimarySmtpAddress)\n",
    "                    except Exception as e:\n",
    "                        print(attachment)\n",
    "                        print(e)\n",
    "                    if re.match(regex, message.Subject) and message.Unread:\n",
    "                        message.Unread = False\n",
    "                    continue\n",
    "\n",
    "                else:\n",
    "                    try:                        \n",
    "                        attachment.SaveAsFile(os.path.join(home, 'HP Inc','GPSTW SOP - 2021 日新','Project team','External test destination', 'today',str(attachment)))                    \n",
    "                    except Exception as e:\n",
    "                        print(attachment)\n",
    "                        print(e)\n",
    "        elif (message.Unread or message.Senton.date() == today) and re.match('.*<(\\d{4}-\\d{2}-\\d{2}) processed data>\\[\\'\\d{8}_[&a-zA-Z ]+_[&a-zA-Z ]+_.*', message.Subject) :  #amend data\n",
    "            #body_content = message.body\n",
    "            #print(message.Sender.GetExchangeUser().PrimarySmtpAddress)\n",
    "            #attachments = message.Attachments\n",
    "            #attachment = attachments.Item(1)\n",
    "            for attachment in message.Attachments:\n",
    "                #print(attachment)\n",
    "\n",
    "                if '_FD.xlsx' in str(attachment):\n",
    "                    try:\n",
    "                        attachment.SaveAsFile(os.path.join(path, 'FD_today','amend', str(attachment)))\n",
    "                    except Exception as e:\n",
    "                        print(attachment)\n",
    "                        print(e)\n",
    "                    if re.match(regex, message.Subject) and message.Unread:\n",
    "                        message.Unread = False\n",
    "                    continue\n",
    "                elif '_Shortage.xlsx' in str(attachment):\n",
    "                    try: \n",
    "                        attachment.SaveAsFile(os.path.join(path, 'shortage_today','amend', str(attachment)))\n",
    "                    except Exception as e:\n",
    "                        print(attachment)\n",
    "                        print(e)\n",
    "                    if re.match(regex, message.Subject) and message.Unread:\n",
    "                        message.Unread = False\n",
    "                    continue\n",
    "                elif '_PNbasedDetail.xlsx' in str(attachment):\n",
    "                    try:\n",
    "                        attachment.SaveAsFile(os.path.join(path, 'PNbasedDetail_today','amend' ,str(attachment)))\n",
    "                    except Exception as e:\n",
    "                        print(attachment)\n",
    "                        print(e)\n",
    "                    if re.match(regex, message.Subject) and message.Unread:\n",
    "                        message.Unread = False\n",
    "                    continue\n",
    "                if '_reason' in str(attachment):\n",
    "                    try:\n",
    "                        attachment.SaveAsFile(os.path.join(path, 'error_reason', str(message.Sender.GetExchangeUser().PrimarySmtpAddress).split('@')[0].replace('.', '_') + '_' + str(attachment)))\n",
    "                        print(message.Sender.GetExchangeUser().PrimarySmtpAddress)\n",
    "                    except Exception as e:\n",
    "                        print(attachment)\n",
    "                        print(e)\n",
    "                    if re.match(regex, message.Subject) and message.Unread:\n",
    "                        message.Unread = False\n",
    "                    continue\n",
    "\n",
    "                else:\n",
    "                    try:                        \n",
    "                        attachment.SaveAsFile(os.path.join(home, 'HP Inc','GPSTW SOP - 2021 日新','Project team','External test destination', 'today','amend',str(attachment)))                    \n",
    "                    except Exception as e:\n",
    "                        print(attachment)\n",
    "                        print(e)\n",
    "        \n",
    "        else:\n",
    "            pass"
   ]
  },
  {
   "cell_type": "code",
   "execution_count": 42,
   "metadata": {},
   "outputs": [
    {
     "name": "stdout",
     "output_type": "stream",
     "text": [
      "lori.li@hp.com\n",
      "cynthia.lee4@hp.com\n"
     ]
    }
   ],
   "source": [
    "saveattachemnts2()"
   ]
  }
 ],
 "metadata": {
  "kernelspec": {
   "display_name": "Python 3",
   "language": "python",
   "name": "python3"
  },
  "language_info": {
   "codemirror_mode": {
    "name": "ipython",
    "version": 3
   },
   "file_extension": ".py",
   "mimetype": "text/x-python",
   "name": "python",
   "nbconvert_exporter": "python",
   "pygments_lexer": "ipython3",
   "version": "3.10.4"
  },
  "orig_nbformat": 4,
  "vscode": {
   "interpreter": {
    "hash": "cadcbe1cf7f77607d04fb86883766795fe82998168b094e073d163801885097d"
   }
  }
 },
 "nbformat": 4,
 "nbformat_minor": 2
}
