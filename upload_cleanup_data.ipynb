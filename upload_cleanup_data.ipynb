{
 "cells": [
  {
   "cell_type": "code",
   "execution_count": null,
   "metadata": {},
   "outputs": [],
   "source": [
    "import datetime as dt\n",
    "import os\n",
    "import shutil\n",
    "\n",
    "import pyodbc\n",
    "\n",
    "# # connect SQL server\n",
    "conn = pyodbc.connect('Driver={SQL Server Native Client 11.0}; Server=g7w11206g.inc.hpicorp.net; Database=CSI; Trusted_Connection=Yes;')\n",
    "cursor = conn.cursor()"
   ]
  },
  {
   "cell_type": "code",
   "execution_count": null,
   "metadata": {},
   "outputs": [],
   "source": [
    "import pandas as pd\n",
    "df = pd.read_excel(os.path.join(os.path.expanduser('~'),'desktop','missing last FD date_shortage database.xlsx'))\n",
    "df"
   ]
  },
  {
   "cell_type": "code",
   "execution_count": null,
   "metadata": {},
   "outputs": [],
   "source": [
    "for index,row in df.iterrows():\n",
    "    delete_query = \"DELETE FROM CSI.OPS.GPS_tbl_ops_shortage_ext WHERE ReportDate =? AND ODM=? AND Item=? AND Commodity=? AND FV=? AND Platform=? \"\n",
    "    cursor.execute(delete_query,(row['ReportDate'],row['ODM'],row['Item'],row['Commodity'],row['FV'],row['Platform']))\n",
    "    if cursor.rowcount:\n",
    "        # print(row)\n",
    "        print(f\"{cursor.rowcount} rows deleted from CSI.OPS.GPS_tbl_ops_shortage_ext\")\n",
    "\n",
    "conn.commit()"
   ]
  },
  {
   "cell_type": "code",
   "execution_count": null,
   "metadata": {},
   "outputs": [],
   "source": [
    "for index, row in df.iterrows():\n",
    "    s_ODM = row['ODM']\n",
    "    s_Item = row['Item']\n",
    "    s_Commodity = row['Commodity']\n",
    "    s_FV = row['FV']\n",
    "    s_Platform = row['Platform']\n",
    "    s_P1 = row['P1']\n",
    "    s_P2 = row['Net P2']\n",
    "    s_P3 = row['Net P3']\n",
    "    s_Total = row['Total Shortage Qty']\n",
    "    s_BT = row['BT shortage']\n",
    "    s_working = row['Working on upside']\n",
    "    s_ReportDate = pd.to_datetime(row['ReportDate'])\n",
    "    s_lastFDdate = pd.to_datetime(row['last FD date'])\n",
    "    s_BuyerName = row['BuyerName']\n",
    "    s_PN = row['HP_PN']\n",
    "\n",
    "    cursor.execute(f\"INSERT INTO CSI.OPS.GPS_tbl_ops_shortage_ext ( ODM,Item,Commodity,FV,Platform,P1,[Net P2],[Net P3],[Total Shortage Qty],[BT shortage],[Working on upside],ReportDate,[last FD date],HP_PN,BuyerName )\\\n",
    "                    VALUES('{s_ODM}','{s_Item}','{s_Commodity}','{s_FV}','{s_Platform}','{s_P1}','{s_P2}','{s_P3}','{s_Total}','{s_BT}','{s_working}','{s_ReportDate}','{s_lastFDdate}','{s_PN}','{s_BuyerName}')\".replace(\"'NaT'\", \"NULL\"))\n",
    "\n",
    "conn.commit()\n",
    "conn.close()"
   ]
  }
 ],
 "metadata": {
  "kernelspec": {
   "display_name": "Python 3",
   "language": "python",
   "name": "python3"
  },
  "language_info": {
   "codemirror_mode": {
    "name": "ipython",
    "version": 3
   },
   "file_extension": ".py",
   "mimetype": "text/x-python",
   "name": "python",
   "nbconvert_exporter": "python",
   "pygments_lexer": "ipython3",
   "version": "3.10.6"
  },
  "orig_nbformat": 4,
  "vscode": {
   "interpreter": {
    "hash": "cadcbe1cf7f77607d04fb86883766795fe82998168b094e073d163801885097d"
   }
  }
 },
 "nbformat": 4,
 "nbformat_minor": 2
}
