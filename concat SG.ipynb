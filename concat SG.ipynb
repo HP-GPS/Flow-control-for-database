{
 "cells": [
  {
   "cell_type": "code",
   "execution_count": 1,
   "metadata": {},
   "outputs": [],
   "source": [
    "import pandas as pd\n",
    "import os\n",
    "import numpy as np\n",
    "import glob\n",
    "from pathlib import Path\n",
    "from datetime import datetime as dt"
   ]
  },
  {
   "cell_type": "code",
   "execution_count": 2,
   "metadata": {},
   "outputs": [],
   "source": [
    "home = Path.home()\n",
    "today = dt.today()\n",
    "today = today.strftime(\"%Y%m%d\")"
   ]
  },
  {
   "cell_type": "code",
   "execution_count": 7,
   "metadata": {},
   "outputs": [],
   "source": [
    "target = Path(home, 'HP Inc','GPSTW SOP - 2021 日新','Project team','Single shortage','concat')\n",
    "targetList = [str(x) for x in target.glob(\"*xlsx\")]\n",
    "# PNFVPath = Path(home, 'HP Inc','GPSTW SOP - 2021 日新', 'PN FV description mapping table_ALL.xlsx')\n",
    "# ExternalReportFolder = Path(home, 'HP Inc','GPSTW SOP - 2021 日新','Project team','External test destination', 'zzz')\n",
    "# ExternalReport = [f for f in glob.glob(str(Path(ExternalReportFolder, today + '*')))]\n",
    "# ExternalReport"
   ]
  },
  {
   "cell_type": "code",
   "execution_count": 9,
   "metadata": {},
   "outputs": [],
   "source": [
    "SG_files = []\n",
    "for SG_file in glob.glob(str(target)):\n",
    "    SG = pd.read_excel(SG_file)\n",
    "    SG_files.append(SG)\n",
    "SG_all = pd.concat(SG_files)"
   ]
  },
  {
   "cell_type": "code",
   "execution_count": 11,
   "metadata": {},
   "outputs": [
    {
     "data": {
      "text/plain": [
       "['C:\\\\Users\\\\lulo\\\\HP Inc\\\\GPSTW SOP - 2021 日新\\\\Project team\\\\Single shortage\\\\concat']"
      ]
     },
     "execution_count": 11,
     "metadata": {},
     "output_type": "execute_result"
    }
   ],
   "source": [
    "glob.glob(str(target))"
   ]
  },
  {
   "cell_type": "code",
   "execution_count": 13,
   "metadata": {},
   "outputs": [
    {
     "data": {
      "text/plain": [
       "['C:\\\\Users\\\\lulo\\\\HP Inc\\\\GPSTW SOP - 2021 日新\\\\Project team\\\\Single shortage\\\\concat\\\\total singal shortage_20221013.xlsx',\n",
       " 'C:\\\\Users\\\\lulo\\\\HP Inc\\\\GPSTW SOP - 2021 日新\\\\Project team\\\\Single shortage\\\\concat\\\\total singal shortage_20221014.xlsx',\n",
       " 'C:\\\\Users\\\\lulo\\\\HP Inc\\\\GPSTW SOP - 2021 日新\\\\Project team\\\\Single shortage\\\\concat\\\\total singal shortage_20221017.xlsx',\n",
       " 'C:\\\\Users\\\\lulo\\\\HP Inc\\\\GPSTW SOP - 2021 日新\\\\Project team\\\\Single shortage\\\\concat\\\\total singal shortage_20221018.xlsx',\n",
       " 'C:\\\\Users\\\\lulo\\\\HP Inc\\\\GPSTW SOP - 2021 日新\\\\Project team\\\\Single shortage\\\\concat\\\\total singal shortage_20221019.xlsx',\n",
       " 'C:\\\\Users\\\\lulo\\\\HP Inc\\\\GPSTW SOP - 2021 日新\\\\Project team\\\\Single shortage\\\\concat\\\\total singal shortage_20221020.xlsx',\n",
       " 'C:\\\\Users\\\\lulo\\\\HP Inc\\\\GPSTW SOP - 2021 日新\\\\Project team\\\\Single shortage\\\\concat\\\\total singal shortage_20221021.xlsx',\n",
       " 'C:\\\\Users\\\\lulo\\\\HP Inc\\\\GPSTW SOP - 2021 日新\\\\Project team\\\\Single shortage\\\\concat\\\\total singal shortage_20221024.xlsx',\n",
       " 'C:\\\\Users\\\\lulo\\\\HP Inc\\\\GPSTW SOP - 2021 日新\\\\Project team\\\\Single shortage\\\\concat\\\\total singal shortage_20221025.xlsx',\n",
       " 'C:\\\\Users\\\\lulo\\\\HP Inc\\\\GPSTW SOP - 2021 日新\\\\Project team\\\\Single shortage\\\\concat\\\\total singal shortage_20221026.xlsx',\n",
       " 'C:\\\\Users\\\\lulo\\\\HP Inc\\\\GPSTW SOP - 2021 日新\\\\Project team\\\\Single shortage\\\\concat\\\\total singal shortage_20221027.xlsx',\n",
       " 'C:\\\\Users\\\\lulo\\\\HP Inc\\\\GPSTW SOP - 2021 日新\\\\Project team\\\\Single shortage\\\\concat\\\\total singal shortage_20221028.xlsx',\n",
       " 'C:\\\\Users\\\\lulo\\\\HP Inc\\\\GPSTW SOP - 2021 日新\\\\Project team\\\\Single shortage\\\\concat\\\\total singal shortage_20221031.xlsx']"
      ]
     },
     "execution_count": 13,
     "metadata": {},
     "output_type": "execute_result"
    }
   ],
   "source": [
    "targetList = [str(x) for x in target.glob(\"*xlsx\")]\n",
    "targetList"
   ]
  },
  {
   "cell_type": "code",
   "execution_count": 10,
   "metadata": {},
   "outputs": [],
   "source": [
    "SG_all.to_excel(Path(home, 'Desktop', 'SG_all.xls'), index=False)"
   ]
  },
  {
   "cell_type": "code",
   "execution_count": null,
   "metadata": {},
   "outputs": [],
   "source": []
  }
 ],
 "metadata": {
  "kernelspec": {
   "display_name": "Python 3.9.7 ('base')",
   "language": "python",
   "name": "python3"
  },
  "language_info": {
   "codemirror_mode": {
    "name": "ipython",
    "version": 3
   },
   "file_extension": ".py",
   "mimetype": "text/x-python",
   "name": "python",
   "nbconvert_exporter": "python",
   "pygments_lexer": "ipython3",
   "version": "3.9.7"
  },
  "orig_nbformat": 4,
  "vscode": {
   "interpreter": {
    "hash": "8e02d24046ff8f825816fb6da80a86461c9056b097b2711746cf851ec30621b7"
   }
  }
 },
 "nbformat": 4,
 "nbformat_minor": 2
}
